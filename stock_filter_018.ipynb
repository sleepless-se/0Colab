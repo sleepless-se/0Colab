{
  "nbformat": 4,
  "nbformat_minor": 0,
  "metadata": {
    "colab": {
      "name": "stock_filter_018",
      "version": "0.3.2",
      "provenance": [],
      "collapsed_sections": [],
      "include_colab_link": true
    },
    "kernelspec": {
      "name": "python3",
      "display_name": "Python 3"
    },
    "accelerator": "TPU"
  },
  "cells": [
    {
      "cell_type": "markdown",
      "metadata": {
        "id": "view-in-github",
        "colab_type": "text"
      },
      "source": [
        "[View in Colaboratory](https://colab.research.google.com/github/sleepless-se/Abstract/blob/master/stock_filter_018.ipynb)"
      ]
    },
    {
      "metadata": {
        "id": "-7qTwpLv8PlU",
        "colab_type": "text"
      },
      "cell_type": "markdown",
      "source": [
        "##バリエーションだけを抽出する\n"
      ]
    },
    {
      "metadata": {
        "id": "1XOCX2tjDxSU",
        "colab_type": "code",
        "colab": {
          "base_uri": "https://localhost:8080/",
          "height": 289
        },
        "outputId": "d8976ebd-7763-4ed6-dd9a-b3b0f6815d72"
      },
      "cell_type": "code",
      "source": [
        "\n",
        "!apt-get install mecab\n",
        "!apt-get install libmecab-dev\n",
        "!apt-get install mecab-ipadic-utf8\n",
        "!pip install mecab-python3"
      ],
      "execution_count": 41,
      "outputs": [
        {
          "output_type": "stream",
          "text": [
            "Reading package lists... Done\n",
            "Building dependency tree       \n",
            "Reading state information... Done\n",
            "mecab is already the newest version (0.996-3.1).\n",
            "0 upgraded, 0 newly installed, 0 to remove and 0 not upgraded.\n",
            "Reading package lists... Done\n",
            "Building dependency tree       \n",
            "Reading state information... Done\n",
            "libmecab-dev is already the newest version (0.996-3.1).\n",
            "0 upgraded, 0 newly installed, 0 to remove and 0 not upgraded.\n",
            "Reading package lists... Done\n",
            "Building dependency tree       \n",
            "Reading state information... Done\n",
            "mecab-ipadic-utf8 is already the newest version (2.7.0-20070801+main-1).\n",
            "0 upgraded, 0 newly installed, 0 to remove and 0 not upgraded.\n",
            "Requirement already satisfied: mecab-python3 in /usr/local/lib/python3.6/dist-packages (0.7)\n"
          ],
          "name": "stdout"
        }
      ]
    },
    {
      "metadata": {
        "id": "aIS_hwjgEHJM",
        "colab_type": "code",
        "colab": {}
      },
      "cell_type": "code",
      "source": [
        "import sys\n",
        "import MeCab\n",
        "import pickle\n",
        "import os\n",
        "import sys\n",
        "import MeCab\n",
        "import pickle\n",
        "from keras.datasets import boston_housing\n",
        "from keras.models import Model,model_from_json\n",
        "from keras.callbacks import ModelCheckpoint\n",
        "from keras.utils import to_categorical\n",
        "from keras.preprocessing.text import Tokenizer\n",
        "from sklearn.model_selection import train_test_split\n",
        "import keras\n",
        "from keras.utils import to_categorical\n",
        "from keras.datasets import mnist\n",
        "from keras import models\n",
        "from keras import layers\n",
        "import time\n",
        "import numpy as np\n",
        "from google.colab import files\n",
        "import re\n",
        "from sklearn.model_selection import train_test_split\n",
        "from keras.callbacks import EarlyStopping\n",
        "from keras.metrics import categorical_accuracy\n",
        "import pickle\n",
        "\n",
        "    \n",
        "mecab = MeCab.Tagger (\"-Owakati\")"
      ],
      "execution_count": 0,
      "outputs": []
    },
    {
      "metadata": {
        "id": "2SR7Y4aK_fCt",
        "colab_type": "text"
      },
      "cell_type": "markdown",
      "source": [
        "##Tokenizerの読み書き用関数"
      ]
    },
    {
      "metadata": {
        "id": "lJADBVEs_f2x",
        "colab_type": "code",
        "colab": {}
      },
      "cell_type": "code",
      "source": [
        "\n",
        "def save_text_tokenizer(tokenizer,file_name):\n",
        "  # saving\n",
        "  with open(file_name+\".pickle\", 'wb') as handle:\n",
        "      pickle.dump(tokenizer, handle, protocol=pickle.HIGHEST_PROTOCOL)\n",
        "\n",
        "def load_text_tokenizer(file_name):\n",
        "  # loading\n",
        "  with open(file_name+\".pickle\", 'rb') as handle:\n",
        "      return pickle.load(handle)"
      ],
      "execution_count": 0,
      "outputs": []
    },
    {
      "metadata": {
        "id": "cOpL_NPO_YbM",
        "colab_type": "text"
      },
      "cell_type": "markdown",
      "source": [
        "## ドライブをマウント"
      ]
    },
    {
      "metadata": {
        "id": "31y-m09d9h9u",
        "colab_type": "code",
        "colab": {}
      },
      "cell_type": "code",
      "source": [
        "# Load the Drive helper and mount\n",
        "from google.colab import drive\n",
        "\n",
        "# This will prompt for authorization.\n",
        "drive.mount('/content/gdrive')\n",
        "\n",
        "# After executing the cell above, Drive\n",
        "# files will be present in \"/content/drive/My Drive\".\n",
        "base_dir = \"/content/gdrive/My Drive/data/stock_filter/018/\"\n",
        "!ls \"/content/gdrive/My Drive/data/stock_filter/018/\""
      ],
      "execution_count": 0,
      "outputs": []
    },
    {
      "metadata": {
        "id": "9tvSFM8TsdxN",
        "colab_type": "text"
      },
      "cell_type": "markdown",
      "source": [
        "##学習データの読み込み\n"
      ]
    },
    {
      "metadata": {
        "id": "Xc_T19h7omO4",
        "colab_type": "code",
        "colab": {
          "base_uri": "https://localhost:8080/",
          "height": 972
        },
        "outputId": "e1aa59b9-a6a6-4791-878c-3bd332b7179e"
      },
      "cell_type": "code",
      "source": [
        "import pandas as pd\n",
        "\n",
        "file_name = 'vari_label.csv'\n",
        "stock_df = pd.read_csv(base_dir+file_name,sep=',',error_bad_lines=False,dtype={\"iid\": str,\"style\": str, \"text\": str})\n",
        "# print(stock_df.head(10))\n",
        "\n",
        "file_name = 'none_label (1).csv'\n",
        "null_df = pd.read_csv(base_dir+file_name,sep=',',error_bad_lines=False,dtype={\"iid\": str,\"style\": str, \"text\": str})\n",
        "null_df[\"label\"] = \"skip\"\n",
        "\n",
        "df = stock_df.append(null_df, ignore_index=True)\n",
        "df.columns\n",
        "# print(df.head(10))\n"
      ],
      "execution_count": 14,
      "outputs": [
        {
          "output_type": "stream",
          "text": [
            "        id label     tag  iid         style    x    y  height  width  page_id  \\\n",
            "0  5471321  vari  OPTION  NaN           NaN    0    0       0      0     2806   \n",
            "1  5471322  vari  OPTION  NaN           NaN    0    0       0      0     2806   \n",
            "2  5471323  vari  OPTION  NaN           NaN    0    0       0      0     2806   \n",
            "3  5471324  vari  OPTION  NaN           NaN    0    0       0      0     2806   \n",
            "4  5471867  vari  OPTION  NaN           NaN    0    0       0      0     2974   \n",
            "5  5471868  vari  OPTION  NaN           NaN    0    0       0      0     2974   \n",
            "6  5471869  vari  OPTION  NaN           NaN    0    0       0      0     2974   \n",
            "7  5472318  vari     IMG  NaN  color-img af  575  444      36     36      478   \n",
            "8  5475303  vari    SPAN  NaN      colorHEX    0    0       0      0      843   \n",
            "9  5475550  vari     IMG  NaN          hide    0    0       0      0      117   \n",
            "\n",
            "           ...           pp_tag  \\\n",
            "0          ...              DIV   \n",
            "1          ...              DIV   \n",
            "2          ...              DIV   \n",
            "3          ...              DIV   \n",
            "4          ...              DIV   \n",
            "5          ...              DIV   \n",
            "6          ...              DIV   \n",
            "7          ...              DIV   \n",
            "8          ...              DIV   \n",
            "9          ...               UL   \n",
            "\n",
            "                                            pp_style  src pp_height pp_iid  \\\n",
            "0  product-colour select-option-style__container ...  NaN        40    NaN   \n",
            "1  product-colour select-option-style__container ...  NaN        40    NaN   \n",
            "2  product-colour select-option-style__container ...  NaN        40    NaN   \n",
            "3  product-colour select-option-style__container ...  NaN        40    NaN   \n",
            "4  product-colour select-option-style__container ...  NaN        40    NaN   \n",
            "5  product-colour select-option-style__container ...  NaN        40    NaN   \n",
            "6  product-colour select-option-style__container ...  NaN        40    NaN   \n",
            "7                                     color selected  NaN        40    NaN   \n",
            "8                        color-selection is-selected  NaN         4    NaN   \n",
            "9                            colorsizelist js-slider  NaN        35    NaN   \n",
            "\n",
            "  pp_width  pp_x  pp_y  alt                pp_text  \n",
            "0      171   528   618  NaN  Blue Black Gray White  \n",
            "1      171   528   618  NaN  Blue Black Gray White  \n",
            "2      171   528   618  NaN  Blue Black Gray White  \n",
            "3      171   528   618  NaN  Blue Black Gray White  \n",
            "4      171   528   638  NaN        Gray Black Navy  \n",
            "5      171   528   638  NaN        Gray Black Navy  \n",
            "6      171   528   638  NaN        Gray Black Navy  \n",
            "7       40   573   442  NaN                    NaN  \n",
            "8        0   590   276  NaN                  Black  \n",
            "9      403   599   327  カーキ                    NaN  \n",
            "\n",
            "[10 rows x 31 columns]\n"
          ],
          "name": "stdout"
        },
        {
          "output_type": "stream",
          "text": [
            "b'Skipping line 849: expected 31 fields, saw 291\\nSkipping line 851: expected 31 fields, saw 291\\nSkipping line 885: expected 31 fields, saw 291\\nSkipping line 910: expected 31 fields, saw 291\\nSkipping line 985: expected 31 fields, saw 291\\nSkipping line 993: expected 31 fields, saw 291\\nSkipping line 1002: expected 31 fields, saw 291\\nSkipping line 1014: expected 31 fields, saw 291\\nSkipping line 1029: expected 31 fields, saw 291\\nSkipping line 1056: expected 31 fields, saw 291\\nSkipping line 1111: expected 31 fields, saw 291\\nSkipping line 1143: expected 31 fields, saw 291\\nSkipping line 1192: expected 31 fields, saw 291\\nSkipping line 1217: expected 31 fields, saw 291\\nSkipping line 1265: expected 31 fields, saw 291\\nSkipping line 1284: expected 31 fields, saw 291\\nSkipping line 1313: expected 31 fields, saw 291\\nSkipping line 1333: expected 31 fields, saw 291\\nSkipping line 1359: expected 31 fields, saw 291\\nSkipping line 1376: expected 31 fields, saw 291\\nSkipping line 1403: expected 31 fields, saw 291\\nSkipping line 1407: expected 31 fields, saw 291\\n'\n"
          ],
          "name": "stderr"
        },
        {
          "output_type": "execute_result",
          "data": {
            "text/plain": [
              "Index(['id', 'label', 'tag', 'iid', 'style', 'x', 'y', 'height', 'width',\n",
              "       'page_id', 'text', 'p_text', 'p_height', 'p_iid', 'p_style', 'p_tag',\n",
              "       'p_width', 'p_x', 'p_y', 'href', 'disable', 'pp_tag', 'pp_style', 'src',\n",
              "       'pp_height', 'pp_iid', 'pp_width', 'pp_x', 'pp_y', 'alt', 'pp_text'],\n",
              "      dtype='object')"
            ]
          },
          "metadata": {
            "tags": []
          },
          "execution_count": 14
        }
      ]
    },
    {
      "metadata": {
        "id": "dHGqZOooqWTj",
        "colab_type": "text"
      },
      "cell_type": "markdown",
      "source": [
        "## 分かち書きをしたりするテキストの前処理"
      ]
    },
    {
      "metadata": {
        "id": "Uyt9XQtsSndr",
        "colab_type": "code",
        "colab": {}
      },
      "cell_type": "code",
      "source": [
        "\n",
        "def to_df(token,se):\n",
        "  matrix = token.texts_to_matrix(se,mode='count')\n",
        "  temp_df = pd.DataFrame(matrix)\n",
        "  return temp_df\n",
        "\n",
        "def add_space_front_uppercase(text:str)->str:\n",
        "  return ''.join(' ' + char if char.isupper() else char.strip() for char in text).strip()\n",
        "\n",
        "def add_space_color_size(text:str)->str:\n",
        "  return text.replace(\"colour\",\"color\").replace(\"color\",\" color \").replace(\"size\",\" size \")\n",
        "\n",
        "def wakati(text)->str:\n",
        "  text = str(text)\n",
        "  if len(text)>3:\n",
        "    text = mecab.parse(text)\n",
        "  return replace_numbers_to_0(text)\n",
        "\n",
        "def replace_numbers_to_0(text:str)->str:\n",
        "  return re.sub(r'[0-9]+', \"0\",str(text))\n",
        "\n",
        "def pre_text(df):\n",
        "  wakachi_fileds = ['alt', 'href', 'iid','p_iid', 'p_style', 'p_tag', 'pp_iid', 'pp_style', 'pp_tag','src', 'style', 'tag', 'text','p_text']\n",
        "  df[wakachi_fileds] = df[wakachi_fileds].applymap(lambda x : wakati(x)).fillna(\"\")\n",
        "\n",
        "  add_space_fileds = [\"iid\",\"style\",\"p_iid\",\"p_style\",\"pp_iid\",\"pp_style\"]\n",
        "  df[add_space_fileds] = df[add_space_fileds].applymap(lambda x : add_space_front_uppercase(x))\n",
        "  df[add_space_fileds] = df[add_space_fileds].applymap(lambda x : add_space_color_size(x))\n",
        "  return df                \n"
      ],
      "execution_count": 0,
      "outputs": []
    },
    {
      "metadata": {
        "id": "S3c8ffaYr7ub",
        "colab_type": "text"
      },
      "cell_type": "markdown",
      "source": [
        "## 学習データ全体の前処理"
      ]
    },
    {
      "metadata": {
        "id": "eHXfd2SgDIJi",
        "colab_type": "code",
        "colab": {}
      },
      "cell_type": "code",
      "source": [
        "\n",
        "def prepare_data(data):\n",
        "  df = pd.DataFrame(data)\n",
        "  df = pre_text(df)\n",
        "\n",
        "  fields = ['height', 'width', 'x', 'y',  'p_x', 'p_y', 'p_width','p_height','pp_height', 'pp_width', 'pp_x', 'pp_y']\n",
        "  X = df[fields]\n",
        "\n",
        "  X = pd.concat([X, to_df(tag_token,df[\"tag\"])], axis=1)\n",
        "  X = pd.concat([X, to_df(tag_token,df[\"p_tag\"])], axis=1)\n",
        "  X = pd.concat([X, to_df(tag_token,df[\"pp_tag\"])], axis=1)\n",
        "  X = pd.concat([X, to_df(style_token,df[\"style\"])], axis=1)\n",
        "  X = pd.concat([X, to_df(style_token,df[\"p_style\"])], axis=1)\n",
        "  X = pd.concat([X, to_df(style_token,df[\"pp_style\"])], axis=1)\n",
        "  X = pd.concat([X, to_df(iid_token,df[\"iid\"])], axis=1)\n",
        "  X = pd.concat([X, to_df(iid_token,df[\"p_iid\"])], axis=1)\n",
        "  X = pd.concat([X, to_df(iid_token,df[\"pp_iid\"])], axis=1)\n",
        "  X = pd.concat([X, to_df(alt_token,df[\"alt\"])], axis=1)\n",
        "  X = pd.concat([X, to_df(src_token,df[\"src\"])], axis=1)\n",
        "  X = pd.concat([X, to_df(href_token,df[\"href\"])], axis=1)\n",
        "  X = pd.concat([X, to_df(text_token,df[\"text\"])], axis=1)\n",
        "  X = pd.concat([X, to_df(text_token,df[\"p_text\"])], axis=1)\n",
        "  X = X.fillna(0)\n",
        "  return X"
      ],
      "execution_count": 0,
      "outputs": []
    },
    {
      "metadata": {
        "id": "-GAHD2g45ge9",
        "colab_type": "code",
        "colab": {}
      },
      "cell_type": "code",
      "source": [
        "df = pre_text(df)"
      ],
      "execution_count": 0,
      "outputs": []
    },
    {
      "metadata": {
        "id": "X4d6XPR75_bT",
        "colab_type": "text"
      },
      "cell_type": "markdown",
      "source": [
        "## tokenの作成"
      ]
    },
    {
      "metadata": {
        "id": "erxChBQj302A",
        "colab_type": "code",
        "colab": {}
      },
      "cell_type": "code",
      "source": [
        "\n",
        "temp_df = df[\"tag\"].append(df[\"p_tag\"]).append(df[\"pp_tag\"])\n",
        "tag_token = Tokenizer(lower=True)\n",
        "tag_token.fit_on_texts(temp_df)\n",
        "\n",
        "temp_df = df[\"iid\"].append(df[\"p_iid\"]).append(df[\"pp_iid\"])\n",
        "iid_token = Tokenizer(100,lower=True)\n",
        "iid_token.fit_on_texts(temp_df)\n",
        "\n",
        "temp_df = df[\"style\"].append(df[\"p_style\"]).append(df[\"pp_style\"])\n",
        "style_token = Tokenizer(100,lower=True)\n",
        "style_token.fit_on_texts(temp_df)\n",
        "\n",
        "alt_token = Tokenizer(100,lower=True)\n",
        "alt_token.fit_on_texts(df[\"alt\"])\n",
        "src_token = Tokenizer(100,lower=True)\n",
        "src_token.fit_on_texts(df[\"src\"])\n",
        "href_token = Tokenizer(100,lower=True)\n",
        "href_token.fit_on_texts(df[\"href\"])\n",
        "\n",
        "temp_df = df[\"text\"].append(df[\"p_text\"])\n",
        "text_token = Tokenizer(500,lower=True)\n",
        "text_token.fit_on_texts(df[\"text\"])\n"
      ],
      "execution_count": 0,
      "outputs": []
    },
    {
      "metadata": {
        "id": "mKmpnu8L8Q32",
        "colab_type": "text"
      },
      "cell_type": "markdown",
      "source": [
        "##学習データを作成"
      ]
    },
    {
      "metadata": {
        "id": "ugzkP54t8lr5",
        "colab_type": "code",
        "colab": {
          "base_uri": "https://localhost:8080/",
          "height": 34
        },
        "outputId": "3b95e33e-e682-4d0d-ade2-cfa62a88137e"
      },
      "cell_type": "code",
      "source": [
        "X = prepare_data(df)\n",
        "print(X.shape)\n"
      ],
      "execution_count": 19,
      "outputs": [
        {
          "output_type": "stream",
          "text": [
            "(2897, 2017)\n"
          ],
          "name": "stdout"
        }
      ]
    },
    {
      "metadata": {
        "id": "G7TNtGUqsJy6",
        "colab_type": "text"
      },
      "cell_type": "markdown",
      "source": [
        "## ラベルを作成"
      ]
    },
    {
      "metadata": {
        "id": "jpH6sOY-zc7t",
        "colab_type": "code",
        "colab": {
          "base_uri": "https://localhost:8080/",
          "height": 34
        },
        "outputId": "141ebe44-9643-405d-847a-3b1cbe2a6903"
      },
      "cell_type": "code",
      "source": [
        "label_token = Tokenizer()\n",
        "label_token.fit_on_texts(df[\"label\"])\n",
        "save_text_tokenizer(label_token,base_dir+\"label_token\")\n",
        "y = label_token.texts_to_matrix(df[\"label\"])\n",
        "print(y.shape)"
      ],
      "execution_count": 20,
      "outputs": [
        {
          "output_type": "stream",
          "text": [
            "(2897, 3)\n"
          ],
          "name": "stdout"
        }
      ]
    },
    {
      "metadata": {
        "id": "93-RXzxesw40",
        "colab_type": "text"
      },
      "cell_type": "markdown",
      "source": [
        "## ラベルの変換用ディクショナリの作成"
      ]
    },
    {
      "metadata": {
        "id": "NBK6zPdziu6a",
        "colab_type": "code",
        "colab": {
          "base_uri": "https://localhost:8080/",
          "height": 34
        },
        "outputId": "b028f0be-4059-408f-9ae9-b4379ce037b0"
      },
      "cell_type": "code",
      "source": [
        "label_dic= {v: k for k, v in label_token.word_index.items()}\n",
        "print(label_dic)"
      ],
      "execution_count": 21,
      "outputs": [
        {
          "output_type": "stream",
          "text": [
            "{1: 'vari', 2: 'skip'}\n"
          ],
          "name": "stdout"
        }
      ]
    },
    {
      "metadata": {
        "id": "kabh_T6dtFV8",
        "colab_type": "text"
      },
      "cell_type": "markdown",
      "source": [
        "## 学習データをシャッフル"
      ]
    },
    {
      "metadata": {
        "id": "9CzGifwVqJmQ",
        "colab_type": "code",
        "colab": {}
      },
      "cell_type": "code",
      "source": [
        "seed = 7\n",
        "np.random.seed(seed)\n",
        "X_train, X_test, y_train, y_test  = train_test_split(X, y, test_size=0.33, random_state=seed)"
      ],
      "execution_count": 0,
      "outputs": []
    },
    {
      "metadata": {
        "id": "FN-x547ntJVS",
        "colab_type": "text"
      },
      "cell_type": "markdown",
      "source": [
        "## 学習データをシャッフルしない"
      ]
    },
    {
      "metadata": {
        "id": "vbXtvEucx65E",
        "colab_type": "code",
        "colab": {}
      },
      "cell_type": "code",
      "source": [
        "def non_shuffling_train_test_split(X, y, test_size=0.33):\n",
        "    i = int((1 - test_size) * X.shape[0]) + 1\n",
        "    X_train, X_test = np.split(X, [i])\n",
        "    y_train, y_test = np.split(y, [i])\n",
        "    return X_train, X_test, y_train, y_test\n",
        "X_train, X_test, y_train, y_test  = non_shuffling_train_test_split(X, y, test_size=0.33)"
      ],
      "execution_count": 0,
      "outputs": []
    },
    {
      "metadata": {
        "id": "RYBAjvDN8nRa",
        "colab_type": "text"
      },
      "cell_type": "markdown",
      "source": [
        "## コールバックの設定"
      ]
    },
    {
      "metadata": {
        "id": "qfcultG18oTA",
        "colab_type": "code",
        "colab": {}
      },
      "cell_type": "code",
      "source": [
        "\n",
        "# stop when score is not improve\n",
        "early_stopping = EarlyStopping(monitor='val_loss', patience=3)\n",
        "\n",
        "# save best score\n",
        "filepath = base_dir+\"weights.best.hdf5\"\n",
        "checkpoint = ModelCheckpoint(filepath, monitor='val_categorical_accuracy', verbose=1, save_best_only=True, mode='max')\n",
        "callbacks_list = [checkpoint]"
      ],
      "execution_count": 0,
      "outputs": []
    },
    {
      "metadata": {
        "id": "5iJ7es73GIA4",
        "colab_type": "text"
      },
      "cell_type": "markdown",
      "source": [
        "## モデルを作成"
      ]
    },
    {
      "metadata": {
        "id": "EGLTH5gYtRes",
        "colab_type": "text"
      },
      "cell_type": "markdown",
      "source": [
        "## 学習開始"
      ]
    },
    {
      "metadata": {
        "id": "s-_DaxTjGVmy",
        "colab_type": "code",
        "colab": {
          "base_uri": "https://localhost:8080/",
          "height": 7623
        },
        "outputId": "9d45e830-e7ea-42bf-d46d-3081203ef1b5"
      },
      "cell_type": "code",
      "source": [
        "\n",
        "EPOCHS = 100\n",
        "BATCH_SIZE = 275\n",
        "\n",
        "\n",
        "model = models.Sequential()\n",
        "model.add(layers.Dense(1024, activation='relu',\n",
        "                       input_shape=(X_train.shape[1],)))\n",
        "model.add(layers.Dropout(0.3))\n",
        "\n",
        "model.add(layers.Dense(160, activation='relu'))\n",
        "model.add(layers.Dropout(0.3))\n",
        "\n",
        "\n",
        "model.add(layers.Dense(1024, activation='relu'))\n",
        "model.add(layers.Dropout(0.3))\n",
        "\n",
        "model.add(layers.Dense(64, activation='relu'))\n",
        "model.add(layers.Dropout(0.3))\n",
        "\n",
        "\n",
        "model.add(layers.Dense(1024, activation='relu'))\n",
        "model.add(layers.Dropout(0.3))\n",
        "\n",
        "model.add(layers.Dense(100, activation='relu'))\n",
        "model.add(layers.Dropout(0.3))\n",
        "\n",
        "model.add(layers.Dense(y_train.shape[1],activation='softmax'))\n",
        "\n",
        "model.compile(loss='binary_crossentropy', optimizer='Adam', metrics=['categorical_accuracy'])\n",
        "\n",
        "\n",
        "\n",
        "history = model.fit(X_train, y_train,verbose=1, validation_data=(X_test,y_test), epochs=EPOCHS, batch_size=BATCH_SIZE,callbacks=callbacks_list)\n",
        "score = model.evaluate(X_test, y_test, verbose=0)\n",
        "print('Test loss:', score[0])\n",
        "print('Test accuracy:', score[1])\n",
        "\n",
        "\n",
        "import matplotlib.pyplot as plt\n",
        "\n",
        "print(history.history.keys())\n",
        "# summarize history for loss\n",
        "plt.plot(history.history['val_loss'])\n",
        "plt.plot(history.history['loss'])\n",
        "plt.title('model loss')\n",
        "plt.ylabel('loss')\n",
        "plt.xlabel('epoch')\n",
        "plt.legend(['val_loss', 'loss'], loc='upper left')\n",
        "plt.show()\n",
        "\n",
        "plt.plot(history.history['val_categorical_accuracy'])\n",
        "plt.plot(history.history['categorical_accuracy'])\n",
        "plt.title('model accuracy')\n",
        "plt.ylabel('accuracy')\n",
        "plt.xlabel('epoch')\n",
        "plt.legend(['val_acc', 'acc'], loc='upper left')\n",
        "plt.show()"
      ],
      "execution_count": 35,
      "outputs": [
        {
          "output_type": "stream",
          "text": [
            "Train on 1940 samples, validate on 957 samples\n",
            "Epoch 1/100\n",
            "1940/1940 [==============================] - 3s 1ms/step - loss: 1.2335 - categorical_accuracy: 0.5000 - val_loss: 0.4727 - val_categorical_accuracy: 0.6949\n",
            "\n",
            "Epoch 00001: val_categorical_accuracy improved from -inf to 0.69488, saving model to /content/gdrive/My Drive/data/stock_filter/018/weights.best.hdf5\n",
            "Epoch 2/100\n",
            "1940/1940 [==============================] - 1s 562us/step - loss: 0.4811 - categorical_accuracy: 0.6149 - val_loss: 0.4287 - val_categorical_accuracy: 0.7534\n",
            "\n",
            "Epoch 00002: val_categorical_accuracy improved from 0.69488 to 0.75340, saving model to /content/gdrive/My Drive/data/stock_filter/018/weights.best.hdf5\n",
            "Epoch 3/100\n",
            "1940/1940 [==============================] - 1s 576us/step - loss: 0.4320 - categorical_accuracy: 0.6974 - val_loss: 0.3643 - val_categorical_accuracy: 0.7847\n",
            "\n",
            "Epoch 00003: val_categorical_accuracy improved from 0.75340 to 0.78474, saving model to /content/gdrive/My Drive/data/stock_filter/018/weights.best.hdf5\n",
            "Epoch 4/100\n",
            "1940/1940 [==============================] - 1s 581us/step - loss: 0.3883 - categorical_accuracy: 0.7500 - val_loss: 0.3030 - val_categorical_accuracy: 0.7994\n",
            "\n",
            "Epoch 00004: val_categorical_accuracy improved from 0.78474 to 0.79937, saving model to /content/gdrive/My Drive/data/stock_filter/018/weights.best.hdf5\n",
            "Epoch 5/100\n",
            "1940/1940 [==============================] - 1s 580us/step - loss: 0.3472 - categorical_accuracy: 0.7907 - val_loss: 0.2243 - val_categorical_accuracy: 0.8589\n",
            "\n",
            "Epoch 00005: val_categorical_accuracy improved from 0.79937 to 0.85893, saving model to /content/gdrive/My Drive/data/stock_filter/018/weights.best.hdf5\n",
            "Epoch 6/100\n",
            "1940/1940 [==============================] - 1s 568us/step - loss: 0.2975 - categorical_accuracy: 0.8474 - val_loss: 0.1861 - val_categorical_accuracy: 0.8924\n",
            "\n",
            "Epoch 00006: val_categorical_accuracy improved from 0.85893 to 0.89237, saving model to /content/gdrive/My Drive/data/stock_filter/018/weights.best.hdf5\n",
            "Epoch 7/100\n",
            "1940/1940 [==============================] - 1s 575us/step - loss: 0.2329 - categorical_accuracy: 0.8840 - val_loss: 0.1201 - val_categorical_accuracy: 0.9352\n",
            "\n",
            "Epoch 00007: val_categorical_accuracy improved from 0.89237 to 0.93521, saving model to /content/gdrive/My Drive/data/stock_filter/018/weights.best.hdf5\n",
            "Epoch 8/100\n",
            "1940/1940 [==============================] - 1s 588us/step - loss: 0.1944 - categorical_accuracy: 0.9113 - val_loss: 0.1055 - val_categorical_accuracy: 0.9687\n",
            "\n",
            "Epoch 00008: val_categorical_accuracy improved from 0.93521 to 0.96865, saving model to /content/gdrive/My Drive/data/stock_filter/018/weights.best.hdf5\n",
            "Epoch 9/100\n",
            "1940/1940 [==============================] - 1s 602us/step - loss: 0.1428 - categorical_accuracy: 0.9567 - val_loss: 0.1003 - val_categorical_accuracy: 0.9749\n",
            "\n",
            "Epoch 00009: val_categorical_accuracy improved from 0.96865 to 0.97492, saving model to /content/gdrive/My Drive/data/stock_filter/018/weights.best.hdf5\n",
            "Epoch 10/100\n",
            "1940/1940 [==============================] - 1s 593us/step - loss: 0.1250 - categorical_accuracy: 0.9562 - val_loss: 0.1046 - val_categorical_accuracy: 0.9791\n",
            "\n",
            "Epoch 00010: val_categorical_accuracy improved from 0.97492 to 0.97910, saving model to /content/gdrive/My Drive/data/stock_filter/018/weights.best.hdf5\n",
            "Epoch 11/100\n",
            "1940/1940 [==============================] - 1s 594us/step - loss: 0.1077 - categorical_accuracy: 0.9598 - val_loss: 0.1097 - val_categorical_accuracy: 0.9697\n",
            "\n",
            "Epoch 00011: val_categorical_accuracy did not improve from 0.97910\n",
            "Epoch 12/100\n",
            "1940/1940 [==============================] - 1s 583us/step - loss: 0.1035 - categorical_accuracy: 0.9660 - val_loss: 0.0876 - val_categorical_accuracy: 0.9739\n",
            "\n",
            "Epoch 00012: val_categorical_accuracy did not improve from 0.97910\n",
            "Epoch 13/100\n",
            "1940/1940 [==============================] - 1s 570us/step - loss: 0.1130 - categorical_accuracy: 0.9665 - val_loss: 0.0815 - val_categorical_accuracy: 0.9833\n",
            "\n",
            "Epoch 00013: val_categorical_accuracy improved from 0.97910 to 0.98328, saving model to /content/gdrive/My Drive/data/stock_filter/018/weights.best.hdf5\n",
            "Epoch 14/100\n",
            "1940/1940 [==============================] - 1s 568us/step - loss: 0.0974 - categorical_accuracy: 0.9691 - val_loss: 0.0888 - val_categorical_accuracy: 0.9728\n",
            "\n",
            "Epoch 00014: val_categorical_accuracy did not improve from 0.98328\n",
            "Epoch 15/100\n",
            "1940/1940 [==============================] - 1s 566us/step - loss: 0.0915 - categorical_accuracy: 0.9737 - val_loss: 0.0622 - val_categorical_accuracy: 0.9927\n",
            "\n",
            "Epoch 00015: val_categorical_accuracy improved from 0.98328 to 0.99269, saving model to /content/gdrive/My Drive/data/stock_filter/018/weights.best.hdf5\n",
            "Epoch 16/100\n",
            "1940/1940 [==============================] - 1s 578us/step - loss: 0.1048 - categorical_accuracy: 0.9562 - val_loss: 0.0987 - val_categorical_accuracy: 0.9687\n",
            "\n",
            "Epoch 00016: val_categorical_accuracy did not improve from 0.99269\n",
            "Epoch 17/100\n",
            "1940/1940 [==============================] - 1s 580us/step - loss: 0.1129 - categorical_accuracy: 0.9634 - val_loss: 0.0693 - val_categorical_accuracy: 0.9937\n",
            "\n",
            "Epoch 00017: val_categorical_accuracy improved from 0.99269 to 0.99373, saving model to /content/gdrive/My Drive/data/stock_filter/018/weights.best.hdf5\n",
            "Epoch 18/100\n",
            "1940/1940 [==============================] - 1s 588us/step - loss: 0.0942 - categorical_accuracy: 0.9443 - val_loss: 0.1230 - val_categorical_accuracy: 0.9645\n",
            "\n",
            "Epoch 00018: val_categorical_accuracy did not improve from 0.99373\n",
            "Epoch 19/100\n",
            "1940/1940 [==============================] - 1s 569us/step - loss: 0.0958 - categorical_accuracy: 0.9680 - val_loss: 0.0724 - val_categorical_accuracy: 0.9760\n",
            "\n",
            "Epoch 00019: val_categorical_accuracy did not improve from 0.99373\n",
            "Epoch 20/100\n",
            "1940/1940 [==============================] - 1s 565us/step - loss: 0.0636 - categorical_accuracy: 0.9773 - val_loss: 0.0624 - val_categorical_accuracy: 0.9885\n",
            "\n",
            "Epoch 00020: val_categorical_accuracy did not improve from 0.99373\n",
            "Epoch 21/100\n",
            "1940/1940 [==============================] - 1s 568us/step - loss: 0.0706 - categorical_accuracy: 0.9732 - val_loss: 0.0550 - val_categorical_accuracy: 0.9781\n",
            "\n",
            "Epoch 00021: val_categorical_accuracy did not improve from 0.99373\n",
            "Epoch 22/100\n",
            "1940/1940 [==============================] - 1s 570us/step - loss: 0.0672 - categorical_accuracy: 0.9794 - val_loss: 0.0583 - val_categorical_accuracy: 0.9958\n",
            "\n",
            "Epoch 00022: val_categorical_accuracy improved from 0.99373 to 0.99582, saving model to /content/gdrive/My Drive/data/stock_filter/018/weights.best.hdf5\n",
            "Epoch 23/100\n",
            "1940/1940 [==============================] - 1s 582us/step - loss: 0.0635 - categorical_accuracy: 0.9665 - val_loss: 0.0591 - val_categorical_accuracy: 0.9781\n",
            "\n",
            "Epoch 00023: val_categorical_accuracy did not improve from 0.99582\n",
            "Epoch 24/100\n",
            "1940/1940 [==============================] - 1s 575us/step - loss: 0.0442 - categorical_accuracy: 0.9820 - val_loss: 0.0560 - val_categorical_accuracy: 0.9833\n",
            "\n",
            "Epoch 00024: val_categorical_accuracy did not improve from 0.99582\n",
            "Epoch 25/100\n",
            "1940/1940 [==============================] - 1s 596us/step - loss: 0.0392 - categorical_accuracy: 0.9887 - val_loss: 0.0319 - val_categorical_accuracy: 0.9948\n",
            "\n",
            "Epoch 00025: val_categorical_accuracy did not improve from 0.99582\n",
            "Epoch 26/100\n",
            "1940/1940 [==============================] - 1s 612us/step - loss: 0.0374 - categorical_accuracy: 0.9902 - val_loss: 0.0389 - val_categorical_accuracy: 0.9969\n",
            "\n",
            "Epoch 00026: val_categorical_accuracy improved from 0.99582 to 0.99687, saving model to /content/gdrive/My Drive/data/stock_filter/018/weights.best.hdf5\n",
            "Epoch 27/100\n",
            "1940/1940 [==============================] - 1s 616us/step - loss: 0.0383 - categorical_accuracy: 0.9830 - val_loss: 0.0455 - val_categorical_accuracy: 0.9885\n",
            "\n",
            "Epoch 00027: val_categorical_accuracy did not improve from 0.99687\n",
            "Epoch 28/100\n",
            "1940/1940 [==============================] - 1s 613us/step - loss: 0.0435 - categorical_accuracy: 0.9851 - val_loss: 0.0451 - val_categorical_accuracy: 0.9854\n",
            "\n",
            "Epoch 00028: val_categorical_accuracy did not improve from 0.99687\n",
            "Epoch 29/100\n",
            "1940/1940 [==============================] - 1s 610us/step - loss: 0.0500 - categorical_accuracy: 0.9830 - val_loss: 0.0433 - val_categorical_accuracy: 0.9958\n",
            "\n",
            "Epoch 00029: val_categorical_accuracy did not improve from 0.99687\n",
            "Epoch 30/100\n",
            "1940/1940 [==============================] - 1s 600us/step - loss: 0.0610 - categorical_accuracy: 0.9784 - val_loss: 0.0663 - val_categorical_accuracy: 0.9864\n",
            "\n",
            "Epoch 00030: val_categorical_accuracy did not improve from 0.99687\n",
            "Epoch 31/100\n",
            "1940/1940 [==============================] - 1s 603us/step - loss: 0.0335 - categorical_accuracy: 0.9871 - val_loss: 0.0263 - val_categorical_accuracy: 0.9885\n",
            "\n",
            "Epoch 00031: val_categorical_accuracy did not improve from 0.99687\n",
            "Epoch 32/100\n",
            "1940/1940 [==============================] - 1s 629us/step - loss: 0.0273 - categorical_accuracy: 0.9923 - val_loss: 0.0757 - val_categorical_accuracy: 0.9822\n",
            "\n",
            "Epoch 00032: val_categorical_accuracy did not improve from 0.99687\n",
            "Epoch 33/100\n",
            "1940/1940 [==============================] - 1s 618us/step - loss: 0.0713 - categorical_accuracy: 0.9835 - val_loss: 0.0434 - val_categorical_accuracy: 0.9937\n",
            "\n",
            "Epoch 00033: val_categorical_accuracy did not improve from 0.99687\n",
            "Epoch 34/100\n",
            "1940/1940 [==============================] - 1s 598us/step - loss: 0.0327 - categorical_accuracy: 0.9881 - val_loss: 0.0510 - val_categorical_accuracy: 0.9854\n",
            "\n",
            "Epoch 00034: val_categorical_accuracy did not improve from 0.99687\n",
            "Epoch 35/100\n",
            "1940/1940 [==============================] - 1s 604us/step - loss: 0.0332 - categorical_accuracy: 0.9856 - val_loss: 0.0455 - val_categorical_accuracy: 0.9948\n",
            "\n",
            "Epoch 00035: val_categorical_accuracy did not improve from 0.99687\n",
            "Epoch 36/100\n",
            "1940/1940 [==============================] - 1s 616us/step - loss: 0.0364 - categorical_accuracy: 0.9912 - val_loss: 0.0343 - val_categorical_accuracy: 0.9875\n",
            "\n",
            "Epoch 00036: val_categorical_accuracy did not improve from 0.99687\n",
            "Epoch 37/100\n",
            "1940/1940 [==============================] - 1s 606us/step - loss: 0.0177 - categorical_accuracy: 0.9928 - val_loss: 0.0313 - val_categorical_accuracy: 0.9969\n",
            "\n",
            "Epoch 00037: val_categorical_accuracy did not improve from 0.99687\n",
            "Epoch 38/100\n",
            "1940/1940 [==============================] - 1s 602us/step - loss: 0.0185 - categorical_accuracy: 0.9948 - val_loss: 0.0471 - val_categorical_accuracy: 0.9969\n",
            "\n",
            "Epoch 00038: val_categorical_accuracy did not improve from 0.99687\n",
            "Epoch 39/100\n",
            "1940/1940 [==============================] - 1s 569us/step - loss: 0.0398 - categorical_accuracy: 0.9835 - val_loss: 0.0404 - val_categorical_accuracy: 0.9875\n",
            "\n",
            "Epoch 00039: val_categorical_accuracy did not improve from 0.99687\n",
            "Epoch 40/100\n",
            "1940/1940 [==============================] - 1s 572us/step - loss: 0.0507 - categorical_accuracy: 0.9784 - val_loss: 0.0473 - val_categorical_accuracy: 0.9958\n",
            "\n",
            "Epoch 00040: val_categorical_accuracy did not improve from 0.99687\n",
            "Epoch 41/100\n",
            "1940/1940 [==============================] - 1s 569us/step - loss: 0.0455 - categorical_accuracy: 0.9778 - val_loss: 0.0574 - val_categorical_accuracy: 0.9833\n",
            "\n",
            "Epoch 00041: val_categorical_accuracy did not improve from 0.99687\n",
            "Epoch 42/100\n",
            "1940/1940 [==============================] - 1s 570us/step - loss: 0.0463 - categorical_accuracy: 0.9861 - val_loss: 0.0346 - val_categorical_accuracy: 0.9958\n",
            "\n",
            "Epoch 00042: val_categorical_accuracy did not improve from 0.99687\n",
            "Epoch 43/100\n",
            "1940/1940 [==============================] - 1s 569us/step - loss: 0.0248 - categorical_accuracy: 0.9918 - val_loss: 0.0484 - val_categorical_accuracy: 0.9927\n",
            "\n",
            "Epoch 00043: val_categorical_accuracy did not improve from 0.99687\n",
            "Epoch 44/100\n",
            "1940/1940 [==============================] - 1s 574us/step - loss: 0.0332 - categorical_accuracy: 0.9912 - val_loss: 0.0345 - val_categorical_accuracy: 0.9948\n",
            "\n",
            "Epoch 00044: val_categorical_accuracy did not improve from 0.99687\n",
            "Epoch 45/100\n",
            "1940/1940 [==============================] - 1s 569us/step - loss: 0.0243 - categorical_accuracy: 0.9938 - val_loss: 0.0452 - val_categorical_accuracy: 0.9937\n",
            "\n",
            "Epoch 00045: val_categorical_accuracy did not improve from 0.99687\n",
            "Epoch 46/100\n",
            "1940/1940 [==============================] - 1s 559us/step - loss: 0.0176 - categorical_accuracy: 0.9933 - val_loss: 0.0371 - val_categorical_accuracy: 0.9958\n",
            "\n",
            "Epoch 00046: val_categorical_accuracy did not improve from 0.99687\n",
            "Epoch 47/100\n",
            "1940/1940 [==============================] - 1s 571us/step - loss: 0.0195 - categorical_accuracy: 0.9918 - val_loss: 0.0230 - val_categorical_accuracy: 0.9969\n",
            "\n",
            "Epoch 00047: val_categorical_accuracy did not improve from 0.99687\n",
            "Epoch 48/100\n",
            "1940/1940 [==============================] - 1s 562us/step - loss: 0.0441 - categorical_accuracy: 0.9845 - val_loss: 0.0424 - val_categorical_accuracy: 0.9948\n",
            "\n",
            "Epoch 00048: val_categorical_accuracy did not improve from 0.99687\n",
            "Epoch 49/100\n",
            "1940/1940 [==============================] - 1s 568us/step - loss: 0.0240 - categorical_accuracy: 0.9918 - val_loss: 0.0344 - val_categorical_accuracy: 0.9948\n",
            "\n",
            "Epoch 00049: val_categorical_accuracy did not improve from 0.99687\n",
            "Epoch 50/100\n",
            "1940/1940 [==============================] - 1s 567us/step - loss: 0.0259 - categorical_accuracy: 0.9923 - val_loss: 0.0250 - val_categorical_accuracy: 0.9958\n",
            "\n",
            "Epoch 00050: val_categorical_accuracy did not improve from 0.99687\n",
            "Epoch 51/100\n",
            "1940/1940 [==============================] - 1s 565us/step - loss: 0.0199 - categorical_accuracy: 0.9948 - val_loss: 0.0424 - val_categorical_accuracy: 0.9948\n",
            "\n",
            "Epoch 00051: val_categorical_accuracy did not improve from 0.99687\n",
            "Epoch 52/100\n",
            "1940/1940 [==============================] - 1s 565us/step - loss: 0.0187 - categorical_accuracy: 0.9954 - val_loss: 0.0307 - val_categorical_accuracy: 0.9958\n",
            "\n",
            "Epoch 00052: val_categorical_accuracy did not improve from 0.99687\n",
            "Epoch 53/100\n",
            "1940/1940 [==============================] - 1s 563us/step - loss: 0.0190 - categorical_accuracy: 0.9938 - val_loss: 0.0285 - val_categorical_accuracy: 0.9958\n",
            "\n",
            "Epoch 00053: val_categorical_accuracy did not improve from 0.99687\n",
            "Epoch 54/100\n",
            "1940/1940 [==============================] - 1s 564us/step - loss: 0.0088 - categorical_accuracy: 0.9954 - val_loss: 0.0451 - val_categorical_accuracy: 0.9937\n",
            "\n",
            "Epoch 00054: val_categorical_accuracy did not improve from 0.99687\n",
            "Epoch 55/100\n",
            "1940/1940 [==============================] - 1s 562us/step - loss: 0.0187 - categorical_accuracy: 0.9928 - val_loss: 0.0248 - val_categorical_accuracy: 0.9969\n",
            "\n",
            "Epoch 00055: val_categorical_accuracy did not improve from 0.99687\n",
            "Epoch 56/100\n",
            "1940/1940 [==============================] - 1s 566us/step - loss: 0.0260 - categorical_accuracy: 0.9923 - val_loss: 0.0258 - val_categorical_accuracy: 0.9958\n",
            "\n",
            "Epoch 00056: val_categorical_accuracy did not improve from 0.99687\n",
            "Epoch 57/100\n",
            "1940/1940 [==============================] - 1s 564us/step - loss: 0.0224 - categorical_accuracy: 0.9907 - val_loss: 0.0377 - val_categorical_accuracy: 0.9948\n",
            "\n",
            "Epoch 00057: val_categorical_accuracy did not improve from 0.99687\n",
            "Epoch 58/100\n",
            "1940/1940 [==============================] - 1s 567us/step - loss: 0.0179 - categorical_accuracy: 0.9959 - val_loss: 0.0235 - val_categorical_accuracy: 0.9958\n",
            "\n",
            "Epoch 00058: val_categorical_accuracy did not improve from 0.99687\n",
            "Epoch 59/100\n",
            "1940/1940 [==============================] - 1s 564us/step - loss: 0.0214 - categorical_accuracy: 0.9928 - val_loss: 0.0254 - val_categorical_accuracy: 0.9969\n",
            "\n",
            "Epoch 00059: val_categorical_accuracy did not improve from 0.99687\n",
            "Epoch 60/100\n",
            "1940/1940 [==============================] - 1s 565us/step - loss: 0.0578 - categorical_accuracy: 0.9825 - val_loss: 0.0314 - val_categorical_accuracy: 0.9927\n",
            "\n",
            "Epoch 00060: val_categorical_accuracy did not improve from 0.99687\n",
            "Epoch 61/100\n",
            "1940/1940 [==============================] - 1s 563us/step - loss: 0.0551 - categorical_accuracy: 0.9742 - val_loss: 0.0453 - val_categorical_accuracy: 0.9916\n",
            "\n",
            "Epoch 00061: val_categorical_accuracy did not improve from 0.99687\n",
            "Epoch 62/100\n",
            "1940/1940 [==============================] - 1s 561us/step - loss: 0.0364 - categorical_accuracy: 0.9892 - val_loss: 0.0383 - val_categorical_accuracy: 0.9948\n",
            "\n",
            "Epoch 00062: val_categorical_accuracy did not improve from 0.99687\n",
            "Epoch 63/100\n",
            "1940/1940 [==============================] - 1s 563us/step - loss: 0.0298 - categorical_accuracy: 0.9918 - val_loss: 0.0327 - val_categorical_accuracy: 0.9958\n",
            "\n",
            "Epoch 00063: val_categorical_accuracy did not improve from 0.99687\n",
            "Epoch 64/100\n",
            "1940/1940 [==============================] - 1s 561us/step - loss: 0.0233 - categorical_accuracy: 0.9943 - val_loss: 0.0428 - val_categorical_accuracy: 0.9948\n",
            "\n",
            "Epoch 00064: val_categorical_accuracy did not improve from 0.99687\n",
            "Epoch 65/100\n",
            "1940/1940 [==============================] - 1s 567us/step - loss: 0.0212 - categorical_accuracy: 0.9933 - val_loss: 0.0309 - val_categorical_accuracy: 0.9958\n",
            "\n",
            "Epoch 00065: val_categorical_accuracy did not improve from 0.99687\n",
            "Epoch 66/100\n",
            "1940/1940 [==============================] - 1s 559us/step - loss: 0.0145 - categorical_accuracy: 0.9964 - val_loss: 0.0324 - val_categorical_accuracy: 0.9958\n",
            "\n",
            "Epoch 00066: val_categorical_accuracy did not improve from 0.99687\n",
            "Epoch 67/100\n",
            "1940/1940 [==============================] - 1s 561us/step - loss: 0.0076 - categorical_accuracy: 0.9979 - val_loss: 0.0362 - val_categorical_accuracy: 0.9948\n",
            "\n",
            "Epoch 00067: val_categorical_accuracy did not improve from 0.99687\n",
            "Epoch 68/100\n",
            "1940/1940 [==============================] - 1s 563us/step - loss: 0.0112 - categorical_accuracy: 0.9985 - val_loss: 0.0346 - val_categorical_accuracy: 0.9958\n",
            "\n",
            "Epoch 00068: val_categorical_accuracy did not improve from 0.99687\n",
            "Epoch 69/100\n",
            "1940/1940 [==============================] - 1s 564us/step - loss: 0.0111 - categorical_accuracy: 0.9974 - val_loss: 0.0370 - val_categorical_accuracy: 0.9958\n",
            "\n",
            "Epoch 00069: val_categorical_accuracy did not improve from 0.99687\n",
            "Epoch 70/100\n",
            "1940/1940 [==============================] - 1s 571us/step - loss: 0.0094 - categorical_accuracy: 0.9974 - val_loss: 0.0369 - val_categorical_accuracy: 0.9958\n",
            "\n",
            "Epoch 00070: val_categorical_accuracy did not improve from 0.99687\n",
            "Epoch 71/100\n",
            "1940/1940 [==============================] - 1s 573us/step - loss: 0.0168 - categorical_accuracy: 0.9954 - val_loss: 0.0360 - val_categorical_accuracy: 0.9969\n",
            "\n",
            "Epoch 00071: val_categorical_accuracy did not improve from 0.99687\n",
            "Epoch 72/100\n",
            "1940/1940 [==============================] - 1s 563us/step - loss: 0.0265 - categorical_accuracy: 0.9933 - val_loss: 0.0320 - val_categorical_accuracy: 0.9969\n",
            "\n",
            "Epoch 00072: val_categorical_accuracy did not improve from 0.99687\n",
            "Epoch 73/100\n",
            "1940/1940 [==============================] - 1s 561us/step - loss: 0.0168 - categorical_accuracy: 0.9933 - val_loss: 0.0343 - val_categorical_accuracy: 0.9948\n",
            "\n",
            "Epoch 00073: val_categorical_accuracy did not improve from 0.99687\n",
            "Epoch 74/100\n",
            "1940/1940 [==============================] - 1s 560us/step - loss: 0.0272 - categorical_accuracy: 0.9923 - val_loss: 0.0351 - val_categorical_accuracy: 0.9958\n",
            "\n",
            "Epoch 00074: val_categorical_accuracy did not improve from 0.99687\n",
            "Epoch 75/100\n",
            "1940/1940 [==============================] - 1s 560us/step - loss: 0.0151 - categorical_accuracy: 0.9938 - val_loss: 0.0425 - val_categorical_accuracy: 0.9927\n",
            "\n",
            "Epoch 00075: val_categorical_accuracy did not improve from 0.99687\n",
            "Epoch 76/100\n",
            "1940/1940 [==============================] - 1s 565us/step - loss: 0.0224 - categorical_accuracy: 0.9928 - val_loss: 0.0336 - val_categorical_accuracy: 0.9969\n",
            "\n",
            "Epoch 00076: val_categorical_accuracy did not improve from 0.99687\n",
            "Epoch 77/100\n",
            "1940/1940 [==============================] - 1s 559us/step - loss: 0.0271 - categorical_accuracy: 0.9907 - val_loss: 0.0412 - val_categorical_accuracy: 0.9875\n",
            "\n",
            "Epoch 00077: val_categorical_accuracy did not improve from 0.99687\n",
            "Epoch 78/100\n",
            "1940/1940 [==============================] - 1s 565us/step - loss: 0.0365 - categorical_accuracy: 0.9856 - val_loss: 0.0341 - val_categorical_accuracy: 0.9948\n",
            "\n",
            "Epoch 00078: val_categorical_accuracy did not improve from 0.99687\n",
            "Epoch 79/100\n",
            "1940/1940 [==============================] - 1s 571us/step - loss: 0.0243 - categorical_accuracy: 0.9902 - val_loss: 0.0359 - val_categorical_accuracy: 0.9937\n",
            "\n",
            "Epoch 00079: val_categorical_accuracy did not improve from 0.99687\n",
            "Epoch 80/100\n",
            "1940/1940 [==============================] - 1s 565us/step - loss: 0.0116 - categorical_accuracy: 0.9979 - val_loss: 0.0292 - val_categorical_accuracy: 0.9969\n",
            "\n",
            "Epoch 00080: val_categorical_accuracy did not improve from 0.99687\n",
            "Epoch 81/100\n",
            "1940/1940 [==============================] - 1s 571us/step - loss: 0.0083 - categorical_accuracy: 0.9974 - val_loss: 0.0432 - val_categorical_accuracy: 0.9937\n",
            "\n",
            "Epoch 00081: val_categorical_accuracy did not improve from 0.99687\n",
            "Epoch 82/100\n",
            "1940/1940 [==============================] - 1s 564us/step - loss: 0.0065 - categorical_accuracy: 0.9974 - val_loss: 0.0368 - val_categorical_accuracy: 0.9958\n",
            "\n",
            "Epoch 00082: val_categorical_accuracy did not improve from 0.99687\n",
            "Epoch 83/100\n",
            "1940/1940 [==============================] - 1s 564us/step - loss: 0.0040 - categorical_accuracy: 0.9990 - val_loss: 0.0382 - val_categorical_accuracy: 0.9958\n",
            "\n",
            "Epoch 00083: val_categorical_accuracy did not improve from 0.99687\n",
            "Epoch 84/100\n",
            "1940/1940 [==============================] - 1s 564us/step - loss: 0.0078 - categorical_accuracy: 0.9985 - val_loss: 0.0378 - val_categorical_accuracy: 0.9958\n",
            "\n",
            "Epoch 00084: val_categorical_accuracy did not improve from 0.99687\n",
            "Epoch 85/100\n",
            "1940/1940 [==============================] - 1s 567us/step - loss: 0.0028 - categorical_accuracy: 0.9990 - val_loss: 0.0378 - val_categorical_accuracy: 0.9958\n",
            "\n",
            "Epoch 00085: val_categorical_accuracy did not improve from 0.99687\n",
            "Epoch 86/100\n",
            "1940/1940 [==============================] - 1s 564us/step - loss: 0.0069 - categorical_accuracy: 0.9990 - val_loss: 0.0411 - val_categorical_accuracy: 0.9958\n",
            "\n",
            "Epoch 00086: val_categorical_accuracy did not improve from 0.99687\n",
            "Epoch 87/100\n",
            "1940/1940 [==============================] - 1s 561us/step - loss: 0.0041 - categorical_accuracy: 0.9974 - val_loss: 0.0431 - val_categorical_accuracy: 0.9958\n",
            "\n",
            "Epoch 00087: val_categorical_accuracy did not improve from 0.99687\n",
            "Epoch 88/100\n",
            "1940/1940 [==============================] - 1s 562us/step - loss: 0.0089 - categorical_accuracy: 0.9990 - val_loss: 0.0447 - val_categorical_accuracy: 0.9958\n",
            "\n",
            "Epoch 00088: val_categorical_accuracy did not improve from 0.99687\n",
            "Epoch 89/100\n",
            "1940/1940 [==============================] - 1s 573us/step - loss: 0.0075 - categorical_accuracy: 0.9990 - val_loss: 0.0432 - val_categorical_accuracy: 0.9958\n",
            "\n",
            "Epoch 00089: val_categorical_accuracy did not improve from 0.99687\n",
            "Epoch 90/100\n",
            "1940/1940 [==============================] - 1s 563us/step - loss: 0.0078 - categorical_accuracy: 0.9979 - val_loss: 0.0410 - val_categorical_accuracy: 0.9958\n",
            "\n",
            "Epoch 00090: val_categorical_accuracy did not improve from 0.99687\n",
            "Epoch 91/100\n",
            "1940/1940 [==============================] - 1s 559us/step - loss: 0.0048 - categorical_accuracy: 0.9995 - val_loss: 0.0349 - val_categorical_accuracy: 0.9958\n",
            "\n",
            "Epoch 00091: val_categorical_accuracy did not improve from 0.99687\n",
            "Epoch 92/100\n",
            "1940/1940 [==============================] - 1s 568us/step - loss: 0.0072 - categorical_accuracy: 0.9990 - val_loss: 0.0361 - val_categorical_accuracy: 0.9958\n",
            "\n",
            "Epoch 00092: val_categorical_accuracy did not improve from 0.99687\n",
            "Epoch 93/100\n",
            "1940/1940 [==============================] - 1s 562us/step - loss: 0.0077 - categorical_accuracy: 0.9985 - val_loss: 0.0379 - val_categorical_accuracy: 0.9958\n",
            "\n",
            "Epoch 00093: val_categorical_accuracy did not improve from 0.99687\n",
            "Epoch 94/100\n",
            "1940/1940 [==============================] - 1s 569us/step - loss: 0.0024 - categorical_accuracy: 0.9995 - val_loss: 0.0403 - val_categorical_accuracy: 0.9958\n",
            "\n",
            "Epoch 00094: val_categorical_accuracy did not improve from 0.99687\n",
            "Epoch 95/100\n",
            "1940/1940 [==============================] - 1s 571us/step - loss: 9.3304e-04 - categorical_accuracy: 0.9995 - val_loss: 0.0437 - val_categorical_accuracy: 0.9948\n",
            "\n",
            "Epoch 00095: val_categorical_accuracy did not improve from 0.99687\n",
            "Epoch 96/100\n",
            "1940/1940 [==============================] - 1s 565us/step - loss: 0.0124 - categorical_accuracy: 0.9959 - val_loss: 0.0376 - val_categorical_accuracy: 0.9958\n",
            "\n",
            "Epoch 00096: val_categorical_accuracy did not improve from 0.99687\n",
            "Epoch 97/100\n",
            "1940/1940 [==============================] - 1s 570us/step - loss: 0.0090 - categorical_accuracy: 0.9979 - val_loss: 0.0350 - val_categorical_accuracy: 0.9958\n",
            "\n",
            "Epoch 00097: val_categorical_accuracy did not improve from 0.99687\n",
            "Epoch 98/100\n",
            "1940/1940 [==============================] - 1s 577us/step - loss: 0.0091 - categorical_accuracy: 0.9985 - val_loss: 0.0351 - val_categorical_accuracy: 0.9969\n",
            "\n",
            "Epoch 00098: val_categorical_accuracy did not improve from 0.99687\n",
            "Epoch 99/100\n",
            "1940/1940 [==============================] - 1s 568us/step - loss: 0.0115 - categorical_accuracy: 0.9979 - val_loss: 0.0457 - val_categorical_accuracy: 0.9948\n",
            "\n",
            "Epoch 00099: val_categorical_accuracy did not improve from 0.99687\n",
            "Epoch 100/100\n",
            "1940/1940 [==============================] - 1s 567us/step - loss: 0.0098 - categorical_accuracy: 0.9964 - val_loss: 0.0448 - val_categorical_accuracy: 0.9958\n",
            "\n",
            "Epoch 00100: val_categorical_accuracy did not improve from 0.99687\n",
            "Test loss: 0.044756943801709984\n",
            "Test accuracy: 0.9958202716823407\n",
            "dict_keys(['val_loss', 'val_categorical_accuracy', 'loss', 'categorical_accuracy'])\n"
          ],
          "name": "stdout"
        },
        {
          "output_type": "display_data",
          "data": {
            "image/png": "[encoded data removed]",
            "text/plain": [
              "<matplotlib.figure.Figure at 0x7fd159892978>"
            ]
          },
          "metadata": {
            "tags": []
          }
        },
        {
          "output_type": "display_data",
          "data": {
            "image/png": "[encoded data removed]",
            "text/plain": [
              "<matplotlib.figure.Figure at 0x7fd15b9c0b38>"
            ]
          },
          "metadata": {
            "tags": []
          }
        }
      ]
    },
    {
      "metadata": {
        "id": "KqcbsqV4zbP3",
        "colab_type": "text"
      },
      "cell_type": "markdown",
      "source": [
        "\n",
        "\n",
        "\n",
        "```\n",
        "\n",
        "model = models.Sequential()\n",
        "model.add(layers.Dense(1024, activation='relu',\n",
        "                       input_shape=(X_train.shape[1],)))\n",
        "model.add(layers.Dropout(0.3))\n",
        "\n",
        "\n",
        "model.add(layers.Dense(160, activation='relu'))\n",
        "model.add(layers.Dropout(0.3))\n",
        "\n",
        "\n",
        "model.add(layers.Dense(1024, activation='relu'))\n",
        "model.add(layers.Dropout(0.3))\n",
        "\n",
        "model.add(layers.Dense(64, activation='relu'))\n",
        "model.add(layers.Dropout(0.3))\n",
        "\n",
        "\n",
        "model.add(layers.Dense(1024, activation='relu'))\n",
        "model.add(layers.Dropout(0.3))\n",
        "\n",
        "model.add(layers.Dense(100, activation='relu'))\n",
        "model.add(layers.Dropout(0.3))\n",
        "\n",
        "model.add(layers.Dense(y_train.shape[1],activation='softmax'))```\n",
        "\n",
        "\n",
        "\n",
        "Test accuracy: 0.9949977262391997\n"
      ]
    },
    {
      "metadata": {
        "id": "wo_ZPvqiraTF",
        "colab_type": "text"
      },
      "cell_type": "markdown",
      "source": [
        "## tokenの保存"
      ]
    },
    {
      "metadata": {
        "id": "f3m3ACO7quTX",
        "colab_type": "code",
        "colab": {}
      },
      "cell_type": "code",
      "source": [
        "save_text_tokenizer(tag_token,base_dir+\"tag_token\")\n",
        "save_text_tokenizer(iid_token,base_dir+\"iid_token\")\n",
        "save_text_tokenizer(style_token,base_dir+\"style_token\")\n",
        "save_text_tokenizer(href_token,base_dir+\"href_token\")\n",
        "save_text_tokenizer(src_token,base_dir+\"src_token\")\n",
        "save_text_tokenizer(alt_token,base_dir+\"alt_token\")\n",
        "save_text_tokenizer(text_token,base_dir+\"text_token\")"
      ],
      "execution_count": 0,
      "outputs": []
    },
    {
      "metadata": {
        "id": "7jZmfCpOp55w",
        "colab_type": "text"
      },
      "cell_type": "markdown",
      "source": [
        "## Tokenisor を読み込む"
      ]
    },
    {
      "metadata": {
        "id": "wvDYztzIQB4p",
        "colab_type": "code",
        "colab": {}
      },
      "cell_type": "code",
      "source": [
        "tag_token = load_text_tokenizer(base_dir+\"tag_token\")\n",
        "iid_token = load_text_tokenizer(base_dir+\"iid_token\")\n",
        "style_token = load_text_tokenizer(base_dir+\"style_token\")\n",
        "href_token = load_text_tokenizer(base_dir+\"href_token\")\n",
        "src_token = load_text_tokenizer(base_dir+\"src_token\")\n",
        "alt_token = load_text_tokenizer(base_dir+\"alt_token\")\n",
        "text_token = load_text_tokenizer(base_dir+\"text_token\")"
      ],
      "execution_count": 0,
      "outputs": []
    },
    {
      "metadata": {
        "id": "c54ev9lpv7d_",
        "colab_type": "text"
      },
      "cell_type": "markdown",
      "source": [
        "## モデルと重みを保存する"
      ]
    },
    {
      "metadata": {
        "id": "eAWThi4VQmag",
        "colab_type": "text"
      },
      "cell_type": "markdown",
      "source": [
        "###モデルを保存\n"
      ]
    },
    {
      "metadata": {
        "id": "0LMxMza9xnwS",
        "colab_type": "code",
        "colab": {}
      },
      "cell_type": "code",
      "source": [
        "model_json = model.to_json()\n",
        "with open(base_dir + \"model.json\", \"w\") as json_file:\n",
        "    json_file.write(model_json)\n",
        "    \n",
        "with open(base_dir + \"model.h5\",'w') as model_file: \n",
        "  model.save_weights(base_dir+\"model.h5\")"
      ],
      "execution_count": 0,
      "outputs": []
    },
    {
      "metadata": {
        "id": "RFIR9rNMqH1d",
        "colab_type": "text"
      },
      "cell_type": "markdown",
      "source": [
        "###モデルを読み込み"
      ]
    },
    {
      "metadata": {
        "id": "KbaD369ozNA-",
        "colab_type": "code",
        "colab": {
          "base_uri": "https://localhost:8080/",
          "height": 34
        },
        "outputId": "6756d91e-cd36-413d-b843-8a70b39dbbee"
      },
      "cell_type": "code",
      "source": [
        "# load\n",
        "with open(base_dir+'model.json', 'r') as json_file:\n",
        "  loaded_model_json = json_file.read()\n",
        "  loaded_model = model_from_json(loaded_model_json)\n",
        "\n",
        "with open(base_dir+\"model.h5\",'r') as model_file: \n",
        "  loaded_model.load_weights(base_dir+\"model.h5\")\n",
        "  print(\"Loaded model from disk\")\n",
        "\n",
        "# compile\n",
        "loaded_model.compile(loss='binary_crossentropy', optimizer='Adam', metrics=['categorical_accuracy'])\n"
      ],
      "execution_count": 39,
      "outputs": [
        {
          "output_type": "stream",
          "text": [
            "Loaded model from disk\n"
          ],
          "name": "stdout"
        }
      ]
    },
    {
      "metadata": {
        "id": "CWofndFMKU7B",
        "colab_type": "text"
      },
      "cell_type": "markdown",
      "source": [
        "###モデルの復元が正確かを確認"
      ]
    },
    {
      "metadata": {
        "id": "BVOlQsvhCa4m",
        "colab_type": "code",
        "colab": {
          "base_uri": "https://localhost:8080/",
          "height": 51
        },
        "outputId": "1f8af947-47a3-46a7-d308-b4bd1e9bbb1a"
      },
      "cell_type": "code",
      "source": [
        "score = loaded_model.evaluate(X_test, y_test, verbose=0)\n",
        "print('Test loss:', score[0])\n",
        "print('Test accuracy:', score[1])"
      ],
      "execution_count": 40,
      "outputs": [
        {
          "output_type": "stream",
          "text": [
            "Test loss: 0.044756943801709984\n",
            "Test accuracy: 0.9958202716823407\n"
          ],
          "name": "stdout"
        }
      ]
    },
    {
      "metadata": {
        "id": "3vI-u1U_0r_w",
        "colab_type": "text"
      },
      "cell_type": "markdown",
      "source": [
        "## 実際のデータでテスト"
      ]
    },
    {
      "metadata": {
        "id": "kRayunPj0yAG",
        "colab_type": "code",
        "colab": {}
      },
      "cell_type": "code",
      "source": [
        ""
      ],
      "execution_count": 0,
      "outputs": []
    }
  ]
}