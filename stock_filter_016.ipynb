{
  "nbformat": 4,
  "nbformat_minor": 0,
  "metadata": {
    "colab": {
      "name": "stock_filter_016",
      "version": "0.3.2",
      "provenance": [],
      "collapsed_sections": [],
      "include_colab_link": true
    },
    "kernelspec": {
      "name": "python3",
      "display_name": "Python 3"
    },
    "accelerator": "GPU"
  },
  "cells": [
    {
      "cell_type": "markdown",
      "metadata": {
        "id": "view-in-github",
        "colab_type": "text"
      },
      "source": [
        "[View in Colaboratory](https://colab.research.google.com/github/sleepless-se/Abstract/blob/master/stock_filter_016.ipynb)"
      ]
    },
    {
      "metadata": {
        "id": "-7qTwpLv8PlU",
        "colab_type": "text"
      },
      "cell_type": "markdown",
      "source": [
        "##Tokanaizor の作成、保存、取得を分ける\n"
      ]
    },
    {
      "metadata": {
        "id": "1XOCX2tjDxSU",
        "colab_type": "code",
        "colab": {
          "base_uri": "https://localhost:8080/",
          "height": 289
        },
        "outputId": "f1697630-740a-4213-f26c-692d0a5ccf27"
      },
      "cell_type": "code",
      "source": [
        "\n",
        "!apt-get install mecab\n",
        "!apt-get install libmecab-dev\n",
        "!apt-get install mecab-ipadic-utf8\n",
        "!pip install mecab-python3"
      ],
      "execution_count": 25,
      "outputs": [
        {
          "output_type": "stream",
          "text": [
            "Reading package lists... Done\n",
            "Building dependency tree       \n",
            "Reading state information... Done\n",
            "mecab is already the newest version (0.996-3.1).\n",
            "0 upgraded, 0 newly installed, 0 to remove and 0 not upgraded.\n",
            "Reading package lists... Done\n",
            "Building dependency tree       \n",
            "Reading state information... Done\n",
            "libmecab-dev is already the newest version (0.996-3.1).\n",
            "0 upgraded, 0 newly installed, 0 to remove and 0 not upgraded.\n",
            "Reading package lists... Done\n",
            "Building dependency tree       \n",
            "Reading state information... Done\n",
            "mecab-ipadic-utf8 is already the newest version (2.7.0-20070801+main-1).\n",
            "0 upgraded, 0 newly installed, 0 to remove and 0 not upgraded.\n",
            "Requirement already satisfied: mecab-python3 in /usr/local/lib/python3.6/dist-packages (0.7)\n"
          ],
          "name": "stdout"
        }
      ]
    },
    {
      "metadata": {
        "id": "aIS_hwjgEHJM",
        "colab_type": "code",
        "colab": {}
      },
      "cell_type": "code",
      "source": [
        "import sys\n",
        "import MeCab\n",
        "import pickle\n",
        "from keras.datasets import boston_housing\n",
        "from keras.models import Model,model_from_json\n",
        "from keras.utils import to_categorical\n",
        "from keras.preprocessing.text import Tokenizer\n",
        "from sklearn.model_selection import train_test_split\n",
        "import keras\n",
        "from keras.utils import to_categorical\n",
        "from keras.datasets import mnist\n",
        "from keras import models\n",
        "from keras import layers\n",
        "import time\n",
        "import numpy as np\n",
        "from google.colab import files\n",
        "import re\n",
        "from sklearn.model_selection import train_test_split\n",
        "from keras.callbacks import EarlyStopping\n",
        "from keras.metrics import categorical_accuracy\n",
        "import pickle\n",
        "\n",
        "def save_text_tokenizer(tokenizer,file_name):\n",
        "  # saving\n",
        "  with open(file_name+\".pickle\", 'wb') as handle:\n",
        "      pickle.dump(tokenizer, handle, protocol=pickle.HIGHEST_PROTOCOL)\n",
        "\n",
        "def load_text_tokenizer(file_name):\n",
        "  # loading\n",
        "  with open(file_name+\".pickle\", 'rb') as handle:\n",
        "      return pickle.load(handle)\n",
        "    \n",
        "mecab = MeCab.Tagger (\"-Owakati\")"
      ],
      "execution_count": 0,
      "outputs": []
    },
    {
      "metadata": {
        "id": "31y-m09d9h9u",
        "colab_type": "code",
        "colab": {
          "base_uri": "https://localhost:8080/",
          "height": 187
        },
        "outputId": "e438e5f5-efc0-4c7f-8f7d-c1f25ba74269"
      },
      "cell_type": "code",
      "source": [
        "# Load the Drive helper and mount\n",
        "from google.colab import drive\n",
        "\n",
        "# This will prompt for authorization.\n",
        "drive.mount('/content/gdrive')\n",
        "\n",
        "# After executing the cell above, Drive\n",
        "# files will be present in \"/content/drive/My Drive\".\n",
        "base_dir = \"/content/gdrive/My Drive/data/stock_filter/016/\"\n",
        "!ls \"/content/gdrive/My Drive/data/stock_filter/016/\""
      ],
      "execution_count": 71,
      "outputs": [
        {
          "output_type": "stream",
          "text": [
            "Mounted at /content/gdrive\n",
            "all_elements.json   tag_token.pickle\t       tokenizer_pp_tag.pickle\n",
            "alt_token.pickle    text_token.pickle\t       tokenizer_p_style.pickle\n",
            "href_token.pickle   tokenizer_alt.pickle       tokenizer_p_tag.pickle\n",
            "iid_token.pickle    tokenizer_href.pickle      tokenizer_src.pickle\n",
            "label_token.pickle  tokenizer_iid.pickle       tokenizer_style.pickle\n",
            "null_label.csv\t    tokenizer_label.pickle     tokenizer_tag.pickle\n",
            "src_token.pickle    tokenizer_p_iid.pickle     tokenizer_text.pickle\n",
            "stock_label.csv     tokenizer_pp_iid.pickle    token.pickle\n",
            "style_token.pickle  tokenizer_pp_style.pickle  vari_color_label.csv\n"
          ],
          "name": "stdout"
        }
      ]
    },
    {
      "metadata": {
        "id": "9tvSFM8TsdxN",
        "colab_type": "text"
      },
      "cell_type": "markdown",
      "source": [
        "##学習データの読み込み\n"
      ]
    },
    {
      "metadata": {
        "id": "Xc_T19h7omO4",
        "colab_type": "code",
        "colab": {
          "base_uri": "https://localhost:8080/",
          "height": 156
        },
        "outputId": "fe91a58d-55b2-423d-b460-3134561705e1"
      },
      "cell_type": "code",
      "source": [
        "import pandas as pd\n",
        "\n",
        "file_name = 'stock_label.csv'\n",
        "stock_df = pd.read_csv(base_dir+file_name,sep=',',error_bad_lines=False,dtype={\"iid\": str,\"style\": str, \"text\": str})\n",
        "\n",
        "file_name = 'varicolor_label.csv'\n",
        "vari_df = pd.read_csv(base_dir+file_name,sep=',',error_bad_lines=False,dtype={\"iid\": str,\"style\": str, \"text\": str})\n",
        "\n",
        "file_name = 'null_label.csv'\n",
        "null_df = pd.read_csv(base_dir+file_name,sep=',',error_bad_lines=False,dtype={\"iid\": str,\"style\": str, \"text\": str})\n",
        "null_df[\"label\"] = \"skip\"\n",
        "df0 = stock_df.append(vari_df, ignore_index=True)\n",
        "df0 = df0.append(null_df, ignore_index=True)\n",
        "df0.columns\n"
      ],
      "execution_count": 74,
      "outputs": [
        {
          "output_type": "stream",
          "text": [
            "b'Skipping line 166: expected 29 fields, saw 31\\nSkipping line 873: expected 29 fields, saw 98\\nSkipping line 984: expected 29 fields, saw 2539\\nSkipping line 1141: expected 29 fields, saw 43\\nSkipping line 1306: expected 29 fields, saw 37\\nSkipping line 1720: expected 29 fields, saw 2563\\nSkipping line 2169: expected 29 fields, saw 2542\\nSkipping line 2552: expected 29 fields, saw 125\\nSkipping line 2616: expected 29 fields, saw 34\\nSkipping line 3529: expected 29 fields, saw 733\\nSkipping line 4302: expected 29 fields, saw 70\\nSkipping line 4327: expected 29 fields, saw 33\\nSkipping line 4556: expected 29 fields, saw 81\\nSkipping line 4966: expected 29 fields, saw 445\\nSkipping line 5046: expected 29 fields, saw 2572\\nSkipping line 5166: expected 29 fields, saw 2515\\nSkipping line 5274: expected 29 fields, saw 33\\nSkipping line 5827: expected 29 fields, saw 299\\nSkipping line 5849: expected 29 fields, saw 37\\nSkipping line 5873: expected 29 fields, saw 61\\nSkipping line 5989: expected 29 fields, saw 31\\nSkipping line 6686: expected 29 fields, saw 34\\nSkipping line 6804: expected 29 fields, saw 34\\nSkipping line 7286: expected 29 fields, saw 61\\nSkipping line 7419: expected 29 fields, saw 98\\nSkipping line 7588: expected 29 fields, saw 33\\nSkipping line 7715: expected 29 fields, saw 5089\\nSkipping line 8089: expected 29 fields, saw 2569\\nSkipping line 8179: expected 29 fields, saw 64\\nSkipping line 9160: expected 29 fields, saw 37\\nSkipping line 9208: expected 29 fields, saw 98\\nSkipping line 9324: expected 29 fields, saw 35\\nSkipping line 9450: expected 29 fields, saw 33\\nSkipping line 9641: expected 29 fields, saw 34\\nSkipping line 9920: expected 29 fields, saw 74\\nSkipping line 9950: expected 29 fields, saw 2632\\nSkipping line 10284: expected 29 fields, saw 33\\nSkipping line 10813: expected 29 fields, saw 325\\nSkipping line 11467: expected 29 fields, saw 31\\nSkipping line 11701: expected 29 fields, saw 307\\nSkipping line 12439: expected 29 fields, saw 5066\\nSkipping line 12596: expected 29 fields, saw 34\\nSkipping line 12965: expected 29 fields, saw 39\\nSkipping line 13643: expected 29 fields, saw 34\\nSkipping line 14018: expected 29 fields, saw 98\\nSkipping line 14066: expected 29 fields, saw 2563\\nSkipping line 14176: expected 29 fields, saw 93\\nSkipping line 14330: expected 29 fields, saw 98\\nSkipping line 14838: expected 29 fields, saw 32\\nSkipping line 15449: expected 29 fields, saw 653\\nSkipping line 16543: expected 29 fields, saw 108\\nSkipping line 17088: expected 29 fields, saw 106\\nSkipping line 17136: expected 29 fields, saw 167\\nSkipping line 17265: expected 29 fields, saw 2541\\nSkipping line 18578: expected 29 fields, saw 69\\nSkipping line 18721: expected 29 fields, saw 104\\nSkipping line 18820: expected 29 fields, saw 2450\\nSkipping line 18821: expected 29 fields, saw 57\\nSkipping line 19165: expected 29 fields, saw 37\\nSkipping line 19679: expected 29 fields, saw 2524\\nSkipping line 20438: expected 29 fields, saw 705\\nSkipping line 20592: expected 29 fields, saw 34\\nSkipping line 20701: expected 29 fields, saw 33\\nSkipping line 20880: expected 29 fields, saw 38\\nSkipping line 22259: expected 29 fields, saw 39\\nSkipping line 22582: expected 29 fields, saw 2555\\nSkipping line 22650: expected 29 fields, saw 831\\nSkipping line 22667: expected 29 fields, saw 46\\nSkipping line 22769: expected 29 fields, saw 2621\\nSkipping line 22948: expected 29 fields, saw 34\\nSkipping line 23071: expected 29 fields, saw 2546\\nSkipping line 23230: expected 29 fields, saw 34\\nSkipping line 23287: expected 29 fields, saw 33\\nSkipping line 23343: expected 29 fields, saw 80\\nSkipping line 23526: expected 29 fields, saw 184\\nSkipping line 24207: expected 29 fields, saw 2549\\nSkipping line 24650: expected 29 fields, saw 31\\nSkipping line 25150: expected 29 fields, saw 2550\\nSkipping line 25429: expected 29 fields, saw 104\\nSkipping line 25669: expected 29 fields, saw 58\\nSkipping line 26104: expected 29 fields, saw 33\\nSkipping line 26209: expected 29 fields, saw 86\\nSkipping line 26240: expected 29 fields, saw 452\\nSkipping line 27236: expected 29 fields, saw 32\\nSkipping line 27413: expected 29 fields, saw 81\\nSkipping line 27928: expected 29 fields, saw 86\\nSkipping line 28294: expected 29 fields, saw 2578\\nSkipping line 28455: expected 29 fields, saw 653\\nSkipping line 28859: expected 29 fields, saw 77\\nSkipping line 28942: expected 29 fields, saw 34\\nSkipping line 29004: expected 29 fields, saw 2578\\nSkipping line 29276: expected 29 fields, saw 34\\nSkipping line 29441: expected 29 fields, saw 34\\nSkipping line 29481: expected 29 fields, saw 131\\nSkipping line 29530: expected 29 fields, saw 184\\nSkipping line 29995: expected 29 fields, saw 98\\nSkipping line 30290: expected 29 fields, saw 34\\nSkipping line 30375: expected 29 fields, saw 535\\nSkipping line 31396: expected 29 fields, saw 33\\nSkipping line 31473: expected 29 fields, saw 1376\\nSkipping line 31706: expected 29 fields, saw 104\\nSkipping line 31941: expected 29 fields, saw 2520\\nSkipping line 32107: expected 29 fields, saw 70\\nSkipping line 32193: expected 29 fields, saw 777\\nSkipping line 32595: expected 29 fields, saw 73\\nSkipping line 32696: expected 29 fields, saw 37\\nSkipping line 32873: expected 29 fields, saw 349\\n'\n",
            "b'Skipping line 32883: expected 29 fields, saw 34\\nSkipping line 33754: expected 29 fields, saw 2616\\nSkipping line 33855: expected 29 fields, saw 69\\nSkipping line 33930: expected 29 fields, saw 125\\nSkipping line 34259: expected 29 fields, saw 2598\\nSkipping line 35117: expected 29 fields, saw 34\\nSkipping line 35341: expected 29 fields, saw 2586\\nSkipping line 35362: expected 29 fields, saw 38\\nSkipping line 35483: expected 29 fields, saw 258\\nSkipping line 35534: expected 29 fields, saw 626\\nSkipping line 35798: expected 29 fields, saw 34\\nSkipping line 35825: expected 29 fields, saw 2555\\nSkipping line 36016: expected 29 fields, saw 38\\nSkipping line 36193: expected 29 fields, saw 33\\nSkipping line 36274: expected 29 fields, saw 69\\nSkipping line 36653: expected 29 fields, saw 307\\nSkipping line 36817: expected 29 fields, saw 37\\nSkipping line 37186: expected 29 fields, saw 57\\nSkipping line 37797: expected 29 fields, saw 581\\nSkipping line 38097: expected 29 fields, saw 37\\nSkipping line 38222: expected 29 fields, saw 37\\nSkipping line 38951: expected 29 fields, saw 102\\nSkipping line 39481: expected 29 fields, saw 37\\nSkipping line 39574: expected 29 fields, saw 37\\nSkipping line 39659: expected 29 fields, saw 2558\\nSkipping line 39841: expected 29 fields, saw 762\\nSkipping line 40238: expected 29 fields, saw 37\\nSkipping line 42103: expected 29 fields, saw 2566\\nSkipping line 42452: expected 29 fields, saw 74\\nSkipping line 42624: expected 29 fields, saw 34\\nSkipping line 42769: expected 29 fields, saw 168\\nSkipping line 42910: expected 29 fields, saw 30\\nSkipping line 42938: expected 29 fields, saw 37\\nSkipping line 43449: expected 29 fields, saw 2519\\nSkipping line 44056: expected 29 fields, saw 98\\nSkipping line 44857: expected 29 fields, saw 34\\nSkipping line 44942: expected 29 fields, saw 57\\nSkipping line 45527: expected 29 fields, saw 1013\\nSkipping line 45568: expected 29 fields, saw 123\\nSkipping line 46159: expected 29 fields, saw 2572\\nSkipping line 46243: expected 29 fields, saw 2566\\nSkipping line 46356: expected 29 fields, saw 106\\nSkipping line 46410: expected 29 fields, saw 5019\\nSkipping line 46659: expected 29 fields, saw 314\\nSkipping line 47254: expected 29 fields, saw 33\\nSkipping line 47506: expected 29 fields, saw 98\\nSkipping line 47637: expected 29 fields, saw 93\\nSkipping line 47871: expected 29 fields, saw 2603\\nSkipping line 49172: expected 29 fields, saw 33\\nSkipping line 49298: expected 29 fields, saw 2548\\nSkipping line 49382: expected 29 fields, saw 98\\nSkipping line 49765: expected 29 fields, saw 33\\n'\n"
          ],
          "name": "stderr"
        },
        {
          "output_type": "execute_result",
          "data": {
            "text/plain": [
              "Index(['alt', 'disable', 'height', 'href', 'id', 'iid', 'label', 'p_height',\n",
              "       'p_iid', 'p_style', 'p_tag', 'p_width', 'p_x', 'p_y', 'page_id',\n",
              "       'pp_height', 'pp_iid', 'pp_style', 'pp_tag', 'pp_width', 'pp_x', 'pp_y',\n",
              "       'src', 'style', 'tag', 'text', 'width', 'x', 'y'],\n",
              "      dtype='object')"
            ]
          },
          "metadata": {
            "tags": []
          },
          "execution_count": 74
        }
      ]
    },
    {
      "metadata": {
        "id": "dHGqZOooqWTj",
        "colab_type": "text"
      },
      "cell_type": "markdown",
      "source": [
        "## 分かち書きをしたりするテキストの前処理"
      ]
    },
    {
      "metadata": {
        "id": "Uyt9XQtsSndr",
        "colab_type": "code",
        "colab": {}
      },
      "cell_type": "code",
      "source": [
        "\n",
        "def to_df(token,se):\n",
        "  matrix = token.texts_to_matrix(se,mode='count')\n",
        "  temp_df = pd.DataFrame(matrix)\n",
        "  return temp_df\n",
        "\n",
        "def add_space_front_uppercase(text:str)->str:\n",
        "  return ''.join(' ' + char if char.isupper() else char.strip() for char in text).strip()\n",
        "\n",
        "def add_space_color_size(text:str)->str:\n",
        "  return text.replace(\"color\",\" color \").replace(\"size\",\" size \")\n",
        "\n",
        "\n",
        "def tag_filter(tag:str)->str:\n",
        "  tags = [\"option\",\"li\",\"div\",\"span\"]\n",
        "  tag = tag if tag in tags else \"0\"\n",
        "  return tag\n",
        "\n",
        "def wakati(text)->str:\n",
        "  text = str(text)\n",
        "  if len(text)>3:\n",
        "    text = mecab.parse(text)\n",
        "  return replace_numbers_to_0(text)\n",
        "\n",
        "def replace_numbers_to_0(text:str)->str:\n",
        "  return re.sub(r'[0-9]+', \"0\",str(text))\n",
        "\n",
        "def pre_text(df):\n",
        "  wakachi_fileds = ['alt', 'href', 'iid','p_iid', 'p_style', 'p_tag', 'pp_iid', 'pp_style', 'pp_tag','src', 'style', 'tag', 'text']\n",
        "  df[wakachi_fileds] = df[wakachi_fileds].applymap(lambda x : wakati(x)).fillna(\"\")\n",
        "\n",
        "  add_space_fileds = [\"iid\",\"style\",\"p_iid\",\"p_style\",\"pp_iid\",\"pp_style\"]\n",
        "  df[add_space_fileds] = df[add_space_fileds].applymap(lambda x : add_space_front_uppercase(x))\n",
        "  df[add_space_fileds] = df[add_space_fileds].applymap(lambda x : add_space_color_size(x))\n",
        "  return df                \n"
      ],
      "execution_count": 0,
      "outputs": []
    },
    {
      "metadata": {
        "id": "S3c8ffaYr7ub",
        "colab_type": "text"
      },
      "cell_type": "markdown",
      "source": [
        "## 学習データ全体の前処理"
      ]
    },
    {
      "metadata": {
        "id": "eHXfd2SgDIJi",
        "colab_type": "code",
        "colab": {}
      },
      "cell_type": "code",
      "source": [
        "\n",
        "def prepare_data(data):\n",
        "  df = pd.DataFrame(data)\n",
        "  df = pre_text(df)\n",
        "\n",
        "  fields = ['height', 'width', 'x', 'y',  'p_x', 'p_y', 'p_width','p_height','pp_height', 'pp_width', 'pp_x', 'pp_y']\n",
        "  X = df[fields]\n",
        "\n",
        "  X = pd.concat([X, to_df(tag_token,df[\"tag\"])], axis=1)\n",
        "  X = pd.concat([X, to_df(tag_token,df[\"p_tag\"])], axis=1)\n",
        "  X = pd.concat([X, to_df(tag_token,df[\"pp_tag\"])], axis=1)\n",
        "  X = pd.concat([X, to_df(style_token,df[\"style\"])], axis=1)\n",
        "  X = pd.concat([X, to_df(style_token,df[\"p_style\"])], axis=1)\n",
        "  X = pd.concat([X, to_df(style_token,df[\"pp_style\"])], axis=1)\n",
        "  X = pd.concat([X, to_df(iid_token,df[\"iid\"])], axis=1)\n",
        "  X = pd.concat([X, to_df(iid_token,df[\"p_iid\"])], axis=1)\n",
        "  X = pd.concat([X, to_df(iid_token,df[\"pp_iid\"])], axis=1)\n",
        "  X = pd.concat([X, to_df(alt_token,df[\"alt\"])], axis=1)\n",
        "  X = pd.concat([X, to_df(src_token,df[\"src\"])], axis=1)\n",
        "  X = pd.concat([X, to_df(href_token,df[\"href\"])], axis=1)\n",
        "  X = pd.concat([X, to_df(text_token,df[\"text\"])], axis=1)\n",
        "  X = X.fillna(0)\n",
        "  return X"
      ],
      "execution_count": 0,
      "outputs": []
    },
    {
      "metadata": {
        "id": "X4d6XPR75_bT",
        "colab_type": "text"
      },
      "cell_type": "markdown",
      "source": [
        "## tokenの作成"
      ]
    },
    {
      "metadata": {
        "id": "erxChBQj302A",
        "colab_type": "code",
        "colab": {}
      },
      "cell_type": "code",
      "source": [
        "temp_df = df[\"tag\"].append(df[\"p_tag\"]).append(df[\"pp_tag\"])\n",
        "tag_token = Tokenizer(lower=True)\n",
        "tag_token.fit_on_texts(temp_df)\n",
        "\n",
        "temp_df = df[\"iid\"].append(df[\"p_iid\"]).append(df[\"pp_iid\"])\n",
        "iid_token = Tokenizer(100,lower=True)\n",
        "iid_token.fit_on_texts(temp_df)\n",
        "\n",
        "temp_df = df[\"style\"].append(df[\"p_style\"]).append(df[\"pp_style\"])\n",
        "style_token = Tokenizer(100,lower=True)\n",
        "style_token.fit_on_texts(temp_df)\n",
        "\n",
        "alt_token = Tokenizer(100,lower=True)\n",
        "alt_token.fit_on_texts(df[\"alt\"])\n",
        "src_token = Tokenizer(100,lower=True)\n",
        "src_token.fit_on_texts(df[\"src\"])\n",
        "href_token = Tokenizer(100,lower=True)\n",
        "href_token.fit_on_texts(df[\"href\"])\n",
        "text_token = Tokenizer(300,lower=True)\n",
        "text_token.fit_on_texts(df[\"text\"])\n"
      ],
      "execution_count": 0,
      "outputs": []
    },
    {
      "metadata": {
        "id": "mKmpnu8L8Q32",
        "colab_type": "text"
      },
      "cell_type": "markdown",
      "source": [
        "##学習データを作成"
      ]
    },
    {
      "metadata": {
        "id": "ugzkP54t8lr5",
        "colab_type": "code",
        "colab": {
          "base_uri": "https://localhost:8080/",
          "height": 34
        },
        "outputId": "67ef97f0-6a1e-46c9-9dad-de3e5a20ce24"
      },
      "cell_type": "code",
      "source": [
        "         \n",
        "df = pre_text(df0)\n",
        "X = prepare_data(df)\n",
        "print(X.shape)\n"
      ],
      "execution_count": 126,
      "outputs": [
        {
          "output_type": "stream",
          "text": [
            "(66634, 1350)\n"
          ],
          "name": "stdout"
        }
      ]
    },
    {
      "metadata": {
        "id": "G7TNtGUqsJy6",
        "colab_type": "text"
      },
      "cell_type": "markdown",
      "source": [
        "## ラベルを作成"
      ]
    },
    {
      "metadata": {
        "id": "jpH6sOY-zc7t",
        "colab_type": "code",
        "colab": {
          "base_uri": "https://localhost:8080/",
          "height": 34
        },
        "outputId": "7cdf6234-9b6a-4e7b-a186-4d5b2d6e81e1"
      },
      "cell_type": "code",
      "source": [
        "label_token = Tokenizer()\n",
        "label_token.fit_on_texts(df[\"label\"])\n",
        "save_text_tokenizer(label_token,base_dir+\"label_token\")\n",
        "y = label_token.texts_to_matrix(df[\"label\"])\n",
        "print(y.shape)"
      ],
      "execution_count": 128,
      "outputs": [
        {
          "output_type": "stream",
          "text": [
            "(66634, 7)\n"
          ],
          "name": "stdout"
        }
      ]
    },
    {
      "metadata": {
        "id": "93-RXzxesw40",
        "colab_type": "text"
      },
      "cell_type": "markdown",
      "source": [
        "## ラベルの変換用ディクショナリの作成"
      ]
    },
    {
      "metadata": {
        "id": "NBK6zPdziu6a",
        "colab_type": "code",
        "colab": {
          "base_uri": "https://localhost:8080/",
          "height": 34
        },
        "outputId": "5ec14e36-1ccb-40e1-e95a-f0f2c531023c"
      },
      "cell_type": "code",
      "source": [
        "label_dic= {v: k for k, v in label_token.word_index.items()}\n",
        "print(label_dic)"
      ],
      "execution_count": 129,
      "outputs": [
        {
          "output_type": "stream",
          "text": [
            "{1: 'skip', 2: 'stock', 3: 'vari', 4: 'outofstock', 5: 'color', 6: 'varicolor'}\n"
          ],
          "name": "stdout"
        }
      ]
    },
    {
      "metadata": {
        "id": "kabh_T6dtFV8",
        "colab_type": "text"
      },
      "cell_type": "markdown",
      "source": [
        "## 学習データをシャッフル"
      ]
    },
    {
      "metadata": {
        "id": "9CzGifwVqJmQ",
        "colab_type": "code",
        "colab": {}
      },
      "cell_type": "code",
      "source": [
        "seed = 7\n",
        "np.random.seed(seed)\n",
        "X_train, X_test, y_train, y_test  = train_test_split(X, y, test_size=0.33, random_state=seed)"
      ],
      "execution_count": 0,
      "outputs": []
    },
    {
      "metadata": {
        "id": "FN-x547ntJVS",
        "colab_type": "text"
      },
      "cell_type": "markdown",
      "source": [
        "## 学習データをシャッフルしない"
      ]
    },
    {
      "metadata": {
        "id": "vbXtvEucx65E",
        "colab_type": "code",
        "colab": {}
      },
      "cell_type": "code",
      "source": [
        "def non_shuffling_train_test_split(X, y, test_size=0.33):\n",
        "    i = int((1 - test_size) * X.shape[0]) + 1\n",
        "    X_train, X_test = np.split(X, [i])\n",
        "    y_train, y_test = np.split(y, [i])\n",
        "    return X_train, X_test, y_train, y_test\n",
        "X_train, X_test, y_train, y_test  = non_shuffling_train_test_split(X, y, test_size=0.33)"
      ],
      "execution_count": 0,
      "outputs": []
    },
    {
      "metadata": {
        "id": "EGLTH5gYtRes",
        "colab_type": "text"
      },
      "cell_type": "markdown",
      "source": [
        "## 学習開始"
      ]
    },
    {
      "metadata": {
        "id": "s-_DaxTjGVmy",
        "colab_type": "code",
        "colab": {
          "base_uri": "https://localhost:8080/",
          "height": 1503
        },
        "outputId": "3da3cb77-04de-40d5-be80-69e2f78072f4"
      },
      "cell_type": "code",
      "source": [
        "EPOCHS = 20\n",
        "BATCH_SIZE = 275\n",
        "\n",
        "early_stopping = EarlyStopping(monitor='val_loss', patience=3)\n",
        "\n",
        "\n",
        "model = models.Sequential()\n",
        "model.add(layers.Dense(1024, activation='relu',\n",
        "                       input_shape=(X_train.shape[1],)))\n",
        "model.add(layers.Dropout(0.3))\n",
        "\n",
        "model.add(layers.Dense(160, activation='relu'))\n",
        "model.add(layers.Dropout(0.3))\n",
        "\n",
        "\n",
        "model.add(layers.Dense(1024, activation='relu'))\n",
        "model.add(layers.Dropout(0.3))\n",
        "\n",
        "model.add(layers.Dense(64, activation='relu'))\n",
        "model.add(layers.Dropout(0.3))\n",
        "\n",
        "\n",
        "model.add(layers.Dense(1024, activation='relu'))\n",
        "model.add(layers.Dropout(0.3))\n",
        "\n",
        "model.add(layers.Dense(100, activation='relu'))\n",
        "model.add(layers.Dropout(0.3))\n",
        "\n",
        "model.add(layers.Dense(y_train.shape[1],activation='softmax'))\n",
        "\n",
        "model.compile(loss='binary_crossentropy', optimizer='Adam', metrics=['categorical_accuracy'])\n",
        "history = model.fit(X_train, y_train,verbose=1, validation_data=(X_test,y_test), epochs=EPOCHS, batch_size=BATCH_SIZE,callbacks=[early_stopping])\n",
        "score = model.evaluate(X_test, y_test, verbose=0)\n",
        "print('Test loss:', score[0])\n",
        "print('Test accuracy:', score[1])\n",
        "\n",
        "\n",
        "import matplotlib.pyplot as plt\n",
        "\n",
        "print(history.history.keys())\n",
        "# summarize history for loss\n",
        "plt.plot(history.history['val_loss'])\n",
        "plt.plot(history.history['loss'])\n",
        "plt.title('model loss')\n",
        "plt.ylabel('loss')\n",
        "plt.xlabel('epoch')\n",
        "plt.legend(['val_loss', 'loss'], loc='upper left')\n",
        "plt.show()\n",
        "\n",
        "plt.plot(history.history['val_categorical_accuracy'])\n",
        "plt.plot(history.history['categorical_accuracy'])\n",
        "plt.title('model accuracy')\n",
        "plt.ylabel('accuracy')\n",
        "plt.xlabel('epoch')\n",
        "plt.legend(['val_acc', 'acc'], loc='upper left')\n",
        "plt.show()"
      ],
      "execution_count": 131,
      "outputs": [
        {
          "output_type": "stream",
          "text": [
            "Train on 44644 samples, validate on 21990 samples\n",
            "Epoch 1/20\n",
            "44644/44644 [==============================] - 6s 140us/step - loss: 0.1332 - categorical_accuracy: 0.8653 - val_loss: 0.0560 - val_categorical_accuracy: 0.9101\n",
            "Epoch 2/20\n",
            "44644/44644 [==============================] - 6s 124us/step - loss: 0.0556 - categorical_accuracy: 0.9196 - val_loss: 0.0434 - val_categorical_accuracy: 0.9276\n",
            "Epoch 3/20\n",
            "44644/44644 [==============================] - 6s 124us/step - loss: 0.0458 - categorical_accuracy: 0.9297 - val_loss: 0.0333 - val_categorical_accuracy: 0.9381\n",
            "Epoch 4/20\n",
            "44644/44644 [==============================] - 6s 124us/step - loss: 0.0387 - categorical_accuracy: 0.9382 - val_loss: 0.0342 - val_categorical_accuracy: 0.9535\n",
            "Epoch 5/20\n",
            "44644/44644 [==============================] - 6s 124us/step - loss: 0.0349 - categorical_accuracy: 0.9455 - val_loss: 0.0265 - val_categorical_accuracy: 0.9621\n",
            "Epoch 6/20\n",
            "44644/44644 [==============================] - 5s 123us/step - loss: 0.0315 - categorical_accuracy: 0.9526 - val_loss: 0.0192 - val_categorical_accuracy: 0.9668\n",
            "Epoch 7/20\n",
            "44644/44644 [==============================] - 6s 124us/step - loss: 0.0292 - categorical_accuracy: 0.9574 - val_loss: 0.0214 - val_categorical_accuracy: 0.9642\n",
            "Epoch 8/20\n",
            "44644/44644 [==============================] - 6s 123us/step - loss: 0.0253 - categorical_accuracy: 0.9640 - val_loss: 0.0186 - val_categorical_accuracy: 0.9771\n",
            "Epoch 9/20\n",
            "44644/44644 [==============================] - 6s 125us/step - loss: 0.0214 - categorical_accuracy: 0.9722 - val_loss: 0.0140 - val_categorical_accuracy: 0.9802\n",
            "Epoch 10/20\n",
            "44644/44644 [==============================] - 6s 124us/step - loss: 0.0199 - categorical_accuracy: 0.9762 - val_loss: 0.0098 - val_categorical_accuracy: 0.9898\n",
            "Epoch 11/20\n",
            "44644/44644 [==============================] - 6s 125us/step - loss: 0.0184 - categorical_accuracy: 0.9781 - val_loss: 0.0094 - val_categorical_accuracy: 0.9911\n",
            "Epoch 12/20\n",
            "44644/44644 [==============================] - 6s 127us/step - loss: 0.0160 - categorical_accuracy: 0.9821 - val_loss: 0.0098 - val_categorical_accuracy: 0.9884\n",
            "Epoch 13/20\n",
            "44644/44644 [==============================] - 6s 125us/step - loss: 0.0156 - categorical_accuracy: 0.9827 - val_loss: 0.0090 - val_categorical_accuracy: 0.9907\n",
            "Epoch 14/20\n",
            "44644/44644 [==============================] - 6s 125us/step - loss: 0.0151 - categorical_accuracy: 0.9830 - val_loss: 0.0072 - val_categorical_accuracy: 0.9895\n",
            "Epoch 15/20\n",
            "44644/44644 [==============================] - 6s 124us/step - loss: 0.0137 - categorical_accuracy: 0.9851 - val_loss: 0.0131 - val_categorical_accuracy: 0.9915\n",
            "Epoch 16/20\n",
            "44644/44644 [==============================] - 6s 123us/step - loss: 0.0137 - categorical_accuracy: 0.9849 - val_loss: 0.0069 - val_categorical_accuracy: 0.9914\n",
            "Epoch 17/20\n",
            "44644/44644 [==============================] - 6s 124us/step - loss: 0.0137 - categorical_accuracy: 0.9847 - val_loss: 0.0096 - val_categorical_accuracy: 0.9875\n",
            "Epoch 18/20\n",
            "44644/44644 [==============================] - 5s 123us/step - loss: 0.0129 - categorical_accuracy: 0.9849 - val_loss: 0.0066 - val_categorical_accuracy: 0.9915\n",
            "Epoch 19/20\n",
            "44644/44644 [==============================] - 6s 125us/step - loss: 0.0121 - categorical_accuracy: 0.9865 - val_loss: 0.0085 - val_categorical_accuracy: 0.9894\n",
            "Epoch 20/20\n",
            "44644/44644 [==============================] - 6s 125us/step - loss: 0.0129 - categorical_accuracy: 0.9856 - val_loss: 0.0133 - val_categorical_accuracy: 0.9910\n",
            "Test loss: 0.013336440061516349\n",
            "Test accuracy: 0.9910413824465666\n",
            "dict_keys(['val_loss', 'val_categorical_accuracy', 'loss', 'categorical_accuracy'])\n"
          ],
          "name": "stdout"
        },
        {
          "output_type": "display_data",
          "data": {
            "image/png": "[encoded data removed]",
            "text/plain": [
              "<matplotlib.figure.Figure at 0x7ff51eb1a5c0>"
            ]
          },
          "metadata": {
            "tags": []
          }
        },
        {
          "output_type": "display_data",
          "data": {
            "image/png": "[encoded data removed]",
            "text/plain": [
              "<matplotlib.figure.Figure at 0x7ff51e7e7278>"
            ]
          },
          "metadata": {
            "tags": []
          }
        }
      ]
    },
    {
      "metadata": {
        "id": "KqcbsqV4zbP3",
        "colab_type": "text"
      },
      "cell_type": "markdown",
      "source": [
        "\n",
        "\n",
        "\n",
        "```\n",
        "\n",
        "model = models.Sequential()\n",
        "model.add(layers.Dense(1024, activation='relu',\n",
        "                       input_shape=(X_train.shape[1],)))\n",
        "model.add(layers.Dropout(0.3))\n",
        "\n",
        "\n",
        "model.add(layers.Dense(160, activation='relu'))\n",
        "model.add(layers.Dropout(0.3))\n",
        "\n",
        "\n",
        "model.add(layers.Dense(1024, activation='relu'))\n",
        "model.add(layers.Dropout(0.3))\n",
        "\n",
        "model.add(layers.Dense(64, activation='relu'))\n",
        "model.add(layers.Dropout(0.3))\n",
        "\n",
        "\n",
        "model.add(layers.Dense(1024, activation='relu'))\n",
        "model.add(layers.Dropout(0.3))\n",
        "\n",
        "model.add(layers.Dense(100, activation='relu'))\n",
        "model.add(layers.Dropout(0.3))\n",
        "\n",
        "model.add(layers.Dense(y_train.shape[1],activation='softmax'))```\n",
        "\n",
        "\n",
        "\n",
        "Test accuracy: 0.9949977262391997\n"
      ]
    },
    {
      "metadata": {
        "id": "wo_ZPvqiraTF",
        "colab_type": "text"
      },
      "cell_type": "markdown",
      "source": [
        "## tokenの保存"
      ]
    },
    {
      "metadata": {
        "id": "f3m3ACO7quTX",
        "colab_type": "code",
        "colab": {}
      },
      "cell_type": "code",
      "source": [
        "save_text_tokenizer(tag_token,base_dir+\"tag_token\")\n",
        "save_text_tokenizer(iid_token,base_dir+\"iid_token\")\n",
        "save_text_tokenizer(style_token,base_dir+\"style_token\")\n",
        "save_text_tokenizer(href_token,base_dir+\"href_token\")\n",
        "save_text_tokenizer(src_token,base_dir+\"src_token\")\n",
        "save_text_tokenizer(alt_token,base_dir+\"alt_token\")\n",
        "save_text_tokenizer(text_token,base_dir+\"text_token\")"
      ],
      "execution_count": 0,
      "outputs": []
    },
    {
      "metadata": {
        "id": "7jZmfCpOp55w",
        "colab_type": "text"
      },
      "cell_type": "markdown",
      "source": [
        "## Tokenisor を読み込む"
      ]
    },
    {
      "metadata": {
        "id": "wvDYztzIQB4p",
        "colab_type": "code",
        "colab": {}
      },
      "cell_type": "code",
      "source": [
        "tag_token = load_text_tokenizer(base_dir+\"tag_token\")\n",
        "tag_token = load_text_tokenizer(base_dir+\"tag_token\")\n",
        "tag_token = load_text_tokenizer(base_dir+\"tag_token\")\n",
        "tag_token = load_text_tokenizer(base_dir+\"tag_token\")\n",
        "tag_token = load_text_tokenizer(base_dir+\"tag_token\")\n",
        "tag_token = load_text_tokenizer(base_dir+\"tag_token\")\n",
        "tag_token = load_text_tokenizer(base_dir+\"tag_token\")\n",
        "tag_token = load_text_tokenizer(base_dir+\"tag_token\")\n",
        "\n"
      ],
      "execution_count": 0,
      "outputs": []
    },
    {
      "metadata": {
        "id": "c54ev9lpv7d_",
        "colab_type": "text"
      },
      "cell_type": "markdown",
      "source": [
        "## モデルと重みを保存する"
      ]
    },
    {
      "metadata": {
        "id": "e8_YSWdnPSyF",
        "colab_type": "code",
        "colab": {
          "base_uri": "https://localhost:8080/",
          "height": 34
        },
        "outputId": "edafced9-0e5d-4070-b7cb-10260c50d496"
      },
      "cell_type": "code",
      "source": [
        "\n",
        "# serialize model to JSON\n",
        "model_json = model.to_json()\n",
        "with open(\"model_015.json\", \"w\") as json_file:\n",
        "    json_file.write(model_json)\n",
        "# serialize weights to HDF5\n",
        "model.save_weights(\"model_015.h5\")\n",
        "print(\"Saved model to disk\")"
      ],
      "execution_count": 0,
      "outputs": [
        {
          "output_type": "stream",
          "text": [
            "Saved model to disk\n"
          ],
          "name": "stdout"
        }
      ]
    },
    {
      "metadata": {
        "id": "d75l7WXrv_GD",
        "colab_type": "text"
      },
      "cell_type": "markdown",
      "source": [
        "## モデルと重みを読み込む"
      ]
    },
    {
      "metadata": {
        "id": "7AgVOvRVLI4c",
        "colab_type": "text"
      },
      "cell_type": "markdown",
      "source": [
        "###テストデータの予測結果を一つずつ確認。"
      ]
    },
    {
      "metadata": {
        "id": "nZANp5g9qGGJ",
        "colab_type": "text"
      },
      "cell_type": "markdown",
      "source": [
        "##作成したモデルを保存する\n",
        "\n"
      ]
    },
    {
      "metadata": {
        "id": "eAWThi4VQmag",
        "colab_type": "text"
      },
      "cell_type": "markdown",
      "source": [
        "###モデルを保存\n"
      ]
    },
    {
      "metadata": {
        "id": "0LMxMza9xnwS",
        "colab_type": "code",
        "colab": {}
      },
      "cell_type": "code",
      "source": [
        "\n",
        "# serialize model to JSON\n",
        "model_json = model.to_json()\n",
        "with open(base_dir + \"model.json\", \"w\") as json_file:\n",
        "    json_file.write(model_json)\n",
        "    \n",
        "with open(base_dir + \"model.h5\",'w') as model_file: \n",
        "  model.save_weights(base_dir+\"model.h5\")"
      ],
      "execution_count": 0,
      "outputs": []
    },
    {
      "metadata": {
        "id": "RFIR9rNMqH1d",
        "colab_type": "text"
      },
      "cell_type": "markdown",
      "source": [
        "###モデルを読み込み"
      ]
    },
    {
      "metadata": {
        "id": "KbaD369ozNA-",
        "colab_type": "code",
        "colab": {
          "base_uri": "https://localhost:8080/",
          "height": 34
        },
        "outputId": "66b7bad3-20d0-4167-d193-f905a578ed2b"
      },
      "cell_type": "code",
      "source": [
        "with open(base_dir+'model.json', 'r') as json_file:\n",
        "  loaded_model_json = json_file.read()\n",
        "  loaded_model = model_from_json(loaded_model_json)\n",
        "\n",
        "with open(base_dir+\"model.h5\",'r') as model_file: \n",
        "  loaded_model.load_weights(base_dir+\"model.h5\")\n",
        "  print(\"Loaded model from disk\")"
      ],
      "execution_count": 136,
      "outputs": [
        {
          "output_type": "stream",
          "text": [
            "Loaded model from disk\n"
          ],
          "name": "stdout"
        }
      ]
    },
    {
      "metadata": {
        "id": "CWofndFMKU7B",
        "colab_type": "text"
      },
      "cell_type": "markdown",
      "source": [
        "###モデルの復元が正確かを確認"
      ]
    },
    {
      "metadata": {
        "id": "BVOlQsvhCa4m",
        "colab_type": "code",
        "colab": {
          "base_uri": "https://localhost:8080/",
          "height": 51
        },
        "outputId": "b1e0dcd1-fb69-432f-e49f-67a90b7398a3"
      },
      "cell_type": "code",
      "source": [
        "loaded_model.compile(loss='binary_crossentropy', optimizer='Adam', metrics=['categorical_accuracy'])\n",
        "score = loaded_model.evaluate(X_test, y_test, verbose=0)\n",
        "print('Test loss:', score[0])\n",
        "print('Test accuracy:', score[1])"
      ],
      "execution_count": 138,
      "outputs": [
        {
          "output_type": "stream",
          "text": [
            "Test loss: 0.013336440061516349\n",
            "Test accuracy: 0.9910413824465666\n"
          ],
          "name": "stdout"
        }
      ]
    },
    {
      "metadata": {
        "id": "gBWIDKMtqJl0",
        "colab_type": "text"
      },
      "cell_type": "markdown",
      "source": [
        "###モデルを使って検証"
      ]
    },
    {
      "metadata": {
        "id": "Tq9Hq-ViQXWP",
        "colab_type": "text"
      },
      "cell_type": "markdown",
      "source": [
        "###モデルと重みをダウンロード"
      ]
    },
    {
      "metadata": {
        "id": "zsUo0t7hsChE",
        "colab_type": "code",
        "colab": {}
      },
      "cell_type": "code",
      "source": [
        "files.download(\"model.json\")\n"
      ],
      "execution_count": 0,
      "outputs": []
    },
    {
      "metadata": {
        "id": "eJotuvOasMUt",
        "colab_type": "code",
        "colab": {}
      },
      "cell_type": "code",
      "source": [
        "files.download(\"model.h5\")"
      ],
      "execution_count": 0,
      "outputs": []
    },
    {
      "metadata": {
        "id": "vXuW7j8isQQD",
        "colab_type": "code",
        "colab": {}
      },
      "cell_type": "code",
      "source": [
        ""
      ],
      "execution_count": 0,
      "outputs": []
    },
    {
      "metadata": {
        "id": "uxyam5U_KjOw",
        "colab_type": "code",
        "colab": {}
      },
      "cell_type": "code",
      "source": [
        "con = 0\n",
        "length = 200\n",
        "for i in range(length):\n",
        "#   print(X_test[i:i+1])\n",
        "  result = model.predict(X_test[i:i+1])\n",
        "  \n",
        "  \n",
        "  predict_result = label_dic.get(np.argmax(result))\n",
        "  y_label = label_dic.get(np.argmax(y_test[i:i+1]))\n",
        "  if y_label != predict_result:\n",
        "#     print('con',con)\n",
        "    con += 1\n",
        "    print('Result:', result)\n",
        "    print('predict_label:', label_dic.get(np.argmax(result)),' y_label:', label_dic.get(np.argmax(y_test[i:i+1])))\n",
        "print(\"con\", con)\n",
        "print(\"score\", con/length)"
      ],
      "execution_count": 0,
      "outputs": []
    }
  ]
}