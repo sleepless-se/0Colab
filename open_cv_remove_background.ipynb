{
  "nbformat": 4,
  "nbformat_minor": 0,
  "metadata": {
    "colab": {
      "name": "open_cv_remove_background",
      "version": "0.3.2",
      "provenance": [],
      "collapsed_sections": [],
      "include_colab_link": true
    },
    "kernelspec": {
      "name": "python3",
      "display_name": "Python 3"
    }
  },
  "cells": [
    {
      "cell_type": "markdown",
      "metadata": {
        "id": "view-in-github",
        "colab_type": "text"
      },
      "source": [
        "<a href=\"https://colab.research.google.com/github/sleepless-se/Colab/blob/master/open_cv_remove_background.ipynb\" target=\"_parent\"><img src=\"https://colab.research.google.com/assets/colab-badge.svg\" alt=\"Open In Colab\"/></a>"
      ]
    },
    {
      "cell_type": "code",
      "metadata": {
        "id": "TdeV9NitSrze",
        "colab_type": "code",
        "colab": {}
      },
      "source": [
        "import cv2\n",
        "import numpy as np\n",
        "from matplotlib import pyplot as plt\n",
        "from PIL import Image, ImageDraw\n",
        "\n",
        "\n",
        "def get_gradation_2d(start, stop, width, height, is_horizontal):\n",
        "    if is_horizontal:\n",
        "        return np.tile(np.linspace(start, stop, width), (height, 1))\n",
        "    else:\n",
        "        return np.tile(np.linspace(start, stop, height), (width, 1)).T\n",
        "def get_gradation_3d(width, height, start_list, stop_list, is_horizontal_list):\n",
        "    result = np.zeros((height, width, len(start_list)), dtype=np.float)\n",
        "\n",
        "    for i, (start, stop, is_horizontal) in enumerate(zip(start_list, stop_list, is_horizontal_list)):\n",
        "        result[:, :, i] = get_gradation_2d(start, stop, width, height, is_horizontal)\n",
        "    return result\n",
        "\n",
        "def nparray_to_rgb(nparry:np.array):\n",
        "  return (int(nparry[0]),int(nparry[1]),int(nparry[2]))\n",
        "  \n",
        "def find_edge(img_path:str):\n",
        "  img = cv2.imread(img_path,0)\n",
        "  blur = cv2.blur(img,(5,5))\n",
        "  edges = cv2.Canny(blur,100,200)\n",
        "  return edges\n",
        "\n",
        "def find_target(edges): \n",
        "  results = np.where(edges==255)\n",
        "  top = np.min(results[0])\n",
        "  bottom = np.max(results[0])\n",
        "  left = np.min(results[1])\n",
        "  right = np.max(results[1])\n",
        "  return (left,top,right,bottom)\n",
        "\n",
        "def to_RGB(image:Image):\n",
        "  if image.mode == 'RGB': return image\n",
        "  background = Image.new(\"RGB\", image.size, (255, 255, 255))\n",
        "  background.paste(image, mask=image.split()[3])  # 3 is the alpha channel\n",
        "  background.format = image.format\n",
        "  return background\n",
        "\n",
        "def open_rgb(image_path: str):\n",
        "    im = Image.open(image_path)\n",
        "    im = to_RGB(im)\n",
        "    return im\n",
        "\n",
        "def get_median_color(img:Image,px):\n",
        "  array = np.array(img)\n",
        "  median = np.median(array,axis=1)\n",
        "  return median[px]\n",
        "\n",
        "def get_around(img_path):\n",
        "  edges = find_edge(img_path)\n",
        "  left,top,right,bottom = find_target(edges)\n",
        "  return (left,top,right,bottom)\n",
        "\n",
        "def average_np(array:list):\n",
        "  array = np.array(array)\n",
        "  array = np.average(array,axis=0)\n",
        "  return (int(array[0]),int(array[1]),int(array[2]))\n",
        "\n",
        "def get_xy_center(around:list):\n",
        "  x = around[0] + around[2]\n",
        "  y = around[1] + around[3]\n",
        "  return int(x/2),int(y/2)\n",
        "\n",
        "def get_width(around:list):\n",
        "  return around[2] - around[0]\n",
        "\n",
        "def get_height(around:list):\n",
        "  return around[3] - around[1]\n",
        "\n",
        "def get_longer(around):\n",
        "  longer = get_width(around)\n",
        "  height = get_height(around)\n",
        "  if longer < height:longer = height\n",
        "  return longer\n",
        "\n",
        "def make_background(top_color,bottom_color,img_size):\n",
        "  print('top_color',top_color)\n",
        "  print('bottom_color',bottom_color)\n",
        "\n",
        "  bg_top_color = average_np(top_color)\n",
        "  bg_bottom_color = average_np(bottom_color)\n",
        "\n",
        "  print('bg_top_color',bg_top_color)\n",
        "  print('bg_bottom_color',bg_bottom_color)\n",
        "\n",
        "  array = get_gradation_3d(\n",
        "      img_size,img_size, \n",
        "      nparray_to_rgb(bg_top_color), \n",
        "      nparray_to_rgb(bg_bottom_color),\n",
        "      (False, False, False)\n",
        "  )\n",
        "  bg = Image.fromarray(np.uint8(array))\n",
        "  return bg\n",
        "\n",
        "def get_img_infos(img_paths:list):\n",
        "  rgb_imgs, around, top_color,bottom_color = [],[],[],[]\n",
        "\n",
        "  for i in range(len(img_paths)):\n",
        "    around.append(get_around(img_paths[i]))\n",
        "    rgb_imgs.append(open_rgb(img_paths[i]))\n",
        "\n",
        "    # find top and bottomo color\n",
        "    top_color.append(get_median_color(rgb_imgs[i],around[i][1]))\n",
        "    bottom_color.append(get_median_color(rgb_imgs[i],around[i][3]))\n",
        "    \n",
        "  return rgb_imgs, around, top_color,bottom_color\n",
        "\n",
        "def get_pre_shift(img_size ,terget_area, object_area):\n",
        "  terget_area = np.array(terget_area)\n",
        "  terget_center = np.mean(terget_area,axis=0)\n",
        "\n",
        "  object_area = np.array(object_area)\n",
        "  object_center = np.mean(object_area,axis=0)\n",
        "\n",
        "  pre_shift = terget_center - object_center\n",
        "  \n",
        "  print('terget_area',terget_area)\n",
        "  print('object_area',object_area)\n",
        "  print('terget_center',terget_center)\n",
        "  print('object_center',object_center)\n",
        "  print('pre_shift',pre_shift)\n",
        "  \n",
        "  return pre_shift\n",
        "\n",
        "def get_shift(img_size ,terget_area, object_area):\n",
        "  pre_shift = get_pre_shift(img_size ,terget_area, object_area)\n",
        "  left_top_margin = object_area[0] + pre_shift\n",
        "\n",
        "  img_size = np.array(img_size)\n",
        "  right_bottom_margin = img_size - object_area[1:2]\n",
        "  right_bottom_margin = right_bottom_margin + pre_shift\n",
        "\n",
        "  fix_shift = np.array([left_top_margin.tolist(),right_bottom_margin[0].tolist()])\n",
        "  fix_shift = np.where(fix_shift<0,fix_shift,0)\n",
        "  fix_shift = np.min(fix_shift,axis=0) # 0 or 1 ?\n",
        "#   print('fix_shift',fix_shift)\n",
        "  x = pre_shift[0] - fix_shift[0]\n",
        "  y = pre_shift[1] - fix_shift[1]\n",
        "\n",
        "  print('img_size',img_size)\n",
        "  \n",
        "  print('left_top_margin',left_top_margin)\n",
        "  print('right_bottom_margin',right_bottom_margin)\n",
        "  print('fix_shift',fix_shift)\n",
        "  return (int(x),int(y))\n",
        "\n",
        "\n",
        "def get_1_1_split(rgb_imgs, around, img_size,bg):\n",
        "  x_shift,y_shift,masks = [],[],[]\n",
        "  # resize\n",
        "  half_img_size = int(img_size/2)\n",
        "  for i in range(len(img_paths)):\n",
        "    \n",
        "    width = get_width(around[i])\n",
        "    height = get_height(around[i])\n",
        "    print('width:height',width,height)\n",
        "\n",
        "    rate_x = half_img_size / width\n",
        "    rate_y = img_size / height\n",
        "    rate = rate_x if rate_x < rate_y else rate_y\n",
        "    print('rate',rate)\n",
        "\n",
        "    margins = np.array(around[i]) * rate\n",
        "\n",
        "    new_width = int(rgb_imgs[i].size[0]*rate_x)\n",
        "    new_height = int(rgb_imgs[i].size[1]*rate_y)\n",
        "\n",
        "\n",
        "    print('new_width:new_height',new_width,new_height)\n",
        "    rgb_imgs[i].thumbnail((new_width,new_height), Image.ANTIALIAS)\n",
        "    print('image{}:{}'.format(i,rgb_imgs[i].size))\n",
        "\n",
        "    height = img_size - rgb_imgs[i].size[1]\n",
        "    print('height',height)\n",
        "    width = int(margins[0])\n",
        "    print('width',width)\n",
        "\n",
        "    if i == 0:\n",
        "      margin = rgb_imgs[i].size[0] - half_img_size\n",
        "      print('margin',margin)\n",
        "      if margin < width : width = margin\n",
        "\n",
        "\n",
        "      # cal image1 shift\n",
        "      height = int(height / 2)\n",
        "      print('height',height)\n",
        "\n",
        "    if i == 1:\n",
        "\n",
        "      # cal image2 shift\n",
        "      height = int(height / 2)\n",
        "      if height<0:height = 0\n",
        "      print('height',height)\n",
        "\n",
        "\n",
        "      # make mask\n",
        "      mask = Image.new(\"L\", rgb_imgs[i].size, 0)\n",
        "      draw2 = ImageDraw.Draw(mask)\n",
        "      right_max = half_img_size + rgb_imgs[i].size[0] - img_size\n",
        "      print('right_max',right_max)\n",
        "      if right_max < width:width = right_max\n",
        "      draw2.rectangle((width, 0, rgb_imgs[i].size), fill=255)\n",
        "      masks.append(mask)\n",
        "\n",
        "    x_shift.append(width)\n",
        "    y_shift.append(height)\n",
        "  # paste\n",
        "  bg.paste(rgb_imgs[0],(-x_shift[0],y_shift[0]))\n",
        "  bg.paste(rgb_imgs[1],(half_img_size - x_shift[1], y_shift[1]),masks[0])\n",
        "  return bg"
      ],
      "execution_count": 0,
      "outputs": []
    },
    {
      "cell_type": "code",
      "metadata": {
        "id": "W6X-SxyKytaW",
        "colab_type": "code",
        "outputId": "18074f88-c75d-4435-f3ad-497adf4ad059",
        "colab": {
          "base_uri": "https://localhost:8080/",
          "height": 395
        }
      },
      "source": [
        "img_size = 2500\n",
        "half_img_size = int(img_size/2)\n",
        "img_paths = ['/content/asos.png','/content/asos1.png']\n",
        "img_paths = ['/content/10571310/a01.jpg','/content/10571310/a02.jpg']\n",
        "\n",
        "rgb_imgs, around, top_color,bottom_color = get_img_infos(img_paths)\n",
        "\n",
        "bg = make_background(top_color,bottom_color,img_size)\n",
        "\n",
        "bg = get_1_1_split(rgb_imgs, around,img_size,bg)\n",
        "bg\n",
        "# plt.imshow(bg)\n",
        "# plt.plot()\n"
      ],
      "execution_count": 2,
      "outputs": [
        {
          "output_type": "error",
          "ename": "error",
          "evalue": "ignored",
          "traceback": [
            "\u001b[0;31m---------------------------------------------------------------------------\u001b[0m",
            "\u001b[0;31merror\u001b[0m                                     Traceback (most recent call last)",
            "\u001b[0;32m<ipython-input-2-12338d35f86e>\u001b[0m in \u001b[0;36m<module>\u001b[0;34m()\u001b[0m\n\u001b[1;32m      4\u001b[0m \u001b[0mimg_paths\u001b[0m \u001b[0;34m=\u001b[0m \u001b[0;34m[\u001b[0m\u001b[0;34m'/content/10571310/a01.jpg'\u001b[0m\u001b[0;34m,\u001b[0m\u001b[0;34m'/content/10571310/a02.jpg'\u001b[0m\u001b[0;34m]\u001b[0m\u001b[0;34m\u001b[0m\u001b[0;34m\u001b[0m\u001b[0m\n\u001b[1;32m      5\u001b[0m \u001b[0;34m\u001b[0m\u001b[0m\n\u001b[0;32m----> 6\u001b[0;31m \u001b[0mrgb_imgs\u001b[0m\u001b[0;34m,\u001b[0m \u001b[0maround\u001b[0m\u001b[0;34m,\u001b[0m \u001b[0mtop_color\u001b[0m\u001b[0;34m,\u001b[0m\u001b[0mbottom_color\u001b[0m \u001b[0;34m=\u001b[0m \u001b[0mget_img_infos\u001b[0m\u001b[0;34m(\u001b[0m\u001b[0mimg_paths\u001b[0m\u001b[0;34m)\u001b[0m\u001b[0;34m\u001b[0m\u001b[0;34m\u001b[0m\u001b[0m\n\u001b[0m\u001b[1;32m      7\u001b[0m \u001b[0;34m\u001b[0m\u001b[0m\n\u001b[1;32m      8\u001b[0m \u001b[0mbg\u001b[0m \u001b[0;34m=\u001b[0m \u001b[0mmake_background\u001b[0m\u001b[0;34m(\u001b[0m\u001b[0mtop_color\u001b[0m\u001b[0;34m,\u001b[0m\u001b[0mbottom_color\u001b[0m\u001b[0;34m,\u001b[0m\u001b[0mimg_size\u001b[0m\u001b[0;34m)\u001b[0m\u001b[0;34m\u001b[0m\u001b[0;34m\u001b[0m\u001b[0m\n",
            "\u001b[0;32m<ipython-input-1-f07a8ea72e38>\u001b[0m in \u001b[0;36mget_img_infos\u001b[0;34m(img_paths)\u001b[0m\n\u001b[1;32m    101\u001b[0m \u001b[0;34m\u001b[0m\u001b[0m\n\u001b[1;32m    102\u001b[0m   \u001b[0;32mfor\u001b[0m \u001b[0mi\u001b[0m \u001b[0;32min\u001b[0m \u001b[0mrange\u001b[0m\u001b[0;34m(\u001b[0m\u001b[0mlen\u001b[0m\u001b[0;34m(\u001b[0m\u001b[0mimg_paths\u001b[0m\u001b[0;34m)\u001b[0m\u001b[0;34m)\u001b[0m\u001b[0;34m:\u001b[0m\u001b[0;34m\u001b[0m\u001b[0;34m\u001b[0m\u001b[0m\n\u001b[0;32m--> 103\u001b[0;31m     \u001b[0maround\u001b[0m\u001b[0;34m.\u001b[0m\u001b[0mappend\u001b[0m\u001b[0;34m(\u001b[0m\u001b[0mget_around\u001b[0m\u001b[0;34m(\u001b[0m\u001b[0mimg_paths\u001b[0m\u001b[0;34m[\u001b[0m\u001b[0mi\u001b[0m\u001b[0;34m]\u001b[0m\u001b[0;34m)\u001b[0m\u001b[0;34m)\u001b[0m\u001b[0;34m\u001b[0m\u001b[0;34m\u001b[0m\u001b[0m\n\u001b[0m\u001b[1;32m    104\u001b[0m     \u001b[0mrgb_imgs\u001b[0m\u001b[0;34m.\u001b[0m\u001b[0mappend\u001b[0m\u001b[0;34m(\u001b[0m\u001b[0mopen_rgb\u001b[0m\u001b[0;34m(\u001b[0m\u001b[0mimg_paths\u001b[0m\u001b[0;34m[\u001b[0m\u001b[0mi\u001b[0m\u001b[0;34m]\u001b[0m\u001b[0;34m)\u001b[0m\u001b[0;34m)\u001b[0m\u001b[0;34m\u001b[0m\u001b[0;34m\u001b[0m\u001b[0m\n\u001b[1;32m    105\u001b[0m \u001b[0;34m\u001b[0m\u001b[0m\n",
            "\u001b[0;32m<ipython-input-1-f07a8ea72e38>\u001b[0m in \u001b[0;36mget_around\u001b[0;34m(img_path)\u001b[0m\n\u001b[1;32m     52\u001b[0m \u001b[0;34m\u001b[0m\u001b[0m\n\u001b[1;32m     53\u001b[0m \u001b[0;32mdef\u001b[0m \u001b[0mget_around\u001b[0m\u001b[0;34m(\u001b[0m\u001b[0mimg_path\u001b[0m\u001b[0;34m)\u001b[0m\u001b[0;34m:\u001b[0m\u001b[0;34m\u001b[0m\u001b[0;34m\u001b[0m\u001b[0m\n\u001b[0;32m---> 54\u001b[0;31m   \u001b[0medges\u001b[0m \u001b[0;34m=\u001b[0m \u001b[0mfind_edge\u001b[0m\u001b[0;34m(\u001b[0m\u001b[0mimg_path\u001b[0m\u001b[0;34m)\u001b[0m\u001b[0;34m\u001b[0m\u001b[0;34m\u001b[0m\u001b[0m\n\u001b[0m\u001b[1;32m     55\u001b[0m   \u001b[0mleft\u001b[0m\u001b[0;34m,\u001b[0m\u001b[0mtop\u001b[0m\u001b[0;34m,\u001b[0m\u001b[0mright\u001b[0m\u001b[0;34m,\u001b[0m\u001b[0mbottom\u001b[0m \u001b[0;34m=\u001b[0m \u001b[0mfind_target\u001b[0m\u001b[0;34m(\u001b[0m\u001b[0medges\u001b[0m\u001b[0;34m)\u001b[0m\u001b[0;34m\u001b[0m\u001b[0;34m\u001b[0m\u001b[0m\n\u001b[1;32m     56\u001b[0m   \u001b[0;32mreturn\u001b[0m \u001b[0;34m(\u001b[0m\u001b[0mleft\u001b[0m\u001b[0;34m,\u001b[0m\u001b[0mtop\u001b[0m\u001b[0;34m,\u001b[0m\u001b[0mright\u001b[0m\u001b[0;34m,\u001b[0m\u001b[0mbottom\u001b[0m\u001b[0;34m)\u001b[0m\u001b[0;34m\u001b[0m\u001b[0;34m\u001b[0m\u001b[0m\n",
            "\u001b[0;32m<ipython-input-1-f07a8ea72e38>\u001b[0m in \u001b[0;36mfind_edge\u001b[0;34m(img_path)\u001b[0m\n\u001b[1;32m     22\u001b[0m \u001b[0;32mdef\u001b[0m \u001b[0mfind_edge\u001b[0m\u001b[0;34m(\u001b[0m\u001b[0mimg_path\u001b[0m\u001b[0;34m:\u001b[0m\u001b[0mstr\u001b[0m\u001b[0;34m)\u001b[0m\u001b[0;34m:\u001b[0m\u001b[0;34m\u001b[0m\u001b[0;34m\u001b[0m\u001b[0m\n\u001b[1;32m     23\u001b[0m   \u001b[0mimg\u001b[0m \u001b[0;34m=\u001b[0m \u001b[0mcv2\u001b[0m\u001b[0;34m.\u001b[0m\u001b[0mimread\u001b[0m\u001b[0;34m(\u001b[0m\u001b[0mimg_path\u001b[0m\u001b[0;34m,\u001b[0m\u001b[0;36m0\u001b[0m\u001b[0;34m)\u001b[0m\u001b[0;34m\u001b[0m\u001b[0;34m\u001b[0m\u001b[0m\n\u001b[0;32m---> 24\u001b[0;31m   \u001b[0mblur\u001b[0m \u001b[0;34m=\u001b[0m \u001b[0mcv2\u001b[0m\u001b[0;34m.\u001b[0m\u001b[0mblur\u001b[0m\u001b[0;34m(\u001b[0m\u001b[0mimg\u001b[0m\u001b[0;34m,\u001b[0m\u001b[0;34m(\u001b[0m\u001b[0;36m5\u001b[0m\u001b[0;34m,\u001b[0m\u001b[0;36m5\u001b[0m\u001b[0;34m)\u001b[0m\u001b[0;34m)\u001b[0m\u001b[0;34m\u001b[0m\u001b[0;34m\u001b[0m\u001b[0m\n\u001b[0m\u001b[1;32m     25\u001b[0m   \u001b[0medges\u001b[0m \u001b[0;34m=\u001b[0m \u001b[0mcv2\u001b[0m\u001b[0;34m.\u001b[0m\u001b[0mCanny\u001b[0m\u001b[0;34m(\u001b[0m\u001b[0mblur\u001b[0m\u001b[0;34m,\u001b[0m\u001b[0;36m100\u001b[0m\u001b[0;34m,\u001b[0m\u001b[0;36m200\u001b[0m\u001b[0;34m)\u001b[0m\u001b[0;34m\u001b[0m\u001b[0;34m\u001b[0m\u001b[0m\n\u001b[1;32m     26\u001b[0m   \u001b[0;32mreturn\u001b[0m \u001b[0medges\u001b[0m\u001b[0;34m\u001b[0m\u001b[0;34m\u001b[0m\u001b[0m\n",
            "\u001b[0;31merror\u001b[0m: OpenCV(3.4.3) /io/opencv/modules/core/src/matrix.cpp:756: error: (-215:Assertion failed) dims <= 2 && step[0] > 0 in function 'locateROI'\n"
          ]
        }
      ]
    },
    {
      "cell_type": "code",
      "metadata": {
        "id": "AWbytU-CNXiA",
        "colab_type": "code",
        "colab": {}
      },
      "source": [
        "!unzip test_image.zip"
      ],
      "execution_count": 0,
      "outputs": []
    },
    {
      "cell_type": "code",
      "metadata": {
        "id": "DKa20i_baQM7",
        "colab_type": "code",
        "colab": {}
      },
      "source": [
        "rgb_imgs[1]"
      ],
      "execution_count": 0,
      "outputs": []
    },
    {
      "cell_type": "code",
      "metadata": {
        "id": "xTknpscMaMbd",
        "colab_type": "code",
        "colab": {}
      },
      "source": [
        "import os\n",
        "for cur,dirs,files in os.walk('/content/test_image'):\n",
        "  print(cur)\n",
        "  print(dirs)\n",
        "  print(files)"
      ],
      "execution_count": 0,
      "outputs": []
    },
    {
      "cell_type": "code",
      "metadata": {
        "id": "XA0aDwCkaP5J",
        "colab_type": "code",
        "colab": {}
      },
      "source": [
        "!unzip small_sample.zip"
      ],
      "execution_count": 0,
      "outputs": []
    },
    {
      "cell_type": "code",
      "metadata": {
        "id": "Zz9xaUyccFra",
        "colab_type": "code",
        "colab": {}
      },
      "source": [
        "!ls"
      ],
      "execution_count": 0,
      "outputs": []
    },
    {
      "cell_type": "code",
      "metadata": {
        "id": "sYY3naqDdRqL",
        "colab_type": "code",
        "outputId": "8bdd1a04-8b4b-4272-9098-8c13f85584ea",
        "colab": {
          "base_uri": "https://localhost:8080/",
          "height": 442
        }
      },
      "source": [
        "\n",
        "\n",
        "\n",
        "img_size = [500,500]\n",
        "terget_area = [(0,0),(250,500)]\n",
        "object_area = [(100,200),(400,500)]\n",
        "\n",
        "shift_to = get_shift(img_size ,terget_area, object_area)\n",
        "print('shift_to',shift_to)\n",
        "print(' - - - ')\n",
        "img_size = [500,500]\n",
        "terget_area = [(250,0),(500,500)]\n",
        "object_area = [(100,200),(300,450)]\n",
        "\n",
        "shift_to = get_shift(img_size ,terget_area, object_area)\n",
        "print('shift_to',shift_to)\n"
      ],
      "execution_count": 21,
      "outputs": [
        {
          "output_type": "stream",
          "text": [
            "terget_area [[  0   0]\n",
            " [250 500]]\n",
            "object_area [[100 200]\n",
            " [400 500]]\n",
            "terget_center [125. 250.]\n",
            "object_center [250. 350.]\n",
            "pre_shift [-125. -100.]\n",
            "img_size [500 500]\n",
            "left_top_margin [-25. 100.]\n",
            "right_bottom_margin [[ -25. -100.]]\n",
            "fix_shift [ -25. -100.]\n",
            "shift_to (-100, 0)\n",
            " - - - \n",
            "terget_area [[250   0]\n",
            " [500 500]]\n",
            "object_area [[100 200]\n",
            " [300 450]]\n",
            "terget_center [375. 250.]\n",
            "object_center [200. 325.]\n",
            "pre_shift [175. -75.]\n",
            "img_size [500 500]\n",
            "left_top_margin [275. 125.]\n",
            "right_bottom_margin [[375. -25.]]\n",
            "fix_shift [  0. -25.]\n",
            "shift_to (175, -50)\n"
          ],
          "name": "stdout"
        }
      ]
    },
    {
      "cell_type": "code",
      "metadata": {
        "id": "ugUJOEfLthkv",
        "colab_type": "code",
        "colab": {
          "base_uri": "https://localhost:8080/",
          "height": 34
        },
        "outputId": "b8a65e56-d450-4fa1-b1a9-6d211049023c"
      },
      "source": [
        "img_size = np.array(img_size)\n",
        "img_size - object_area[1:2]\n",
        "(int(pre_shift[0] - fix_shift[0]),int(pre_shift[1] + fix_shift[1]))"
      ],
      "execution_count": 44,
      "outputs": [
        {
          "output_type": "execute_result",
          "data": {
            "text/plain": [
              "(125, -200)"
            ]
          },
          "metadata": {
            "tags": []
          },
          "execution_count": 44
        }
      ]
    },
    {
      "cell_type": "code",
      "metadata": {
        "id": "9B4MMIm2_csQ",
        "colab_type": "code",
        "outputId": "2135aac8-ff1d-477b-ebba-06beb2ba28cc",
        "colab": {
          "base_uri": "https://localhost:8080/",
          "height": 130
        }
      },
      "source": [
        "if img_center[0] < terget_center[0]:print(\"right has speace\")\n",
        "if img_center[] < terget_center[0]:print(\"left has speace\")"
      ],
      "execution_count": 4,
      "outputs": [
        {
          "output_type": "error",
          "ename": "SyntaxError",
          "evalue": "ignored",
          "traceback": [
            "\u001b[0;36m  File \u001b[0;32m\"<ipython-input-4-45e919f73a5d>\"\u001b[0;36m, line \u001b[0;32m2\u001b[0m\n\u001b[0;31m    if img_center[] < terget_center[0]:print(\"left has speace\")\u001b[0m\n\u001b[0m                  ^\u001b[0m\n\u001b[0;31mSyntaxError\u001b[0m\u001b[0;31m:\u001b[0m invalid syntax\n"
          ]
        }
      ]
    },
    {
      "cell_type": "code",
      "metadata": {
        "id": "PiC2MAO96C3Q",
        "colab_type": "code",
        "colab": {}
      },
      "source": [
        ""
      ],
      "execution_count": 0,
      "outputs": []
    },
    {
      "cell_type": "code",
      "metadata": {
        "id": "Xorkvjt58Gyx",
        "colab_type": "code",
        "colab": {}
      },
      "source": [
        ""
      ],
      "execution_count": 0,
      "outputs": []
    },
    {
      "cell_type": "code",
      "metadata": {
        "id": "SpKi0pK5Q7TK",
        "colab_type": "code",
        "colab": {}
      },
      "source": [
        ""
      ],
      "execution_count": 0,
      "outputs": []
    },
    {
      "cell_type": "code",
      "metadata": {
        "id": "4tBOmgda9ZeG",
        "colab_type": "code",
        "outputId": "3474a90d-0af6-4eaa-b9c6-861e3c6aa09a",
        "colab": {
          "base_uri": "https://localhost:8080/",
          "height": 34
        }
      },
      "source": [
        "type(left_top.tolist())"
      ],
      "execution_count": 0,
      "outputs": [
        {
          "output_type": "execute_result",
          "data": {
            "text/plain": [
              "[-25.0, 100.0]"
            ]
          },
          "metadata": {
            "tags": []
          },
          "execution_count": 86
        }
      ]
    },
    {
      "cell_type": "code",
      "metadata": {
        "id": "19rofy_rIEwI",
        "colab_type": "code",
        "outputId": "c9b015a2-3548-405f-c7df-e829a1d3bb3a",
        "colab": {
          "base_uri": "https://localhost:8080/",
          "height": 34
        }
      },
      "source": [
        "[left_top.tolist(),right_bottom.tolist()]"
      ],
      "execution_count": 0,
      "outputs": [
        {
          "output_type": "execute_result",
          "data": {
            "text/plain": [
              "[[-25.0, 100.0], [[475.0, 400.0]]]"
            ]
          },
          "metadata": {
            "tags": []
          },
          "execution_count": 91
        }
      ]
    },
    {
      "cell_type": "code",
      "metadata": {
        "id": "X-ThoQdIQAhY",
        "colab_type": "code",
        "colab": {}
      },
      "source": [
        ""
      ],
      "execution_count": 0,
      "outputs": []
    }
  ]
}