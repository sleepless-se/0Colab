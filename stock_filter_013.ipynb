{
  "nbformat": 4,
  "nbformat_minor": 0,
  "metadata": {
    "colab": {
      "name": "stock_filter_013",
      "version": "0.3.2",
      "provenance": [],
      "collapsed_sections": [],
      "toc_visible": true,
      "include_colab_link": true
    },
    "kernelspec": {
      "name": "python3",
      "display_name": "Python 3"
    },
    "accelerator": "GPU"
  },
  "cells": [
    {
      "cell_type": "markdown",
      "metadata": {
        "id": "view-in-github",
        "colab_type": "text"
      },
      "source": [
        "[View in Colaboratory](https://colab.research.google.com/github/sleepless-se/Abstract/blob/master/stock_filter_013.ipynb)"
      ]
    },
    {
      "metadata": {
        "id": "-7qTwpLv8PlU",
        "colab_type": "text"
      },
      "cell_type": "markdown",
      "source": [
        "##テーマ\n",
        "\n",
        "予測が外れている原因を突き止める。\n",
        "\n"
      ]
    },
    {
      "metadata": {
        "id": "1x3zowV2K0_b",
        "colab_type": "text"
      },
      "cell_type": "markdown",
      "source": [
        "\n",
        "###検証\n",
        "\n",
        "間違って予想した要素をここで予測すると正確な値を返すか。\n",
        "\n",
        "同じ値を返すのなら学習内容自体に問題がある。\n",
        "\n",
        "\n",
        "###結果\n",
        "\n",
        "明らかにNoneを返さなければいけないところで、stockを返してきた。これのどこが99%なのだろうか？\n",
        "\n",
        "###確認方法\n",
        "\n",
        "復元したモデルでテストデータを使って同じ精度が出せるのか試してみることでモデルの復元状況を把握できる。\n",
        "\n",
        "今回はモデルで同じ精度が出た。ということはモデルには問題がない。\n",
        "\n",
        "学習の過程で正解を覚えてしまっていることが原因と考えられる。\n",
        "\n",
        "###対策\n",
        "\n",
        "学習データにハッシュキーを持たせて学習データの重複を防ぐ"
      ]
    },
    {
      "metadata": {
        "id": "1XOCX2tjDxSU",
        "colab_type": "code",
        "colab": {
          "base_uri": "https://localhost:8080/",
          "height": 3114
        },
        "outputId": "f21492e6-25a6-4eb1-8571-7b702f0fb42b"
      },
      "cell_type": "code",
      "source": [
        "\n",
        "!apt-get install mecab\n",
        "!apt-get install libmecab-dev\n",
        "!apt-get install mecab-ipadic-utf8\n",
        "!pip install mecab-python3"
      ],
      "execution_count": 1,
      "outputs": [
        {
          "output_type": "stream",
          "text": [
            "Reading package lists... Done\n",
            "Building dependency tree       \n",
            "Reading state information... Done\n",
            "The following additional packages will be installed:\n",
            "  libmecab2 mecab-jumandic mecab-jumandic-utf8 mecab-utils\n",
            "The following NEW packages will be installed:\n",
            "  libmecab2 mecab mecab-jumandic mecab-jumandic-utf8 mecab-utils\n",
            "0 upgraded, 5 newly installed, 0 to remove and 0 not upgraded.\n",
            "Need to get 16.5 MB of archives.\n",
            "After this operation, 218 MB of additional disk space will be used.\n",
            "Get:1 http://archive.ubuntu.com/ubuntu artful/universe amd64 libmecab2 amd64 0.996-3.1 [256 kB]\n",
            "Get:2 http://archive.ubuntu.com/ubuntu artful/universe amd64 mecab-utils amd64 0.996-3.1 [4,750 B]\n",
            "Get:3 http://archive.ubuntu.com/ubuntu artful/universe amd64 mecab-jumandic-utf8 all 7.0-20130310-3 [16.1 MB]\n",
            "Get:4 http://archive.ubuntu.com/ubuntu artful/universe amd64 mecab-jumandic all 7.0-20130310-3 [2,044 B]\n",
            "Get:5 http://archive.ubuntu.com/ubuntu artful/universe amd64 mecab amd64 0.996-3.1 [83.6 kB]\n",
            "Fetched 16.5 MB in 7s (2,168 kB/s)\n",
            "Selecting previously unselected package libmecab2:amd64.\n",
            "(Reading database ... 18408 files and directories currently installed.)\n",
            "Preparing to unpack .../libmecab2_0.996-3.1_amd64.deb ...\n",
            "Unpacking libmecab2:amd64 (0.996-3.1) ...\n",
            "Selecting previously unselected package mecab-utils.\n",
            "Preparing to unpack .../mecab-utils_0.996-3.1_amd64.deb ...\n",
            "Unpacking mecab-utils (0.996-3.1) ...\n",
            "Selecting previously unselected package mecab-jumandic-utf8.\n",
            "Preparing to unpack .../mecab-jumandic-utf8_7.0-20130310-3_all.deb ...\n",
            "Unpacking mecab-jumandic-utf8 (7.0-20130310-3) ...\n",
            "Selecting previously unselected package mecab-jumandic.\n",
            "Preparing to unpack .../mecab-jumandic_7.0-20130310-3_all.deb ...\n",
            "Unpacking mecab-jumandic (7.0-20130310-3) ...\n",
            "Selecting previously unselected package mecab.\n",
            "Preparing to unpack .../mecab_0.996-3.1_amd64.deb ...\n",
            "Unpacking mecab (0.996-3.1) ...\n",
            "Setting up libmecab2:amd64 (0.996-3.1) ...\n",
            "Processing triggers for libc-bin (2.26-0ubuntu2.1) ...\n",
            "Setting up mecab-utils (0.996-3.1) ...\n",
            "Setting up mecab-jumandic-utf8 (7.0-20130310-3) ...\n",
            "Compiling Juman dictionary for Mecab.\n",
            "reading /usr/share/mecab/dic/juman/unk.def ... 37\n",
            "emitting double-array: 100% |###########################################| \n",
            "reading /usr/share/mecab/dic/juman/Noun.hukusi.csv ... 81\n",
            "reading /usr/share/mecab/dic/juman/Prefix.csv ... 90\n",
            "reading /usr/share/mecab/dic/juman/AuxV.csv ... 593\n",
            "reading /usr/share/mecab/dic/juman/ContentW.csv ... 551145\n",
            "reading /usr/share/mecab/dic/juman/Auto.csv ... 18931\n",
            "reading /usr/share/mecab/dic/juman/Suffix.csv ... 2128\n",
            "reading /usr/share/mecab/dic/juman/Emoticon.csv ... 972\n",
            "reading /usr/share/mecab/dic/juman/Noun.koyuu.csv ... 7964\n",
            "reading /usr/share/mecab/dic/juman/Noun.keishiki.csv ... 8\n",
            "reading /usr/share/mecab/dic/juman/Assert.csv ... 34\n",
            "reading /usr/share/mecab/dic/juman/Noun.suusi.csv ... 49\n",
            "reading /usr/share/mecab/dic/juman/Demonstrative.csv ... 97\n",
            "reading /usr/share/mecab/dic/juman/Postp.csv ... 108\n",
            "reading /usr/share/mecab/dic/juman/Special.csv ... 158\n",
            "reading /usr/share/mecab/dic/juman/Wikipedia.csv ... 167709\n",
            "reading /usr/share/mecab/dic/juman/Rengo.csv ... 1118\n",
            "emitting double-array: 100% |###########################################| \n",
            "reading /usr/share/mecab/dic/juman/matrix.def ... 1876x1876\n",
            "emitting matrix      : 100% |###########################################| \n",
            "\n",
            "done!\n",
            "update-alternatives: using /var/lib/mecab/dic/juman-utf8 to provide /var/lib/mecab/dic/debian (mecab-dictionary) in auto mode\n",
            "Setting up mecab (0.996-3.1) ...\n",
            "Setting up mecab-jumandic (7.0-20130310-3) ...\n",
            "Reading package lists... Done\n",
            "Building dependency tree       \n",
            "Reading state information... Done\n",
            "The following NEW packages will be installed:\n",
            "  libmecab-dev\n",
            "0 upgraded, 1 newly installed, 0 to remove and 0 not upgraded.\n",
            "Need to get 307 kB of archives.\n",
            "After this operation, 3,115 kB of additional disk space will be used.\n",
            "Get:1 http://archive.ubuntu.com/ubuntu artful/universe amd64 libmecab-dev amd64 0.996-3.1 [307 kB]\n",
            "Fetched 307 kB in 0s (452 kB/s)\n",
            "Selecting previously unselected package libmecab-dev.\n",
            "(Reading database ... 18488 files and directories currently installed.)\n",
            "Preparing to unpack .../libmecab-dev_0.996-3.1_amd64.deb ...\n",
            "Unpacking libmecab-dev (0.996-3.1) ...\n",
            "Setting up libmecab-dev (0.996-3.1) ...\n",
            "Reading package lists... Done\n",
            "Building dependency tree       \n",
            "Reading state information... Done\n",
            "The following additional packages will be installed:\n",
            "  mecab-ipadic\n",
            "The following NEW packages will be installed:\n",
            "  mecab-ipadic mecab-ipadic-utf8\n",
            "0 upgraded, 2 newly installed, 0 to remove and 0 not upgraded.\n",
            "Need to get 12.1 MB of archives.\n",
            "After this operation, 54.4 MB of additional disk space will be used.\n",
            "Get:1 http://archive.ubuntu.com/ubuntu artful/universe amd64 mecab-ipadic all 2.7.0-20070801+main-1 [12.1 MB]\n",
            "Get:2 http://archive.ubuntu.com/ubuntu artful/universe amd64 mecab-ipadic-utf8 all 2.7.0-20070801+main-1 [3,522 B]\n",
            "Fetched 12.1 MB in 1s (6,070 kB/s)\n",
            "Selecting previously unselected package mecab-ipadic.\n",
            "(Reading database ... 18496 files and directories currently installed.)\n",
            "Preparing to unpack .../mecab-ipadic_2.7.0-20070801+main-1_all.deb ...\n",
            "Unpacking mecab-ipadic (2.7.0-20070801+main-1) ...\n",
            "Selecting previously unselected package mecab-ipadic-utf8.\n",
            "Preparing to unpack .../mecab-ipadic-utf8_2.7.0-20070801+main-1_all.deb ...\n",
            "Unpacking mecab-ipadic-utf8 (2.7.0-20070801+main-1) ...\n",
            "Setting up mecab-ipadic (2.7.0-20070801+main-1) ...\n",
            "Compiling IPA dictionary for Mecab.  This takes long time...\n",
            "reading /usr/share/mecab/dic/ipadic/unk.def ... 40\n",
            "emitting double-array: 100% |###########################################| \n",
            "/usr/share/mecab/dic/ipadic/model.def is not found. skipped.\n",
            "reading /usr/share/mecab/dic/ipadic/Postp-col.csv ... 91\n",
            "reading /usr/share/mecab/dic/ipadic/Noun.number.csv ... 42\n",
            "reading /usr/share/mecab/dic/ipadic/Filler.csv ... 19\n",
            "reading /usr/share/mecab/dic/ipadic/Prefix.csv ... 221\n",
            "reading /usr/share/mecab/dic/ipadic/Noun.place.csv ... 72999\n",
            "reading /usr/share/mecab/dic/ipadic/Adverb.csv ... 3032\n",
            "reading /usr/share/mecab/dic/ipadic/Noun.adjv.csv ... 3328\n",
            "reading /usr/share/mecab/dic/ipadic/Conjunction.csv ... 171\n",
            "reading /usr/share/mecab/dic/ipadic/Noun.name.csv ... 34202\n",
            "reading /usr/share/mecab/dic/ipadic/Adj.csv ... 27210\n",
            "reading /usr/share/mecab/dic/ipadic/Auxil.csv ... 199\n",
            "reading /usr/share/mecab/dic/ipadic/Noun.org.csv ... 16668\n",
            "reading /usr/share/mecab/dic/ipadic/Suffix.csv ... 1393\n",
            "reading /usr/share/mecab/dic/ipadic/Others.csv ... 2\n",
            "reading /usr/share/mecab/dic/ipadic/Noun.others.csv ... 151\n",
            "reading /usr/share/mecab/dic/ipadic/Noun.demonst.csv ... 120\n",
            "reading /usr/share/mecab/dic/ipadic/Noun.verbal.csv ... 12146\n",
            "reading /usr/share/mecab/dic/ipadic/Symbol.csv ... 208\n",
            "reading /usr/share/mecab/dic/ipadic/Noun.csv ... 60477\n",
            "reading /usr/share/mecab/dic/ipadic/Adnominal.csv ... 135\n",
            "reading /usr/share/mecab/dic/ipadic/Postp.csv ... 146\n",
            "reading /usr/share/mecab/dic/ipadic/Interjection.csv ... 252\n",
            "reading /usr/share/mecab/dic/ipadic/Noun.proper.csv ... 27327\n",
            "reading /usr/share/mecab/dic/ipadic/Noun.nai.csv ... 42\n",
            "reading /usr/share/mecab/dic/ipadic/Noun.adverbal.csv ... 795\n",
            "reading /usr/share/mecab/dic/ipadic/Verb.csv ... 130750\n",
            "emitting double-array: 100% |###########################################| \n",
            "reading /usr/share/mecab/dic/ipadic/matrix.def ... 1316x1316\n",
            "emitting matrix      : 100% |###########################################| \n",
            "\n",
            "done!\n",
            "update-alternatives: using /var/lib/mecab/dic/ipadic to provide /var/lib/mecab/dic/debian (mecab-dictionary) in auto mode\n",
            "Setting up mecab-ipadic-utf8 (2.7.0-20070801+main-1) ...\n",
            "Compiling IPA dictionary for Mecab.  This takes long time...\n",
            "reading /usr/share/mecab/dic/ipadic/unk.def ... 40\n",
            "emitting double-array: 100% |###########################################| \n",
            "/usr/share/mecab/dic/ipadic/model.def is not found. skipped.\n",
            "reading /usr/share/mecab/dic/ipadic/Postp-col.csv ... 91\n",
            "reading /usr/share/mecab/dic/ipadic/Noun.number.csv ... 42\n",
            "reading /usr/share/mecab/dic/ipadic/Filler.csv ... 19\n",
            "reading /usr/share/mecab/dic/ipadic/Prefix.csv ... 221\n",
            "reading /usr/share/mecab/dic/ipadic/Noun.place.csv ... 72999\n",
            "reading /usr/share/mecab/dic/ipadic/Adverb.csv ... 3032\n",
            "reading /usr/share/mecab/dic/ipadic/Noun.adjv.csv ... 3328\n",
            "reading /usr/share/mecab/dic/ipadic/Conjunction.csv ... 171\n",
            "reading /usr/share/mecab/dic/ipadic/Noun.name.csv ... 34202\n",
            "reading /usr/share/mecab/dic/ipadic/Adj.csv ... 27210\n",
            "reading /usr/share/mecab/dic/ipadic/Auxil.csv ... 199\n",
            "reading /usr/share/mecab/dic/ipadic/Noun.org.csv ... 16668\n",
            "reading /usr/share/mecab/dic/ipadic/Suffix.csv ... 1393\n",
            "reading /usr/share/mecab/dic/ipadic/Others.csv ... 2\n",
            "reading /usr/share/mecab/dic/ipadic/Noun.others.csv ... 151\n",
            "reading /usr/share/mecab/dic/ipadic/Noun.demonst.csv ... 120\n",
            "reading /usr/share/mecab/dic/ipadic/Noun.verbal.csv ... 12146\n",
            "reading /usr/share/mecab/dic/ipadic/Symbol.csv ... 208\n",
            "reading /usr/share/mecab/dic/ipadic/Noun.csv ... 60477\n",
            "reading /usr/share/mecab/dic/ipadic/Adnominal.csv ... 135\n",
            "reading /usr/share/mecab/dic/ipadic/Postp.csv ... 146\n",
            "reading /usr/share/mecab/dic/ipadic/Interjection.csv ... 252\n",
            "reading /usr/share/mecab/dic/ipadic/Noun.proper.csv ... 27327\n",
            "reading /usr/share/mecab/dic/ipadic/Noun.nai.csv ... 42\n",
            "reading /usr/share/mecab/dic/ipadic/Noun.adverbal.csv ... 795\n",
            "reading /usr/share/mecab/dic/ipadic/Verb.csv ... 130750\n",
            "emitting double-array: 100% |###########################################| \n",
            "reading /usr/share/mecab/dic/ipadic/matrix.def ... 1316x1316\n",
            "emitting matrix      : 100% |###########################################| \n",
            "\n",
            "done!\n",
            "update-alternatives: using /var/lib/mecab/dic/ipadic-utf8 to provide /var/lib/mecab/dic/debian (mecab-dictionary) in auto mode\n",
            "Collecting mecab-python3\n",
            "\u001b[?25l  Downloading https://files.pythonhosted.org/packages/25/e9/bbf5fc790a2bedd96fbaf47a84afa060bfb0b3e0217e5f64b32bd4bbad69/mecab-python3-0.7.tar.gz (41kB)\n",
            "\u001b[K    100% |████████████████████████████████| 51kB 3.0MB/s \n",
            "\u001b[?25hBuilding wheels for collected packages: mecab-python3\n",
            "  Running setup.py bdist_wheel for mecab-python3 ... \u001b[?25l-\b \b\\\b \b|\b \b/\b \b-\b \bdone\n",
            "\u001b[?25h  Stored in directory: /root/.cache/pip/wheels/4c/07/3a/5f22ccc9f381f3bc01fa023202061cd1e0e9af855292f005dd\n",
            "Successfully built mecab-python3\n",
            "Installing collected packages: mecab-python3\n",
            "Successfully installed mecab-python3-0.7\n"
          ],
          "name": "stdout"
        }
      ]
    },
    {
      "metadata": {
        "id": "aIS_hwjgEHJM",
        "colab_type": "code",
        "colab": {
          "base_uri": "https://localhost:8080/",
          "height": 34
        },
        "outputId": "ffd811db-2a44-485c-989a-690b119920c0"
      },
      "cell_type": "code",
      "source": [
        "import sys\n",
        "import MeCab\n",
        "from keras.datasets import boston_housing\n",
        "from keras.models import Model,model_from_json\n",
        "from keras.utils import to_categorical\n",
        "from keras.preprocessing.text import Tokenizer\n",
        "from sklearn.model_selection import train_test_split\n",
        "import keras\n",
        "from keras.datasets import mnist\n",
        "from keras import models\n",
        "from keras import layers\n",
        "import time\n",
        "import numpy as np\n",
        "from google.colab import files\n",
        "import re\n",
        "from sklearn.model_selection import train_test_split\n",
        "from keras.callbacks import EarlyStopping\n",
        "mecab = MeCab.Tagger (\"-Owakati\")"
      ],
      "execution_count": 2,
      "outputs": [
        {
          "output_type": "stream",
          "text": [
            "Using TensorFlow backend.\n"
          ],
          "name": "stderr"
        }
      ]
    },
    {
      "metadata": {
        "id": "31y-m09d9h9u",
        "colab_type": "code",
        "colab": {
          "base_uri": "https://localhost:8080/",
          "height": 139
        },
        "outputId": "0bf052fa-17f8-424c-9020-54b1441a1ce2"
      },
      "cell_type": "code",
      "source": [
        "# Load the Drive helper and mount\n",
        "from google.colab import drive\n",
        "\n",
        "# This will prompt for authorization.\n",
        "drive.mount('/content/gdrive')\n",
        "\n",
        "# After executing the cell above, Drive\n",
        "# files will be present in \"/content/drive/My Drive\".\n",
        "base_dir = \"/content/gdrive/My Drive/data/stock_filter\"\n",
        "!ls base_dir"
      ],
      "execution_count": 3,
      "outputs": [
        {
          "output_type": "stream",
          "text": [
            "Go to this URL in a browser: https://accounts.google.com/o/oauth2/auth?client_id=947318989803-6bn6qk8qdgf4n4g3pfee6491hc0brc4i.apps.googleusercontent.com&redirect_uri=urn%3Aietf%3Awg%3Aoauth%3A2.0%3Aoob&scope=email%20https%3A%2F%2Fwww.googleapis.com%2Fauth%2Fdocs.test%20https%3A%2F%2Fwww.googleapis.com%2Fauth%2Fdrive%20https%3A%2F%2Fwww.googleapis.com%2Fauth%2Fdrive.photos.readonly%20https%3A%2F%2Fwww.googleapis.com%2Fauth%2Fpeopleapi.readonly&response_type=code\n",
            "\n",
            "Enter your authorization code:\n",
            "··········\n",
            "Mounted at /content/gdrive\n",
            "ls: cannot access 'base_dir': No such file or directory\n"
          ],
          "name": "stdout"
        }
      ]
    },
    {
      "metadata": {
        "id": "20HdpiorP5S8",
        "colab_type": "code",
        "colab": {}
      },
      "cell_type": "code",
      "source": [
        "files.upload()\n",
        "!ls"
      ],
      "execution_count": 0,
      "outputs": []
    },
    {
      "metadata": {
        "id": "Uyt9XQtsSndr",
        "colab_type": "code",
        "colab": {
          "base_uri": "https://localhost:8080/",
          "height": 224
        },
        "outputId": "5487f567-1a03-4d5c-99b3-f7895291e3e4"
      },
      "cell_type": "code",
      "source": [
        "import pandas as pd\n",
        "\n",
        "file_name = 'stock_label_2018-09-11.csv'\n",
        "df0 = pd.read_csv(\"{}/{}\".format(base_dir,file_name),sep=',',error_bad_lines=False,dtype={\"iid\": str,\"style\": str, \"text\": str})\n",
        "\n",
        "def add_space_front_uppercase(text:str)->str:\n",
        "  return ''.join(' ' + char if char.isupper() else char.strip() for char in text).strip()\n",
        "\n",
        "def add_space_color_size(text:str)->str:\n",
        "  return text.replace(\"color\",\" color \").replace(\"size\",\" size \")\n",
        "\n",
        "\n",
        "def tag_filter(tag:str)->str:\n",
        "  tags = [\"option\",\"li\",\"div\",\"span\"]\n",
        "  tag = tag if tag in tags else \"0\"\n",
        "  return tag\n",
        "\n",
        "def wakati(text)->str:\n",
        "  text = str(text)\n",
        "  if len(text)>3:\n",
        "    text = mecab.parse(text)\n",
        "  return replace_numbers_to_0(text)\n",
        "\n",
        "def replace_numbers_to_0(text:str)->str:\n",
        "  return re.sub(r'[0-9]+', \"0\",str(text))\n",
        "\n",
        "df0[[\"iid\",\"style\",\"text\"]] = df0[[\"iid\",\"style\",\"text\"]].applymap(lambda x : wakati(x)).fillna(\"\")\n",
        "df0[[\"iid\",\"style\"]] = df0[[\"iid\",\"style\"]].applymap(lambda x : add_space_front_uppercase(x))\n",
        "df0[[\"iid\",\"style\"]] = df0[[\"iid\",\"style\"]].applymap(lambda x : add_space_color_size(x))\n",
        "df0[\"tag\"] = df0[[\"tag\"]].applymap(lambda x : tag_filter(x))\n"
      ],
      "execution_count": 4,
      "outputs": [
        {
          "output_type": "stream",
          "text": [
            "b'Skipping line 59768: expected 11 fields, saw 19\\nSkipping line 59976: expected 11 fields, saw 19\\nSkipping line 63711: expected 11 fields, saw 19\\nSkipping line 63871: expected 11 fields, saw 19\\nSkipping line 65181: expected 11 fields, saw 19\\nSkipping line 65333: expected 11 fields, saw 19\\n'\n",
            "b'Skipping line 66698: expected 11 fields, saw 19\\nSkipping line 66858: expected 11 fields, saw 19\\nSkipping line 67760: expected 11 fields, saw 19\\nSkipping line 67938: expected 11 fields, saw 19\\nSkipping line 81846: expected 11 fields, saw 12\\nSkipping line 81847: expected 11 fields, saw 12\\n'\n",
            "b'Skipping line 170916: expected 11 fields, saw 13\\nSkipping line 170988: expected 11 fields, saw 13\\nSkipping line 171186: expected 11 fields, saw 13\\nSkipping line 171228: expected 11 fields, saw 13\\nSkipping line 171270: expected 11 fields, saw 13\\nSkipping line 171344: expected 11 fields, saw 13\\nSkipping line 171348: expected 11 fields, saw 13\\nSkipping line 171352: expected 11 fields, saw 13\\nSkipping line 171355: expected 11 fields, saw 13\\nSkipping line 180677: expected 11 fields, saw 17\\nSkipping line 180749: expected 11 fields, saw 17\\nSkipping line 180915: expected 11 fields, saw 17\\nSkipping line 180962: expected 11 fields, saw 17\\nSkipping line 181009: expected 11 fields, saw 17\\nSkipping line 181085: expected 11 fields, saw 17\\nSkipping line 181089: expected 11 fields, saw 17\\nSkipping line 181094: expected 11 fields, saw 17\\nSkipping line 181099: expected 11 fields, saw 17\\n'\n",
            "b'Skipping line 225020: expected 11 fields, saw 14\\nSkipping line 225094: expected 11 fields, saw 14\\nSkipping line 225378: expected 11 fields, saw 14\\nSkipping line 225421: expected 11 fields, saw 14\\nSkipping line 225466: expected 11 fields, saw 14\\nSkipping line 225572: expected 11 fields, saw 14\\nSkipping line 225576: expected 11 fields, saw 14\\nSkipping line 225582: expected 11 fields, saw 14\\nSkipping line 225586: expected 11 fields, saw 14\\n'\n",
            "b'Skipping line 262462: expected 11 fields, saw 16\\nSkipping line 262529: expected 11 fields, saw 16\\nSkipping line 262727: expected 11 fields, saw 16\\nSkipping line 262769: expected 11 fields, saw 16\\nSkipping line 262809: expected 11 fields, saw 16\\nSkipping line 262871: expected 11 fields, saw 16\\nSkipping line 262873: expected 11 fields, saw 16\\nSkipping line 262875: expected 11 fields, saw 16\\nSkipping line 262877: expected 11 fields, saw 16\\n'\n",
            "b'Skipping line 335963: expected 11 fields, saw 14\\nSkipping line 336032: expected 11 fields, saw 14\\nSkipping line 336264: expected 11 fields, saw 14\\nSkipping line 336309: expected 11 fields, saw 14\\nSkipping line 336353: expected 11 fields, saw 14\\nSkipping line 336448: expected 11 fields, saw 14\\nSkipping line 336452: expected 11 fields, saw 14\\nSkipping line 336456: expected 11 fields, saw 14\\nSkipping line 336460: expected 11 fields, saw 14\\nSkipping line 350362: expected 11 fields, saw 18\\nSkipping line 350430: expected 11 fields, saw 18\\nSkipping line 350597: expected 11 fields, saw 18\\nSkipping line 350643: expected 11 fields, saw 18\\nSkipping line 350690: expected 11 fields, saw 18\\nSkipping line 350784: expected 11 fields, saw 18\\nSkipping line 350788: expected 11 fields, saw 18\\nSkipping line 350793: expected 11 fields, saw 18\\nSkipping line 350797: expected 11 fields, saw 18\\nSkipping line 391194: expected 11 fields, saw 16\\nSkipping line 391264: expected 11 fields, saw 16\\nSkipping line 391391: expected 11 fields, saw 16\\nSkipping line 391438: expected 11 fields, saw 16\\nSkipping line 391485: expected 11 fields, saw 16\\nSkipping line 391539: expected 11 fields, saw 16\\nSkipping line 391540: expected 11 fields, saw 16\\nSkipping line 391541: expected 11 fields, saw 16\\nSkipping line 391542: expected 11 fields, saw 16\\n'\n",
            "b'Skipping line 397809: expected 11 fields, saw 16\\nSkipping line 397891: expected 11 fields, saw 16\\nSkipping line 398082: expected 11 fields, saw 16\\nSkipping line 398142: expected 11 fields, saw 16\\nSkipping line 398200: expected 11 fields, saw 16\\nSkipping line 398297: expected 11 fields, saw 16\\nSkipping line 398302: expected 11 fields, saw 16\\nSkipping line 398309: expected 11 fields, saw 16\\nSkipping line 398314: expected 11 fields, saw 16\\nSkipping line 425939: expected 11 fields, saw 12\\nSkipping line 426035: expected 11 fields, saw 12\\nSkipping line 426068: expected 11 fields, saw 12\\nSkipping line 426103: expected 11 fields, saw 12\\nSkipping line 426120: expected 11 fields, saw 12\\nSkipping line 426131: expected 11 fields, saw 12\\nSkipping line 426137: expected 11 fields, saw 12\\nSkipping line 426144: expected 11 fields, saw 12\\nSkipping line 454611: expected 11 fields, saw 16\\nSkipping line 454678: expected 11 fields, saw 16\\nSkipping line 454889: expected 11 fields, saw 16\\nSkipping line 454934: expected 11 fields, saw 16\\nSkipping line 454979: expected 11 fields, saw 16\\nSkipping line 455072: expected 11 fields, saw 16\\nSkipping line 455075: expected 11 fields, saw 16\\nSkipping line 455079: expected 11 fields, saw 16\\nSkipping line 455082: expected 11 fields, saw 16\\n'\n",
            "b'Skipping line 471908: expected 11 fields, saw 15\\nSkipping line 471974: expected 11 fields, saw 15\\nSkipping line 472202: expected 11 fields, saw 15\\nSkipping line 472246: expected 11 fields, saw 15\\nSkipping line 472288: expected 11 fields, saw 15\\nSkipping line 472361: expected 11 fields, saw 15\\nSkipping line 472365: expected 11 fields, saw 15\\nSkipping line 472369: expected 11 fields, saw 15\\nSkipping line 472372: expected 11 fields, saw 15\\nSkipping line 478344: expected 11 fields, saw 12\\nSkipping line 516174: expected 11 fields, saw 14\\nSkipping line 516205: expected 11 fields, saw 14\\nSkipping line 516388: expected 11 fields, saw 14\\nSkipping line 516423: expected 11 fields, saw 14\\nSkipping line 516457: expected 11 fields, saw 14\\nSkipping line 516539: expected 11 fields, saw 14\\nSkipping line 516546: expected 11 fields, saw 14\\nSkipping line 516557: expected 11 fields, saw 14\\nSkipping line 516564: expected 11 fields, saw 14\\nSkipping line 519263: expected 11 fields, saw 13\\n'\n",
            "b'Skipping line 585180: expected 11 fields, saw 12\\nSkipping line 588939: expected 11 fields, saw 12\\n'\n",
            "/usr/local/lib/python3.6/dist-packages/IPython/core/interactiveshell.py:2718: DtypeWarning: Columns (0,1) have mixed types. Specify dtype option on import or set low_memory=False.\n",
            "  interactivity=interactivity, compiler=compiler, result=result)\n"
          ],
          "name": "stderr"
        }
      ]
    },
    {
      "metadata": {
        "id": "O7eh6CYMP8Bq",
        "colab_type": "text"
      },
      "cell_type": "markdown",
      "source": [
        "ラベルが無い項目を削減"
      ]
    },
    {
      "metadata": {
        "id": "ugzkP54t8lr5",
        "colab_type": "code",
        "colab": {
          "base_uri": "https://localhost:8080/",
          "height": 68
        },
        "outputId": "1bef46cb-0a19-4867-ba39-6ad8d2b29a8e"
      },
      "cell_type": "code",
      "source": [
        "df = df0\n",
        "\n",
        "# df.shape\n",
        "lis = df[\"label\"].isnull()\n",
        "df_null = df[lis]\n",
        "df_null = df_null[0:90000]\n",
        "print(df_null.shape)\n",
        "\n",
        "df = df.drop(df[lis].index)\n",
        "print(df.shape)\n",
        "\n",
        "df = df.append(df_null)\n",
        "print(df.shape)\n"
      ],
      "execution_count": 5,
      "outputs": [
        {
          "output_type": "stream",
          "text": [
            "(90000, 11)\n",
            "(10127, 11)\n",
            "(100127, 11)\n"
          ],
          "name": "stdout"
        }
      ]
    },
    {
      "metadata": {
        "id": "vr4b4KHK4D-p",
        "colab_type": "code",
        "colab": {
          "base_uri": "https://localhost:8080/",
          "height": 54
        },
        "outputId": "3dde95ab-8abb-4b69-e29b-cb65465673da"
      },
      "cell_type": "code",
      "source": [
        "df[101:103].to_json(orient='records')"
      ],
      "execution_count": 6,
      "outputs": [
        {
          "output_type": "execute_result",
          "data": {
            "text/plain": [
              "'[{\"id\":\"9673\",\"label\":\"stock\",\"tag\":\"li\",\"iid\":\" size 0\",\"style\":\"js-track-me size  color  size -elmta-itempage_ size 0selected\",\"x\":769.0,\"y\":414.0,\"height\":44.0,\"width\":56.0,\"page_id\":30.0,\"text\":\"0 . 0 US \\\\n\"},{\"id\":\"9998\",\"label\":\"variat\",\"tag\":\"li\",\"iid\":\" color 0 B D\",\"style\":\" color  size -elmselected\",\"x\":781.0,\"y\":313.0,\"height\":32.0,\"width\":32.0,\"page_id\":31.0,\"text\":\"nan\"}]'"
            ]
          },
          "metadata": {
            "tags": []
          },
          "execution_count": 6
        }
      ]
    },
    {
      "metadata": {
        "id": "s9-oKHjHT9iL",
        "colab_type": "code",
        "colab": {
          "base_uri": "https://localhost:8080/",
          "height": 51
        },
        "outputId": "f4a74259-b9ba-4309-9c37-8704faee100d"
      },
      "cell_type": "code",
      "source": [
        "X = df\n",
        "fileds = [\"id\",\"tag\",\"iid\",\"style\",]\n",
        "fields = ['x', 'y', 'height', 'width']\n",
        "X = df[fields]\n",
        "print(X.columns)\n",
        "print(X.shape)\n",
        "# X[X[\"height\"]==32]"
      ],
      "execution_count": 7,
      "outputs": [
        {
          "output_type": "stream",
          "text": [
            "Index(['x', 'y', 'height', 'width'], dtype='object')\n",
            "(100127, 4)\n"
          ],
          "name": "stdout"
        }
      ]
    },
    {
      "metadata": {
        "id": "a9DSMQ3nevtM",
        "colab_type": "code",
        "colab": {}
      },
      "cell_type": "code",
      "source": [
        ""
      ],
      "execution_count": 0,
      "outputs": []
    },
    {
      "metadata": {
        "id": "NqJWaELejqcc",
        "colab_type": "code",
        "colab": {}
      },
      "cell_type": "code",
      "source": [
        "import pickle\n",
        "\n",
        "def tokanaize(df,filed,num_words = None):\n",
        "  token = None\n",
        "  # tokanizer\n",
        "  if num_words == None:\n",
        "    token = Tokenizer(lower=True)\n",
        "  else:\n",
        "    token = Tokenizer(lower=True,num_words=num_words) \n",
        "  token.fit_on_texts(df[filed])\n",
        "  print(token.word_counts)\n",
        "  \n",
        "  import pickle\n",
        "\n",
        "  # saving\n",
        "  file_name = '{}/tokenizer_{}.pickle'.format(base_dir,filed)\n",
        "  with open(file_name, 'wb') as handle:\n",
        "      pickle.dump(token, handle, protocol=pickle.HIGHEST_PROTOCOL)\n",
        "\n",
        "# loading\n",
        "# with open('tokenizer.pickle', 'rb') as handle:\n",
        "#     tokenizer = pickle.load(handle)\n",
        "  \n",
        "  # word count   \n",
        "  words_count = len(token.word_counts) +1\n",
        "  print(\"{} words\".format(words_count))\n",
        "  if num_words != None:words_count = num_words\n",
        "  \n",
        "  \n",
        "  columns = [\"{}{}\".format(filed,i) for i in range(words_count)]\n",
        "  text_matrix = token.texts_to_matrix(df[filed] ,mode='count')\n",
        "  df_iid = pd.DataFrame(text_matrix)\n",
        "  df_iid.columns = columns\n",
        "  return df_iid"
      ],
      "execution_count": 0,
      "outputs": []
    },
    {
      "metadata": {
        "id": "duMVTdxj8lC7",
        "colab_type": "code",
        "colab": {
          "base_uri": "https://localhost:8080/",
          "height": 139
        },
        "outputId": "238a9135-6c3a-4f25-ddee-11a0539567cf"
      },
      "cell_type": "code",
      "source": [
        "df_tag = tokanaize(df,\"tag\")\n",
        "X = X.join(df_tag)\n",
        "print(X.columns)\n",
        "print(X.shape)"
      ],
      "execution_count": 9,
      "outputs": [
        {
          "output_type": "stream",
          "text": [
            "OrderedDict([('li', 24122), ('option', 6566), ('0', 521), ('span', 45376), ('div', 23542)])\n",
            "6 words\n",
            "Index(['x', 'y', 'height', 'width', 'tag0', 'tag1', 'tag2', 'tag3', 'tag4',\n",
            "       'tag5'],\n",
            "      dtype='object')\n",
            "(100127, 10)\n"
          ],
          "name": "stdout"
        }
      ]
    },
    {
      "metadata": {
        "id": "izzhnkn8pkyK",
        "colab_type": "code",
        "colab": {
          "base_uri": "https://localhost:8080/",
          "height": 190
        },
        "outputId": "fab71896-0dca-49c3-95f3-8bec3b639e87"
      },
      "cell_type": "code",
      "source": [
        "df_iid = tokanaize(df,\"iid\",25)\n",
        "X = X.join(df_iid)\n",
        "print(X.columns)\n",
        "print(X.shape)\n"
      ],
      "execution_count": 10,
      "outputs": [
        {
          "output_type": "stream",
          "text": [
            "OrderedDict([('color', 317), ('0', 1114), ('q', 11), ('e', 224), ('x', 24), ('a', 57), ('u', 19), ('v', 28), ('size', 1187), ('o', 33), ('p', 37), ('j', 24), ('m', 28), ('n', 26), ('f', 250), ('k', 30), ('s', 59), ('w', 20), ('i', 32), ('d', 238), ('b', 20), ('r', 224), ('g', 24), ('t', 16), ('l', 35), ('c', 14), ('h', 20), ('nan', 93974), ('sole', 4), ('other', 4), ('materials', 4), ('decided…', 3), ('see', 3), ('more', 50), ('format', 842), ('composition', 240), ('info', 1446), ('item', 480), ('description', 258), ('measurements', 151), ('shipping', 346), ('share', 240), ('js', 240), ('price', 311), ('cod0', 240), ('label', 65), ('replacer', 65), ('made', 95), ('in', 95), ('wearability', 68), ('bc', 142), ('home', 71), ('product', 688), ('chrome', 73), ('header', 71), ('breadcrumb', 73), ('asos', 2), ('gallery', 142), ('content', 283), ('aside', 211), ('colour', 71), ('guide', 190), ('add', 71), ('save', 71), ('restrictions', 70), ('oos', 70), ('retry', 70), ('details', 106), ('lower', 1), ('from', 11), ('main', 173), ('message', 127), ('buttons', 252), ('control', 126), ('new', 18), ('top', 18), ('nav', 18), ('global', 18), ('search', 54), ('suggestion', 18), ('container', 117), ('arrow', 18), ('suggestions', 60), ('bread', 18), ('crumbs', 18), ('pdp', 108), ('left', 18), ('column', 36), ('image', 54), ('sidebar', 18), ('thumbnail', 18), ('list', 77), ('heart', 18), ('hearted', 18), ('img', 18), ('shop', 17), ('the', 17), ('look', 17), ('right', 18), ('overview', 18), ('brand', 18), ('title', 18), ('pricing', 18), ('fit', 34), ('note', 17), ('count', 18), ('down', 18), ('generic', 18), ('text', 18), ('box', 18), ('long', 18), ('collapsed', 18), ('fade', 18), ('show', 36), ('less', 18), ('hover', 18), ('zoom', 18), ('overlay', 18), ('newsletter', 26), ('placeholder', 26), ('view', 26), ('model', 26), ('email', 26), ('wrapper', 26), ('mcontainer', 9)])\n",
            "126 words\n",
            "Index(['x', 'y', 'height', 'width', 'tag0', 'tag1', 'tag2', 'tag3', 'tag4',\n",
            "       'tag5', 'iid0', 'iid1', 'iid2', 'iid3', 'iid4', 'iid5', 'iid6', 'iid7',\n",
            "       'iid8', 'iid9', 'iid10', 'iid11', 'iid12', 'iid13', 'iid14', 'iid15',\n",
            "       'iid16', 'iid17', 'iid18', 'iid19', 'iid20', 'iid21', 'iid22', 'iid23',\n",
            "       'iid24'],\n",
            "      dtype='object')\n",
            "(100127, 35)\n"
          ],
          "name": "stdout"
        }
      ]
    },
    {
      "metadata": {
        "id": "4lgVe2XLpyQ2",
        "colab_type": "code",
        "colab": {
          "base_uri": "https://localhost:8080/",
          "height": 190
        },
        "outputId": "12b47594-0d5a-4d6d-ff6b-8a24cb4b00c8"
      },
      "cell_type": "code",
      "source": [
        "df_style = tokanaize(df,\"style\",75)\n",
        "X = X.join(df_style)\n",
        "print(X.columns)\n",
        "print(X.shape)\n",
        "# X[0:10]"
      ],
      "execution_count": 11,
      "outputs": [
        {
          "output_type": "stream",
          "text": [
            "OrderedDict([('color', 2090), ('size', 9716), ('elmselected', 240), ('elm', 59), ('js', 818), ('track', 867), ('me', 863), ('elmta', 793), ('itempage', 793), ('0selected', 65), ('0', 5192), ('0slick', 414), ('slideslick', 3043), ('currentslick', 654), ('active', 3122), ('activedisabled', 62), ('0disabled', 38), ('nan', 41187), ('box', 125), ('is', 1046), ('last', 445), ('item', 10663), ('disabledis', 228), ('sold', 256), ('out', 525), ('limited', 347), ('availability', 392), ('disabled', 46), ('h', 143), ('e', 90), ('x', 91), ('number', 433), ('message', 40), ('in', 131), ('stock', 427), ('pure', 1455), ('menu', 1455), ('list', 9495), ('thumbselected', 208), ('thumb', 634), ('margin', 1206), ('0x0', 966), ('top', 1164), ('0x', 485), ('topmargin', 240), ('bottom', 258), ('pull', 4856), ('lefttext', 4862), ('centercol', 4856), ('0js', 4856), ('slider', 4876), ('itemfirstta', 486), ('carousel', 5127), ('item0slick', 4856), ('itemta', 3884), ('slide', 2753), ('itemlastta', 486), ('font', 986), ('bold', 5096), ('select', 674), ('label', 1141), ('sans', 236), ('boldtext', 582), ('spacingbg', 502), ('highlight', 568), ('oldprice', 3378), ('newpricefont', 3378), ('fullpricefont', 1478), ('field', 248), ('validation', 222), ('valid', 222), ('bg', 134), ('text', 4313), ('secondarytext', 148), ('linethrough', 148), ('wearability', 68), ('hover', 68), ('highlightfont', 68), ('uppercase', 68), ('textfont', 4), ('0xl', 4), ('uppercaseaction', 8), ('link', 3969), ('social', 174), ('labelpull', 12), ('s', 192), ('app', 6), ('righttext', 6), ('divider', 12), ('slidedisabled', 18), ('total', 87), ('look', 181), ('bigtotal', 4), ('blockbg', 60), ('lightfirsttotal', 16), ('0ta', 60), ('item0', 60), ('smallimage', 18), ('leftpull', 12), ('lefttotal', 28), ('lighttotal', 28), ('rightpull', 12), ('righttotal', 28), ('mediumimage', 18), ('lightlasttotal', 16), ('bigpull', 20), ('zoomable', 286), ('image', 1300), ('thumbnailmobile', 284), ('hideactive', 71), ('hide', 213), ('buttonbutton', 70), ('catwalk', 29), ('0d', 25), ('p', 43), ('r', 96), ('l', 166), ('src', 71), ('global', 71), ('banner', 71), ('content', 996), ('copy', 71), ('current', 190), ('price', 1531), ('product', 2237), ('colour', 918), ('aria', 3), ('live', 3), ('heart', 1031), ('primary', 525), ('secondary', 506), ('w0', 5), ('f0', 5), ('o', 6), ('lt', 5), ('hnkd', 5), ('0m', 76), ('w0vn', 71), ('v', 71), ('0k', 71), ('d', 71), ('r0', 71), ('asos', 572), ('productpg', 2), ('layout', 574), ('width', 282), ('bread', 71), ('crumb', 71), ('gallery', 213), ('wrapper', 125), ('static', 71), ('window', 211), ('amp', 2065), ('controls', 355), ('mediaspinsetimageviewer', 285), ('media', 285), ('playersamp', 285), ('relative', 855), ('spin', 570), ('vieweramp', 285), ('spinneramp', 285), ('pageamp', 855), ('overlay', 717), ('images', 313), ('frame', 285), ('full', 518), ('container', 1183), ('thumbnails', 71), ('icon', 682), ('inactivespriteproduct', 70), ('play', 62), ('share', 178), ('desktop', 71), ('aside', 282), ('hero', 71), ('mobile', 71), ('grid', 499), ('rowrendered', 190), ('delivery', 71), ('and', 73), ('returns', 71), ('of', 180), ('component', 380), ('rowcolour', 190), ('section', 414), ('componentfit', 71), ('analytics', 71), ('guide', 256), ('action', 71), ('add', 726), ('save', 518), ('button', 660), ('retry', 189), ('ooslayout', 70), ('retrylayout', 70), ('details', 524), ('overflow', 70), ('col', 210), ('description', 257), ('code', 214), ('brand', 178), ('care', 65), ('info', 683), ('about', 96), ('show', 70), ('more', 98), ('fade', 160), ('componentbuy', 1), ('the', 1), ('module', 140), ('row', 259), ('arrows', 280), ('itemcard', 119), ('card', 119), ('front', 119), ('btl', 357), ('title', 410), ('options', 119), ('separator', 238), ('status', 100), ('back', 137), ('failed', 119), ('to', 225), ('bag', 119), ('error', 245), ('componentmight', 1), ('like', 503), ('widthyou', 70), ('might', 70), ('also', 522), ('tile', 560), ('0zb', 1), ('k', 1), ('z', 6), ('a0', 1), ('g0', 1), ('w', 1), ('fn', 1), ('pd', 1), ('t', 58), ('tev', 1), ('mm0sv', 1), ('yu', 5), ('c0z', 5), ('rzb', 1), ('zo', 1), ('0jlh0', 1), ('0r', 5), ('qzr0', 5), ('krmchy0', 5), ('y0', 5), ('sx', 5), ('i', 5), ('0vl', 5), ('j', 5), ('g', 5), ('spinset', 41), ('priceprice', 11), ('highlighed', 11), ('discounted', 32), ('closesmall', 51), ('0t0mf', 45), ('e0', 45), ('colourdisabled', 19), ('priceproduct', 21), ('prev', 21), ('clear', 20), ('element', 20), ('widthrecently', 11), ('viewed', 11), ('wkal', 11), ('z0', 11), ('d0h', 8), ('eogn', 8), ('nav', 362), ('wrappersuggested', 126), ('right', 126), ('shipping', 249), ('restrictions', 9), ('fit', 53), ('sub', 7508), ('navigation', 7508), ('thumbnail', 114), ('itemactive', 38), ('display', 114), ('name', 648), ('line', 36), ('one', 42), ('two', 18), ('pdp', 54), ('pricing', 53), ('selected', 137), ('cart', 63), ('wish', 34), ('tooltip', 18), ('next', 18), ('arrow', 91), ('page', 18), ('containertop', 18), ('design', 18), ('bar', 36), ('utility', 18), ('shop', 18), ('otherutility', 18), ('containerutility', 18), ('cta', 306), ('search', 18), ('results', 18), ('for', 89), ('zoom', 89), ('icons', 18), ('hidefade', 17), ('arrowdown', 35), ('my', 36), ('designers', 180), ('actions', 46), ('textmy', 72), ('remove', 18), ('from', 36), ('added', 18), ('removed', 18), ('data', 17), ('swatches', 18), ('choose', 18), ('inner', 69), ('prompt', 18), ('collapsed', 18), ('new', 16), ('measurements', 32), ('heading', 16), ('designer', 250), ('bio', 34), ('boxunavailable', 2), ('sale', 2), ('header', 66), ('slick', 568), ('activeselected', 82), ('accordion', 252), ('blockselected', 36), ('block', 61), ('facebook', 33), ('twitter', 33), ('pinterest', 33), ('youtube', 33), ('instagram', 33), ('googleplus', 33), ('apple', 33), ('store', 33), ('google', 33), ('nap', 33), ('mrp', 33), ('model', 270), ('namemodel', 241), ('discountedprice', 233), ('currency', 506), ('value', 558), ('labelapproximate', 7), ('fake', 233), ('space', 233), ('fullprice', 233), ('markdown', 233), ('selection', 109), ('schema', 223), ('country', 28), ('newsletter', 105), ('download', 27), ('sliderslider', 56), ('mainslider', 28), ('with', 28), ('thumbs', 28), ('alternative', 56), ('shots', 56), ('prevslick', 46), ('ico', 92), ('nextslick', 46), ('listdraggable', 27), ('m', 52), ('selectorhas', 24), ('selectionis', 28), ('sanimateslide', 24), ('selector', 28), ('alert', 24), ('buttons', 28), ('btn', 56), ('wishlist', 28), ('infoaccordion', 41), ('composition', 28), ('need', 28), ('helpaccordion', 28), ('contentitem', 47), ('returnsitem', 28), ('table', 28), ('contributions', 28), ('contributionitem', 28), ('costs', 82), ('contributioncontribution', 28), ('express', 28), ('range', 27), ('clearfix', 27), ('contact', 26), ('us', 52), ('help', 26), ('footer', 26), ('input', 26), ('cookie', 52), ('law', 52), ('products', 20), ('updater', 20), ('you', 452), ('may', 452), ('likeslick', 20), ('initializedslick', 20), ('arrowslick', 19), ('productslick', 216), ('priceupdated', 216), ('micro', 4), ('category', 4), ('mcontainer', 9), ('moverlay', 9), ('liveperson', 9), ('trigger', 9), ('badge', 12)])\n",
            "423 words\n",
            "Index(['x', 'y', 'height', 'width', 'tag0', 'tag1', 'tag2', 'tag3', 'tag4',\n",
            "       'tag5',\n",
            "       ...\n",
            "       'style65', 'style66', 'style67', 'style68', 'style69', 'style70',\n",
            "       'style71', 'style72', 'style73', 'style74'],\n",
            "      dtype='object', length=110)\n",
            "(100127, 110)\n"
          ],
          "name": "stdout"
        }
      ]
    },
    {
      "metadata": {
        "id": "Fs6t6FMF0Ts7",
        "colab_type": "code",
        "colab": {
          "base_uri": "https://localhost:8080/",
          "height": 190
        },
        "outputId": "a5828019-61fc-4c73-abd1-a9c0f69014e2"
      },
      "cell_type": "code",
      "source": [
        "df_style = tokanaize(df,\"text\",num_words=50)\n",
        "X = X.join(df_style)\n",
        "print(X.columns)\n",
        "print(X.shape)"
      ],
      "execution_count": 12,
      "outputs": [
        {
          "output_type": "stream",
          "text": [
            "OrderedDict([('nan', 44430), ('0', 139415), ('fr', 1), ('eu', 7601), ('uk', 13763), ('us', 1040), ('br', 8), ('not', 9483), ('available', 9376), ('w', 19276), ('l', 19357), ('no', 114), ('size', 1634), ('one', 1903), ('in', 25792), ('cm', 11250), ('a', 1347), ('cup', 90), ('b', 152), ('c', 194), ('d', 142), ('dd', 120), ('e', 184), ('xs', 276), ('s', 1027), ('m', 275), ('f', 81), ('ff', 75), ('g', 163), ('0a', 2), ('0e', 1), ('xxs', 45), ('xl', 164), ('wide', 785), ('fit', 1082), ('0b', 2), ('0c', 1), ('0d', 2), ('only', 1695), ('left', 2060), ('申し訳', 19), ('ござい', 19), ('ませ', 19), ('ん', 19), ('。', 133), ('この', 261), ('商品', 488), ('は', 19), ('完売', 23), ('し', 23), ('まし', 23), ('た', 39), ('uk0', 2), ('売り切れ', 5), ('ホーム', 244), ('レディース', 244), ('新着', 3), ('アイテム', 582), ('ジュエリー', 1), ('イヤリング', 8), ('apples', 6), ('figs', 6), ('素材', 436), ('構成', 240), ('シルバー', 16), ('金メッキ', 1), ('バロック', 1), ('真珠', 1), ('キュービックジルコニア', 1), ('説明', 1), ('装飾', 160), ('なし', 144), ('スタッドピアス', 1), ('大き', 1), ('さ', 359), ('長', 2), ('配送', 696), ('期間', 468), ('と', 791), ('送料', 468), ('シェア', 240), ('する', 240), ('指輪', 5), ('¥', 8958), ('onesize', 6), ('kenneth', 2), ('jay', 2), ('lane', 2), ('mm', 68), ('maison', 95), ('margiela', 93), ('george', 85), ('j', 101), ('love', 102), ('jolie', 29), ('by', 670), ('edward', 27), ('spiers', 27), ('ショッピング', 228), ('ガイド', 441), ('モバイル', 228), ('全て', 456), ('の', 1759), ('デザイナー', 470), ('カテゴリー', 228), ('セキュリティー', 228), ('品質', 228), ('状況', 456), ('返品', 228), ('返金', 228), ('よく', 222), ('ある', 222), ('質問', 222), ('サイズ', 733), ('ログイン', 456), ('オーダー', 228), ('プロフィール', 228), ('dream', 228), ('box', 229), ('プレミア', 228), ('通知', 228), ('会社', 228), ('概要', 228), ('プレス', 228), ('アフィリエイト', 228), ('採用', 228), ('情報', 228), ('yoox', 268), ('プライス', 240), ('コード', 240), ('：', 479), ('qe', 1), ('他', 242), ('こちら', 238), ('も', 238), ('お', 238), ('好き', 238), ('です', 333), ('か', 238), ('？', 238), ('バッグ', 8), ('クロスボディバッグ', 25), ('polo', 18), ('ralph', 9), ('lauren', 11), ('牛革', 23), ('ディテール', 239), ('ミニサイズ', 1), ('エンボスレザー', 1), ('バックル', 47), ('付き', 118), ('ロゴ', 36), ('入り', 70), ('無地', 185), ('マグネット', 1), ('開閉', 36), ('外', 1), ('ポケット', 3), ('あり', 25), ('内', 49), ('側', 49), ('に', 69), ('ファスナー', 25), ('調節', 1), ('可能', 2), ('な', 2), ('ショルダーストラップ', 1), ('レザー', 190), ('製', 7), ('スト', 23), ('ラップ', 3), ('裏地', 28), ('繊維', 256), ('で', 8), ('ない', 8), ('動物', 176), ('性', 186), ('使用', 60), ('メッセンジャー', 1), ('奥行き', 4), ('高', 340), ('幅', 4), ('カーディガン', 5), ('ポロシャツ', 1), ('プルオーバー', 19), ('スニーカー', 389), ('rebecca', 6), ('minkoff', 6), ('anya', 1), ('hindmarch', 1), ('diesel', 7), ('ブラウン', 9), ('ex', 1), ('シャツ', 25), ('＆', 46), ('ブラウス', 38), ('ann', 18), ('demeulemeester', 18), ('コットン', 3), ('布地', 61), ('フロント', 1), ('ボタン', 2), ('長袖', 1), ('袖口', 1), ('定番', 1), ('カラー', 18), ('ボンバージャケット', 5), ('ショート', 315), ('ブーツ', 399), ('ｔシャツ', 15), ('ロング', 13), ('ワンピース', 41), ('・', 51), ('ドレス', 39), ('moschino', 11), ('レース', 3), ('golden', 3), ('goose', 3), ('deluxe', 3), ('brand', 428), ('maiocci', 1), ('ホワイト', 25), ('日本', 65), ('最後', 54), ('一', 54), ('点', 54), ('uv', 1), ('ハンドバッグ', 45), ('salvatore', 26), ('ferragamo', 26), ('イタリア製', 95), ('イタリア', 95), ('クオリティ', 95), ('クリエイティビティ', 95), ('が', 95), ('感じ', 95), ('られる', 95), ('革', 135), ('ミディアムサイズ', 1), ('キース', 1), ('トラップ', 1), ('取り外し', 1), ('持ち', 1), ('手', 1), ('マルチ', 17), ('デザイン', 17), ('コンビネーション', 1), ('ロック', 1), ('ライニング', 159), ('クラッチ', 1), ('モカシン', 45), ('naj', 1), ('oleari', 1), ('gattinoni', 1), ('the', 2416), ('cambridge', 1), ('satchel', 1), ('company', 3), ('gabs', 1), ('katie', 3), ('grand', 3), ('loves', 3), ('hogan', 7), ('パステル', 1), ('ブルー', 11), ('vo', 1), ('シューズ', 472), ('パンプス', 124), ('miu', 108), ('ひも', 40), ('ラウンドトゥ', 194), ('フラット', 12), ('フォーム', 10), ('ロープ', 4), ('ウェッジソール', 2), ('ラバーソール', 150), ('以外', 168), ('を', 242), ('含む', 168), ('ヒール', 478), ('プラットフォーム', 40), ('トップス', 12), ('シルク', 10), ('ミニ', 22), ('ストライプ', 8), ('柄', 12), ('bagatt', 6), ('giuseppe', 40), ('zanotti', 40), ('dolce', 42), ('gabbana', 42), ('オレンジ', 2), ('pj', 2), ('サンダル', 1134), ('peter', 26), ('pilotto', 26), ('メタル', 20), ('ラップストラップ', 16), ('ノー', 86), ('レザーソール', 84), ('ソング', 18), ('ひざ', 22), ('丈', 92), ('fiorifrancesi', 2), ('cross', 71), ('walk', 42), ('gaimo', 34), ('cantarelli', 4), ('レッド', 24), ('jm', 2), ('aquazzura', 49), ('スエード', 46), ('加工', 94), ('ツートーンカラーデザイン', 26), ('ピン', 24), ('カバードヒール', 46), ('バレリーナ', 60), ('bruno', 42), ('premi', 32), ('casadei', 4), ('mn', 2), ('（', 24), ('カーフ', 22), ('）', 24), ('ラフィア', 4), ('ラス', 20), ('人工', 20), ('ダイアモンド', 20), ('コントラスト', 16), ('なっ', 16), ('スネークスキンプリント', 8), ('roger', 15), ('vivier', 15), ('sergio', 4), ('rossi', 17), ('tod', 50), (\"'\", 575), ('le', 96), ('capricciose', 2), ('®', 16), ('ancarani', 2), ('フューシャ', 4), ('of', 612), ('rochas', 30), ('紡績', 78), ('サテン', 14), ('roberto', 19), ('del', 10), ('carlo', 14), ('kanna', 4), ('teva', 2), ('céline', 32), ('サンド', 4), ('ks', 2), ('ミュール', 216), ('proenza', 38), ('schouler', 38), ('ナロートゥ', 20), ('感', 68), ('小さめ', 40), ('sigerson', 30), ('morrison', 30), ('pollini', 2), ('bianca', 12), ('di', 12), ('weejuns', 4), ('h', 156), ('bass', 4), ('co', 37), ('タイトフィット', 80), ('在庫', 12), ('残り', 12), ('わずか', 12), ('nw', 4), ('dries', 24), ('van', 24), ('noten', 24), ('アニマル', 2), ('スクエアトゥ', 22), ('彫刻', 6), ('santoni', 6), ('chie', 4), ('mihara', 4), ('paolo', 4), ('simonini', 4), ('khrio', 2), ('maria', 5), ('barcelo', 2), ('グレー', 6), ('mj', 2), ('prada', 36), ('スクエア', 52), ('marni', 92), ('steve', 260), ('madden', 260), ('em', 2), ('adidas', 85), ('originals', 70), ('samba', 2), ('lifestyle', 30), ('nine', 22), ('west', 24), ('y', 33), ('vans', 46), ('laura', 4), ('biagiotti', 4), ('new', 741), ('balance', 4), ('ブラック', 88), ('pm', 2), ('miista', 40), ('dkny', 11), ('norma', 2), ('baker', 4), ('coliac', 4), ('martina', 4), ('grasselli', 4), ('似', 4), ('て', 4), ('いる', 4), ('follow', 6), ('on', 334), ('iphone', 6), ('android', 6), ('アプリ', 6), ('ダウンロード', 6), ('ジェオメトリックヒール', 40), ('大きめ', 28), ('twin', 17), ('set', 12), ('simona', 10), ('barbieri', 10), ('seller', 2), ('pierre', 26), ('darré', 22), ('ワイド', 56), ('フィット', 56), ('if', 51), ('キャンバス', 10), ('地', 12), ('ストレッチ', 10), ('インサート', 10), ('スリップオン', 2), ('fenty', 4), ('puma', 18), ('rihanna', 4), ('converse', 44), ('all', 570), ('star', 42), ('do', 39), ('エスパドリーユ', 78), ('soludos', 14), ('刺繍', 8), ('溝', 18), ('espadrij', 2), ('ベージュ', 6), ('ii', 10), ('山羊', 4), ('ストロー', 2), ('レーヨン', 2), ('isabel', 14), ('marant', 4), ('gucci', 2), ('valentino', 32), ('garavani', 28), ('hannibal', 4), ('laguna', 4), ('bd', 2), ('ステッチ', 8), ('サボ', 12), ('erika', 6), ('cavallini', 2), ('oe', 2), ('幾何', 2), ('学', 2), ('模様', 2), ('ugg', 2), ('australia', 27), ('wd', 2), ('アンクルストラップ', 20), ('sonia', 8), ('rykiel', 4), ('arezzo', 2), ('jimmy', 16), ('choo', 16), ('alberta', 2), ('ferretti', 2), ('rene', 6), ('caovilla', 6), ('rr', 2), ('パンツ', 16), ('ストレート', 2), ('desigual', 4), ('moma', 2), ('p', 58), ('r', 3), ('o', 146), ('nd', 2), ('free', 731), ('people', 25), ('jeffrey', 47), ('campbell', 47), ('rêve', 2), ('un', 2), ('jour', 2), ('la', 4), ('corte', 2), ('della', 2), ('pelle', 2), ('franco', 2), ('ballin', 4), ('bibi', 6), ('lou', 6), ('manas', 2), ('オークル', 2), ('wa', 2), ('レースアップシューズ', 22), ('fd', 4), ('スタッズ', 2), ('fabi', 2), ('msgm', 8), ('機能', 10), ('falcon', 2), ('スポーツ', 2), ('スカート', 30), ('reebok', 40), ('vv', 2), ('racine', 2), ('carrée', 2), ('gb', 2), ('エナメル', 12), ('フラワー', 2), ('クラシック', 4), ('lanvin', 6), ('ka', 2), ('pinko', 2), ('silvian', 2), ('heach', 2), ('ライト', 6), ('ピンク', 10), ('kv', 4), ('see', 59), ('chloé', 53), ('スウェット', 4), ('hereu', 2), ('fendi', 10), ('magli', 20), ('vq', 2), ('guess', 4), ('モーブ', 2), ('pv', 2), ('autre', 10), ('chose', 10), ('コーラル', 4), ('aq', 2), ('silla', 4), ('philippe', 7), ('model', 6), ('geox', 8), ('primadonna', 6), ('dsquared', 6), ('geneve', 2), ('ro', 2), ('acne', 33), ('studios', 27), ('ジーンズ', 12), ('カシミヤ', 4), ('ニット', 4), ('lola', 2), ('cruz', 2), ('alberto', 2), ('fermani', 2), ('ns', 2), ('プラスティック', 2), ('cuplé', 12), ('stella', 37), ('mccartney', 37), ('shoes', 2502), ('gt', 2), ('cedric', 2), ('charlier', 2), ('fratelli', 6), ('rossetti', 6), ('tw', 2), ('ポリウレタン', 12), ('ラメ', 34), ('…', 54), ('鉛色', 2), ('wj', 2), ('schutz', 41), ('oroscuro', 2), ('zinda', 4), ('anaki', 2), ('gg', 2), ('paula', 26), ('cademartori', 26), ('ショルダーバッグ', 4), ('fe', 3), ('saint', 29), ('laurent', 28), ('ケープ', 4), ('cult', 4), ('トングサンダル', 2), ('ハンド', 2), ('メイド', 2), ('七', 10), ('分', 10), ('イブニング', 2), ('michael', 222), ('kors', 111), ('marypaz', 2), ('n', 247), ('°', 40), ('lumberjack', 2), ('ipanema', 3), ('with', 1184), ('starck', 3), ('op', 2), ('リボン', 4), ('noa', 2), ('harmon', 2), ('andrea', 4), ('morelli', 4), ('marcela', 4), ('yil', 4), ('marina', 2), ('grey', 221), ('プラチナ', 4), ('om', 2), ('essentiel', 2), ('antwerp', 2), ('leo', 2), ('studio', 12), ('design', 2585), ('oo', 2), ('筒', 60), ('周り', 60), ('fiorentini', 2), ('morobē', 2), ('hardy', 4), ('羽根', 6), ('財布', 4), ('luca', 4), ('valentini', 4), ('nu', 2), ('デニム', 8), ('クロップドパンツ', 8), ('キュロット', 8), ('sn', 2), ('ルック', 16), ('完成', 16), ('せる', 16), ('なら', 16), ('sam', 36), ('edelman', 36), ('コーン', 6), ('pelledoca', 2), ('karl', 10), ('lagerfeld', 10), ('cafènoir', 6), ('ts', 2), ('senso', 72), ('dune', 36), ('london', 140), ('twist', 26), ('tango', 26), ('my', 2), ('get', 44), ('it', 567), ('ci', 2), ('プリント', 2), ('stephen', 6), ('good', 41), ('space', 2), ('style', 300), ('concept', 2), ('ta', 2), ('ポリ', 4), ('塩化', 4), ('ビニル', 4), ('apepazza', 2), ('farrutx', 2), ('gentryportofino', 2), ('mo', 2), ('バック', 4), ('パック', 4), ('ヒップ', 4), ('du', 2), ('atos', 2), ('lombardini', 2), ('ik', 2), ('ih', 4), ('deerupt', 4), ('nike', 6), ('colors', 2), ('california', 4), ('ishu', 2), ('xr', 2), ('kat', 26), ('maconie', 26), ('タッセル', 2), ('vagabond', 4), ('shoemakers', 4), ('lerre', 10), ('alexander', 77), ('wang', 66), ('ma', 13), ('ソフト', 8), ('fk', 2), ('ラバー', 6), ('キーホルダー', 2), ('rodo', 2), ('marc', 21), ('ellis', 6), ('vc', 2), ('toni', 2), ('pons', 2), ('ras', 2), ('グリーン', 4), ('id', 2), ('anderson', 14), ('audley', 2), ('pantofola', 4), ('oro', 4), ('カーキ', 4), ('daniela', 2), ('mori', 2), ('milano', 2), ('suecomma', 2), ('bonnie', 2), ('ミリタリー', 2), ('lj', 2), ('バイカラーデザイン', 2), ('gianni', 6), ('gregori', 4), ('hk', 2), ('フリル', 4), ('les', 2), ('chausseurs', 2), ('coral', 4), ('blue', 113), ('赤茶色', 2), ('xn', 2), ('ライン', 2), ('ストーン', 2), ('バックストラップシューズ', 2), ('melissa', 6), ('kf', 2), ('キューバ', 2), ('ンヒール', 2), ('トレンチコート', 4), ('unlace', 4), ('jacobs', 15), ('gf', 2), ('theory', 2), ('シルクトップス', 4), ('jil', 16), ('sander', 16), ('コート', 10), ('rag', 21), ('bone', 21), ('テーラードジャケット', 6), ('paloma', 11), ('barceló', 11), ('mcqueen', 11), ('joseph', 24), ('navy', 138), ('gu', 2), ('kendall', 62), ('kylie', 62), ('編み', 2), ('パーフォレーション', 2), ('x', 17), ('another', 2), ('project', 2), ('wl', 2), ('albano', 2), ('oscar', 2), ('tiye', 2), ('ゴム', 4), ('ac', 2), ('giancarlo', 6), ('paoli', 6), ('blumarine', 4), ('jeremy', 2), ('scott', 2), ('アジュールブルー', 2), ('px', 2), ('ベルベット', 6), ('bams', 2), ('vidorreta', 4), ('スカイ', 2), ('ap', 2), ('avril', 2), ('gau', 2), ('clanto', 2), ('aj', 2), ('ビーズ', 2), ('アクリル', 2), ('ガラス', 2), ('gl', 2), ('子', 2), ('donna', 2), ('soft', 83), ('ローズ', 2), ('ni', 2), ('leonardo', 12), ('principi', 12), ('dp', 4), ('sgn', 4), ('ho', 2), ('ki', 2), ('cecconello', 12), ('チェック', 4), ('スティレットヒール', 8), ('lx', 2), ('sf', 4), ('marian', 8), ('カッ', 8), ('パー', 8), ('sp', 13), ('dg', 2), ('合成', 8), ('皮革', 6), ('formentini', 2), ('per', 2), ('noy', 2), ('bologna', 2), ('fv', 2), ('camilla', 2), ('elphick', 2), ('balenciaga', 16), ('lr', 2), ('スリッポン', 4), ('clone', 2), ('woman', 2), ('common', 2), ('projects', 2), ('内側', 4), ('chio', 2), ('mx', 2), ('ue', 2), ('gigi', 12), ('hadid', 12), ('tommy', 12), ('hilfiger', 12), ('ネオプレーン', 2), ('officine', 2), ('creative', 6), ('italia', 2), ('hr', 2), ('gianvito', 13), ('laurence', 6), ('dacade', 6), ('rm', 2), ('shoeshibar', 2), ('islo', 4), ('isabella', 4), ('lorusso', 4), ('be', 404), ('john', 3), ('galliano', 2), ('qx', 2), ('estnation', 2), ('emanuela', 2), ('caruso', 2), ('capri', 2), ('ab', 3), ('アイボリー', 2), ('sport', 4), ('cv', 2), ('robert', 11), ('clergerie', 11), ('vic', 2), ('ed', 2), ('phillip', 19), ('lim', 18), ('ダーク', 4), ('bi', 2), ('マジック', 2), ('テープ', 2), ('chiara', 2), ('ferragni', 2), ('sacha', 2), ('fq', 2), ('sargossa', 2), ('deimille', 2), ('jn', 2), ('ジャージー', 6), ('marra', 2), ('what', 75), ('for', 460), ('bk', 5), ('wood', 4), ('th', 2), ('rg', 2), ('cesare', 2), ('paciotti', 2), ('pazolini', 4), ('icône', 2), ('ao', 2), ('mi', 2), ('グリッター', 2), ('manebí', 2), ('kenzo', 2), ('espadrilles', 70), ('mf', 2), ('stokton', 2), ('ml', 2), ('花', 2), ('ブルゾン', 4), ('sj', 2), ('nila', 4), ('oi', 2), ('alexandre', 20), ('birman', 20), ('dt', 2), ('mbym', 2), ('blk', 2), ('dnm', 2), ('ja', 2), ('おすすめ', 2), ('セレクション', 2), ('xo', 2), ('opening', 13), ('ceremony', 13), ('チューブ', 2), ('vd', 4), ('オーバーニー', 2), ('hc', 2), ('クリーパー', 2), ('オールインワン', 2), ('ash', 41), ('tosca', 2), ('blu', 2), ('church', 2), ('sebastian', 2), ('charlotte', 4), ('olympia', 3), ('giannico', 2), ('armando', 2), ('olivieri', 2), ('ll', 10), ('テーパードパンツ', 2), ('pt', 2), ('クロコダイルプリント', 2), ('エコレザーソール', 2), ('manuela', 4), ('dardozzi', 4), ('giordana', 2), ('nicholas', 2), ('kirkwood', 2), ('vee', 2), ('vf', 2), ('チェルシーブーツ', 2), ('blugirl', 2), ('ゴールド', 4), ('df', 2), ('ge', 2), ('uw', 2), ('ジャカード', 2), ('buttero', 2), ('solovière', 2), ('paris', 49), ('nt', 2), ('home', 240), ('raid', 212), ('viera', 50), ('black', 1945), ('snaffle', 58), ('detail', 178), ('flat', 453), ('video', 175), ('sweet', 178), ('looks', 224), ('from', 623), ('ground', 176), ('up', 1158), ('slip', 201), ('almond', 115), ('toe', 730), ('asos', 3813), ('ridley', 36), ('high', 344), ('waist', 36), ('£', 5132), ('optic', 17), ('white', 179), ('please', 2245), ('select', 2321), ('add', 2312), ('to', 3701), ('bag', 2081), ('try', 1516), ('again', 1649), ('delivery', 710), ('worldwide', 155), ('right', 440), ('returns', 691), ('suede', 617), ('footwear', 132), ('takes', 234), ('inspiration', 111), ('catwalk', 40), ('and', 2023), ('runs', 34), ('head', 53), ('desk', 34), ('date', 34), ('its', 134), ('sandals', 163), ('ankle', 683), ('boots', 924), ('pointed', 406), ('flats', 148), ('suit', 76), ('every', 275), ('occasion', 34), ('just', 329), ('give', 203), ('them', 243), ('quick', 141), ('wipe', 217), ('clean', 189), ('day', 396), ('everyday', 178), ('ease', 178), ('smooth', 167), ('upper', 651), ('’', 441), ('real', 428), ('deal', 189), ('textile', 400), ('lining', 401), ('other', 875), ('materials', 797), ('sole', 777), ('marketplace', 213), ('help', 301), ('faqs', 213), ('women', 73), ('men', 167), ('search', 142), ('items', 71), ('brands', 101), ('i', 214), ('t', 411), ('accessoriesactivewearface', 71), ('bodyliving', 71), ('giftsbrands', 71), ('outlet', 71), ('marketplaceinspiration', 71), ('share', 286), ('colour', 357), ('product', 1046), ('details', 591), ('code', 537), ('look', 1110), ('after', 360), ('me', 654), ('about', 430), ('show', 400), ('more', 497), ('buy', 121), ('you', 1159), ('might', 227), ('also', 171), ('like', 177), ('maderia', 24), ('loafer', 135), ('welcome', 9), ('re', 49), ('philippines', 23), ('change', 9), ('shoppers', 14), ('derby', 420), ('faux', 704), ('leather', 3079), ('lace', 643), ('fastening', 398), ('textured', 229), ('tread', 161), ('oxford', 305), ('emb', 42), ('river', 225), ('island', 225), ('smart', 76), ('giving', 218), ('confidence', 220), ('express', 272), ('your', 687), ('individuality', 238), ('major', 218), ('trends', 248), ('adding', 224), ('freshest', 164), ('spin', 218), ('gear', 164), ('need', 524), ('–', 469), ('including', 212), ('our', 871), ('ranges', 224), ('plus', 164), ('tall', 234), ('makeup', 206), ('collection', 304), ('create', 164), ('coolest', 200), ('then', 218), ('switch', 224), ('tomorrow', 218), ('make', 172), ('night', 219), ('everything', 242), ('between', 220), ('as', 527), ('extraordinary', 218), ('are', 335), ('remove', 20), ('light', 101), ('marks', 20), ('damp', 154), ('sponge', 48), ('guide', 542), ('recently', 23), ('viewed', 23), ('clear', 23), ('invisible', 363), ('socks', 374), ('mini', 264), ('multi', 352), ('dr', 173), ('martens', 162), ('eye', 38), ('gibson', 7), ('round', 216), ('top', 37), ('stitch', 22), ('air', 25), ('cushioned', 32), ('bonus', 7), ('abrasion', 7), ('resistant', 14), ('sculpt', 11), ('pack', 114), ('trainer', 22), ('out', 295), ('stock', 231), ('neck', 55), ('ruffle', 41), ('body', 31), ('emmeline', 26), ('refined', 28), ('boot', 147), ('vegan', 57), ('cherry', 26), ('stacked', 107), ('brogues', 178), ('jadon', 18), ('chunky', 137), ('flatform', 17), ('define', 18), ('generations', 18), ('rebel', 48), ('anti', 18), ('fashion', 83), ('yellow', 18), ('welt', 18), ('stitching', 25), ('an', 60), ('each', 18), ('pair', 55), ('is', 245), ('durable', 38), ('comfortable', 18), ('go', 60), ('iconic', 18), ('complete', 30), ('any', 26), ('or', 161), ('stamp', 30), ('through', 56), ('bright', 18), ('colours', 18), ('finishes', 24), ('strap', 115), ('yourself', 20), ('into', 42), ('sunny', 18), ('toes', 25), ('days', 20), ('treat', 190), ('protector', 190), ('keeps', 68), ('looking', 68), ('fresher', 68), ('longer', 68), ('brogue', 702), ('pier', 87), ('brown', 230), ('this', 398), ('never', 7), ('gets', 7), ('old', 19), ('slim', 181), ('classic', 220), ('facebookinstagramsnapchat', 11), ('mantra', 31), ('penny', 14), ('front', 111), ('apron', 35), ('benefit', 22), ('gimme', 22), ('brow', 33), ('shade', 240), ('sterlin', 11), ('silver', 45), ('maxwell', 32), ('loafers', 151), ('montie', 23), ('bow', 119), ('cleated', 24), ('moment', 8), ('patent', 219), ('interprets', 54), ('unique', 64), ('team', 114), ('denim', 104), ('dresses', 96), ('jackets', 60), ('pieces', 66), ('curve', 54), ('petite', 54), ('maternity', 54), ('invent', 54), ('that', 143), ('yours', 54), ('making', 60), ('life', 74), ('eclectic', 78), ('unexpected', 54), ('now', 66), ('so', 54), ('wardrobe', 113), ('cloth', 126), ('low', 89), ('maintenance', 20), ('let', 36), ('honest', 36), ('can', 442), ('tell', 36), ('difference', 36), ('sock', 63), ('friendly', 23), ('page', 2), ('isn', 2), ('working', 2), ('www', 127), ('com', 127), ('didn', 8), ('send', 1), ('data', 1), ('err', 253), ('empty', 2), ('response', 2), ('reload', 86), ('broderie', 11), ('cami', 22), ('beige', 104), ('crop', 44), ('culottes', 11), ('pink', 55), ('velvet', 122), ('we', 36), ('really', 13), ('feeling', 13), ('messenger', 15), ('tassel', 44), ('sh', 15), ('emboss', 72), ('embossed', 46), ('shape', 49), ('extreme', 55), ('super', 209), ('ski', 55), ('menswear', 66), ('shuts', 24), ('down', 107), ('season', 38), ('latest', 24), ('products', 52), ('designed', 40), ('sold', 29), ('across', 36), ('world', 32), ('update', 38), ('garms', 24), ('shapes', 42), ('fits', 116), ('essential', 24), ('tees', 24), ('point', 87), ('outerwear', 36), ('jeans', 96), ('skinny', 250), ('straight', 31), ('beyond', 24), ('munch', 30), ('tailored', 24), ('line', 19), ('boohoo', 33), ('stripe', 66), ('shirt', 55), ('mojito', 8), ('score', 12), ('win', 12), ('matter', 12), ('dress', 34), ('own', 38), ('label', 40), ('polished', 51), ('prom', 12), ('party', 54), ('based', 36), ('scour', 12), ('globe', 12), ('nail', 12), ('goals', 12), ('shaped', 21), ('smar', 99), ('derbies', 24), ('these', 91), ('little', 84), ('upkeep', 84), ('glamorous', 65), ('cute', 46), ('trim', 44), ('hey', 7), ('frill', 7), ('seekers', 7), ('ultimate', 44), ('crew', 44), ('nec', 44), ('latch', 56), ('two', 42), ('ballet', 139), ('suedette', 16), ('pump', 10), ('mix', 57), ('vintage', 30), ('influences', 48), ('contemporary', 20), ('partywear', 18), ('at', 129), ('heart', 18), ('manchester', 18), ('where', 20), ('individual', 18), ('key', 18), ('carefully', 18), ('sourced', 18), ('fabrics', 24), ('prints', 24), ('channel', 30), ('fun', 18), ('youthful', 18), ('vibe', 18), ('their', 64), ('forward', 26), ('shorts', 24), ('playsuits', 18), ('match', 24), ('personality', 20), ('tan', 637), ('item', 30), ('does', 30), ('ship', 35), ('cuba', 25), ('iran', 25), ('sudan', 25), ('syrian', 25), ('arab', 25), ('republic', 25), ('myanmar', 25), ('joins', 30), ('great', 32), ('british', 30), ('street', 62), ('showcasing', 30), ('best', 85), ('upcoming', 30), ('staying', 30), ('ahead', 30), ('game', 50), ('graphic', 36), ('print', 71), ('shirts', 36), ('accessories', 96), ('movies', 30), ('effortless', 32), ('inner', 48), ('twisted', 7), ('back', 70), ('tab', 22), ('flare', 11), ('trouser', 33), ('mega', 16), ('heels', 265), ('tempo', 8), ('minus', 8), ('sheen', 9), ('feels', 9), ('finish', 40), ('closure', 14), ('heel', 421), ('part', 34), ('casual', 63), ('natural', 60), ('stretch', 25), ('contr', 40), ('mossy', 29), ('seriously', 28), ('sophisticated', 23), ('ons', 28), ('metal', 24), ('detailing', 14), ('mango', 22), ('side', 64), ('shoe', 198), ('material', 8), ('slipper', 15), ('imitation', 25), ('form', 25), ('flattery', 25), ('rose', 21), ('gold', 35), ('block', 161), ('heeled', 137), ('metallic', 33), ('time', 9), ('shine', 24), ('open', 58), ('fuller', 11), ('bust', 11), ('eco', 11), ('ivory', 33), ('forms', 11), ('bare', 11), ('backles', 11), ('pleated', 11), ('midi', 22), ('skirt', 22), ('palmer', 40), ('lost', 35), ('ink', 129), ('cut', 21), ('court', 112), ('square', 53), ('sandal', 16), ('dark', 20), ('green', 14), ('polyurethane', 40), ('rubber', 154), ('boat', 208), ('gum', 7), ('grip', 7), ('rrp', 32), ('raw', 13), ('indigo', 42), ('monoc', 22), ('there', 30), ('animal', 21), ('ingredients', 14), ('here', 135), ('panels', 7), ('eyelet', 15), ('creeper', 40), ('stone', 44), ('cord', 16), ('partner', 7), ('better', 7), ('cotton', 20), ('initiative', 7), ('improve', 14), ('farming', 7), ('globally', 7), ('chinos', 11), ('mid', 101), ('protect', 26), ('cleaner', 20), ('trou', 11), ('maintain', 24), ('appearance', 24), ('condition', 24), ('suitable', 24), ('cap', 57), ('thinking', 7), ('jean', 55), ('grosgrain', 22), ('tone', 49), ('hardware', 30), ('farleigh', 22), ('wai', 22), ('brave', 13), ('soul', 11), ('ruched', 11), ('blous', 11), ('bobbi', 11), ('lip', 25), ('balm', 25), ('spf', 25), ('marky', 8), ('thing', 14), ('pamela', 15), ('tie', 26), ('serious', 7), ('sass', 7), ('included', 7), ('height', 139), ('premium', 24), ('embroidered', 26), ('designb', 11), ('exclusive', 17), ('hoop', 11), ('pebble', 24), ('extra', 16), ('cuff', 14), ('boxfresh', 14), ('trims', 15), ('canvas', 61), ('tightly', 7), ('woven', 10), ('tear', 7), ('fabric', 49), ('orsay', 15), ('fail', 7), ('safe', 7), ('same', 7), ('length', 38), ('wider', 7), ('satin', 49), ('lepel', 11), ('lexi', 11), ('strapless', 22), ('bra', 11), ('strappy', 16), ('snakestiletto', 8), ('stiletto', 13), ('nude', 25), ('faith', 93), ('chloe', 15), ('tea', 11), ('mint', 14), ('brit', 12), ('favourites', 18), ('fast', 12), ('trend', 14), ('led', 16), ('collections', 12), ('chic', 26), ('parisian', 12), ('pumps', 175), ('studded', 147), ('western', 12), ('skyscraper', 12), ('platform', 140), ('hot', 18), ('comes', 12), ('edit', 15), ('wear', 64), ('bags', 76), ('oversized', 12), ('slouchy', 18), ('styles', 46), ('clutches', 18), ('fillers', 20), ('instantly', 7), ('place', 7), ('problem', 7), ('areas', 7), ('indented', 7), ('construction', 9), ('curved', 7), ('ethylene', 13), ('vinyl', 13), ('acetate', 13), ('hig', 11), ('gransta', 8), ('wellies', 16), ('cone', 8), ('chelsea', 30), ('avoid', 6), ('contact', 236), ('liquids', 6), ('main', 8), ('joggers', 11), ('chambray', 8), ('red', 42), ('detai', 8), ('known', 6), ('touches', 6), ('directional', 12), ('expect', 12), ('range', 12), ('covering', 6), ('newest', 6), ('cuts', 6), ('knitwear', 6), ('step', 14), ('glossy', 21), ('triple', 7), ('contrast', 14), ('rounded', 13), ('beat', 7), ('coated', 6), ('pull', 69), ('bear', 11), ('trousers', 33), ('house', 12), ('dedicated', 6), ('offer', 6), ('clothing', 54), ('created', 32), ('exclusively', 6), ('leopard', 54), ('mindful', 9), ('snake', 81), ('moonshine', 9), ('mules', 75), ('linton', 9), ('office', 9), ('aruba', 9), ('effect', 59), ('wild', 7), ('meadow', 7), ('styling', 7), ('when', 33), ('want', 7), ('khaki', 14), ('burgundy', 8), ('minkie', 7), ('embellishment', 13), ('weekday', 11), ('ace', 11), ('leg', 33), ('vero', 22), ('moda', 22), ('snow', 28), ('loaf', 8), ('lightly', 13), ('count', 6), ('staple', 37), ('oz', 11), ('katy', 30), ('sharp', 14), ('stepping', 21), ('level', 21), ('quite', 21), ('literally', 21), ('morgan', 11), ('pencil', 11), ('dott', 11), ('microfibre', 11), ('dolley', 8), ('carlin', 8), ('sling', 31), ('missguided', 16), ('barely', 16), ('croc', 18), ('toms', 58), ('elastic', 17), ('v', 95), ('easy', 63), ('off', 936), ('comfort', 7), ('insole', 7), ('arch', 7), ('insert', 7), ('added', 7), ('support', 7), ('piece', 13), ('outsole', 7), ('purchased', 13), ('child', 13), ('wash', 28), ('drizzle', 8), ('alpargata', 8), ('rivera', 8), ('crochet', 8), ('canada', 5), ('during', 6), ('trip', 6), ('argentina', 12), ('american', 8), ('traveller', 6), ('blake', 6), ('mycoskie', 6), ('befriended', 6), ('children', 12), ('found', 33), ('they', 16), ('had', 6), ('feet', 8), ('borne', 6), ('desire', 8), ('he', 14), ('met', 6), ('would', 6), ('given', 6), ('tougher', 6), ('than', 30), ('tuxedo', 11), ('trous', 11), ('work', 17), ('ships', 10), ('eea', 10), ('countries', 10), ('smarten', 12), ('inspired', 14), ('offering', 16), ('fresh', 14), ('take', 92), ('made', 102), ('jarlo', 11), ('fishtail', 11), ('maxi', 11), ('stick', 11), ('usabl', 11), ('speakeasy', 16), ('lead', 7), ('magenta', 8), ('nancy', 8), ('piped', 15), ('edging', 15), ('lyla', 15), ('kitten', 34), ('guaranteed', 7), ('outfit', 14), ('fluffy', 7), ('kind', 7), ('but', 18), ('tiered', 11), ('subtle', 8), ('soulful', 8), ('spirit', 10), ('slingback', 88), ('elasticated', 7), ('inserts', 51), ('monki', 44), ('wrap', 11), ('zip', 71), ('cage', 8), ('rust', 8), ('peep', 10), ('standout', 6), ('feminine', 6), ('statement', 12), ('cool', 10), ('which', 14), ('sit', 6), ('alongside', 6), ('swimwear', 6), ('blac', 9), ('monk', 115), ('chariot', 15), ('plain', 14), ('doubt', 7), ('ord', 22), ('cream', 28), ('jumper', 11), ('wit', 27), ('hit', 6), ('hero', 6), ('fix', 6), ('appropriate', 6), ('pretty', 6), ('much', 8), ('covers', 6), ('bases', 6), ('think', 12), ('embellished', 167), ('comfy', 6), ('choose', 6), ('totes', 6), ('cont', 9), ('punching', 7), ('over', 23), ('glad', 7), ('longline', 11), ('blazer', 11), ('attie', 8), ('maxfield', 8), ('fringed', 50), ('synthetic', 6), ('defining', 6), ('customer', 182), ('attitude', 6), ('rather', 6), ('age', 8), ('put', 16), ('sculptural', 6), ('diffusion', 6), ('introduces', 6), ('too', 19), ('textural', 6), ('double', 7), ('buckle', 61), ('tapered', 11), ('natur', 8), ('cambria', 7), ('polka', 11), ('dot', 11), ('orange', 14), ('cannot', 5), ('usa', 5), ('touch', 13), ('operator', 6), ('less', 7), ('ally', 15), ('boxy', 11), ('bro', 11), ('vixen', 8), ('waffle', 22), ('panel', 7), ('pin', 7), ('moulded', 7), ('pa', 11), ('leat', 8), ('easiest', 7), ('way', 7), ('upgrade', 7), ('blouse', 11), ('culotte', 11), ('ecru', 14), ('lofty', 8), ('lassie', 8), ('beau', 8), ('blush', 8), ('taking', 6), ('wearable', 6), ('mixing', 6), ('structured', 6), ('silhouettes', 10), ('fluid', 6), ('flowing', 6), ('placement', 6), ('dashes', 6), ('already', 7), ('knew', 7), ('mesh', 39), ('tory', 21), ('burch', 20), ('penelope', 8), ('calfskin', 15), ('repetto', 53), ('gisele', 16), ('ballerina', 17), ('castaner', 63), ('jam', 20), ('mary', 25), ('jane', 25), ('kate', 9), ('spade', 9), ('york', 8), ('elizabeth', 4), ('k', 4), ('bennett', 4), ('floret', 4), ('fall', 18), ('checklist', 18), ('designers', 50), ('sale', 18), ('perfect', 5), ('italian', 5), ('sizes', 220), ('information', 239), ('true', 119), ('sizing', 40), ('cart', 51), ('wish', 191), ('list', 191), ('shipping', 132), ('shop', 124), ('ph', 72), ('en', 72), ('usd', 2299), ('international', 54), ('sign', 78), ('register', 54), ('color', 215), ('designer', 135), ('forbes', 2), ('“', 2), ('most', 2), ('powerful', 2), ('”', 2), ('award', 2), ('winning', 2), ('whose', 4), ('aesthetic', 6), ('echoes', 2), ('her', 4), ('personal', 2), ('eponymous', 2), ('has', 30), ('become', 6), ('synonymous', 2), ('sophistication', 4), ('elegance', 4), ('refinement', 2), ('since', 8), ('debut', 2), ('emanating', 2), ('attainable', 2), ('luxury', 2), ('sportswear', 2), ('finest', 2), ('impeccably', 2), ('crafted', 10), ('selection', 2), ('apparel', 4), ('handbags', 2), ('coveted', 6), ('likes', 2), ('gwyneth', 2), ('paltrow', 2), ('jennifer', 2), ('lopez', 2), ('oprah', 2), ('winfrey', 2), ('reviews', 30), ('sorel', 35), ('hours', 16), ('cowhide', 30), ('waterproof', 5), ('antiqued', 5), ('wedge', 65), ('qeb', 8), ('xeth', 8), ('jaba', 8), ('combat', 32), ('joan', 12), ('rain', 26), ('gloss', 4), ('arctic', 8), ('quarry', 5), ('born', 12), ('delivered', 2), ('explorers', 2), ('comfortably', 2), ('splendor', 2), ('unknown', 2), ('fearless', 2), ('luxurious', 2), ('flawless', 2), ('awakened', 2), ('designs', 2), ('defy', 2), ('invigorate', 2), ('surprise', 2), ('fashionably', 2), ('bold', 4), ('unapologetically', 2), ('daring', 2), ('beautifully', 2), ('sneakers', 136), ('sultry', 2), ('summer', 2), ('turn', 4), ('heads', 2), ('while', 2), ('tackling', 2), ('tundra', 2), ('clads', 2), ('stuart', 172), ('weitzman', 174), ('bromley', 4), ('fur', 30), ('dyed', 5), ('sheep', 5), ('shearling', 20), ('spain', 45), ('accent', 10), ('tabitha', 6), ('simmons', 6), ('blakie', 4), ('sabot', 4), ('ever', 4), ('roree', 5), ('flamingo', 5), ('conversions', 10), ('career', 2), ('wall', 2), ('his', 14), ('beauty', 4), ('attention', 2), ('technical', 2), ('expertise', 2), ('him', 2), ('instead', 2), ('worked', 2), ('father', 2), ('took', 9), ('forged', 4), ('tradition', 2), ('stylish', 4), ('stilettos', 2), ('sumptuous', 2), ('leathers', 2), ('embody', 2), ('both', 5), ('quality', 12), ('artistic', 4), ('excellence', 2), ('yuul', 31), ('yie', 30), ('ring', 5), ('geometric', 5), ('optional', 5), ('cocktail', 9), ('pierette', 4), ('karme', 12), ('graceful', 4), ('malone', 13), ('souliers', 13), ('maite', 4), ('ungaro', 4), ('european', 64), ('coming', 4), ('soon', 4), ('laces', 5), ('splendid', 17), ('celine', 10), ('rachel', 17), ('comey', 5), ('dame', 4), ('maira', 5), ('hour', 6), ('shower', 4), ('duffy', 5), ('noir', 10), ('whole', 45), ('half', 55), ('listed', 45), ('french', 14), ('embodies', 4), ('century', 4), ('founded', 6), ('initially', 4), ('gained', 4), ('reputation', 4), ('signature', 6), ('were', 14), ('professional', 4), ('dancers', 4), ('trendsetters', 4), ('alike', 4), ('today', 14), ('original', 4), ('—', 10), ('collaborations', 4), ('huge', 4), ('yohji', 4), ('yamamoto', 4), ('ensure', 4), ('will', 4), ('always', 6), ('mainstay', 4), ('well', 10), ('stocked', 4), ('farah', 4), ('nanny', 8), ('matiko', 34), ('lori', 21), ('obey', 4), ('sculpted', 5), ('exposed', 5), ('pixies', 4), ('shaft', 4), ('gamora', 4), ('agnes', 5), ('tibi', 5), ('caleb', 5), ('maryam', 5), ('nassir', 5), ('zadeh', 5), ('lune', 4), ('reaction', 2), ('around', 2), ('independent', 2), ('emotional', 2), ('sphere', 2), ('booties', 88), ('platforms', 2), ('begins', 4), ('embracing', 2), ('reflecting', 2), ('diversity', 2), ('whether', 2), ('type', 2), ('ethnicity', 2), ('gender', 2), ('aims', 2), ('bring', 2), ('wait', 2), ('quirino', 4), ('tweed', 10), ('covered', 20), ('avory', 4), ('colorblocked', 4), ('fright', 4), ('lug', 16), ('trendy', 4), ('reike', 8), ('nen', 8), ('ribbon', 4), ('mistress', 4), ('castañer', 78), ('rich', 10), ('heritage', 19), ('spanish', 10), ('industry', 10), ('dating', 10), ('founding', 10), ('luis', 10), ('cousin', 10), ('tomas', 10), ('serra', 10), ('business', 10), ('remained', 10), ('family', 10), ('affair', 10), ('passing', 10), ('torch', 10), ('lorenzo', 10), ('who', 12), ('refocused', 10), ('revitalized', 10), ('yves', 10), ('himself', 10), ('requested', 10), ('custom', 10), ('espadrille', 11), ('still', 20), ('highly', 10), ('sought', 10), ('craftsmanship', 10), ('first', 12), ('map', 71), ('roots', 10), ('cabin', 4), ('fever', 5), ('clog', 8), ('stud', 20), ('school', 16), ('pedro', 16), ('garcia', 16), ('fabia', 4), ('clogs', 26), ('story', 2), ('founder', 4), ('dick', 2), ('hayne', 2), ('opened', 2), ('brick', 2), ('mortar', 2), ('store', 2), ('philadelphia', 2), ('evolved', 2), ('urban', 2), ('outfitters', 2), ('later', 2), ('was', 929), ('relaunched', 2), ('entity', 2), ('romantic', 2), ('adventurous', 2), ('caters', 2), ('bohemian', 2), ('highlighting', 2), ('sensibility', 2), ('straps', 5), ('xao', 4), ('witch', 4), ('jerome', 9), ('dreyfuss', 9), ('sandie', 9), ('established', 2), ('europe', 2), ('patrick', 2), ('ithier', 2), ('keeping', 2), ('flirts', 2), ('boundary', 2), ('precision', 2), ('chanel', 2), ('remain', 2), ('years', 4), ('corduroy', 5), ('veronica', 14), ('beard', 14), ('mel', 5), ('visone', 5), ('nassor', 4), ('faustine', 4), ('vince', 18), ('cressler', 4), ('urika', 8), ('finito', 4), ('cuero', 5), ('knit', 15), ('zèlie', 4), ('toga', 4), ('pulla', 4), ('band', 4), ('gosselin', 4), ('waris', 4), ('harlem', 4), ('services', 2), ('personalize', 2), ('connect', 3), ('location', 2), ('pearl', 25), ('crystal', 7), ('accents', 5), ('mixed', 5), ('ribbed', 5), ('tasha', 8), ('loeffler', 4), ('randall', 4), ('carter', 4), ('rapture', 4), ('stockholm', 2), ('multidisciplinary', 2), ('path', 2), ('carving', 2), ('corner', 2), ('magazines', 2), ('books', 2), ('exhibitions', 2), ('furniture', 2), ('director', 2), ('jonny', 2), ('johansson', 4), ('have', 93), ('favorites', 2), ('among', 2), ('elite', 2), ('reached', 254), ('inception', 2), ('classics', 2), ('use', 2), ('informs', 2), ('stand', 2), ('gives', 2), ('wearers', 2), ('modern', 2), ('framework', 2), ('alice', 10), ('olivia', 16), ('rosslyn', 8), ('coclico', 4), ('dipsa', 4), ('kidskin', 11), ('knee', 6), ('casper', 4), ('clayton', 4), ('sheryll', 4), ('profile', 6), ('circa', 4), ('haircalf', 4), ('printed', 39), ('los', 2), ('angeles', 2), ('jesse', 2), ('howard', 4), ('initial', 2), ('exploratory', 2), ('experimental', 2), ('funky', 2), ('jelled', 2), ('expression', 2), ('evident', 2), ('effortlessly', 2), ('creating', 2), ('southern', 2), ('brings', 2), ('perspective', 2), ('site', 447), ('webpage', 83), ('https', 83), ('shopbop', 83), ('soho', 1), ('vp', 82), ('htm', 82), ('folderid', 82), ('fm', 82), ('shopbysize', 82), ('viewall', 82), ('os', 82), ('false', 81), ('colorid', 82), ('temporarily', 83), ('may', 109), ('moved', 83), ('permanently', 83), ('web', 83), ('address', 110), ('name', 219), ('resolution', 166), ('failed', 166), ('alex', 1), ('kitty', 1), ('kea', 1), ('danna', 1), ('mule', 3), ('veja', 1), ('rodney', 1), ('dorsay', 1), ('jolene', 1), ('chandler', 1), ('adora', 1), ('cotu', 1), ('laceup', 2), ('sneaker', 8), ('superga', 2), ('claudia', 1), ('felicia', 1), ('addict', 2), ('trainers', 2), ('meg', 1), ('tretorn', 2), ('cherie', 1), ('amelia', 21), ('backless', 1), ('iisandals', 1), ('shirley', 1), ('knotted', 11), ('ric', 1), ('rac', 1), ('slide', 3), ('flip', 2), ('flop', 2), ('havaianas', 1), ('disruptor', 1), ('fila', 3), ('bc', 1), ('leigh', 1), ('jowenna', 1), ('club', 1), ('monaco', 1), ('ca', 1), ('axel', 2), ('lela', 1), ('vulcanized', 1), ('bostonsocks', 1), ('marley', 1), ('maxine', 1), ('lulu', 1), ('camo', 1), ('runner', 1), ('holden', 1), ('empire', 2), ('hadlee', 1), ('yaro', 1), ('imago', 2), ('palatines', 3), ('yoshi', 1), ('bootie', 6), ('cowboy', 1), ('ld', 1), ('tuttle', 1), ('hazel', 2), ('solid', 1), ('thin', 1), ('drifter', 2), ('lia', 1), ('brian', 1), ('battle', 1), ('danalo', 1), ('honore', 1), ('cendrillon', 1), ('ballerinas', 2), ('dad', 1), ('junie', 1), ('inergia', 1), ('chavi', 1), ('steven', 1), ('cove', 1), ('cd', 1), ('alfa', 1), ('hiker', 1), ('drum', 1), ('alfri', 1), ('dart', 1), ('oxfords', 1), ('huntington', 1), ('middie', 1), ('seavees', 1), ('chuck', 1), ('parkway', 1), ('floral', 1), ('varsity', 1), ('catherine', 1), ('florence', 1), ('returntourl', 1), ('fs', 1), ('fproducts', 1), ('ffolderid', 1), ('descriptivepart', 1), ('dwhats', 1), ('returntohash', 1), ('ef', 1), ('bbdfa', 1), ('aa', 1), ('dac', 1), ('along', 50), ('imported', 87), ('normal', 80), ('width', 30), ('composition', 204), ('advice', 176), ('care', 176), ('payment', 61), ('security', 60), ('policy', 227), ('terms', 61), ('conditions', 61), ('privacy', 61), ('cookies', 166), ('affiliates', 61), ('careers', 61), ('approx', 42), ('php', 42), ('midnight', 6), ('view', 121), ('subscribe', 160), ('download', 55), ('outnet', 117), ('app', 55), ('uses', 106), ('advertising', 106), ('even', 106), ('third', 106), ('parties', 106), ('continuing', 106), ('browse', 106), ('accept', 106), ('cookie', 106), ('iris', 94), ('editorial', 28), ('call', 28), ('individuals', 28), ('featured', 28), ('endorse', 28), ('shown', 28), ('©', 28), ('copyright', 28), ('net', 28), ('porter', 28), ('group', 46), ('ok', 53), ('elasticized', 44), ('denver', 10), ('burnished', 10), ('buckled', 20), ('cutout', 81), ('brushed', 16), ('slippers', 110), ('estelle', 22), ('sketch', 18), ('live', 18), ('chat', 18), ('nubuck', 2), ('nashville', 6), ('cabochons', 12), ('wooden', 16), ('rick', 12), ('owens', 12), ('slides', 20), ('trimmed', 97), ('mcq', 9), ('isabelle', 10), ('tabs', 18), ('fuchsia', 12), ('grandy', 30), ('detailed', 10), ('vetements', 13), ('distressed', 16), ('mercedes', 1), ('castillo', 1), ('xandra', 1), ('contrasting', 6), ('applications', 6), ('crystals', 8), ('jute', 12), ('italy', 48), ('fibers', 24), ('striped', 10), ('gabi', 20), ('measures', 18), ('approximately', 18), ('inch', 6), ('christian', 9), ('louboutin', 9), ('mercura', 10), ('malene', 9), ('birger', 9), ('paneled', 32), ('glittered', 10), ('rb', 10), ('glossed', 16), ('eyelets', 8), ('tasseled', 18), ('inches', 12), ('sand', 6), ('enida', 6), ('lucrezia', 10), ('mirrored', 10), ('april', 10), ('slight', 14), ('curvia', 1), ('iridescent', 1), ('bouclé', 1), ('bobby', 1), ('grenson', 42), ('microstud', 2), ('cracked', 6), ('collaboration', 6), ('vamp', 6), ('elegantly', 6), ('tapers', 6), ('tailoring', 6), ('sleek', 6), ('perforated', 42), ('elinor', 10), ('cavalli', 9), ('python', 10), ('zoe', 12), ('kaius', 10), ('ganni', 18), ('naomi', 10), ('dora', 10), ('halston', 9), ('zina', 10), ('fringe', 20), ('marco', 9), ('de', 9), ('vincenzo', 9), ('braided', 10), ('jacquard', 3), ('flocked', 2), ('novoli', 1), ('raffia', 3), ('slips', 2), ('cutouts', 7), ('appliquéd', 12), ('calf', 14), ('skin', 14), ('templer', 20), ('lambskin', 7), ('vacation', 3), ('checking', 256), ('connection', 154), ('proxy', 128), ('firewall', 128), ('theoutnet', 43), ('long', 7), ('respond', 7), ('timed', 14), ('marie', 1), ('smocked', 1), ('tammy', 10), ('iro', 9), ('plaque', 6), ('rory', 26), ('violet', 10), ('tanya', 10), ('plastic', 7), ('moto', 10), ('melrose', 6), ('brunello', 9), ('cucinelli', 9), ('bead', 16), ('loren', 10), ('kairos', 10), ('mabu', 3), ('aten', 6), ('feather', 6), ('feathers', 6), ('handmade', 6), ('therefore', 6), ('differ', 6), ('pictured', 6), ('small', 12), ('larger', 12), ('unexpectedly', 8), ('closed', 24), ('alexachung', 3), ('refused', 3), ('ramona', 6), ('dns', 80), ('configuration', 80), ('server', 27), ('ip', 27), ('could', 27), ('resolved', 53)])\n",
            "2609 words\n",
            "Index(['x', 'y', 'height', 'width', 'tag0', 'tag1', 'tag2', 'tag3', 'tag4',\n",
            "       'tag5',\n",
            "       ...\n",
            "       'text40', 'text41', 'text42', 'text43', 'text44', 'text45', 'text46',\n",
            "       'text47', 'text48', 'text49'],\n",
            "      dtype='object', length=160)\n",
            "(100127, 160)\n"
          ],
          "name": "stdout"
        }
      ]
    },
    {
      "metadata": {
        "id": "YdfPDZuvRMrg",
        "colab_type": "code",
        "colab": {}
      },
      "cell_type": "code",
      "source": [
        "X = X.fillna(0)\n",
        "# X"
      ],
      "execution_count": 0,
      "outputs": []
    },
    {
      "metadata": {
        "id": "NBK6zPdziu6a",
        "colab_type": "code",
        "colab": {
          "base_uri": "https://localhost:8080/",
          "height": 34
        },
        "outputId": "15f93cae-0dc3-4554-b57d-8d81b4f71257"
      },
      "cell_type": "code",
      "source": [
        "\n",
        "y = df[\"label\"].fillna(\"\")\n",
        "\n",
        "def label_filter(text:str)->str:\n",
        "  label = [\"stock\",\"nostock\",\"variat\"]\n",
        "#   label = [\"stock\",\"variat\"]\n",
        "  lis=[]\n",
        "  if text in label:\n",
        "    return text\n",
        "  else:\n",
        "    return \"\"\n",
        "\n",
        "y = list(map(label_filter,y))\n",
        "\n",
        "\n",
        "label_token = Tokenizer()\n",
        "label_token.fit_on_texts(y)\n",
        "label_dic= {v: k for k, v in label_token.word_index.items()}\n",
        "label_dic[0]=\"\"\n",
        "print(label_dic)\n",
        "# y = list(map(lambda y : token.word_index.get(y),y))\n",
        "y = label_token.texts_to_matrix(y)"
      ],
      "execution_count": 14,
      "outputs": [
        {
          "output_type": "stream",
          "text": [
            "{1: 'stock', 2: 'nostock', 3: 'variat', 0: ''}\n"
          ],
          "name": "stdout"
        }
      ]
    },
    {
      "metadata": {
        "id": "9CzGifwVqJmQ",
        "colab_type": "code",
        "colab": {}
      },
      "cell_type": "code",
      "source": [
        "seed = 7\n",
        "np.random.seed(seed)\n",
        "X_train, X_test, y_train, y_test  = train_test_split(X, y, test_size=0.33, random_state=seed)"
      ],
      "execution_count": 0,
      "outputs": []
    },
    {
      "metadata": {
        "id": "vbXtvEucx65E",
        "colab_type": "code",
        "colab": {}
      },
      "cell_type": "code",
      "source": [
        "def non_shuffling_train_test_split(X, y, test_size=0.33):\n",
        "    i = int((1 - test_size) * X.shape[0]) + 1\n",
        "    X_train, X_test = np.split(X, [i])\n",
        "    y_train, y_test = np.split(y, [i])\n",
        "    return X_train, X_test, y_train, y_test\n",
        "# X_train, X_test, y_train, y_test  = non_shuffling_train_test_split(X, y, test_size=0.33)"
      ],
      "execution_count": 0,
      "outputs": []
    },
    {
      "metadata": {
        "id": "IA3HhP32jMJe",
        "colab_type": "code",
        "colab": {
          "base_uri": "https://localhost:8080/",
          "height": 119
        },
        "outputId": "7dfbcc8e-a4c6-4715-d677-63cadd76b1bb"
      },
      "cell_type": "code",
      "source": [
        "# X_train\n",
        "X_train.columns"
      ],
      "execution_count": 17,
      "outputs": [
        {
          "output_type": "execute_result",
          "data": {
            "text/plain": [
              "Index(['x', 'y', 'height', 'width', 'tag0', 'tag1', 'tag2', 'tag3', 'tag4',\n",
              "       'tag5',\n",
              "       ...\n",
              "       'text40', 'text41', 'text42', 'text43', 'text44', 'text45', 'text46',\n",
              "       'text47', 'text48', 'text49'],\n",
              "      dtype='object', length=160)"
            ]
          },
          "metadata": {
            "tags": []
          },
          "execution_count": 17
        }
      ]
    },
    {
      "metadata": {
        "id": "EGAmr5gyjaDl",
        "colab_type": "code",
        "colab": {
          "base_uri": "https://localhost:8080/",
          "height": 153
        },
        "outputId": "615f511a-dc1f-4aa4-8fc8-ab1ad6b2072b"
      },
      "cell_type": "code",
      "source": [
        "print(y_train.shape)\n",
        "y_train\n",
        "\n"
      ],
      "execution_count": 18,
      "outputs": [
        {
          "output_type": "stream",
          "text": [
            "(67085, 4)\n"
          ],
          "name": "stdout"
        },
        {
          "output_type": "execute_result",
          "data": {
            "text/plain": [
              "array([[0., 0., 0., 0.],\n",
              "       [0., 0., 0., 0.],\n",
              "       [0., 0., 0., 0.],\n",
              "       ...,\n",
              "       [0., 0., 0., 0.],\n",
              "       [0., 0., 0., 0.],\n",
              "       [0., 0., 0., 0.]])"
            ]
          },
          "metadata": {
            "tags": []
          },
          "execution_count": 18
        }
      ]
    },
    {
      "metadata": {
        "id": "s-_DaxTjGVmy",
        "colab_type": "code",
        "colab": {
          "base_uri": "https://localhost:8080/",
          "height": 1503
        },
        "outputId": "40cff73f-7751-41a4-d709-6bfbd38c9f82"
      },
      "cell_type": "code",
      "source": [
        "EPOCHS = 20\n",
        "BATCH_SIZE = 275\n",
        "\n",
        "early_stopping = EarlyStopping(monitor='val_loss', patience=5)\n",
        "\n",
        "\n",
        "model = models.Sequential()\n",
        "model.add(layers.Dense(64, activation='relu',\n",
        "                       input_shape=(X_train.shape[1],)))\n",
        "model.add(layers.Dropout(0.3))\n",
        "model.add(layers.Dense(1024, activation='relu'))\n",
        "model.add(layers.Dropout(0.3))\n",
        "\n",
        "# model.add(layers.Dense(64, activation='relu'))\n",
        "# model.add(layers.Dropout(0.3))\n",
        "\n",
        "# model.add(layers.Dense(8, activation='relu'))\n",
        "# model.add(layers.Dropout(0.3))\n",
        "\n",
        "model.add(layers.Dense(y_train.shape[1],activation='softmax'))\n",
        "\n",
        "model.compile(loss='binary_crossentropy', optimizer='Adam', metrics=['accuracy'])\n",
        "history = model.fit(X_train, y_train,verbose=1, validation_data=(X_test,y_test), epochs=EPOCHS, batch_size=BATCH_SIZE,callbacks=[early_stopping])\n",
        "score = model.evaluate(X_test, y_test, verbose=0)\n",
        "print('Test loss:', score[0])\n",
        "print('Test accuracy:', score[1])\n",
        "\n",
        "\n",
        "import matplotlib.pyplot as plt\n",
        "\n",
        "print(history.history.keys())\n",
        "# summarize history for loss\n",
        "plt.plot(history.history['val_loss'])\n",
        "plt.plot(history.history['loss'])\n",
        "plt.title('model loss')\n",
        "plt.ylabel('loss')\n",
        "plt.xlabel('epoch')\n",
        "plt.legend(['val_loss', 'loss'], loc='upper left')\n",
        "plt.show()\n",
        "\n",
        "plt.plot(history.history['val_acc'])\n",
        "plt.plot(history.history['acc'])\n",
        "plt.title('model loss')\n",
        "plt.ylabel('loss')\n",
        "plt.xlabel('epoch')\n",
        "plt.legend(['val_acc', 'acc'], loc='upper left')\n",
        "plt.show()"
      ],
      "execution_count": 19,
      "outputs": [
        {
          "output_type": "stream",
          "text": [
            "Train on 67085 samples, validate on 33042 samples\n",
            "Epoch 1/20\n",
            "67085/67085 [==============================] - 4s 53us/step - loss: 2.2105 - acc: 0.7636 - val_loss: 0.3652 - val_acc: 0.8375\n",
            "Epoch 2/20\n",
            "67085/67085 [==============================] - 3s 38us/step - loss: 0.3247 - acc: 0.9176 - val_loss: 0.2858 - val_acc: 0.9841\n",
            "Epoch 3/20\n",
            "67085/67085 [==============================] - 2s 37us/step - loss: 0.2877 - acc: 0.9766 - val_loss: 0.2801 - val_acc: 0.9909\n",
            "Epoch 4/20\n",
            "67085/67085 [==============================] - 3s 38us/step - loss: 0.2836 - acc: 0.9783 - val_loss: 0.2785 - val_acc: 0.9924\n",
            "Epoch 5/20\n",
            "67085/67085 [==============================] - 3s 39us/step - loss: 0.2823 - acc: 0.9783 - val_loss: 0.2777 - val_acc: 0.9927\n",
            "Epoch 6/20\n",
            "67085/67085 [==============================] - 3s 38us/step - loss: 0.2812 - acc: 0.9814 - val_loss: 0.2770 - val_acc: 0.9923\n",
            "Epoch 7/20\n",
            "67085/67085 [==============================] - 3s 38us/step - loss: 0.2806 - acc: 0.9823 - val_loss: 0.2770 - val_acc: 0.9926\n",
            "Epoch 8/20\n",
            "67085/67085 [==============================] - 3s 38us/step - loss: 0.2802 - acc: 0.9831 - val_loss: 0.2756 - val_acc: 0.9926\n",
            "Epoch 9/20\n",
            "67085/67085 [==============================] - 3s 38us/step - loss: 0.2794 - acc: 0.9852 - val_loss: 0.2753 - val_acc: 0.9919\n",
            "Epoch 10/20\n",
            "67085/67085 [==============================] - 3s 38us/step - loss: 0.2791 - acc: 0.9855 - val_loss: 0.2747 - val_acc: 0.9925\n",
            "Epoch 11/20\n",
            "67085/67085 [==============================] - 2s 37us/step - loss: 0.2791 - acc: 0.9855 - val_loss: 0.2754 - val_acc: 0.9927\n",
            "Epoch 12/20\n",
            "67085/67085 [==============================] - 3s 38us/step - loss: 0.2779 - acc: 0.9869 - val_loss: 0.2735 - val_acc: 0.9924\n",
            "Epoch 13/20\n",
            "67085/67085 [==============================] - 3s 38us/step - loss: 0.2772 - acc: 0.9879 - val_loss: 0.2749 - val_acc: 0.9922\n",
            "Epoch 14/20\n",
            "67085/67085 [==============================] - 3s 38us/step - loss: 0.2767 - acc: 0.9888 - val_loss: 0.2731 - val_acc: 0.9935\n",
            "Epoch 15/20\n",
            "67085/67085 [==============================] - 3s 38us/step - loss: 0.2764 - acc: 0.9890 - val_loss: 0.2733 - val_acc: 0.9934\n",
            "Epoch 16/20\n",
            "67085/67085 [==============================] - 3s 39us/step - loss: 0.2756 - acc: 0.9898 - val_loss: 0.2727 - val_acc: 0.9939\n",
            "Epoch 17/20\n",
            "67085/67085 [==============================] - 3s 38us/step - loss: 0.2764 - acc: 0.9887 - val_loss: 0.2726 - val_acc: 0.9940\n",
            "Epoch 18/20\n",
            "67085/67085 [==============================] - 3s 40us/step - loss: 0.2754 - acc: 0.9895 - val_loss: 0.2725 - val_acc: 0.9936\n",
            "Epoch 19/20\n",
            "67085/67085 [==============================] - 3s 40us/step - loss: 0.2751 - acc: 0.9901 - val_loss: 0.2718 - val_acc: 0.9926\n",
            "Epoch 20/20\n",
            "67085/67085 [==============================] - 3s 39us/step - loss: 0.2748 - acc: 0.9903 - val_loss: 0.2716 - val_acc: 0.9938\n",
            "Test loss: 0.2715692318032032\n",
            "Test accuracy: 0.993833605710332\n",
            "dict_keys(['val_loss', 'val_acc', 'loss', 'acc'])\n"
          ],
          "name": "stdout"
        },
        {
          "output_type": "display_data",
          "data": {
            "image/png": "[encoded data removed]",
            "text/plain": [
              "<matplotlib.figure.Figure at 0x7f19759f5828>"
            ]
          },
          "metadata": {
            "tags": []
          }
        },
        {
          "output_type": "display_data",
          "data": {
            "image/png": "[encoded data removed]",
            "text/plain": [
              "<matplotlib.figure.Figure at 0x7f196bdd5550>"
            ]
          },
          "metadata": {
            "tags": []
          }
        }
      ]
    },
    {
      "metadata": {
        "id": "cjav4D0_-7op",
        "colab_type": "code",
        "colab": {
          "base_uri": "https://localhost:8080/",
          "height": 4151
        },
        "outputId": "c2b0ad1b-cf22-40b7-c8d2-b758d3625a5d"
      },
      "cell_type": "code",
      "source": [
        "import json\n",
        "text = '''[ {\n",
        "  \"tag\" : null,\n",
        "  \"iid\" : null,\n",
        "  \"style\" : null,\n",
        "  \"text\" : \"\",\n",
        "  \"href\" : null,\n",
        "  \"label\" : null,\n",
        "  \"x\" : 0,\n",
        "  \"y\" : 0,\n",
        "  \"height\" : 0,\n",
        "  \"width\" : 0,\n",
        "  \"value\" : null,\n",
        "  \"location\" : null,\n",
        "  \"size\" : null,\n",
        "  \"tagName\" : null,\n",
        "  \"searchCriteria\" : null,\n",
        "  \"selected\" : false,\n",
        "  \"wrappedDriver\" : null,\n",
        "  \"displayed\" : false,\n",
        "  \"rect\" : null,\n",
        "  \"coordinates\" : null,\n",
        "  \"wrappedElement\" : null,\n",
        "  \"enabled\" : false,\n",
        "  \"image\" : false,\n",
        "  \"selectedOption\" : null,\n",
        "  \"selectedOptions\" : null,\n",
        "  \"selectedValue\" : null,\n",
        "  \"selectedText\" : null\n",
        "}, {\n",
        "  \"tag\" : null,\n",
        "  \"iid\" : null,\n",
        "  \"style\" : null,\n",
        "  \"text\" : \"\",\n",
        "  \"href\" : null,\n",
        "  \"label\" : null,\n",
        "  \"x\" : 0,\n",
        "  \"y\" : 0,\n",
        "  \"height\" : 0,\n",
        "  \"width\" : 0,\n",
        "  \"value\" : null,\n",
        "  \"location\" : null,\n",
        "  \"size\" : null,\n",
        "  \"tagName\" : null,\n",
        "  \"searchCriteria\" : null,\n",
        "  \"selected\" : false,\n",
        "  \"wrappedDriver\" : null,\n",
        "  \"displayed\" : false,\n",
        "  \"rect\" : null,\n",
        "  \"coordinates\" : null,\n",
        "  \"wrappedElement\" : null,\n",
        "  \"enabled\" : false,\n",
        "  \"image\" : false,\n",
        "  \"selectedOption\" : null,\n",
        "  \"selectedOptions\" : null,\n",
        "  \"selectedValue\" : null,\n",
        "  \"selectedText\" : null\n",
        "}, {\n",
        "  \"tag\" : null,\n",
        "  \"iid\" : null,\n",
        "  \"style\" : null,\n",
        "  \"text\" : null,\n",
        "  \"href\" : null,\n",
        "  \"label\" : null,\n",
        "  \"x\" : 450,\n",
        "  \"y\" : 40,\n",
        "  \"height\" : 0,\n",
        "  \"width\" : 0,\n",
        "  \"value\" : null,\n",
        "  \"location\" : null,\n",
        "  \"size\" : null,\n",
        "  \"tagName\" : null,\n",
        "  \"searchCriteria\" : null,\n",
        "  \"selected\" : false,\n",
        "  \"wrappedDriver\" : null,\n",
        "  \"displayed\" : false,\n",
        "  \"rect\" : null,\n",
        "  \"coordinates\" : null,\n",
        "  \"wrappedElement\" : null,\n",
        "  \"enabled\" : false,\n",
        "  \"image\" : false,\n",
        "  \"selectedOption\" : null,\n",
        "  \"selectedOptions\" : null,\n",
        "  \"selectedValue\" : null,\n",
        "  \"selectedText\" : null\n",
        "}, {\n",
        "  \"tag\" : null,\n",
        "  \"iid\" : null,\n",
        "  \"style\" : null,\n",
        "  \"text\" : null,\n",
        "  \"href\" : null,\n",
        "  \"label\" : null,\n",
        "  \"x\" : 79,\n",
        "  \"y\" : 106,\n",
        "  \"height\" : 0,\n",
        "  \"width\" : 0,\n",
        "  \"value\" : null,\n",
        "  \"location\" : null,\n",
        "  \"size\" : null,\n",
        "  \"tagName\" : null,\n",
        "  \"searchCriteria\" : null,\n",
        "  \"selected\" : false,\n",
        "  \"wrappedDriver\" : null,\n",
        "  \"displayed\" : false,\n",
        "  \"rect\" : null,\n",
        "  \"coordinates\" : null,\n",
        "  \"wrappedElement\" : null,\n",
        "  \"enabled\" : false,\n",
        "  \"image\" : false,\n",
        "  \"selectedOption\" : null,\n",
        "  \"selectedOptions\" : null,\n",
        "  \"selectedValue\" : null,\n",
        "  \"selectedText\" : null\n",
        "}, {\n",
        "  \"tag\" : null,\n",
        "  \"iid\" : null,\n",
        "  \"style\" : null,\n",
        "  \"text\" : null,\n",
        "  \"href\" : null,\n",
        "  \"label\" : null,\n",
        "  \"x\" : 143,\n",
        "  \"y\" : 106,\n",
        "  \"height\" : 0,\n",
        "  \"width\" : 0,\n",
        "  \"value\" : null,\n",
        "  \"location\" : null,\n",
        "  \"size\" : null,\n",
        "  \"tagName\" : null,\n",
        "  \"searchCriteria\" : null,\n",
        "  \"selected\" : false,\n",
        "  \"wrappedDriver\" : null,\n",
        "  \"displayed\" : false,\n",
        "  \"rect\" : null,\n",
        "  \"coordinates\" : null,\n",
        "  \"wrappedElement\" : null,\n",
        "  \"enabled\" : false,\n",
        "  \"image\" : false,\n",
        "  \"selectedOption\" : null,\n",
        "  \"selectedOptions\" : null,\n",
        "  \"selectedValue\" : null,\n",
        "  \"selectedText\" : null\n",
        "}, {\n",
        "  \"tag\" : null,\n",
        "  \"iid\" : null,\n",
        "  \"style\" : null,\n",
        "  \"text\" : null,\n",
        "  \"href\" : null,\n",
        "  \"label\" : null,\n",
        "  \"x\" : 215,\n",
        "  \"y\" : 106,\n",
        "  \"height\" : 0,\n",
        "  \"width\" : 0,\n",
        "  \"value\" : null,\n",
        "  \"location\" : null,\n",
        "  \"size\" : null,\n",
        "  \"tagName\" : null,\n",
        "  \"searchCriteria\" : null,\n",
        "  \"selected\" : false,\n",
        "  \"wrappedDriver\" : null,\n",
        "  \"displayed\" : false,\n",
        "  \"rect\" : null,\n",
        "  \"coordinates\" : null,\n",
        "  \"wrappedElement\" : null,\n",
        "  \"enabled\" : false,\n",
        "  \"image\" : false,\n",
        "  \"selectedOption\" : null,\n",
        "  \"selectedOptions\" : null,\n",
        "  \"selectedValue\" : null,\n",
        "  \"selectedText\" : null\n",
        "}, {\n",
        "  \"tag\" : null,\n",
        "  \"iid\" : null,\n",
        "  \"style\" : null,\n",
        "  \"text\" : null,\n",
        "  \"href\" : null,\n",
        "  \"label\" : null,\n",
        "  \"x\" : 272,\n",
        "  \"y\" : 106,\n",
        "  \"height\" : 0,\n",
        "  \"width\" : 0,\n",
        "  \"value\" : null,\n",
        "  \"location\" : null,\n",
        "  \"size\" : null,\n",
        "  \"tagName\" : null,\n",
        "  \"searchCriteria\" : null,\n",
        "  \"selected\" : false,\n",
        "  \"wrappedDriver\" : null,\n",
        "  \"displayed\" : false,\n",
        "  \"rect\" : null,\n",
        "  \"coordinates\" : null,\n",
        "  \"wrappedElement\" : null,\n",
        "  \"enabled\" : false,\n",
        "  \"image\" : false,\n",
        "  \"selectedOption\" : null,\n",
        "  \"selectedOptions\" : null,\n",
        "  \"selectedValue\" : null,\n",
        "  \"selectedText\" : null\n",
        "}, {\n",
        "  \"tag\" : null,\n",
        "  \"iid\" : null,\n",
        "  \"style\" : null,\n",
        "  \"text\" : null,\n",
        "  \"href\" : null,\n",
        "  \"label\" : null,\n",
        "  \"x\" : 364,\n",
        "  \"y\" : 106,\n",
        "  \"height\" : 0,\n",
        "  \"width\" : 0,\n",
        "  \"value\" : null,\n",
        "  \"location\" : null,\n",
        "  \"size\" : null,\n",
        "  \"tagName\" : null,\n",
        "  \"searchCriteria\" : null,\n",
        "  \"selected\" : false,\n",
        "  \"wrappedDriver\" : null,\n",
        "  \"displayed\" : false,\n",
        "  \"rect\" : null,\n",
        "  \"coordinates\" : null,\n",
        "  \"wrappedElement\" : null,\n",
        "  \"enabled\" : false,\n",
        "  \"image\" : false,\n",
        "  \"selectedOption\" : null,\n",
        "  \"selectedOptions\" : null,\n",
        "  \"selectedValue\" : null,\n",
        "  \"selectedText\" : null\n",
        "}, {\n",
        "  \"tag\" : null,\n",
        "  \"iid\" : null,\n",
        "  \"style\" : null,\n",
        "  \"text\" : null,\n",
        "  \"href\" : null,\n",
        "  \"label\" : null,\n",
        "  \"x\" : 453,\n",
        "  \"y\" : 106,\n",
        "  \"height\" : 0,\n",
        "  \"width\" : 0,\n",
        "  \"value\" : null,\n",
        "  \"location\" : null,\n",
        "  \"size\" : null,\n",
        "  \"tagName\" : null,\n",
        "  \"searchCriteria\" : null,\n",
        "  \"selected\" : false,\n",
        "  \"wrappedDriver\" : null,\n",
        "  \"displayed\" : false,\n",
        "  \"rect\" : null,\n",
        "  \"coordinates\" : null,\n",
        "  \"wrappedElement\" : null,\n",
        "  \"enabled\" : false,\n",
        "  \"image\" : false,\n",
        "  \"selectedOption\" : null,\n",
        "  \"selectedOptions\" : null,\n",
        "  \"selectedValue\" : null,\n",
        "  \"selectedText\" : null\n",
        "}, {\n",
        "  \"tag\" : null,\n",
        "  \"iid\" : null,\n",
        "  \"style\" : null,\n",
        "  \"text\" : null,\n",
        "  \"href\" : null,\n",
        "  \"label\" : null,\n",
        "  \"x\" : 550,\n",
        "  \"y\" : 106,\n",
        "  \"height\" : 0,\n",
        "  \"width\" : 0,\n",
        "  \"value\" : null,\n",
        "  \"location\" : null,\n",
        "  \"size\" : null,\n",
        "  \"tagName\" : null,\n",
        "  \"searchCriteria\" : null,\n",
        "  \"selected\" : false,\n",
        "  \"wrappedDriver\" : null,\n",
        "  \"displayed\" : false,\n",
        "  \"rect\" : null,\n",
        "  \"coordinates\" : null,\n",
        "  \"wrappedElement\" : null,\n",
        "  \"enabled\" : false,\n",
        "  \"image\" : false,\n",
        "  \"selectedOption\" : null,\n",
        "  \"selectedOptions\" : null,\n",
        "  \"selectedValue\" : null,\n",
        "  \"selectedText\" : null\n",
        "} ]'''\n",
        "sample = json.loads(text)\n",
        "print(sample)\n",
        "sample = pd.DataFrame(sample)\n",
        "sample_df = prepare_data(sample)\n",
        "print(sample_df)\n",
        "print(sample_df.columns)\n",
        "\n",
        "result = model.predict(sample_df)\n",
        "print(result)\n",
        "for resu in result:\n",
        "  resu = np.argmax(resu)\n",
        "  print(resu)\n",
        "\n",
        "  resu = label_dic.get(resu)\n",
        "  print(resu)\n"
      ],
      "execution_count": 23,
      "outputs": [
        {
          "output_type": "stream",
          "text": [
            "[{'tag': None, 'iid': None, 'style': None, 'text': '', 'href': None, 'label': None, 'x': 0, 'y': 0, 'height': 0, 'width': 0, 'value': None, 'location': None, 'size': None, 'tagName': None, 'searchCriteria': None, 'selected': False, 'wrappedDriver': None, 'displayed': False, 'rect': None, 'coordinates': None, 'wrappedElement': None, 'enabled': False, 'image': False, 'selectedOption': None, 'selectedOptions': None, 'selectedValue': None, 'selectedText': None}, {'tag': None, 'iid': None, 'style': None, 'text': '', 'href': None, 'label': None, 'x': 0, 'y': 0, 'height': 0, 'width': 0, 'value': None, 'location': None, 'size': None, 'tagName': None, 'searchCriteria': None, 'selected': False, 'wrappedDriver': None, 'displayed': False, 'rect': None, 'coordinates': None, 'wrappedElement': None, 'enabled': False, 'image': False, 'selectedOption': None, 'selectedOptions': None, 'selectedValue': None, 'selectedText': None}, {'tag': None, 'iid': None, 'style': None, 'text': None, 'href': None, 'label': None, 'x': 450, 'y': 40, 'height': 0, 'width': 0, 'value': None, 'location': None, 'size': None, 'tagName': None, 'searchCriteria': None, 'selected': False, 'wrappedDriver': None, 'displayed': False, 'rect': None, 'coordinates': None, 'wrappedElement': None, 'enabled': False, 'image': False, 'selectedOption': None, 'selectedOptions': None, 'selectedValue': None, 'selectedText': None}, {'tag': None, 'iid': None, 'style': None, 'text': None, 'href': None, 'label': None, 'x': 79, 'y': 106, 'height': 0, 'width': 0, 'value': None, 'location': None, 'size': None, 'tagName': None, 'searchCriteria': None, 'selected': False, 'wrappedDriver': None, 'displayed': False, 'rect': None, 'coordinates': None, 'wrappedElement': None, 'enabled': False, 'image': False, 'selectedOption': None, 'selectedOptions': None, 'selectedValue': None, 'selectedText': None}, {'tag': None, 'iid': None, 'style': None, 'text': None, 'href': None, 'label': None, 'x': 143, 'y': 106, 'height': 0, 'width': 0, 'value': None, 'location': None, 'size': None, 'tagName': None, 'searchCriteria': None, 'selected': False, 'wrappedDriver': None, 'displayed': False, 'rect': None, 'coordinates': None, 'wrappedElement': None, 'enabled': False, 'image': False, 'selectedOption': None, 'selectedOptions': None, 'selectedValue': None, 'selectedText': None}, {'tag': None, 'iid': None, 'style': None, 'text': None, 'href': None, 'label': None, 'x': 215, 'y': 106, 'height': 0, 'width': 0, 'value': None, 'location': None, 'size': None, 'tagName': None, 'searchCriteria': None, 'selected': False, 'wrappedDriver': None, 'displayed': False, 'rect': None, 'coordinates': None, 'wrappedElement': None, 'enabled': False, 'image': False, 'selectedOption': None, 'selectedOptions': None, 'selectedValue': None, 'selectedText': None}, {'tag': None, 'iid': None, 'style': None, 'text': None, 'href': None, 'label': None, 'x': 272, 'y': 106, 'height': 0, 'width': 0, 'value': None, 'location': None, 'size': None, 'tagName': None, 'searchCriteria': None, 'selected': False, 'wrappedDriver': None, 'displayed': False, 'rect': None, 'coordinates': None, 'wrappedElement': None, 'enabled': False, 'image': False, 'selectedOption': None, 'selectedOptions': None, 'selectedValue': None, 'selectedText': None}, {'tag': None, 'iid': None, 'style': None, 'text': None, 'href': None, 'label': None, 'x': 364, 'y': 106, 'height': 0, 'width': 0, 'value': None, 'location': None, 'size': None, 'tagName': None, 'searchCriteria': None, 'selected': False, 'wrappedDriver': None, 'displayed': False, 'rect': None, 'coordinates': None, 'wrappedElement': None, 'enabled': False, 'image': False, 'selectedOption': None, 'selectedOptions': None, 'selectedValue': None, 'selectedText': None}, {'tag': None, 'iid': None, 'style': None, 'text': None, 'href': None, 'label': None, 'x': 453, 'y': 106, 'height': 0, 'width': 0, 'value': None, 'location': None, 'size': None, 'tagName': None, 'searchCriteria': None, 'selected': False, 'wrappedDriver': None, 'displayed': False, 'rect': None, 'coordinates': None, 'wrappedElement': None, 'enabled': False, 'image': False, 'selectedOption': None, 'selectedOptions': None, 'selectedValue': None, 'selectedText': None}, {'tag': None, 'iid': None, 'style': None, 'text': None, 'href': None, 'label': None, 'x': 550, 'y': 106, 'height': 0, 'width': 0, 'value': None, 'location': None, 'size': None, 'tagName': None, 'searchCriteria': None, 'selected': False, 'wrappedDriver': None, 'displayed': False, 'rect': None, 'coordinates': None, 'wrappedElement': None, 'enabled': False, 'image': False, 'selectedOption': None, 'selectedOptions': None, 'selectedValue': None, 'selectedText': None}]\n",
            "row_df:  coordinates  displayed  enabled  height  href   iid  image label location  \\\n",
            "0        None      False    False       0  None  None  False  None     None   \n",
            "1        None      False    False       0  None  None  False  None     None   \n",
            "2        None      False    False       0  None  None  False  None     None   \n",
            "3        None      False    False       0  None  None  False  None     None   \n",
            "4        None      False    False       0  None  None  False  None     None   \n",
            "5        None      False    False       0  None  None  False  None     None   \n",
            "6        None      False    False       0  None  None  False  None     None   \n",
            "7        None      False    False       0  None  None  False  None     None   \n",
            "8        None      False    False       0  None  None  False  None     None   \n",
            "9        None      False    False       0  None  None  False  None     None   \n",
            "\n",
            "   rect ...  style   tag tagName  text value width wrappedDriver  \\\n",
            "0  None ...   None  None    None        None     0          None   \n",
            "1  None ...   None  None    None        None     0          None   \n",
            "2  None ...   None  None    None  None  None     0          None   \n",
            "3  None ...   None  None    None  None  None     0          None   \n",
            "4  None ...   None  None    None  None  None     0          None   \n",
            "5  None ...   None  None    None  None  None     0          None   \n",
            "6  None ...   None  None    None  None  None     0          None   \n",
            "7  None ...   None  None    None  None  None     0          None   \n",
            "8  None ...   None  None    None  None  None     0          None   \n",
            "9  None ...   None  None    None  None  None     0          None   \n",
            "\n",
            "  wrappedElement    x    y  \n",
            "0           None    0    0  \n",
            "1           None    0    0  \n",
            "2           None  450   40  \n",
            "3           None   79  106  \n",
            "4           None  143  106  \n",
            "5           None  215  106  \n",
            "6           None  272  106  \n",
            "7           None  364  106  \n",
            "8           None  453  106  \n",
            "9           None  550  106  \n",
            "\n",
            "[10 rows x 27 columns]\n",
            "filterd row_df:  coordinates  displayed  enabled  height  href   iid  image label location  \\\n",
            "0        None      False    False       0  None  None  False  None     None   \n",
            "1        None      False    False       0  None  None  False  None     None   \n",
            "2        None      False    False       0  None  None  False  None     None   \n",
            "3        None      False    False       0  None  None  False  None     None   \n",
            "4        None      False    False       0  None  None  False  None     None   \n",
            "5        None      False    False       0  None  None  False  None     None   \n",
            "6        None      False    False       0  None  None  False  None     None   \n",
            "7        None      False    False       0  None  None  False  None     None   \n",
            "8        None      False    False       0  None  None  False  None     None   \n",
            "9        None      False    False       0  None  None  False  None     None   \n",
            "\n",
            "   rect ...  style  tag tagName     text value width wrappedDriver  \\\n",
            "0  None ...   None    0    None           None     0          None   \n",
            "1  None ...   None    0    None           None     0          None   \n",
            "2  None ...   None    0    None  None \\n  None     0          None   \n",
            "3  None ...   None    0    None  None \\n  None     0          None   \n",
            "4  None ...   None    0    None  None \\n  None     0          None   \n",
            "5  None ...   None    0    None  None \\n  None     0          None   \n",
            "6  None ...   None    0    None  None \\n  None     0          None   \n",
            "7  None ...   None    0    None  None \\n  None     0          None   \n",
            "8  None ...   None    0    None  None \\n  None     0          None   \n",
            "9  None ...   None    0    None  None \\n  None     0          None   \n",
            "\n",
            "  wrappedElement    x    y  \n",
            "0           None    0    0  \n",
            "1           None    0    0  \n",
            "2           None  450   40  \n",
            "3           None   79  106  \n",
            "4           None  143  106  \n",
            "5           None  215  106  \n",
            "6           None  272  106  \n",
            "7           None  364  106  \n",
            "8           None  453  106  \n",
            "9           None  550  106  \n",
            "\n",
            "[10 rows x 27 columns]\n",
            "tag\n",
            "     0    1    2    3    4    5\n",
            "0  0.0  0.0  0.0  0.0  0.0  1.0\n",
            "1  0.0  0.0  0.0  0.0  0.0  1.0\n",
            "2  0.0  0.0  0.0  0.0  0.0  1.0\n",
            "3  0.0  0.0  0.0  0.0  0.0  1.0\n",
            "4  0.0  0.0  0.0  0.0  0.0  1.0\n",
            "5  0.0  0.0  0.0  0.0  0.0  1.0\n",
            "6  0.0  0.0  0.0  0.0  0.0  1.0\n",
            "7  0.0  0.0  0.0  0.0  0.0  1.0\n",
            "8  0.0  0.0  0.0  0.0  0.0  1.0\n",
            "9  0.0  0.0  0.0  0.0  0.0  1.0\n",
            "6\n",
            "iid\n",
            "    0    1    2    3    4    5    6    7    8    9  ...    15   16   17   18  \\\n",
            "0  0.0  0.0  0.0  0.0  0.0  0.0  0.0  0.0  0.0  0.0 ...   0.0  0.0  0.0  0.0   \n",
            "1  0.0  0.0  0.0  0.0  0.0  0.0  0.0  0.0  0.0  0.0 ...   0.0  0.0  0.0  0.0   \n",
            "2  0.0  0.0  0.0  0.0  0.0  0.0  0.0  0.0  0.0  0.0 ...   0.0  0.0  0.0  0.0   \n",
            "3  0.0  0.0  0.0  0.0  0.0  0.0  0.0  0.0  0.0  0.0 ...   0.0  0.0  0.0  0.0   \n",
            "4  0.0  0.0  0.0  0.0  0.0  0.0  0.0  0.0  0.0  0.0 ...   0.0  0.0  0.0  0.0   \n",
            "5  0.0  0.0  0.0  0.0  0.0  0.0  0.0  0.0  0.0  0.0 ...   0.0  0.0  0.0  0.0   \n",
            "6  0.0  0.0  0.0  0.0  0.0  0.0  0.0  0.0  0.0  0.0 ...   0.0  0.0  0.0  0.0   \n",
            "7  0.0  0.0  0.0  0.0  0.0  0.0  0.0  0.0  0.0  0.0 ...   0.0  0.0  0.0  0.0   \n",
            "8  0.0  0.0  0.0  0.0  0.0  0.0  0.0  0.0  0.0  0.0 ...   0.0  0.0  0.0  0.0   \n",
            "9  0.0  0.0  0.0  0.0  0.0  0.0  0.0  0.0  0.0  0.0 ...   0.0  0.0  0.0  0.0   \n",
            "\n",
            "    19   20   21   22   23   24  \n",
            "0  0.0  0.0  0.0  0.0  0.0  0.0  \n",
            "1  0.0  0.0  0.0  0.0  0.0  0.0  \n",
            "2  0.0  0.0  0.0  0.0  0.0  0.0  \n",
            "3  0.0  0.0  0.0  0.0  0.0  0.0  \n",
            "4  0.0  0.0  0.0  0.0  0.0  0.0  \n",
            "5  0.0  0.0  0.0  0.0  0.0  0.0  \n",
            "6  0.0  0.0  0.0  0.0  0.0  0.0  \n",
            "7  0.0  0.0  0.0  0.0  0.0  0.0  \n",
            "8  0.0  0.0  0.0  0.0  0.0  0.0  \n",
            "9  0.0  0.0  0.0  0.0  0.0  0.0  \n",
            "\n",
            "[10 rows x 25 columns]\n",
            "25\n",
            "style\n",
            "    0    1    2    3    4    5    6    7    8    9  ...    65   66   67   68  \\\n",
            "0  0.0  0.0  0.0  0.0  0.0  0.0  0.0  0.0  0.0  0.0 ...   0.0  0.0  0.0  0.0   \n",
            "1  0.0  0.0  0.0  0.0  0.0  0.0  0.0  0.0  0.0  0.0 ...   0.0  0.0  0.0  0.0   \n",
            "2  0.0  0.0  0.0  0.0  0.0  0.0  0.0  0.0  0.0  0.0 ...   0.0  0.0  0.0  0.0   \n",
            "3  0.0  0.0  0.0  0.0  0.0  0.0  0.0  0.0  0.0  0.0 ...   0.0  0.0  0.0  0.0   \n",
            "4  0.0  0.0  0.0  0.0  0.0  0.0  0.0  0.0  0.0  0.0 ...   0.0  0.0  0.0  0.0   \n",
            "5  0.0  0.0  0.0  0.0  0.0  0.0  0.0  0.0  0.0  0.0 ...   0.0  0.0  0.0  0.0   \n",
            "6  0.0  0.0  0.0  0.0  0.0  0.0  0.0  0.0  0.0  0.0 ...   0.0  0.0  0.0  0.0   \n",
            "7  0.0  0.0  0.0  0.0  0.0  0.0  0.0  0.0  0.0  0.0 ...   0.0  0.0  0.0  0.0   \n",
            "8  0.0  0.0  0.0  0.0  0.0  0.0  0.0  0.0  0.0  0.0 ...   0.0  0.0  0.0  0.0   \n",
            "9  0.0  0.0  0.0  0.0  0.0  0.0  0.0  0.0  0.0  0.0 ...   0.0  0.0  0.0  0.0   \n",
            "\n",
            "    69   70   71   72   73   74  \n",
            "0  0.0  0.0  0.0  0.0  0.0  0.0  \n",
            "1  0.0  0.0  0.0  0.0  0.0  0.0  \n",
            "2  0.0  0.0  0.0  0.0  0.0  0.0  \n",
            "3  0.0  0.0  0.0  0.0  0.0  0.0  \n",
            "4  0.0  0.0  0.0  0.0  0.0  0.0  \n",
            "5  0.0  0.0  0.0  0.0  0.0  0.0  \n",
            "6  0.0  0.0  0.0  0.0  0.0  0.0  \n",
            "7  0.0  0.0  0.0  0.0  0.0  0.0  \n",
            "8  0.0  0.0  0.0  0.0  0.0  0.0  \n",
            "9  0.0  0.0  0.0  0.0  0.0  0.0  \n",
            "\n",
            "[10 rows x 75 columns]\n",
            "75\n",
            "text\n",
            "    0    1    2    3    4    5    6    7    8    9  ...    40   41   42   43  \\\n",
            "0  0.0  0.0  0.0  0.0  0.0  0.0  0.0  0.0  0.0  0.0 ...   0.0  0.0  0.0  0.0   \n",
            "1  0.0  0.0  0.0  0.0  0.0  0.0  0.0  0.0  0.0  0.0 ...   0.0  0.0  0.0  0.0   \n",
            "2  0.0  0.0  0.0  0.0  0.0  0.0  0.0  0.0  0.0  0.0 ...   0.0  0.0  0.0  0.0   \n",
            "3  0.0  0.0  0.0  0.0  0.0  0.0  0.0  0.0  0.0  0.0 ...   0.0  0.0  0.0  0.0   \n",
            "4  0.0  0.0  0.0  0.0  0.0  0.0  0.0  0.0  0.0  0.0 ...   0.0  0.0  0.0  0.0   \n",
            "5  0.0  0.0  0.0  0.0  0.0  0.0  0.0  0.0  0.0  0.0 ...   0.0  0.0  0.0  0.0   \n",
            "6  0.0  0.0  0.0  0.0  0.0  0.0  0.0  0.0  0.0  0.0 ...   0.0  0.0  0.0  0.0   \n",
            "7  0.0  0.0  0.0  0.0  0.0  0.0  0.0  0.0  0.0  0.0 ...   0.0  0.0  0.0  0.0   \n",
            "8  0.0  0.0  0.0  0.0  0.0  0.0  0.0  0.0  0.0  0.0 ...   0.0  0.0  0.0  0.0   \n",
            "9  0.0  0.0  0.0  0.0  0.0  0.0  0.0  0.0  0.0  0.0 ...   0.0  0.0  0.0  0.0   \n",
            "\n",
            "    44   45   46   47   48   49  \n",
            "0  0.0  0.0  0.0  0.0  0.0  0.0  \n",
            "1  0.0  0.0  0.0  0.0  0.0  0.0  \n",
            "2  0.0  0.0  0.0  0.0  0.0  0.0  \n",
            "3  0.0  0.0  0.0  0.0  0.0  0.0  \n",
            "4  0.0  0.0  0.0  0.0  0.0  0.0  \n",
            "5  0.0  0.0  0.0  0.0  0.0  0.0  \n",
            "6  0.0  0.0  0.0  0.0  0.0  0.0  \n",
            "7  0.0  0.0  0.0  0.0  0.0  0.0  \n",
            "8  0.0  0.0  0.0  0.0  0.0  0.0  \n",
            "9  0.0  0.0  0.0  0.0  0.0  0.0  \n",
            "\n",
            "[10 rows x 50 columns]\n",
            "50\n",
            "     x    y  height  width  tag0  tag1  tag2  tag3  tag4  tag5   ...    \\\n",
            "0    0    0       0      0   0.0   0.0   0.0   0.0   0.0   1.0   ...     \n",
            "1    0    0       0      0   0.0   0.0   0.0   0.0   0.0   1.0   ...     \n",
            "2  450   40       0      0   0.0   0.0   0.0   0.0   0.0   1.0   ...     \n",
            "3   79  106       0      0   0.0   0.0   0.0   0.0   0.0   1.0   ...     \n",
            "4  143  106       0      0   0.0   0.0   0.0   0.0   0.0   1.0   ...     \n",
            "5  215  106       0      0   0.0   0.0   0.0   0.0   0.0   1.0   ...     \n",
            "6  272  106       0      0   0.0   0.0   0.0   0.0   0.0   1.0   ...     \n",
            "7  364  106       0      0   0.0   0.0   0.0   0.0   0.0   1.0   ...     \n",
            "8  453  106       0      0   0.0   0.0   0.0   0.0   0.0   1.0   ...     \n",
            "9  550  106       0      0   0.0   0.0   0.0   0.0   0.0   1.0   ...     \n",
            "\n",
            "   text40  text41  text42  text43  text44  text45  text46  text47  text48  \\\n",
            "0     0.0     0.0     0.0     0.0     0.0     0.0     0.0     0.0     0.0   \n",
            "1     0.0     0.0     0.0     0.0     0.0     0.0     0.0     0.0     0.0   \n",
            "2     0.0     0.0     0.0     0.0     0.0     0.0     0.0     0.0     0.0   \n",
            "3     0.0     0.0     0.0     0.0     0.0     0.0     0.0     0.0     0.0   \n",
            "4     0.0     0.0     0.0     0.0     0.0     0.0     0.0     0.0     0.0   \n",
            "5     0.0     0.0     0.0     0.0     0.0     0.0     0.0     0.0     0.0   \n",
            "6     0.0     0.0     0.0     0.0     0.0     0.0     0.0     0.0     0.0   \n",
            "7     0.0     0.0     0.0     0.0     0.0     0.0     0.0     0.0     0.0   \n",
            "8     0.0     0.0     0.0     0.0     0.0     0.0     0.0     0.0     0.0   \n",
            "9     0.0     0.0     0.0     0.0     0.0     0.0     0.0     0.0     0.0   \n",
            "\n",
            "   text49  \n",
            "0     0.0  \n",
            "1     0.0  \n",
            "2     0.0  \n",
            "3     0.0  \n",
            "4     0.0  \n",
            "5     0.0  \n",
            "6     0.0  \n",
            "7     0.0  \n",
            "8     0.0  \n",
            "9     0.0  \n",
            "\n",
            "[10 rows x 160 columns]\n",
            "Index(['x', 'y', 'height', 'width', 'tag0', 'tag1', 'tag2', 'tag3', 'tag4',\n",
            "       'tag5',\n",
            "       ...\n",
            "       'text40', 'text41', 'text42', 'text43', 'text44', 'text45', 'text46',\n",
            "       'text47', 'text48', 'text49'],\n",
            "      dtype='object', length=160)\n",
            "[[6.7182939e-04 9.0290064e-01 9.4895944e-02 1.5315890e-03]\n",
            " [6.7182939e-04 9.0290064e-01 9.4895944e-02 1.5315890e-03]\n",
            " [2.3992310e-01 2.3541908e-01 2.4703972e-01 2.7761811e-01]\n",
            " [1.9383231e-01 2.7955124e-01 2.0480382e-01 3.2181260e-01]\n",
            " [2.2716652e-01 2.4543469e-01 2.2450076e-01 3.0289805e-01]\n",
            " [2.3256795e-01 2.3961209e-01 2.3300894e-01 2.9481098e-01]\n",
            " [2.3313056e-01 2.3394074e-01 2.3580311e-01 2.9712561e-01]\n",
            " [2.3376781e-01 2.2457643e-01 2.3599209e-01 3.0566368e-01]\n",
            " [2.4260430e-01 2.2822931e-01 2.4593018e-01 2.8323618e-01]\n",
            " [2.4481088e-01 2.2884545e-01 2.4834713e-01 2.7799651e-01]]\n",
            "1\n",
            "stock\n",
            "1\n",
            "stock\n",
            "3\n",
            "variat\n",
            "3\n",
            "variat\n",
            "3\n",
            "variat\n",
            "3\n",
            "variat\n",
            "3\n",
            "variat\n",
            "3\n",
            "variat\n",
            "3\n",
            "variat\n",
            "3\n",
            "variat\n"
          ],
          "name": "stdout"
        }
      ]
    },
    {
      "metadata": {
        "id": "eHXfd2SgDIJi",
        "colab_type": "code",
        "colab": {}
      },
      "cell_type": "code",
      "source": [
        "\n",
        "def prepare_data(data):\n",
        "    text_df = pd.DataFrame(data)\n",
        "    print(\"row_df:{}\".format(text_df))\n",
        "    text_df[[\"iid\", \"style\", \"text\"]] = text_df[[\"iid\", \"style\", \"text\"]].applymap(lambda x: wakati(x)).fillna(\"\")\n",
        "    text_df[[\"iid\", \"style\"]] = text_df[[\"iid\", \"style\"]].applymap(lambda x: add_space_front_uppercase(x))\n",
        "    text_df[[\"iid\", \"style\"]] = text_df[[\"iid\", \"style\"]].applymap(lambda x: add_space_color_size(x))\n",
        "    text_df[\"tag\"] = text_df[[\"tag\"]].applymap(lambda x: tag_filter(x))\n",
        "    print(\"filterd row_df:{}\".format(text_df))\n",
        "\n",
        "    df = text_df\n",
        "    fileds = [\"x\", \"y\", \"height\",\"width\" ]\n",
        "    X = df[fileds]\n",
        "\n",
        "    df_tag = load_tokanaize(df, \"tag\")\n",
        "    X = X.join(df_tag)\n",
        "\n",
        "    df_iid = load_tokanaize(df, \"iid\")\n",
        "    X = X.join(df_iid)\n",
        "\n",
        "    df_style = load_tokanaize(df, \"style\")\n",
        "    X = X.join(df_style)\n",
        "\n",
        "    df_style = load_tokanaize(df, \"text\")\n",
        "    X = X.join(df_style)\n",
        "    X = X.fillna(0)\n",
        "\n",
        "    return X"
      ],
      "execution_count": 0,
      "outputs": []
    },
    {
      "metadata": {
        "id": "wvDYztzIQB4p",
        "colab_type": "code",
        "colab": {}
      },
      "cell_type": "code",
      "source": [
        "token_path = \"{}/tokenizer_{}.pickle\"\n",
        "\n",
        "def load_tokanaize(df, filed, ):\n",
        "    token = None\n",
        "    # loading\n",
        "    with open(token_path.format(base_dir,filed), 'rb') as handle:\n",
        "        token = pickle.load(handle)\n",
        "\n",
        "    text_matrix = token.texts_to_matrix(df[filed], mode='count')\n",
        "    df_temp = pd.DataFrame(text_matrix)\n",
        "    column_size = len(df_temp.columns)\n",
        "    print(filed)\n",
        "    print(df_temp)\n",
        "    print(column_size)\n",
        "    columns = [\"{}{}\".format(filed, i) for i in range(column_size)]\n",
        "    df_temp.columns = columns\n",
        "    return df_temp\n"
      ],
      "execution_count": 0,
      "outputs": []
    },
    {
      "metadata": {
        "id": "CWofndFMKU7B",
        "colab_type": "text"
      },
      "cell_type": "markdown",
      "source": [
        "###モデルの復元が正確かを検証\n",
        "99.3%で学習直後と同じ結果が出ている。\n"
      ]
    },
    {
      "metadata": {
        "id": "BVOlQsvhCa4m",
        "colab_type": "code",
        "colab": {
          "base_uri": "https://localhost:8080/",
          "height": 51
        },
        "outputId": "0e99a6a4-f06f-4b1a-da3b-5004a84a492e"
      },
      "cell_type": "code",
      "source": [
        "score = model.evaluate(X_test, y_test, verbose=0)\n",
        "print('Test loss:', score[0])\n",
        "print('Test accuracy:', score[1])"
      ],
      "execution_count": 24,
      "outputs": [
        {
          "output_type": "stream",
          "text": [
            "Test loss: 0.2715692318032032\n",
            "Test accuracy: 0.993833605710332\n"
          ],
          "name": "stdout"
        }
      ]
    },
    {
      "metadata": {
        "id": "7AgVOvRVLI4c",
        "colab_type": "text"
      },
      "cell_type": "markdown",
      "source": [
        "###テストデータの予測結果を一つずつ確認。"
      ]
    },
    {
      "metadata": {
        "id": "uxyam5U_KjOw",
        "colab_type": "code",
        "colab": {
          "base_uri": "https://localhost:8080/",
          "height": 2567
        },
        "outputId": "2c0081c0-2c9a-4968-9915-4fca78a8e8b2"
      },
      "cell_type": "code",
      "source": [
        "con = 0\n",
        "for i in range(100):\n",
        "#   print(X_test[i:i+1])\n",
        "  result = model.predict(X_test[i:i+1])\n",
        "  \n",
        "  \n",
        "  predict_result = label_dic.get(np.argmax(result))\n",
        "  y_label = label_dic.get(np.argmax(y_test[i:i+1]))\n",
        "  if y_label != predict_result:\n",
        "    print('con',con)\n",
        "    con += 1\n",
        "    print('Result:', result)\n",
        "    print('predict_label:', label_dic.get(np.argmax(result)),' y_label:', label_dic.get(np.argmax(y_test[i:i+1])))\n",
        "    "
      ],
      "execution_count": 49,
      "outputs": [
        {
          "output_type": "stream",
          "text": [
            "con 0\n",
            "Result: [[0.2521474  0.24576311 0.2492169  0.2528726 ]]\n",
            "predict_label: variat  y_label: \n",
            "con 1\n",
            "Result: [[0.24922699 0.24987373 0.25289416 0.24800512]]\n",
            "predict_label: nostock  y_label: \n",
            "con 2\n",
            "Result: [[0.25071126 0.24347603 0.2543496  0.25146312]]\n",
            "predict_label: nostock  y_label: \n",
            "con 3\n",
            "Result: [[0.24910423 0.24835362 0.25190693 0.25063524]]\n",
            "predict_label: nostock  y_label: \n",
            "con 4\n",
            "Result: [[0.25025675 0.24521764 0.250801   0.25372466]]\n",
            "predict_label: variat  y_label: \n",
            "con 5\n",
            "Result: [[0.2492127  0.24623159 0.25027    0.25428572]]\n",
            "predict_label: variat  y_label: \n",
            "con 6\n",
            "Result: [[0.25174817 0.24528281 0.2526216  0.25034738]]\n",
            "predict_label: nostock  y_label: \n",
            "con 7\n",
            "Result: [[0.25366122 0.24278963 0.25524074 0.24830842]]\n",
            "predict_label: nostock  y_label: \n",
            "con 8\n",
            "Result: [[0.25169086 0.24555714 0.24934018 0.25341183]]\n",
            "predict_label: variat  y_label: \n",
            "con 9\n",
            "Result: [[0.0114113  0.89317083 0.02844435 0.06697351]]\n",
            "predict_label: stock  y_label: \n",
            "con 10\n",
            "Result: [[0.25002694 0.25152856 0.25320423 0.24524035]]\n",
            "predict_label: nostock  y_label: \n",
            "con 11\n",
            "Result: [[1.3648717e-04 6.3256949e-01 3.6716783e-01 1.2618402e-04]]\n",
            "predict_label: stock  y_label: \n",
            "con 12\n",
            "Result: [[0.25169307 0.2457507  0.24951221 0.25304407]]\n",
            "predict_label: variat  y_label: \n",
            "con 13\n",
            "Result: [[0.2506099  0.2468901  0.24908885 0.25341114]]\n",
            "predict_label: variat  y_label: \n",
            "con 14\n",
            "Result: [[0.25005764 0.24760042 0.24901977 0.25332215]]\n",
            "predict_label: variat  y_label: \n",
            "con 15\n",
            "Result: [[0.2512476  0.2450396  0.2523447  0.25136808]]\n",
            "predict_label: nostock  y_label: \n",
            "con 16\n",
            "Result: [[0.25117466 0.2452917  0.24957798 0.2539556 ]]\n",
            "predict_label: variat  y_label: \n",
            "con 17\n",
            "Result: [[0.25259367 0.24353252 0.25722766 0.24664614]]\n",
            "predict_label: nostock  y_label: \n",
            "con 18\n",
            "Result: [[0.25194797 0.24567793 0.24864198 0.2537321 ]]\n",
            "predict_label: variat  y_label: \n",
            "con 19\n",
            "Result: [[0.25097618 0.24630204 0.25169078 0.25103095]]\n",
            "predict_label: nostock  y_label: \n",
            "con 20\n",
            "Result: [[0.24825367 0.24146923 0.25153157 0.25874546]]\n",
            "predict_label: variat  y_label: \n",
            "con 21\n",
            "Result: [[0.25225607 0.24349935 0.25157177 0.2526728 ]]\n",
            "predict_label: variat  y_label: \n",
            "con 22\n",
            "Result: [[0.25100246 0.24552576 0.24999456 0.25347722]]\n",
            "predict_label: variat  y_label: \n",
            "con 23\n",
            "Result: [[0.25196636 0.24281454 0.2566778  0.24854127]]\n",
            "predict_label: nostock  y_label: \n",
            "con 24\n",
            "Result: [[0.2508621  0.2480712  0.24866557 0.25240114]]\n",
            "predict_label: variat  y_label: \n",
            "con 25\n",
            "Result: [[0.24529931 0.22655483 0.24705645 0.2810894 ]]\n",
            "predict_label: variat  y_label: \n",
            "con 26\n",
            "Result: [[0.25077647 0.23932368 0.25912383 0.25077602]]\n",
            "predict_label: nostock  y_label: \n",
            "con 27\n",
            "Result: [[0.2505682  0.24571975 0.24939603 0.25431606]]\n",
            "predict_label: variat  y_label: \n",
            "con 28\n",
            "Result: [[0.24898383 0.24605496 0.25009364 0.25486755]]\n",
            "predict_label: variat  y_label: \n",
            "con 29\n",
            "Result: [[0.2520603  0.24580571 0.24920365 0.25293034]]\n",
            "predict_label: variat  y_label: \n",
            "con 30\n",
            "Result: [[0.25045726 0.24741457 0.24921942 0.25290877]]\n",
            "predict_label: variat  y_label: \n",
            "con 31\n",
            "Result: [[0.18300024 0.36914915 0.23254678 0.21530385]]\n",
            "predict_label: stock  y_label: \n",
            "con 32\n",
            "Result: [[0.25195074 0.24417527 0.250339   0.25353497]]\n",
            "predict_label: variat  y_label: \n",
            "con 33\n",
            "Result: [[0.24882041 0.2487568  0.25617555 0.24624726]]\n",
            "predict_label: nostock  y_label: \n",
            "con 34\n",
            "Result: [[0.25113252 0.24662164 0.2491066  0.2531392 ]]\n",
            "predict_label: variat  y_label: \n",
            "con 35\n",
            "Result: [[0.25179207 0.24523956 0.249461   0.25350735]]\n",
            "predict_label: variat  y_label: \n",
            "con 36\n",
            "Result: [[0.2421158  0.2530458  0.25722328 0.24761511]]\n",
            "predict_label: nostock  y_label: \n",
            "con 37\n",
            "Result: [[0.24860027 0.26871377 0.24799128 0.23469469]]\n",
            "predict_label: stock  y_label: \n",
            "con 38\n",
            "Result: [[0.25206015 0.2401423  0.25655836 0.2512392 ]]\n",
            "predict_label: nostock  y_label: \n",
            "con 39\n",
            "Result: [[0.24896595 0.24696063 0.24913606 0.25493732]]\n",
            "predict_label: variat  y_label: \n",
            "con 40\n",
            "Result: [[0.05932617 0.45039418 0.10820359 0.38207605]]\n",
            "predict_label: stock  y_label: \n",
            "con 41\n",
            "Result: [[0.24198103 0.25848475 0.2565982  0.24293599]]\n",
            "predict_label: stock  y_label: \n",
            "con 42\n",
            "Result: [[0.2509587  0.24528264 0.25023344 0.25352523]]\n",
            "predict_label: variat  y_label: \n",
            "con 43\n",
            "Result: [[0.2507089  0.24578744 0.24865152 0.25485215]]\n",
            "predict_label: variat  y_label: \n",
            "con 44\n",
            "Result: [[0.2524161  0.24449654 0.25416207 0.24892528]]\n",
            "predict_label: nostock  y_label: \n",
            "con 45\n",
            "Result: [[0.2502227  0.2476272  0.2544307  0.24771936]]\n",
            "predict_label: nostock  y_label: \n",
            "con 46\n",
            "Result: [[0.25010127 0.25144985 0.25257507 0.24587384]]\n",
            "predict_label: nostock  y_label: \n",
            "con 47\n",
            "Result: [[0.1098288  0.51137984 0.17405373 0.2047377 ]]\n",
            "predict_label: stock  y_label: \n",
            "con 48\n",
            "Result: [[0.25082418 0.24551828 0.24945134 0.2542062 ]]\n",
            "predict_label: variat  y_label: \n",
            "con 49\n",
            "Result: [[0.25032857 0.24552628 0.25239736 0.2517478 ]]\n",
            "predict_label: nostock  y_label: \n"
          ],
          "name": "stdout"
        }
      ]
    },
    {
      "metadata": {
        "id": "Pz1THXKCP7YZ",
        "colab_type": "text"
      },
      "cell_type": "markdown",
      "source": [
        "テスト結果をひとつひとつ確認したところ全然正解していないことが分かる。どうして高い正解率が出てしまったのか？"
      ]
    },
    {
      "metadata": {
        "id": "nZANp5g9qGGJ",
        "colab_type": "text"
      },
      "cell_type": "markdown",
      "source": [
        "##作成したモデルを保存する\n",
        "\n"
      ]
    },
    {
      "metadata": {
        "id": "eAWThi4VQmag",
        "colab_type": "text"
      },
      "cell_type": "markdown",
      "source": [
        "###モデルを保存"
      ]
    },
    {
      "metadata": {
        "id": "e8_YSWdnPSyF",
        "colab_type": "code",
        "colab": {
          "base_uri": "https://localhost:8080/",
          "height": 34
        },
        "outputId": "05137f8c-b632-4d0f-83c6-42b9715d7e72"
      },
      "cell_type": "code",
      "source": [
        "\n",
        "# serialize model to JSON\n",
        "model_json = model.to_json()\n",
        "with open(\"model_012.json\", \"w\") as json_file:\n",
        "    json_file.write(model_json)\n",
        "# serialize weights to HDF5\n",
        "model.save_weights(\"model_012.h5\")\n",
        "print(\"Saved model to disk\")"
      ],
      "execution_count": 0,
      "outputs": [
        {
          "output_type": "stream",
          "text": [
            "Saved model to disk\n"
          ],
          "name": "stdout"
        }
      ]
    },
    {
      "metadata": {
        "id": "RFIR9rNMqH1d",
        "colab_type": "text"
      },
      "cell_type": "markdown",
      "source": [
        "###モデルを読み込み"
      ]
    },
    {
      "metadata": {
        "id": "KbaD369ozNA-",
        "colab_type": "code",
        "colab": {
          "base_uri": "https://localhost:8080/",
          "height": 34
        },
        "outputId": "91f4ef12-8cd5-4ab6-ff91-60ee56db144c"
      },
      "cell_type": "code",
      "source": [
        "\n",
        "# load json and create model\n",
        "json_file = open('model_012.json', 'r')\n",
        "loaded_model_json = json_file.read()\n",
        "json_file.close()\n",
        "loaded_model = model_from_json(loaded_model_json)\n",
        "# load weights into new model\n",
        "loaded_model.load_weights(\"model_012.h5\")\n",
        "print(\"Loaded model from disk\")"
      ],
      "execution_count": 0,
      "outputs": [
        {
          "output_type": "stream",
          "text": [
            "Loaded model from disk\n"
          ],
          "name": "stdout"
        }
      ]
    },
    {
      "metadata": {
        "id": "gBWIDKMtqJl0",
        "colab_type": "text"
      },
      "cell_type": "markdown",
      "source": [
        "###モデルを使って検証"
      ]
    },
    {
      "metadata": {
        "id": "7MSAdKvl1awn",
        "colab_type": "code",
        "colab": {
          "base_uri": "https://localhost:8080/",
          "height": 34
        },
        "outputId": "d433063f-2e02-4f18-c84a-9f8adf53bbef"
      },
      "cell_type": "code",
      "source": [
        "\n",
        "# evaluate loaded model on test data\n",
        "loaded_model.compile(loss='binary_crossentropy', optimizer='Adam', metrics=['accuracy'])\n",
        "score = loaded_model.evaluate(X_test, y_test, verbose=0)\n",
        "print(\"%s: %.2f%%\" % (loaded_model.metrics_names[1], score[1]*100))"
      ],
      "execution_count": 0,
      "outputs": [
        {
          "output_type": "stream",
          "text": [
            "acc: 99.32%\n"
          ],
          "name": "stdout"
        }
      ]
    },
    {
      "metadata": {
        "id": "Tq9Hq-ViQXWP",
        "colab_type": "text"
      },
      "cell_type": "markdown",
      "source": [
        "###モデルと重みをダウンロード"
      ]
    },
    {
      "metadata": {
        "id": "zsUo0t7hsChE",
        "colab_type": "code",
        "colab": {}
      },
      "cell_type": "code",
      "source": [
        "files.download(\"model_012.json\")\n"
      ],
      "execution_count": 0,
      "outputs": []
    },
    {
      "metadata": {
        "id": "eJotuvOasMUt",
        "colab_type": "code",
        "colab": {}
      },
      "cell_type": "code",
      "source": [
        "files.download(\"model_012.h5\")"
      ],
      "execution_count": 0,
      "outputs": []
    },
    {
      "metadata": {
        "id": "vXuW7j8isQQD",
        "colab_type": "code",
        "colab": {}
      },
      "cell_type": "code",
      "source": [
        ""
      ],
      "execution_count": 0,
      "outputs": []
    }
  ]
}