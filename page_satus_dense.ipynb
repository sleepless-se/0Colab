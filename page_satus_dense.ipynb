{
  "nbformat": 4,
  "nbformat_minor": 0,
  "metadata": {
    "colab": {
      "name": "page_satus_rnn",
      "version": "0.3.2",
      "provenance": [],
      "collapsed_sections": [],
      "include_colab_link": true
    },
    "kernelspec": {
      "name": "python3",
      "display_name": "Python 3"
    },
    "accelerator": "GPU"
  },
  "cells": [
    {
      "cell_type": "markdown",
      "metadata": {
        "id": "view-in-github",
        "colab_type": "text"
      },
      "source": [
        "<a href=\"https://colab.research.google.com/github/sleepless-se/Colab/blob/master/page_satus_dense.ipynb\" target=\"_parent\"><img src=\"https://colab.research.google.com/assets/colab-badge.svg\" alt=\"Open In Colab\"/></a>"
      ]
    },
    {
      "metadata": {
        "id": "SBfglvxvnvIc",
        "colab_type": "code",
        "outputId": "47c3c810-1249-4027-d817-a051007cf3ab",
        "colab": {
          "base_uri": "https://localhost:8080/",
          "height": 3760
        }
      },
      "cell_type": "code",
      "source": [
        "!apt-get -q -y install swig \n",
        "!apt-get install mecab\n",
        "!apt-get install libmecab-dev\n",
        "!apt-get install mecab-ipadic-utf8\n",
        "!pip install mecab-python3"
      ],
      "execution_count": 1,
      "outputs": [
        {
          "output_type": "stream",
          "text": [
            "Reading package lists...\n",
            "Building dependency tree...\n",
            "Reading state information...\n",
            "The following package was automatically installed and is no longer required:\n",
            "  libnvidia-common-410\n",
            "Use 'apt autoremove' to remove it.\n",
            "The following additional packages will be installed:\n",
            "  swig3.0\n",
            "Suggested packages:\n",
            "  swig-doc swig-examples swig3.0-examples swig3.0-doc\n",
            "The following NEW packages will be installed:\n",
            "  swig swig3.0\n",
            "0 upgraded, 2 newly installed, 0 to remove and 10 not upgraded.\n",
            "Need to get 1,100 kB of archives.\n",
            "After this operation, 5,822 kB of additional disk space will be used.\n",
            "Get:1 http://archive.ubuntu.com/ubuntu bionic/universe amd64 swig3.0 amd64 3.0.12-1 [1,094 kB]\n",
            "Get:2 http://archive.ubuntu.com/ubuntu bionic/universe amd64 swig amd64 3.0.12-1 [6,460 B]\n",
            "Fetched 1,100 kB in 1s (1,155 kB/s)\n",
            "Selecting previously unselected package swig3.0.\n",
            "(Reading database ... 131323 files and directories currently installed.)\n",
            "Preparing to unpack .../swig3.0_3.0.12-1_amd64.deb ...\n",
            "Unpacking swig3.0 (3.0.12-1) ...\n",
            "Selecting previously unselected package swig.\n",
            "Preparing to unpack .../swig_3.0.12-1_amd64.deb ...\n",
            "Unpacking swig (3.0.12-1) ...\n",
            "Setting up swig3.0 (3.0.12-1) ...\n",
            "Processing triggers for man-db (2.8.3-2ubuntu0.1) ...\n",
            "Setting up swig (3.0.12-1) ...\n",
            "Reading package lists... Done\n",
            "Building dependency tree       \n",
            "Reading state information... Done\n",
            "The following package was automatically installed and is no longer required:\n",
            "  libnvidia-common-410\n",
            "Use 'apt autoremove' to remove it.\n",
            "The following additional packages will be installed:\n",
            "  libmecab2 mecab-jumandic mecab-jumandic-utf8 mecab-utils\n",
            "The following NEW packages will be installed:\n",
            "  libmecab2 mecab mecab-jumandic mecab-jumandic-utf8 mecab-utils\n",
            "0 upgraded, 5 newly installed, 0 to remove and 10 not upgraded.\n",
            "Need to get 16.5 MB of archives.\n",
            "After this operation, 219 MB of additional disk space will be used.\n",
            "Get:1 http://archive.ubuntu.com/ubuntu bionic/universe amd64 libmecab2 amd64 0.996-5 [257 kB]\n",
            "Get:2 http://archive.ubuntu.com/ubuntu bionic/universe amd64 mecab-utils amd64 0.996-5 [4,856 B]\n",
            "Get:3 http://archive.ubuntu.com/ubuntu bionic/universe amd64 mecab-jumandic-utf8 all 7.0-20130310-4 [16.2 MB]\n",
            "Get:4 http://archive.ubuntu.com/ubuntu bionic/universe amd64 mecab-jumandic all 7.0-20130310-4 [2,212 B]\n",
            "Get:5 http://archive.ubuntu.com/ubuntu bionic/universe amd64 mecab amd64 0.996-5 [132 kB]\n",
            "Fetched 16.5 MB in 1s (19.8 MB/s)\n",
            "Selecting previously unselected package libmecab2:amd64.\n",
            "(Reading database ... 132114 files and directories currently installed.)\n",
            "Preparing to unpack .../libmecab2_0.996-5_amd64.deb ...\n",
            "Unpacking libmecab2:amd64 (0.996-5) ...\n",
            "Selecting previously unselected package mecab-utils.\n",
            "Preparing to unpack .../mecab-utils_0.996-5_amd64.deb ...\n",
            "Unpacking mecab-utils (0.996-5) ...\n",
            "Selecting previously unselected package mecab-jumandic-utf8.\n",
            "Preparing to unpack .../mecab-jumandic-utf8_7.0-20130310-4_all.deb ...\n",
            "Unpacking mecab-jumandic-utf8 (7.0-20130310-4) ...\n",
            "Selecting previously unselected package mecab-jumandic.\n",
            "Preparing to unpack .../mecab-jumandic_7.0-20130310-4_all.deb ...\n",
            "Unpacking mecab-jumandic (7.0-20130310-4) ...\n",
            "Selecting previously unselected package mecab.\n",
            "Preparing to unpack .../mecab_0.996-5_amd64.deb ...\n",
            "Unpacking mecab (0.996-5) ...\n",
            "Setting up libmecab2:amd64 (0.996-5) ...\n",
            "Processing triggers for libc-bin (2.27-3ubuntu1) ...\n",
            "Processing triggers for man-db (2.8.3-2ubuntu0.1) ...\n",
            "Setting up mecab-utils (0.996-5) ...\n",
            "Setting up mecab-jumandic-utf8 (7.0-20130310-4) ...\n",
            "Compiling Juman dictionary for Mecab.\n",
            "reading /usr/share/mecab/dic/juman/unk.def ... 37\n",
            "emitting double-array: 100% |###########################################| \n",
            "reading /usr/share/mecab/dic/juman/AuxV.csv ... 593\n",
            "reading /usr/share/mecab/dic/juman/Prefix.csv ... 90\n",
            "reading /usr/share/mecab/dic/juman/Postp.csv ... 108\n",
            "reading /usr/share/mecab/dic/juman/Noun.hukusi.csv ... 81\n",
            "reading /usr/share/mecab/dic/juman/Wikipedia.csv ... 167709\n",
            "reading /usr/share/mecab/dic/juman/Noun.suusi.csv ... 49\n",
            "reading /usr/share/mecab/dic/juman/Auto.csv ... 18931\n",
            "reading /usr/share/mecab/dic/juman/Rengo.csv ... 1118\n",
            "reading /usr/share/mecab/dic/juman/Noun.koyuu.csv ... 7964\n",
            "reading /usr/share/mecab/dic/juman/ContentW.csv ... 551145\n",
            "reading /usr/share/mecab/dic/juman/Assert.csv ... 34\n",
            "reading /usr/share/mecab/dic/juman/Suffix.csv ... 2128\n",
            "reading /usr/share/mecab/dic/juman/Noun.keishiki.csv ... 8\n",
            "reading /usr/share/mecab/dic/juman/Demonstrative.csv ... 97\n",
            "reading /usr/share/mecab/dic/juman/Special.csv ... 158\n",
            "reading /usr/share/mecab/dic/juman/Emoticon.csv ... 972\n",
            "emitting double-array: 100% |###########################################| \n",
            "reading /usr/share/mecab/dic/juman/matrix.def ... 1876x1876\n",
            "emitting matrix      : 100% |###########################################| \n",
            "\n",
            "done!\n",
            "update-alternatives: using /var/lib/mecab/dic/juman-utf8 to provide /var/lib/mecab/dic/debian (mecab-dictionary) in auto mode\n",
            "Setting up mecab (0.996-5) ...\n",
            "Setting up mecab-jumandic (7.0-20130310-4) ...\n",
            "Reading package lists... Done\n",
            "Building dependency tree       \n",
            "Reading state information... Done\n",
            "The following package was automatically installed and is no longer required:\n",
            "  libnvidia-common-410\n",
            "Use 'apt autoremove' to remove it.\n",
            "The following NEW packages will be installed:\n",
            "  libmecab-dev\n",
            "0 upgraded, 1 newly installed, 0 to remove and 10 not upgraded.\n",
            "Need to get 308 kB of archives.\n",
            "After this operation, 3,132 kB of additional disk space will be used.\n",
            "Get:1 http://archive.ubuntu.com/ubuntu bionic/universe amd64 libmecab-dev amd64 0.996-5 [308 kB]\n",
            "Fetched 308 kB in 1s (447 kB/s)\n",
            "Selecting previously unselected package libmecab-dev.\n",
            "(Reading database ... 132239 files and directories currently installed.)\n",
            "Preparing to unpack .../libmecab-dev_0.996-5_amd64.deb ...\n",
            "Unpacking libmecab-dev (0.996-5) ...\n",
            "Setting up libmecab-dev (0.996-5) ...\n",
            "Processing triggers for man-db (2.8.3-2ubuntu0.1) ...\n",
            "Reading package lists... Done\n",
            "Building dependency tree       \n",
            "Reading state information... Done\n",
            "The following package was automatically installed and is no longer required:\n",
            "  libnvidia-common-410\n",
            "Use 'apt autoremove' to remove it.\n",
            "The following additional packages will be installed:\n",
            "  mecab-ipadic\n",
            "The following NEW packages will be installed:\n",
            "  mecab-ipadic mecab-ipadic-utf8\n",
            "0 upgraded, 2 newly installed, 0 to remove and 10 not upgraded.\n",
            "Need to get 12.1 MB of archives.\n",
            "After this operation, 54.4 MB of additional disk space will be used.\n",
            "Get:1 http://archive.ubuntu.com/ubuntu bionic/universe amd64 mecab-ipadic all 2.7.0-20070801+main-1 [12.1 MB]\n",
            "Get:2 http://archive.ubuntu.com/ubuntu bionic/universe amd64 mecab-ipadic-utf8 all 2.7.0-20070801+main-1 [3,522 B]\n",
            "Fetched 12.1 MB in 1s (19.7 MB/s)\n",
            "Selecting previously unselected package mecab-ipadic.\n",
            "(Reading database ... 132247 files and directories currently installed.)\n",
            "Preparing to unpack .../mecab-ipadic_2.7.0-20070801+main-1_all.deb ...\n",
            "Unpacking mecab-ipadic (2.7.0-20070801+main-1) ...\n",
            "Selecting previously unselected package mecab-ipadic-utf8.\n",
            "Preparing to unpack .../mecab-ipadic-utf8_2.7.0-20070801+main-1_all.deb ...\n",
            "Unpacking mecab-ipadic-utf8 (2.7.0-20070801+main-1) ...\n",
            "Setting up mecab-ipadic (2.7.0-20070801+main-1) ...\n",
            "Compiling IPA dictionary for Mecab.  This takes long time...\n",
            "reading /usr/share/mecab/dic/ipadic/unk.def ... 40\n",
            "emitting double-array: 100% |###########################################| \n",
            "/usr/share/mecab/dic/ipadic/model.def is not found. skipped.\n",
            "reading /usr/share/mecab/dic/ipadic/Verb.csv ... 130750\n",
            "reading /usr/share/mecab/dic/ipadic/Symbol.csv ... 208\n",
            "reading /usr/share/mecab/dic/ipadic/Noun.demonst.csv ... 120\n",
            "reading /usr/share/mecab/dic/ipadic/Prefix.csv ... 221\n",
            "reading /usr/share/mecab/dic/ipadic/Filler.csv ... 19\n",
            "reading /usr/share/mecab/dic/ipadic/Noun.csv ... 60477\n",
            "reading /usr/share/mecab/dic/ipadic/Postp.csv ... 146\n",
            "reading /usr/share/mecab/dic/ipadic/Conjunction.csv ... 171\n",
            "reading /usr/share/mecab/dic/ipadic/Others.csv ... 2\n",
            "reading /usr/share/mecab/dic/ipadic/Interjection.csv ... 252\n",
            "reading /usr/share/mecab/dic/ipadic/Adverb.csv ... 3032\n",
            "reading /usr/share/mecab/dic/ipadic/Noun.adjv.csv ... 3328\n",
            "reading /usr/share/mecab/dic/ipadic/Noun.proper.csv ... 27327\n",
            "reading /usr/share/mecab/dic/ipadic/Noun.name.csv ... 34202\n",
            "reading /usr/share/mecab/dic/ipadic/Adnominal.csv ... 135\n",
            "reading /usr/share/mecab/dic/ipadic/Noun.org.csv ... 16668\n",
            "reading /usr/share/mecab/dic/ipadic/Noun.adverbal.csv ... 795\n",
            "reading /usr/share/mecab/dic/ipadic/Auxil.csv ... 199\n",
            "reading /usr/share/mecab/dic/ipadic/Noun.nai.csv ... 42\n",
            "reading /usr/share/mecab/dic/ipadic/Noun.number.csv ... 42\n",
            "reading /usr/share/mecab/dic/ipadic/Suffix.csv ... 1393\n",
            "reading /usr/share/mecab/dic/ipadic/Noun.verbal.csv ... 12146\n",
            "reading /usr/share/mecab/dic/ipadic/Postp-col.csv ... 91\n",
            "reading /usr/share/mecab/dic/ipadic/Noun.others.csv ... 151\n",
            "reading /usr/share/mecab/dic/ipadic/Noun.place.csv ... 72999\n",
            "reading /usr/share/mecab/dic/ipadic/Adj.csv ... 27210\n",
            "emitting double-array: 100% |###########################################| \n",
            "reading /usr/share/mecab/dic/ipadic/matrix.def ... 1316x1316\n",
            "emitting matrix      : 100% |###########################################| \n",
            "\n",
            "done!\n",
            "update-alternatives: using /var/lib/mecab/dic/ipadic to provide /var/lib/mecab/dic/debian (mecab-dictionary) in auto mode\n",
            "Setting up mecab-ipadic-utf8 (2.7.0-20070801+main-1) ...\n",
            "Compiling IPA dictionary for Mecab.  This takes long time...\n",
            "reading /usr/share/mecab/dic/ipadic/unk.def ... 40\n",
            "emitting double-array: 100% |###########################################| \n",
            "/usr/share/mecab/dic/ipadic/model.def is not found. skipped.\n",
            "reading /usr/share/mecab/dic/ipadic/Verb.csv ... 130750\n",
            "reading /usr/share/mecab/dic/ipadic/Symbol.csv ... 208\n",
            "reading /usr/share/mecab/dic/ipadic/Noun.demonst.csv ... 120\n",
            "reading /usr/share/mecab/dic/ipadic/Prefix.csv ... 221\n",
            "reading /usr/share/mecab/dic/ipadic/Filler.csv ... 19\n",
            "reading /usr/share/mecab/dic/ipadic/Noun.csv ... 60477\n",
            "reading /usr/share/mecab/dic/ipadic/Postp.csv ... 146\n",
            "reading /usr/share/mecab/dic/ipadic/Conjunction.csv ... 171\n",
            "reading /usr/share/mecab/dic/ipadic/Others.csv ... 2\n",
            "reading /usr/share/mecab/dic/ipadic/Interjection.csv ... 252\n",
            "reading /usr/share/mecab/dic/ipadic/Adverb.csv ... 3032\n",
            "reading /usr/share/mecab/dic/ipadic/Noun.adjv.csv ... 3328\n",
            "reading /usr/share/mecab/dic/ipadic/Noun.proper.csv ... 27327\n",
            "reading /usr/share/mecab/dic/ipadic/Noun.name.csv ... 34202\n",
            "reading /usr/share/mecab/dic/ipadic/Adnominal.csv ... 135\n",
            "reading /usr/share/mecab/dic/ipadic/Noun.org.csv ... 16668\n",
            "reading /usr/share/mecab/dic/ipadic/Noun.adverbal.csv ... 795\n",
            "reading /usr/share/mecab/dic/ipadic/Auxil.csv ... 199\n",
            "reading /usr/share/mecab/dic/ipadic/Noun.nai.csv ... 42\n",
            "reading /usr/share/mecab/dic/ipadic/Noun.number.csv ... 42\n",
            "reading /usr/share/mecab/dic/ipadic/Suffix.csv ... 1393\n",
            "reading /usr/share/mecab/dic/ipadic/Noun.verbal.csv ... 12146\n",
            "reading /usr/share/mecab/dic/ipadic/Postp-col.csv ... 91\n",
            "reading /usr/share/mecab/dic/ipadic/Noun.others.csv ... 151\n",
            "reading /usr/share/mecab/dic/ipadic/Noun.place.csv ... 72999\n",
            "reading /usr/share/mecab/dic/ipadic/Adj.csv ... 27210\n",
            "emitting double-array: 100% |###########################################| \n",
            "reading /usr/share/mecab/dic/ipadic/matrix.def ... 1316x1316\n",
            "emitting matrix      : 100% |###########################################| \n",
            "\n",
            "done!\n",
            "update-alternatives: using /var/lib/mecab/dic/ipadic-utf8 to provide /var/lib/mecab/dic/debian (mecab-dictionary) in auto mode\n",
            "Collecting mecab-python3\n",
            "  Downloading https://files.pythonhosted.org/packages/ac/48/295efe525df40cbc2173748eb869290e81a57e835bc41f6d3834fc5dad5f/mecab-python3-0.996.1.tar.gz\n",
            "Building wheels for collected packages: mecab-python3\n",
            "  Building wheel for mecab-python3 (setup.py) ... \u001b[?25ldone\n",
            "\u001b[?25h  Stored in directory: /root/.cache/pip/wheels/73/71/4f/63a79925b5e9bb38932043917cc60140beb8022ac14a952b1e\n",
            "Successfully built mecab-python3\n",
            "Installing collected packages: mecab-python3\n",
            "Successfully installed mecab-python3-0.996.1\n"
          ],
          "name": "stdout"
        }
      ]
    },
    {
      "metadata": {
        "id": "utt5O8Q-akpv",
        "colab_type": "code",
        "outputId": "7586304c-a239-4f0e-98ff-6c4c80fede6c",
        "colab": {
          "base_uri": "https://localhost:8080/",
          "height": 34
        }
      },
      "cell_type": "code",
      "source": [
        "import sys, pickle, os, json, keras, time, re\n",
        "from sklearn.model_selection import KFold\n",
        "from keras.datasets import boston_housing\n",
        "from keras.models import Model,model_from_json\n",
        "from keras.callbacks import ModelCheckpoint,ReduceLROnPlateau,EarlyStopping\n",
        "from keras.utils import to_categorical\n",
        "from keras.preprocessing.text import Tokenizer\n",
        "from keras.preprocessing import sequence\n",
        "from sklearn.model_selection import train_test_split\n",
        "from keras.utils import to_categorical\n",
        "from keras.datasets import mnist\n",
        "from keras import models\n",
        "from keras import layers\n",
        "import numpy as np\n",
        "from google.colab import files\n",
        "from keras.metrics import categorical_accuracy\n",
        "from scipy.stats import zscore\n",
        "import random\n",
        "import pandas as pd\n",
        "import matplotlib.pyplot as plt\n",
        "import MeCab\n",
        "mecab = MeCab.Tagger(\"-Owakati\")"
      ],
      "execution_count": 2,
      "outputs": [
        {
          "output_type": "stream",
          "text": [
            "Using TensorFlow backend.\n"
          ],
          "name": "stderr"
        }
      ]
    },
    {
      "metadata": {
        "id": "d2OekP5Mavkp",
        "colab_type": "code",
        "colab": {}
      },
      "cell_type": "code",
      "source": [
        "def save_text_tokenizer(tokenizer,file_name):\n",
        "  # saving\n",
        "  with open(file_name+\".pickle\", 'wb') as handle:\n",
        "      pickle.dump(tokenizer, handle, protocol=pickle.HIGHEST_PROTOCOL)\n",
        "\n",
        "def load_text_tokenizer(file_name):\n",
        "  # loading\n",
        "  with open(file_name+\".pickle\", 'rb') as handle:\n",
        "      return pickle.load(handle)"
      ],
      "execution_count": 0,
      "outputs": []
    },
    {
      "metadata": {
        "id": "9yfdxFnPazub",
        "colab_type": "code",
        "outputId": "ee73a1e6-c94f-4121-d705-0fcc2d58ccb5",
        "colab": {
          "base_uri": "https://localhost:8080/",
          "height": 156
        }
      },
      "cell_type": "code",
      "source": [
        "# Load the Drive helper and mount\n",
        "from google.colab import drive\n",
        "\n",
        "# This will prompt for authorization.\n",
        "drive.mount('/content/gdrive')\n",
        "\n",
        "# After executing the cell above, Drive\n",
        "# files will be present in \"/content/drive/My Drive\".\n",
        "base_dir = \"/content/gdrive/My Drive/data/status_filter/\"\n",
        "!ls \"/content/gdrive/My Drive/data/status_filter/\""
      ],
      "execution_count": 4,
      "outputs": [
        {
          "output_type": "stream",
          "text": [
            "Go to this URL in a browser: https://accounts.google.com/o/oauth2/auth?client_id=947318989803-6bn6qk8qdgf4n4g3pfee6491hc0brc4i.apps.googleusercontent.com&redirect_uri=urn%3Aietf%3Awg%3Aoauth%3A2.0%3Aoob&scope=email%20https%3A%2F%2Fwww.googleapis.com%2Fauth%2Fdocs.test%20https%3A%2F%2Fwww.googleapis.com%2Fauth%2Fdrive%20https%3A%2F%2Fwww.googleapis.com%2Fauth%2Fdrive.photos.readonly%20https%3A%2F%2Fwww.googleapis.com%2Fauth%2Fpeopleapi.readonly&response_type=code\n",
            "\n",
            "Enter your authorization code:\n",
            "··········\n",
            "Mounted at /content/gdrive\n",
            "data\t   error_domain.csv  keras_model.json\t logs\t      text_token.pickle\n",
            "error.csv  keras_model.hdf5  label.pickl.pickle  page_st.csv  weights.best.h5\n"
          ],
          "name": "stdout"
        }
      ]
    },
    {
      "metadata": {
        "id": "IYX9sftFbANX",
        "colab_type": "code",
        "outputId": "1d7a0dca-dc4a-4af6-96ec-f008abbf2447",
        "colab": {
          "base_uri": "https://localhost:8080/",
          "height": 187
        }
      },
      "cell_type": "code",
      "source": [
        "page_file_name = 'page_st.csv'\n",
        "target_columns = ['label','text']\n",
        "dtype ={'label':str,'text':str} \n",
        "raw_df = pd.read_csv(base_dir + page_file_name,sep=',',error_bad_lines=False, dtype=dtype,engine='python')\n",
        "# raw_df2 = pd.read_csv(base_dir + 'new_status.csv',sep=',',error_bad_lines=False, dtype=dtype,engine='python')\n",
        "# raw_df = pd.concat([raw_df,raw_df2],axis=0)\n",
        "raw_df = raw_df[~raw_df.duplicated()]\n",
        "samples = len(raw_df)\n",
        "print('raw_df',raw_df.shape)\n",
        "print(raw_df.columns)\n",
        "print(raw_df['label'].value_counts())\n",
        "\n",
        "raw_df.to_csv(base_dir+'page_st.csv',index=False)"
      ],
      "execution_count": 5,
      "outputs": [
        {
          "output_type": "stream",
          "text": [
            "raw_df (2452, 3)\n",
            "Index(['label', 'url', 'text'], dtype='object')\n",
            "no        1463\n",
            "stock      692\n",
            "list       139\n",
            "top         96\n",
            "block       25\n",
            "login       25\n",
            "except      12\n",
            "Name: label, dtype: int64\n"
          ],
          "name": "stdout"
        }
      ]
    },
    {
      "metadata": {
        "id": "9jmnQy0rY4Dt",
        "colab_type": "code",
        "colab": {}
      },
      "cell_type": "code",
      "source": [
        "# def change_label(label):\n",
        "#   if label != 'stock' :label = 'no'\n",
        "#   return label\n",
        "\n",
        "# raw_df['label'] = raw_df['label'].apply(lambda x : change_label(x))"
      ],
      "execution_count": 0,
      "outputs": []
    },
    {
      "metadata": {
        "id": "9Hk0LB_AcriH",
        "colab_type": "code",
        "outputId": "c8e9a1e6-e8fe-42d8-9287-271596e961ee",
        "colab": {
          "base_uri": "https://localhost:8080/",
          "height": 187
        }
      },
      "cell_type": "code",
      "source": [
        "raw_df = raw_df.dropna()\n",
        "raw_df = raw_df.sample(frac=1)\n",
        "print(raw_df[\"label\"].value_counts())\n",
        "print('raw_df',raw_df.shape)\n",
        "print(raw_df.columns)\n"
      ],
      "execution_count": 7,
      "outputs": [
        {
          "output_type": "stream",
          "text": [
            "no        1463\n",
            "stock      692\n",
            "list       139\n",
            "top         96\n",
            "block       25\n",
            "login       25\n",
            "except      12\n",
            "Name: label, dtype: int64\n",
            "raw_df (2452, 3)\n",
            "Index(['label', 'url', 'text'], dtype='object')\n"
          ],
          "name": "stdout"
        }
      ]
    },
    {
      "metadata": {
        "id": "4qCpuLi3E1nx",
        "colab_type": "code",
        "outputId": "7c19548a-59b2-4eea-ad49-76bc1c039707",
        "colab": {
          "base_uri": "https://localhost:8080/",
          "height": 71
        }
      },
      "cell_type": "code",
      "source": [
        "text = 'hellow world sorry sorry sorry we can t this product page 　　re sold out 404 whoops our bad it gone out of stock sold out切れ 在庫 なし 完売 ました 売り 切れ ページ 見つかり ません この 製品 もう 入手 できません'\n",
        "def prepro(text:str)->list:\n",
        "  line = \"\"\n",
        "  text = mecab.parse(str(text)).replace(\"↵\",\" \")\n",
        "  text = re.sub('{.*}','',text)\n",
        "  text = re.sub('\\s+',' ',text)\n",
        "  words = text.lower()\n",
        "  return words\n",
        "print(prepro(text))\n",
        "\n",
        "def find_at(text:str)->int:\n",
        "  match = re.search('(sold out|out of stock|在庫切れ|在庫なし|sorry|404|it.s gone|完売しました|売り切れ|ページが見つかりません|not found|no longer|sold out|out of stock|not available|oops)',text)\n",
        "  if match:\n",
        "    return match.start() / len(text)\n",
        "  else:\n",
        "    return 0\n",
        "print(find_at(text))\n",
        "  \n"
      ],
      "execution_count": 8,
      "outputs": [
        {
          "output_type": "stream",
          "text": [
            "hellow world sorry sorry sorry we can t this product page re sold out 404 whoops our bad it gone out of stock sold out 切れ 在庫 なし 完売 まし た 売り 切れ ページ 見つかり ませ ん この 製品 もう 入手 でき ませ ん \n",
            "0.0755813953488372\n"
          ],
          "name": "stdout"
        }
      ]
    },
    {
      "metadata": {
        "id": "DS8FDbMbhyal",
        "colab_type": "code",
        "outputId": "3760592b-4f80-4a6a-ab3b-216a5d421a15",
        "colab": {
          "base_uri": "https://localhost:8080/",
          "height": 122
        }
      },
      "cell_type": "code",
      "source": [
        "raw_df['edit_text'] = raw_df['text'].apply(lambda x : prepro(x))\n",
        "regex = \"^(sorry.? (we can.t|this (product|page)))|^(sorry we.re sold out)|^(404|whoops, our bad...|it.s gone|out of stock|sold out|在庫切れ|在庫なし|完売しました|売り切れ|ページが見つかりません.*|この製品はもう入手できない.|ci scusiamo per l'inconveniente.|sorry!|back to our favs)$|(((product|page|item|requested) (is |was )?)(not found|no longer|sold out|out of stock|not available))|(re (sorry|sold out)|(ご購入いただけません)|(404 error))|^(sold out\\\\s*){3,}|ARTICLE.*EN LIGNE|^so sorry.*|404 page not|Don.t Cry|.*is out of stock.|articolo non disponibile\";\n",
        "p = re.compile(regex)\n",
        "raw_df['flag'] = raw_df['text'].apply(lambda x : 0 if p.match(x) == None else 1)\n",
        "raw_df['start'] = raw_df['text'].apply(lambda x : find_at(x))\n",
        "raw_df['edit_text'] = raw_df['edit_text'].fillna(\"\")\n",
        "\n",
        "token = keras.preprocessing.text.Tokenizer(num_words=250)\n",
        "token.fit_on_texts(raw_df['edit_text'].values)\n",
        "save_text_tokenizer(token,base_dir + 'text_token')\n",
        "X = token.texts_to_matrix(raw_df['text'].values)\n",
        "flag = np.array(raw_df['flag'])\n",
        "flag = flag.reshape(len(flag),1)\n",
        "start = raw_df['start'].reshape(samples,1)\n",
        "print('flag',flag.shape,'start',start.shape,'X',X.shape)\n",
        "\n",
        "X2 = raw_df[['flag','start']].values\n",
        "# X = np.concatenate((flag,X),axis=1)\n",
        "# X = np.concatenate((start,X),axis=1)\n",
        "\n",
        "# X = flag\n",
        "# text_len = len(X[0])\n",
        "# print(f'text_len:{text_len} samples:{len(X)}')\n",
        "# print('word_count',len(token.word_counts))\n",
        "\n",
        "print('X',X.shape)\n",
        "print('X2',X2.shape)"
      ],
      "execution_count": 44,
      "outputs": [
        {
          "output_type": "stream",
          "text": [
            "flag (2452, 1) start (2452, 1) X (2452, 250)\n",
            "X (2452, 250)\n",
            "X2 (2452, 2)\n"
          ],
          "name": "stdout"
        },
        {
          "output_type": "stream",
          "text": [
            "/usr/local/lib/python3.6/dist-packages/ipykernel_launcher.py:14: FutureWarning: reshape is deprecated and will raise in a subsequent release. Please use .values.reshape(...) instead\n",
            "  \n"
          ],
          "name": "stderr"
        }
      ]
    },
    {
      "metadata": {
        "id": "-rG4s7Dr1rWK",
        "colab_type": "code",
        "colab": {
          "base_uri": "https://localhost:8080/",
          "height": 34
        },
        "outputId": "ec8c1304-a783-421b-dc51-5d5c5d20a627"
      },
      "cell_type": "code",
      "source": [
        ""
      ],
      "execution_count": 36,
      "outputs": [
        {
          "output_type": "execute_result",
          "data": {
            "text/plain": [
              "'no'"
            ]
          },
          "metadata": {
            "tags": []
          },
          "execution_count": 36
        }
      ]
    },
    {
      "metadata": {
        "id": "wSu7m70I0HJx",
        "colab_type": "code",
        "colab": {}
      },
      "cell_type": "code",
      "source": [
        "index2word =  {i+1:key for i, key in enumerate(token.word_index)}\n",
        "index2label =  {i+1:key for i, key in enumerate(label_token.word_index)}\n"
      ],
      "execution_count": 0,
      "outputs": []
    },
    {
      "metadata": {
        "id": "-TS15_A8jZSe",
        "colab_type": "code",
        "colab": {
          "base_uri": "https://localhost:8080/",
          "height": 34
        },
        "outputId": "aab6ea67-af33-425c-a111-d78b0fc504ee"
      },
      "cell_type": "code",
      "source": [
        "label_token = keras.preprocessing.text.Tokenizer()\n",
        "label_token.fit_on_texts(raw_df['label'].values)\n",
        "save_text_tokenizer(label_token,base_dir+\"label.pickl\")\n",
        "y = label_token.texts_to_matrix(raw_df['label'].values)\n",
        "# label_len = len(label_token.word_counts) + 1\n",
        "# raw_df['true'] = raw_df['label'].apply(lambda x : 1 if x == 'stock' else 0)\n",
        "# y = to_categorical(raw_df['true'].values)\n",
        "# print('word_index',label_token.word_index)\n",
        "# print('label_len',label_len)\n",
        "# print('y shape',y.shape)\n",
        "y.shape"
      ],
      "execution_count": 27,
      "outputs": [
        {
          "output_type": "execute_result",
          "data": {
            "text/plain": [
              "(2452, 8)"
            ]
          },
          "metadata": {
            "tags": []
          },
          "execution_count": 27
        }
      ]
    },
    {
      "metadata": {
        "id": "Ibwt2_XHIRmj",
        "colab_type": "code",
        "colab": {
          "base_uri": "https://localhost:8080/",
          "height": 595
        },
        "outputId": "054873b5-f95e-4624-d291-ff08197ba77d"
      },
      "cell_type": "code",
      "source": [
        "from keras.layers import *\n",
        "def get_model():\n",
        " \n",
        "  _input = Input(shape=(len(X[0]),))\n",
        "  x = Embedding(1500, 64)(_input)\n",
        "  x = Dropout(0.5)(x)\n",
        "  x = Flatten()(x)\n",
        "  x = Dropout(0.5)(x)\n",
        "  x = Dense(512,activation='relu')(x)\n",
        "  x = Dropout(0.5)(x)\n",
        "  x = Dense(8,activation='softmax')(x)\n",
        "  \n",
        "  dense_input = Input(shape=X2.shape[1:])\n",
        "  x2 = Dense(12,activation='softmax')(dense_input)\n",
        "  x2 = Dropout(0.5)(x2)\n",
        "\n",
        "#   x2 = Dropout(0.5)(x2)\n",
        "  x = concatenate([x,x2])\n",
        "  x = Dense(8,activation='softmax')(x)\n",
        "  \n",
        "  model = keras.models.Model([_input,dense_input],x)\n",
        "  model.compile(loss='categorical_crossentropy',optimizer ='adam',metrics=['categorical_accuracy'])\n",
        "  return model\n",
        "get_model().summary()"
      ],
      "execution_count": 15,
      "outputs": [
        {
          "output_type": "stream",
          "text": [
            "__________________________________________________________________________________________________\n",
            "Layer (type)                    Output Shape         Param #     Connected to                     \n",
            "==================================================================================================\n",
            "input_3 (InputLayer)            (None, 250)          0                                            \n",
            "__________________________________________________________________________________________________\n",
            "embedding_4 (Embedding)         (None, 250, 64)      96000       input_3[0][0]                    \n",
            "__________________________________________________________________________________________________\n",
            "dropout_11 (Dropout)            (None, 250, 64)      0           embedding_4[0][0]                \n",
            "__________________________________________________________________________________________________\n",
            "flatten_4 (Flatten)             (None, 16000)        0           dropout_11[0][0]                 \n",
            "__________________________________________________________________________________________________\n",
            "dropout_12 (Dropout)            (None, 16000)        0           flatten_4[0][0]                  \n",
            "__________________________________________________________________________________________________\n",
            "dense_9 (Dense)                 (None, 512)          8192512     dropout_12[0][0]                 \n",
            "__________________________________________________________________________________________________\n",
            "input_4 (InputLayer)            (None, 2)            0                                            \n",
            "__________________________________________________________________________________________________\n",
            "dropout_13 (Dropout)            (None, 512)          0           dense_9[0][0]                    \n",
            "__________________________________________________________________________________________________\n",
            "dense_11 (Dense)                (None, 12)           36          input_4[0][0]                    \n",
            "__________________________________________________________________________________________________\n",
            "dense_10 (Dense)                (None, 8)            4104        dropout_13[0][0]                 \n",
            "__________________________________________________________________________________________________\n",
            "dropout_14 (Dropout)            (None, 12)           0           dense_11[0][0]                   \n",
            "__________________________________________________________________________________________________\n",
            "concatenate_2 (Concatenate)     (None, 20)           0           dense_10[0][0]                   \n",
            "                                                                 dropout_14[0][0]                 \n",
            "__________________________________________________________________________________________________\n",
            "dense_12 (Dense)                (None, 8)            168         concatenate_2[0][0]              \n",
            "==================================================================================================\n",
            "Total params: 8,292,820\n",
            "Trainable params: 8,292,820\n",
            "Non-trainable params: 0\n",
            "__________________________________________________________________________________________________\n"
          ],
          "name": "stdout"
        }
      ]
    },
    {
      "metadata": {
        "id": "5FEQd5XNlxCs",
        "colab_type": "code",
        "outputId": "19ecc422-451a-4ec9-ec40-8423f81f58c2",
        "colab": {
          "base_uri": "https://localhost:8080/",
          "height": 374
        }
      },
      "cell_type": "code",
      "source": [
        "def get_model():\n",
        "  model = keras.models.Sequential()\n",
        "  model.add(keras.layers.Embedding(1500, 64, input_length= len(X[0])))\n",
        "  model.add(keras.layers.Dropout(0.5))\n",
        "  model.add(keras.layers.Flatten())\n",
        "  model.add(keras.layers.Dropout(0.5))\n",
        "  model.add(keras.layers.Dense(512,activation='relu'))\n",
        "  model.add(keras.layers.Dropout(0.5))\n",
        "  # model.add(keras.layers.Dense(512,activation='relu'))\n",
        "  # model.add(keras.layers.Dropout(0.5))\n",
        "  # model.add(keras.layers.Dense(256,activation='relu'))\n",
        "  # model.add(keras.layers.Dropout(0.5))\n",
        "  model.add(keras.layers.Dense(8,activation='softmax'))\n",
        "  model.compile(loss='categorical_crossentropy',optimizer ='adam',metrics=['categorical_accuracy'])\n",
        "  return model\n",
        "\n",
        "get_model().summary()"
      ],
      "execution_count": 25,
      "outputs": [
        {
          "output_type": "stream",
          "text": [
            "_________________________________________________________________\n",
            "Layer (type)                 Output Shape              Param #   \n",
            "=================================================================\n",
            "embedding_17 (Embedding)     (None, 250, 64)           96000     \n",
            "_________________________________________________________________\n",
            "dropout_59 (Dropout)         (None, 250, 64)           0         \n",
            "_________________________________________________________________\n",
            "flatten_17 (Flatten)         (None, 16000)             0         \n",
            "_________________________________________________________________\n",
            "dropout_60 (Dropout)         (None, 16000)             0         \n",
            "_________________________________________________________________\n",
            "dense_53 (Dense)             (None, 512)               8192512   \n",
            "_________________________________________________________________\n",
            "dropout_61 (Dropout)         (None, 512)               0         \n",
            "_________________________________________________________________\n",
            "dense_54 (Dense)             (None, 8)                 4104      \n",
            "=================================================================\n",
            "Total params: 8,292,616\n",
            "Trainable params: 8,292,616\n",
            "Non-trainable params: 0\n",
            "_________________________________________________________________\n"
          ],
          "name": "stdout"
        }
      ]
    },
    {
      "metadata": {
        "id": "eoi59cXgyouE",
        "colab_type": "code",
        "outputId": "dbea77f0-bff4-4198-a7e8-ef23861adbb1",
        "colab": {
          "base_uri": "https://localhost:8080/",
          "height": 68
        }
      },
      "cell_type": "code",
      "source": [
        "\n",
        "EPOCHS = 50\n",
        "BATCH_SIZE = 256\n",
        "\n",
        "# stop when score is not improve\n",
        "early_stopping = EarlyStopping(monitor='val_categorical_accuracy', patience=20)\n",
        "\n",
        "# save best score\n",
        "filepath = base_dir+\"weights.best.h5\"\n",
        "checkpoint = ModelCheckpoint(filepath, monitor='val_categorical_accuracy', verbose=0, save_best_only=True, mode='max')\n",
        "\n",
        "# reduce \n",
        "reduce = ReduceLROnPlateau(monitor='val_loss', factor=0.2, patience=3, min_lr=0.01)\n",
        "callbacks_list = [checkpoint,early_stopping,reduce]\n",
        "\n",
        "scores = []\n",
        "historys = []\n",
        "maxs = []\n",
        "kf = KFold(n_splits=4, random_state=None, shuffle=False)\n",
        "for train_index, test_index in kf.split(X):\n",
        "  model = get_model()\n",
        "  history = model.fit(X[train_index], y[train_index], validation_data=(X[test_index],y[test_index]),verbose=0,epochs=EPOCHS,batch_size=BATCH_SIZE,callbacks=callbacks_list)\n",
        "  historys.append(history)\n",
        "  maxs.append(np.array(history.history['val_categorical_accuracy']).max())\n",
        "#   score = model.evaluate(X[train_index],y[test_index])\n",
        "#   print(score)\n",
        "#   scores.append(score)\n",
        "\n",
        "# load_model = keras.models.load_model(filepath)\n",
        "# score = load_model.evaluate(X[test_index],y[test_index])\n",
        "# print('Test best loss:', score[0])\n",
        "# print('Test best accuracy:', score[1])\n",
        "print('maxs',maxs)\n",
        "print('mean',np.array(maxs).mean())\n",
        "print('std',np.array(maxs).std())"
      ],
      "execution_count": 28,
      "outputs": [
        {
          "output_type": "stream",
          "text": [
            "maxs [0.9004893998142945, 0.8972267491976939, 0.9070146867540493, 0.9168026144897374]\n",
            "mean 0.9053833625639438\n",
            "std 0.007475656261483114\n"
          ],
          "name": "stdout"
        }
      ]
    },
    {
      "metadata": {
        "id": "SNSZcbWuvHj8",
        "colab_type": "code",
        "outputId": "68099a23-4861-4fd2-c616-02ce78536c24",
        "colab": {
          "base_uri": "https://localhost:8080/",
          "height": 1337
        }
      },
      "cell_type": "code",
      "source": [
        "for i in range(len(historys)):\n",
        "  df = pd.DataFrame(historys[i].history)\n",
        "#   df.filter(regex=('loss*')).plot()\n",
        "  df.filter(regex=('accuracy$')).plot()\n",
        "  \n",
        "plt.show()\n",
        "  "
      ],
      "execution_count": 29,
      "outputs": [
        {
          "output_type": "display_data",
          "data": {
            "image/png": "[encoded data removed]",
            "text/plain": [
              "<Figure size 576x396 with 1 Axes>"
            ]
          },
          "metadata": {
            "tags": []
          }
        },
        {
          "output_type": "display_data",
          "data": {
            "image/png": "[encoded data removed]",
            "text/plain": [
              "<Figure size 576x396 with 1 Axes>"
            ]
          },
          "metadata": {
            "tags": []
          }
        },
        {
          "output_type": "display_data",
          "data": {
            "image/png": "[encoded data removed]",
            "text/plain": [
              "<Figure size 576x396 with 1 Axes>"
            ]
          },
          "metadata": {
            "tags": []
          }
        },
        {
          "output_type": "display_data",
          "data": {
            "image/png": "[encoded data removed]",
            "text/plain": [
              "<Figure size 576x396 with 1 Axes>"
            ]
          },
          "metadata": {
            "tags": []
          }
        }
      ]
    },
    {
      "metadata": {
        "id": "mK7uMG1B3Lno",
        "colab_type": "code",
        "colab": {}
      },
      "cell_type": "code",
      "source": [
        "\n",
        "import matplotlib.pyplot as plt\n",
        "\n",
        "print(history.history.keys())\n",
        "# summarize history for loss\n",
        "plt.plot(history.history['val_loss'])\n",
        "plt.plot(history.history['loss'])\n",
        "plt.title('model loss')\n",
        "plt.ylabel('loss')\n",
        "plt.xlabel('epoch')\n",
        "plt.legend(['val_loss', 'loss'], loc='upper left')\n",
        "plt.show()\n",
        "\n",
        "plt.plot(history.history['val_categorical_accuracy'])\n",
        "plt.plot(history.history['categorical_accuracy'])\n",
        "plt.title('model accuracy')\n",
        "plt.ylabel('accuracy')\n",
        "plt.xlabel('epoch')\n",
        "plt.legend(['val_acc', 'acc'], loc='upper left')\n",
        "plt.show()"
      ],
      "execution_count": 0,
      "outputs": []
    },
    {
      "metadata": {
        "id": "T6TY-R8VGeJL",
        "colab_type": "code",
        "colab": {}
      },
      "cell_type": "code",
      "source": [
        "len(test_index)"
      ],
      "execution_count": 0,
      "outputs": []
    },
    {
      "metadata": {
        "id": "ZSu4n9-iGpwA",
        "colab_type": "code",
        "colab": {
          "base_uri": "https://localhost:8080/",
          "height": 181
        },
        "outputId": "c6f2ad2b-0ccf-4988-91b1-49855312adc3"
      },
      "cell_type": "code",
      "source": [
        "load_model = keras.models.load_model(filepath)\n",
        "raw_df['pred'] = load_model.predict(X).argmax(axis=1)"
      ],
      "execution_count": 38,
      "outputs": [
        {
          "output_type": "error",
          "ename": "TypeError",
          "evalue": "ignored",
          "traceback": [
            "\u001b[0;31m---------------------------------------------------------------------------\u001b[0m",
            "\u001b[0;31mTypeError\u001b[0m                                 Traceback (most recent call last)",
            "\u001b[0;32m<ipython-input-38-c95667e82360>\u001b[0m in \u001b[0;36m<module>\u001b[0;34m()\u001b[0m\n\u001b[1;32m      1\u001b[0m \u001b[0mload_model\u001b[0m \u001b[0;34m=\u001b[0m \u001b[0mkeras\u001b[0m\u001b[0;34m.\u001b[0m\u001b[0mmodels\u001b[0m\u001b[0;34m.\u001b[0m\u001b[0mload_model\u001b[0m\u001b[0;34m(\u001b[0m\u001b[0mfilepath\u001b[0m\u001b[0;34m)\u001b[0m\u001b[0;34m\u001b[0m\u001b[0;34m\u001b[0m\u001b[0m\n\u001b[0;32m----> 2\u001b[0;31m \u001b[0mraw_df\u001b[0m\u001b[0;34m[\u001b[0m\u001b[0;34m'pred'\u001b[0m\u001b[0;34m]\u001b[0m \u001b[0;34m=\u001b[0m \u001b[0mindex2label\u001b[0m\u001b[0;34m[\u001b[0m\u001b[0mload_model\u001b[0m\u001b[0;34m.\u001b[0m\u001b[0mpredict\u001b[0m\u001b[0;34m(\u001b[0m\u001b[0mX\u001b[0m\u001b[0;34m)\u001b[0m\u001b[0;34m.\u001b[0m\u001b[0margmax\u001b[0m\u001b[0;34m(\u001b[0m\u001b[0maxis\u001b[0m\u001b[0;34m=\u001b[0m\u001b[0;36m1\u001b[0m\u001b[0;34m)\u001b[0m\u001b[0;34m]\u001b[0m\u001b[0;34m\u001b[0m\u001b[0;34m\u001b[0m\u001b[0m\n\u001b[0m",
            "\u001b[0;31mTypeError\u001b[0m: unhashable type: 'numpy.ndarray'"
          ]
        }
      ]
    },
    {
      "metadata": {
        "id": "RYR8qlVKVLcO",
        "colab_type": "code",
        "colab": {}
      },
      "cell_type": "code",
      "source": [
        "raw_df['pred'] = raw_df['pred'].apply(lambda x : index2label[x])"
      ],
      "execution_count": 0,
      "outputs": []
    },
    {
      "metadata": {
        "id": "mcHrHUciUess",
        "colab_type": "code",
        "colab": {}
      },
      "cell_type": "code",
      "source": [
        "label_token.texts_to_matrix(y)"
      ],
      "execution_count": 0,
      "outputs": []
    },
    {
      "metadata": {
        "id": "oIzpNr2qUawT",
        "colab_type": "code",
        "colab": {
          "base_uri": "https://localhost:8080/",
          "height": 145
        },
        "outputId": "8513bad5-c4f3-46ce-bb4f-f1f04a12c545"
      },
      "cell_type": "code",
      "source": [
        "raw_df[0:10]"
      ],
      "execution_count": 42,
      "outputs": [
        {
          "output_type": "execute_result",
          "data": {
            "text/html": [
              "<div>\n",
              "<style scoped>\n",
              "    .dataframe tbody tr th:only-of-type {\n",
              "        vertical-align: middle;\n",
              "    }\n",
              "\n",
              "    .dataframe tbody tr th {\n",
              "        vertical-align: top;\n",
              "    }\n",
              "\n",
              "    .dataframe thead th {\n",
              "        text-align: right;\n",
              "    }\n",
              "</style>\n",
              "<table border=\"1\" class=\"dataframe\">\n",
              "  <thead>\n",
              "    <tr style=\"text-align: right;\">\n",
              "      <th></th>\n",
              "      <th>label</th>\n",
              "      <th>url</th>\n",
              "      <th>text</th>\n",
              "      <th>edit_text</th>\n",
              "      <th>flag</th>\n",
              "      <th>start</th>\n",
              "      <th>pred</th>\n",
              "    </tr>\n",
              "  </thead>\n",
              "  <tbody>\n",
              "    <tr>\n",
              "      <th>1768</th>\n",
              "      <td>no</td>\n",
              "      <td>http://www.kulanikinis.com/collections/bottoms...</td>\n",
              "      <td>Please choose your region\\nUnited States, Euro...</td>\n",
              "      <td>please choose your region united states , euro...</td>\n",
              "      <td>0</td>\n",
              "      <td>0.0</td>\n",
              "      <td>top</td>\n",
              "    </tr>\n",
              "    <tr>\n",
              "      <th>2257</th>\n",
              "      <td>top</td>\n",
              "      <td>http://www.jp.forzieri.com/jpn/brand_collectio...</td>\n",
              "      <td>24時間限定 フラッシュオファー 定価品 最大 50% OFF すべての \"黒ラベル\" 付き...</td>\n",
              "      <td>24 時間 限定 フラッシュ オファー 定価 品 最大 50 % off すべて の \" 黒...</td>\n",
              "      <td>0</td>\n",
              "      <td>0.0</td>\n",
              "      <td>list</td>\n",
              "    </tr>\n",
              "  </tbody>\n",
              "</table>\n",
              "</div>"
            ],
            "text/plain": [
              "     label                                                url  \\\n",
              "1768    no  http://www.kulanikinis.com/collections/bottoms...   \n",
              "2257   top  http://www.jp.forzieri.com/jpn/brand_collectio...   \n",
              "\n",
              "                                                   text  \\\n",
              "1768  Please choose your region\\nUnited States, Euro...   \n",
              "2257  24時間限定 フラッシュオファー 定価品 最大 50% OFF すべての \"黒ラベル\" 付き...   \n",
              "\n",
              "                                              edit_text  flag  start  pred  \n",
              "1768  please choose your region united states , euro...     0    0.0   top  \n",
              "2257  24 時間 限定 フラッシュ オファー 定価 品 最大 50 % off すべて の \" 黒...     0    0.0  list  "
            ]
          },
          "metadata": {
            "tags": []
          },
          "execution_count": 42
        }
      ]
    },
    {
      "metadata": {
        "id": "FNg-NDVtG7CW",
        "colab_type": "code",
        "outputId": "962d6873-a1cd-4b12-8816-62d92643b170",
        "colab": {
          "base_uri": "https://localhost:8080/",
          "height": 34
        }
      },
      "cell_type": "code",
      "source": [
        "error_df = raw_df.query('label != pred')\n",
        "print(len(error_df))\n",
        "error_df[['label','pred','url','text']].to_csv(base_dir+'error.csv',index=False)"
      ],
      "execution_count": 43,
      "outputs": [
        {
          "output_type": "stream",
          "text": [
            "89\n"
          ],
          "name": "stdout"
        }
      ]
    },
    {
      "metadata": {
        "id": "Jfq72bVOr1_K",
        "colab_type": "code",
        "colab": {}
      },
      "cell_type": "code",
      "source": [
        ""
      ],
      "execution_count": 0,
      "outputs": []
    }
  ]
}