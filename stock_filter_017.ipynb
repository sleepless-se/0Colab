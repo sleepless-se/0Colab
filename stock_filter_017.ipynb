{
  "nbformat": 4,
  "nbformat_minor": 0,
  "metadata": {
    "colab": {
      "name": "stock_filter_017",
      "version": "0.3.2",
      "provenance": [],
      "collapsed_sections": [],
      "include_colab_link": true
    },
    "kernelspec": {
      "name": "python3",
      "display_name": "Python 3"
    },
    "accelerator": "TPU"
  },
  "cells": [
    {
      "cell_type": "markdown",
      "metadata": {
        "id": "view-in-github",
        "colab_type": "text"
      },
      "source": [
        "[View in Colaboratory](https://colab.research.google.com/github/sleepless-se/Abstract/blob/master/stock_filter_017.ipynb)"
      ]
    },
    {
      "metadata": {
        "id": "-7qTwpLv8PlU",
        "colab_type": "text"
      },
      "cell_type": "markdown",
      "source": [
        "##新しく作り直した学習データを試す\n"
      ]
    },
    {
      "metadata": {
        "id": "1XOCX2tjDxSU",
        "colab_type": "code",
        "colab": {
          "base_uri": "https://localhost:8080/",
          "height": 3114
        },
        "outputId": "72f78cc0-afcc-46d6-b46a-d21d9a25fcf2"
      },
      "cell_type": "code",
      "source": [
        "\n",
        "!apt-get install mecab\n",
        "!apt-get install libmecab-dev\n",
        "!apt-get install mecab-ipadic-utf8\n",
        "!pip install mecab-python3"
      ],
      "execution_count": 1,
      "outputs": [
        {
          "output_type": "stream",
          "text": [
            "Reading package lists... Done\n",
            "Building dependency tree       \n",
            "Reading state information... Done\n",
            "The following additional packages will be installed:\n",
            "  libmecab2 mecab-jumandic mecab-jumandic-utf8 mecab-utils\n",
            "The following NEW packages will be installed:\n",
            "  libmecab2 mecab mecab-jumandic mecab-jumandic-utf8 mecab-utils\n",
            "0 upgraded, 5 newly installed, 0 to remove and 0 not upgraded.\n",
            "Need to get 16.5 MB of archives.\n",
            "After this operation, 218 MB of additional disk space will be used.\n",
            "Get:1 http://archive.ubuntu.com/ubuntu artful/universe amd64 libmecab2 amd64 0.996-3.1 [256 kB]\n",
            "Get:2 http://archive.ubuntu.com/ubuntu artful/universe amd64 mecab-utils amd64 0.996-3.1 [4,750 B]\n",
            "Get:3 http://archive.ubuntu.com/ubuntu artful/universe amd64 mecab-jumandic-utf8 all 7.0-20130310-3 [16.1 MB]\n",
            "Get:4 http://archive.ubuntu.com/ubuntu artful/universe amd64 mecab-jumandic all 7.0-20130310-3 [2,044 B]\n",
            "Get:5 http://archive.ubuntu.com/ubuntu artful/universe amd64 mecab amd64 0.996-3.1 [83.6 kB]\n",
            "Fetched 16.5 MB in 1s (9,990 kB/s)\n",
            "Selecting previously unselected package libmecab2:amd64.\n",
            "(Reading database ... 18408 files and directories currently installed.)\n",
            "Preparing to unpack .../libmecab2_0.996-3.1_amd64.deb ...\n",
            "Unpacking libmecab2:amd64 (0.996-3.1) ...\n",
            "Selecting previously unselected package mecab-utils.\n",
            "Preparing to unpack .../mecab-utils_0.996-3.1_amd64.deb ...\n",
            "Unpacking mecab-utils (0.996-3.1) ...\n",
            "Selecting previously unselected package mecab-jumandic-utf8.\n",
            "Preparing to unpack .../mecab-jumandic-utf8_7.0-20130310-3_all.deb ...\n",
            "Unpacking mecab-jumandic-utf8 (7.0-20130310-3) ...\n",
            "Selecting previously unselected package mecab-jumandic.\n",
            "Preparing to unpack .../mecab-jumandic_7.0-20130310-3_all.deb ...\n",
            "Unpacking mecab-jumandic (7.0-20130310-3) ...\n",
            "Selecting previously unselected package mecab.\n",
            "Preparing to unpack .../mecab_0.996-3.1_amd64.deb ...\n",
            "Unpacking mecab (0.996-3.1) ...\n",
            "Setting up libmecab2:amd64 (0.996-3.1) ...\n",
            "Processing triggers for libc-bin (2.26-0ubuntu2.1) ...\n",
            "Setting up mecab-utils (0.996-3.1) ...\n",
            "Setting up mecab-jumandic-utf8 (7.0-20130310-3) ...\n",
            "Compiling Juman dictionary for Mecab.\n",
            "reading /usr/share/mecab/dic/juman/unk.def ... 37\n",
            "emitting double-array: 100% |###########################################| \n",
            "reading /usr/share/mecab/dic/juman/Noun.keishiki.csv ... 8\n",
            "reading /usr/share/mecab/dic/juman/Demonstrative.csv ... 97\n",
            "reading /usr/share/mecab/dic/juman/Assert.csv ... 34\n",
            "reading /usr/share/mecab/dic/juman/Suffix.csv ... 2128\n",
            "reading /usr/share/mecab/dic/juman/Noun.koyuu.csv ... 7964\n",
            "reading /usr/share/mecab/dic/juman/ContentW.csv ... 551145\n",
            "reading /usr/share/mecab/dic/juman/Special.csv ... 158\n",
            "reading /usr/share/mecab/dic/juman/Emoticon.csv ... 972\n",
            "reading /usr/share/mecab/dic/juman/Prefix.csv ... 90\n",
            "reading /usr/share/mecab/dic/juman/Noun.suusi.csv ... 49\n",
            "reading /usr/share/mecab/dic/juman/Postp.csv ... 108\n",
            "reading /usr/share/mecab/dic/juman/Wikipedia.csv ... 167709\n",
            "reading /usr/share/mecab/dic/juman/AuxV.csv ... 593\n",
            "reading /usr/share/mecab/dic/juman/Rengo.csv ... 1118\n",
            "reading /usr/share/mecab/dic/juman/Noun.hukusi.csv ... 81\n",
            "reading /usr/share/mecab/dic/juman/Auto.csv ... 18931\n",
            "emitting double-array: 100% |###########################################| \n",
            "reading /usr/share/mecab/dic/juman/matrix.def ... 1876x1876\n",
            "emitting matrix      : 100% |###########################################| \n",
            "\n",
            "done!\n",
            "update-alternatives: using /var/lib/mecab/dic/juman-utf8 to provide /var/lib/mecab/dic/debian (mecab-dictionary) in auto mode\n",
            "Setting up mecab (0.996-3.1) ...\n",
            "Setting up mecab-jumandic (7.0-20130310-3) ...\n",
            "Reading package lists... Done\n",
            "Building dependency tree       \n",
            "Reading state information... Done\n",
            "The following NEW packages will be installed:\n",
            "  libmecab-dev\n",
            "0 upgraded, 1 newly installed, 0 to remove and 0 not upgraded.\n",
            "Need to get 307 kB of archives.\n",
            "After this operation, 3,115 kB of additional disk space will be used.\n",
            "Get:1 http://archive.ubuntu.com/ubuntu artful/universe amd64 libmecab-dev amd64 0.996-3.1 [307 kB]\n",
            "Fetched 307 kB in 0s (444 kB/s)\n",
            "Selecting previously unselected package libmecab-dev.\n",
            "(Reading database ... 18488 files and directories currently installed.)\n",
            "Preparing to unpack .../libmecab-dev_0.996-3.1_amd64.deb ...\n",
            "Unpacking libmecab-dev (0.996-3.1) ...\n",
            "Setting up libmecab-dev (0.996-3.1) ...\n",
            "Reading package lists... Done\n",
            "Building dependency tree       \n",
            "Reading state information... Done\n",
            "The following additional packages will be installed:\n",
            "  mecab-ipadic\n",
            "The following NEW packages will be installed:\n",
            "  mecab-ipadic mecab-ipadic-utf8\n",
            "0 upgraded, 2 newly installed, 0 to remove and 0 not upgraded.\n",
            "Need to get 12.1 MB of archives.\n",
            "After this operation, 54.4 MB of additional disk space will be used.\n",
            "Get:1 http://archive.ubuntu.com/ubuntu artful/universe amd64 mecab-ipadic all 2.7.0-20070801+main-1 [12.1 MB]\n",
            "Get:2 http://archive.ubuntu.com/ubuntu artful/universe amd64 mecab-ipadic-utf8 all 2.7.0-20070801+main-1 [3,522 B]\n",
            "Fetched 12.1 MB in 1s (8,419 kB/s)\n",
            "Selecting previously unselected package mecab-ipadic.\n",
            "(Reading database ... 18496 files and directories currently installed.)\n",
            "Preparing to unpack .../mecab-ipadic_2.7.0-20070801+main-1_all.deb ...\n",
            "Unpacking mecab-ipadic (2.7.0-20070801+main-1) ...\n",
            "Selecting previously unselected package mecab-ipadic-utf8.\n",
            "Preparing to unpack .../mecab-ipadic-utf8_2.7.0-20070801+main-1_all.deb ...\n",
            "Unpacking mecab-ipadic-utf8 (2.7.0-20070801+main-1) ...\n",
            "Setting up mecab-ipadic (2.7.0-20070801+main-1) ...\n",
            "Compiling IPA dictionary for Mecab.  This takes long time...\n",
            "reading /usr/share/mecab/dic/ipadic/unk.def ... 40\n",
            "emitting double-array: 100% |###########################################| \n",
            "/usr/share/mecab/dic/ipadic/model.def is not found. skipped.\n",
            "reading /usr/share/mecab/dic/ipadic/Noun.demonst.csv ... 120\n",
            "reading /usr/share/mecab/dic/ipadic/Auxil.csv ... 199\n",
            "reading /usr/share/mecab/dic/ipadic/Noun.others.csv ... 151\n",
            "reading /usr/share/mecab/dic/ipadic/Suffix.csv ... 1393\n",
            "reading /usr/share/mecab/dic/ipadic/Adnominal.csv ... 135\n",
            "reading /usr/share/mecab/dic/ipadic/Interjection.csv ... 252\n",
            "reading /usr/share/mecab/dic/ipadic/Noun.org.csv ... 16668\n",
            "reading /usr/share/mecab/dic/ipadic/Prefix.csv ... 221\n",
            "reading /usr/share/mecab/dic/ipadic/Noun.number.csv ... 42\n",
            "reading /usr/share/mecab/dic/ipadic/Postp.csv ... 146\n",
            "reading /usr/share/mecab/dic/ipadic/Noun.adverbal.csv ... 795\n",
            "reading /usr/share/mecab/dic/ipadic/Noun.csv ... 60477\n",
            "reading /usr/share/mecab/dic/ipadic/Conjunction.csv ... 171\n",
            "reading /usr/share/mecab/dic/ipadic/Verb.csv ... 130750\n",
            "reading /usr/share/mecab/dic/ipadic/Adverb.csv ... 3032\n",
            "reading /usr/share/mecab/dic/ipadic/Noun.verbal.csv ... 12146\n",
            "reading /usr/share/mecab/dic/ipadic/Noun.place.csv ... 72999\n",
            "reading /usr/share/mecab/dic/ipadic/Adj.csv ... 27210\n",
            "reading /usr/share/mecab/dic/ipadic/Postp-col.csv ... 91\n",
            "reading /usr/share/mecab/dic/ipadic/Filler.csv ... 19\n",
            "reading /usr/share/mecab/dic/ipadic/Noun.nai.csv ... 42\n",
            "reading /usr/share/mecab/dic/ipadic/Noun.proper.csv ... 27327\n",
            "reading /usr/share/mecab/dic/ipadic/Others.csv ... 2\n",
            "reading /usr/share/mecab/dic/ipadic/Symbol.csv ... 208\n",
            "reading /usr/share/mecab/dic/ipadic/Noun.adjv.csv ... 3328\n",
            "reading /usr/share/mecab/dic/ipadic/Noun.name.csv ... 34202\n",
            "emitting double-array: 100% |###########################################| \n",
            "reading /usr/share/mecab/dic/ipadic/matrix.def ... 1316x1316\n",
            "emitting matrix      : 100% |###########################################| \n",
            "\n",
            "done!\n",
            "update-alternatives: using /var/lib/mecab/dic/ipadic to provide /var/lib/mecab/dic/debian (mecab-dictionary) in auto mode\n",
            "Setting up mecab-ipadic-utf8 (2.7.0-20070801+main-1) ...\n",
            "Compiling IPA dictionary for Mecab.  This takes long time...\n",
            "reading /usr/share/mecab/dic/ipadic/unk.def ... 40\n",
            "emitting double-array: 100% |###########################################| \n",
            "/usr/share/mecab/dic/ipadic/model.def is not found. skipped.\n",
            "reading /usr/share/mecab/dic/ipadic/Noun.demonst.csv ... 120\n",
            "reading /usr/share/mecab/dic/ipadic/Auxil.csv ... 199\n",
            "reading /usr/share/mecab/dic/ipadic/Noun.others.csv ... 151\n",
            "reading /usr/share/mecab/dic/ipadic/Suffix.csv ... 1393\n",
            "reading /usr/share/mecab/dic/ipadic/Adnominal.csv ... 135\n",
            "reading /usr/share/mecab/dic/ipadic/Interjection.csv ... 252\n",
            "reading /usr/share/mecab/dic/ipadic/Noun.org.csv ... 16668\n",
            "reading /usr/share/mecab/dic/ipadic/Prefix.csv ... 221\n",
            "reading /usr/share/mecab/dic/ipadic/Noun.number.csv ... 42\n",
            "reading /usr/share/mecab/dic/ipadic/Postp.csv ... 146\n",
            "reading /usr/share/mecab/dic/ipadic/Noun.adverbal.csv ... 795\n",
            "reading /usr/share/mecab/dic/ipadic/Noun.csv ... 60477\n",
            "reading /usr/share/mecab/dic/ipadic/Conjunction.csv ... 171\n",
            "reading /usr/share/mecab/dic/ipadic/Verb.csv ... 130750\n",
            "reading /usr/share/mecab/dic/ipadic/Adverb.csv ... 3032\n",
            "reading /usr/share/mecab/dic/ipadic/Noun.verbal.csv ... 12146\n",
            "reading /usr/share/mecab/dic/ipadic/Noun.place.csv ... 72999\n",
            "reading /usr/share/mecab/dic/ipadic/Adj.csv ... 27210\n",
            "reading /usr/share/mecab/dic/ipadic/Postp-col.csv ... 91\n",
            "reading /usr/share/mecab/dic/ipadic/Filler.csv ... 19\n",
            "reading /usr/share/mecab/dic/ipadic/Noun.nai.csv ... 42\n",
            "reading /usr/share/mecab/dic/ipadic/Noun.proper.csv ... 27327\n",
            "reading /usr/share/mecab/dic/ipadic/Others.csv ... 2\n",
            "reading /usr/share/mecab/dic/ipadic/Symbol.csv ... 208\n",
            "reading /usr/share/mecab/dic/ipadic/Noun.adjv.csv ... 3328\n",
            "reading /usr/share/mecab/dic/ipadic/Noun.name.csv ... 34202\n",
            "emitting double-array: 100% |###########################################| \n",
            "reading /usr/share/mecab/dic/ipadic/matrix.def ... 1316x1316\n",
            "emitting matrix      : 100% |###########################################| \n",
            "\n",
            "done!\n",
            "update-alternatives: using /var/lib/mecab/dic/ipadic-utf8 to provide /var/lib/mecab/dic/debian (mecab-dictionary) in auto mode\n",
            "Collecting mecab-python3\n",
            "\u001b[?25l  Downloading https://files.pythonhosted.org/packages/25/e9/bbf5fc790a2bedd96fbaf47a84afa060bfb0b3e0217e5f64b32bd4bbad69/mecab-python3-0.7.tar.gz (41kB)\n",
            "\u001b[K    100% |████████████████████████████████| 51kB 3.0MB/s \n",
            "\u001b[?25hBuilding wheels for collected packages: mecab-python3\n",
            "  Running setup.py bdist_wheel for mecab-python3 ... \u001b[?25l-\b \b\\\b \b|\b \b/\b \b-\b \bdone\n",
            "\u001b[?25h  Stored in directory: /root/.cache/pip/wheels/4c/07/3a/5f22ccc9f381f3bc01fa023202061cd1e0e9af855292f005dd\n",
            "Successfully built mecab-python3\n",
            "Installing collected packages: mecab-python3\n",
            "Successfully installed mecab-python3-0.7\n"
          ],
          "name": "stdout"
        }
      ]
    },
    {
      "metadata": {
        "id": "aIS_hwjgEHJM",
        "colab_type": "code",
        "colab": {}
      },
      "cell_type": "code",
      "source": [
        "import sys\n",
        "import MeCab\n",
        "import pickle\n",
        "from tensorflow.keras.datasets import boston_housing\n",
        "from tensorflow.keras.models import Model,model_from_json\n",
        "from tensorflow.keras.callbacks import ModelCheckpoint\n",
        "from tensorflow.keras.utils import to_categorical\n",
        "from tensorflow.keras.preprocessing.text import Tokenizer\n",
        "from sklearn.model_selection import train_test_split\n",
        "import tensorflow.keras\n",
        "from tensorflow.keras.utils import to_categorical\n",
        "from tensorflow.keras.datasets import mnist\n",
        "from tensorflow.keras import models\n",
        "from tensorflow.keras import layers\n",
        "import time\n",
        "import numpy as np\n",
        "from google.colab import files\n",
        "import re\n",
        "from sklearn.model_selection import train_test_split\n",
        "from tensorflow.keras.callbacks import EarlyStopping\n",
        "from tensorflow.keras.metrics import categorical_accuracy\n",
        "import pickle\n",
        "\n",
        "    \n",
        "mecab = MeCab.Tagger (\"-Owakati\")"
      ],
      "execution_count": 0,
      "outputs": []
    },
    {
      "metadata": {
        "id": "2SR7Y4aK_fCt",
        "colab_type": "text"
      },
      "cell_type": "markdown",
      "source": [
        "##Tokenizerの読み書き用関数"
      ]
    },
    {
      "metadata": {
        "id": "lJADBVEs_f2x",
        "colab_type": "code",
        "colab": {}
      },
      "cell_type": "code",
      "source": [
        "\n",
        "def save_text_tokenizer(tokenizer,file_name):\n",
        "  # saving\n",
        "  with open(file_name+\".pickle\", 'wb') as handle:\n",
        "      pickle.dump(tokenizer, handle, protocol=pickle.HIGHEST_PROTOCOL)\n",
        "\n",
        "def load_text_tokenizer(file_name):\n",
        "  # loading\n",
        "  with open(file_name+\".pickle\", 'rb') as handle:\n",
        "      return pickle.load(handle)"
      ],
      "execution_count": 0,
      "outputs": []
    },
    {
      "metadata": {
        "id": "cOpL_NPO_YbM",
        "colab_type": "text"
      },
      "cell_type": "markdown",
      "source": [
        "## ドライブをマウント"
      ]
    },
    {
      "metadata": {
        "id": "31y-m09d9h9u",
        "colab_type": "code",
        "colab": {
          "base_uri": "https://localhost:8080/",
          "height": 139
        },
        "outputId": "a7542d12-0630-4516-e27c-f94f4ae477bb"
      },
      "cell_type": "code",
      "source": [
        "# Load the Drive helper and mount\n",
        "from google.colab import drive\n",
        "\n",
        "# This will prompt for authorization.\n",
        "drive.mount('/content/gdrive')\n",
        "\n",
        "# After executing the cell above, Drive\n",
        "# files will be present in \"/content/drive/My Drive\".\n",
        "base_dir = \"/content/gdrive/My Drive/data/stock_filter/017/\"\n",
        "!ls \"/content/gdrive/My Drive/data/stock_filter/017/\""
      ],
      "execution_count": 5,
      "outputs": [
        {
          "output_type": "stream",
          "text": [
            "Go to this URL in a browser: https://accounts.google.com/o/oauth2/auth?client_id=947318989803-6bn6qk8qdgf4n4g3pfee6491hc0brc4i.apps.googleusercontent.com&redirect_uri=urn%3Aietf%3Awg%3Aoauth%3A2.0%3Aoob&scope=email%20https%3A%2F%2Fwww.googleapis.com%2Fauth%2Fdocs.test%20https%3A%2F%2Fwww.googleapis.com%2Fauth%2Fdrive%20https%3A%2F%2Fwww.googleapis.com%2Fauth%2Fdrive.photos.readonly%20https%3A%2F%2Fwww.googleapis.com%2Fauth%2Fpeopleapi.readonly&response_type=code\n",
            "\n",
            "Enter your authorization code:\n",
            "··········\n",
            "Mounted at /content/gdrive\n",
            "label_token.pickle  none_label.csv  stock_color_label.csv\n"
          ],
          "name": "stdout"
        }
      ]
    },
    {
      "metadata": {
        "id": "9tvSFM8TsdxN",
        "colab_type": "text"
      },
      "cell_type": "markdown",
      "source": [
        "##学習データの読み込み\n"
      ]
    },
    {
      "metadata": {
        "id": "Xc_T19h7omO4",
        "colab_type": "code",
        "colab": {
          "base_uri": "https://localhost:8080/",
          "height": 139
        },
        "outputId": "50f80e27-c967-4bc4-8c6e-ebce6a59d734"
      },
      "cell_type": "code",
      "source": [
        "import pandas as pd\n",
        "\n",
        "file_name = 'stock_color_label.csv'\n",
        "stock_df = pd.read_csv(base_dir+file_name,sep=',',error_bad_lines=False,dtype={\"iid\": str,\"style\": str, \"text\": str})\n",
        "\n",
        "file_name = 'none_label.csv'\n",
        "null_df = pd.read_csv(base_dir+file_name,sep=',',error_bad_lines=False,dtype={\"iid\": str,\"style\": str, \"text\": str})\n",
        "null_df[\"label\"] = \"skip\"\n",
        "\n",
        "df = stock_df.append(null_df, ignore_index=True)\n",
        "df.columns\n"
      ],
      "execution_count": 6,
      "outputs": [
        {
          "output_type": "stream",
          "text": [
            "b'Skipping line 19: expected 31 fields, saw 70\\nSkipping line 36: expected 31 fields, saw 121\\nSkipping line 49: expected 31 fields, saw 65\\nSkipping line 89: expected 31 fields, saw 95\\nSkipping line 97: expected 31 fields, saw 690\\nSkipping line 121: expected 31 fields, saw 50\\nSkipping line 153: expected 31 fields, saw 94\\nSkipping line 176: expected 31 fields, saw 179\\nSkipping line 206: expected 31 fields, saw 288\\nSkipping line 216: expected 31 fields, saw 4419\\nSkipping line 241: expected 31 fields, saw 107\\nSkipping line 244: expected 31 fields, saw 136\\nSkipping line 267: expected 31 fields, saw 129\\nSkipping line 277: expected 31 fields, saw 131\\nSkipping line 332: expected 31 fields, saw 59\\nSkipping line 336: expected 31 fields, saw 153\\nSkipping line 372: expected 31 fields, saw 313\\nSkipping line 377: expected 31 fields, saw 33\\nSkipping line 483: expected 31 fields, saw 209\\nSkipping line 542: expected 31 fields, saw 59\\nSkipping line 547: expected 31 fields, saw 41\\nSkipping line 565: expected 31 fields, saw 34\\nSkipping line 589: expected 31 fields, saw 36\\nSkipping line 598: expected 31 fields, saw 257\\nSkipping line 637: expected 31 fields, saw 50\\nSkipping line 656: expected 31 fields, saw 36\\nSkipping line 657: expected 31 fields, saw 86\\nSkipping line 691: expected 31 fields, saw 83\\nSkipping line 736: expected 31 fields, saw 109\\nSkipping line 808: expected 31 fields, saw 39\\nSkipping line 838: expected 31 fields, saw 41\\nSkipping line 867: expected 31 fields, saw 386\\nSkipping line 915: expected 31 fields, saw 239\\nSkipping line 932: expected 31 fields, saw 36\\nSkipping line 996: expected 31 fields, saw 34\\nSkipping line 1025: expected 31 fields, saw 39\\nSkipping line 1055: expected 31 fields, saw 210\\nSkipping line 1058: expected 31 fields, saw 33\\nSkipping line 1082: expected 31 fields, saw 33\\nSkipping line 1083: expected 31 fields, saw 32\\nSkipping line 1108: expected 31 fields, saw 41\\nSkipping line 1219: expected 31 fields, saw 97\\nSkipping line 1240: expected 31 fields, saw 83\\nSkipping line 1259: expected 31 fields, saw 119\\nSkipping line 1264: expected 31 fields, saw 34\\nSkipping line 1283: expected 31 fields, saw 53\\nSkipping line 1383: expected 31 fields, saw 270\\nSkipping line 1397: expected 31 fields, saw 41\\nSkipping line 1409: expected 31 fields, saw 39\\nSkipping line 1426: expected 31 fields, saw 39\\nSkipping line 1440: expected 31 fields, saw 261\\nSkipping line 1669: expected 31 fields, saw 79\\nSkipping line 1751: expected 31 fields, saw 59\\nSkipping line 1779: expected 31 fields, saw 276\\nSkipping line 1789: expected 31 fields, saw 526\\nSkipping line 1876: expected 31 fields, saw 201\\nSkipping line 1900: expected 31 fields, saw 135\\nSkipping line 2007: expected 31 fields, saw 83\\nSkipping line 2014: expected 31 fields, saw 37\\nSkipping line 2040: expected 31 fields, saw 64\\nSkipping line 2055: expected 31 fields, saw 84\\nSkipping line 2116: expected 31 fields, saw 99\\nSkipping line 2186: expected 31 fields, saw 253\\nSkipping line 2222: expected 31 fields, saw 143\\nSkipping line 2242: expected 31 fields, saw 373\\nSkipping line 2270: expected 31 fields, saw 135\\nSkipping line 2285: expected 31 fields, saw 77\\nSkipping line 2287: expected 31 fields, saw 90\\nSkipping line 2313: expected 31 fields, saw 113\\nSkipping line 2401: expected 31 fields, saw 53\\nSkipping line 2439: expected 31 fields, saw 75\\nSkipping line 2493: expected 31 fields, saw 102\\nSkipping line 2515: expected 31 fields, saw 50\\nSkipping line 2518: expected 31 fields, saw 135\\nSkipping line 2592: expected 31 fields, saw 50\\nSkipping line 2613: expected 31 fields, saw 43\\nSkipping line 2632: expected 31 fields, saw 36\\nSkipping line 2668: expected 31 fields, saw 99\\nSkipping line 2706: expected 31 fields, saw 50\\nSkipping line 2742: expected 31 fields, saw 95\\nSkipping line 2798: expected 31 fields, saw 264\\nSkipping line 2820: expected 31 fields, saw 89\\nSkipping line 2846: expected 31 fields, saw 36\\nSkipping line 2869: expected 31 fields, saw 258\\nSkipping line 2877: expected 31 fields, saw 181\\nSkipping line 2900: expected 31 fields, saw 35\\nSkipping line 2927: expected 31 fields, saw 59\\nSkipping line 2935: expected 31 fields, saw 59\\nSkipping line 2952: expected 31 fields, saw 161\\nSkipping line 2957: expected 31 fields, saw 81\\nSkipping line 2959: expected 31 fields, saw 47\\nSkipping line 2985: expected 31 fields, saw 59\\nSkipping line 3007: expected 31 fields, saw 39\\nSkipping line 3016: expected 31 fields, saw 112\\nSkipping line 3018: expected 31 fields, saw 46\\nSkipping line 3048: expected 31 fields, saw 781\\nSkipping line 3055: expected 31 fields, saw 275\\nSkipping line 3078: expected 31 fields, saw 145\\nSkipping line 3119: expected 31 fields, saw 58\\nSkipping line 3167: expected 31 fields, saw 36\\nSkipping line 3169: expected 31 fields, saw 196\\nSkipping line 3181: expected 31 fields, saw 34\\nSkipping line 3190: expected 31 fields, saw 87\\nSkipping line 3194: expected 31 fields, saw 277\\nSkipping line 3235: expected 31 fields, saw 268\\nSkipping line 3297: expected 31 fields, saw 60\\nSkipping line 3308: expected 31 fields, saw 59\\nSkipping line 3347: expected 31 fields, saw 149\\nSkipping line 3356: expected 31 fields, saw 59\\nSkipping line 3365: expected 31 fields, saw 52\\nSkipping line 3385: expected 31 fields, saw 43\\nSkipping line 3401: expected 31 fields, saw 101\\nSkipping line 3403: expected 31 fields, saw 58\\nSkipping line 3508: expected 31 fields, saw 299\\nSkipping line 3534: expected 31 fields, saw 171\\nSkipping line 3543: expected 31 fields, saw 85\\nSkipping line 3547: expected 31 fields, saw 131\\nSkipping line 3565: expected 31 fields, saw 71\\nSkipping line 3566: expected 31 fields, saw 71\\nSkipping line 3570: expected 31 fields, saw 111\\nSkipping line 3628: expected 31 fields, saw 39\\nSkipping line 3657: expected 31 fields, saw 34\\nSkipping line 3666: expected 31 fields, saw 39\\nSkipping line 3668: expected 31 fields, saw 48\\nSkipping line 3718: expected 31 fields, saw 145\\nSkipping line 3741: expected 31 fields, saw 41\\nSkipping line 3785: expected 31 fields, saw 53\\nSkipping line 3808: expected 31 fields, saw 50\\nSkipping line 3865: expected 31 fields, saw 145\\nSkipping line 3908: expected 31 fields, saw 36\\nSkipping line 3909: expected 31 fields, saw 36\\nSkipping line 3985: expected 31 fields, saw 64\\nSkipping line 4043: expected 31 fields, saw 33\\nSkipping line 4068: expected 31 fields, saw 41\\nSkipping line 4119: expected 31 fields, saw 240\\nSkipping line 4122: expected 31 fields, saw 87\\nSkipping line 4151: expected 31 fields, saw 42\\nSkipping line 4167: expected 31 fields, saw 83\\nSkipping line 4192: expected 31 fields, saw 174\\nSkipping line 4225: expected 31 fields, saw 110\\nSkipping line 4233: expected 31 fields, saw 63\\nSkipping line 4299: expected 31 fields, saw 133\\nSkipping line 4318: expected 31 fields, saw 198\\nSkipping line 4333: expected 31 fields, saw 101\\nSkipping line 4376: expected 31 fields, saw 109\\nSkipping line 4384: expected 31 fields, saw 333\\nSkipping line 4440: expected 31 fields, saw 60\\nSkipping line 4507: expected 31 fields, saw 305\\nSkipping line 4517: expected 31 fields, saw 71\\nSkipping line 4572: expected 31 fields, saw 214\\nSkipping line 4573: expected 31 fields, saw 105\\nSkipping line 4584: expected 31 fields, saw 100\\nSkipping line 4608: expected 31 fields, saw 48\\nSkipping line 4630: expected 31 fields, saw 39\\nSkipping line 4631: expected 31 fields, saw 71\\nSkipping line 4649: expected 31 fields, saw 38\\nSkipping line 4733: expected 31 fields, saw 4419\\nSkipping line 4796: expected 31 fields, saw 198\\nSkipping line 4852: expected 31 fields, saw 250\\nSkipping line 4905: expected 31 fields, saw 46\\nSkipping line 4922: expected 31 fields, saw 39\\nSkipping line 4934: expected 31 fields, saw 277\\nSkipping line 4946: expected 31 fields, saw 59\\nSkipping line 5014: expected 31 fields, saw 185\\nSkipping line 5018: expected 31 fields, saw 57\\nSkipping line 5027: expected 31 fields, saw 2936\\nSkipping line 5029: expected 31 fields, saw 36\\nSkipping line 5060: expected 31 fields, saw 59\\nSkipping line 5085: expected 31 fields, saw 59\\nSkipping line 5104: expected 31 fields, saw 159\\nSkipping line 5145: expected 31 fields, saw 36\\nSkipping line 5181: expected 31 fields, saw 161\\nSkipping line 5206: expected 31 fields, saw 67\\nSkipping line 5210: expected 31 fields, saw 39\\nSkipping line 5221: expected 31 fields, saw 95\\nSkipping line 5260: expected 31 fields, saw 39\\nSkipping line 5261: expected 31 fields, saw 475\\nSkipping line 5292: expected 31 fields, saw 56\\nSkipping line 5300: expected 31 fields, saw 37\\nSkipping line 5336: expected 31 fields, saw 52\\nSkipping line 5339: expected 31 fields, saw 71\\nSkipping line 5384: expected 31 fields, saw 48\\nSkipping line 5395: expected 31 fields, saw 41\\nSkipping line 5405: expected 31 fields, saw 182\\nSkipping line 5420: expected 31 fields, saw 197\\nSkipping line 5423: expected 31 fields, saw 43\\nSkipping line 5441: expected 31 fields, saw 36\\nSkipping line 5458: expected 31 fields, saw 70\\nSkipping line 5460: expected 31 fields, saw 55\\nSkipping line 5481: expected 31 fields, saw 182\\nSkipping line 5497: expected 31 fields, saw 36\\nSkipping line 5523: expected 31 fields, saw 71\\nSkipping line 5569: expected 31 fields, saw 36\\nSkipping line 5602: expected 31 fields, saw 83\\nSkipping line 5631: expected 31 fields, saw 247\\nSkipping line 5638: expected 31 fields, saw 36\\nSkipping line 5683: expected 31 fields, saw 613\\nSkipping line 5711: expected 31 fields, saw 34\\nSkipping line 5749: expected 31 fields, saw 39\\nSkipping line 5774: expected 31 fields, saw 215\\nSkipping line 5829: expected 31 fields, saw 35\\nSkipping line 5832: expected 31 fields, saw 499\\nSkipping line 5840: expected 31 fields, saw 243\\nSkipping line 5873: expected 31 fields, saw 517\\nSkipping line 5896: expected 31 fields, saw 39\\nSkipping line 5912: expected 31 fields, saw 129\\nSkipping line 5917: expected 31 fields, saw 231\\nSkipping line 5970: expected 31 fields, saw 46\\nSkipping line 6028: expected 31 fields, saw 59\\nSkipping line 6059: expected 31 fields, saw 108\\nSkipping line 6071: expected 31 fields, saw 137\\nSkipping line 6088: expected 31 fields, saw 41\\nSkipping line 6112: expected 31 fields, saw 196\\nSkipping line 6129: expected 31 fields, saw 95\\nSkipping line 6154: expected 31 fields, saw 39\\nSkipping line 6173: expected 31 fields, saw 35\\nSkipping line 6174: expected 31 fields, saw 161\\nSkipping line 6218: expected 31 fields, saw 44\\nSkipping line 6269: expected 31 fields, saw 1573\\nSkipping line 6321: expected 31 fields, saw 42\\nSkipping line 6373: expected 31 fields, saw 41\\nSkipping line 6387: expected 31 fields, saw 45\\nSkipping line 6392: expected 31 fields, saw 119\\nSkipping line 6404: expected 31 fields, saw 47\\nSkipping line 6521: expected 31 fields, saw 48\\nSkipping line 6567: expected 31 fields, saw 32\\nSkipping line 6587: expected 31 fields, saw 114\\nSkipping line 6611: expected 31 fields, saw 61\\nSkipping line 6637: expected 31 fields, saw 71\\nSkipping line 6638: expected 31 fields, saw 59\\nSkipping line 6667: expected 31 fields, saw 41\\nSkipping line 6669: expected 31 fields, saw 151\\nSkipping line 6678: expected 31 fields, saw 215\\nSkipping line 6693: expected 31 fields, saw 279\\nSkipping line 6719: expected 31 fields, saw 113\\nSkipping line 6723: expected 31 fields, saw 155\\nSkipping line 6763: expected 31 fields, saw 35\\nSkipping line 6799: expected 31 fields, saw 195\\nSkipping line 6807: expected 31 fields, saw 183\\nSkipping line 6814: expected 31 fields, saw 84\\nSkipping line 6817: expected 31 fields, saw 109\\nSkipping line 6870: expected 31 fields, saw 179\\nSkipping line 6907: expected 31 fields, saw 288\\nSkipping line 6980: expected 31 fields, saw 151\\nSkipping line 6996: expected 31 fields, saw 73\\nSkipping line 7090: expected 31 fields, saw 106\\nSkipping line 7106: expected 31 fields, saw 143\\nSkipping line 7157: expected 31 fields, saw 93\\nSkipping line 7215: expected 31 fields, saw 256\\nSkipping line 7222: expected 31 fields, saw 88\\nSkipping line 7249: expected 31 fields, saw 121\\nSkipping line 7294: expected 31 fields, saw 111\\nSkipping line 7334: expected 31 fields, saw 115\\nSkipping line 7367: expected 31 fields, saw 87\\nSkipping line 7398: expected 31 fields, saw 111\\nSkipping line 7428: expected 31 fields, saw 34\\nSkipping line 7446: expected 31 fields, saw 37\\nSkipping line 7536: expected 31 fields, saw 77\\nSkipping line 7550: expected 31 fields, saw 194\\nSkipping line 7562: expected 31 fields, saw 113\\nSkipping line 7592: expected 31 fields, saw 69\\nSkipping line 7595: expected 31 fields, saw 265\\nSkipping line 7597: expected 31 fields, saw 185\\nSkipping line 7682: expected 31 fields, saw 258\\nSkipping line 7684: expected 31 fields, saw 43\\nSkipping line 7703: expected 31 fields, saw 174\\nSkipping line 7711: expected 31 fields, saw 59\\nSkipping line 7716: expected 31 fields, saw 175\\nSkipping line 7736: expected 31 fields, saw 36\\nSkipping line 7766: expected 31 fields, saw 59\\nSkipping line 7783: expected 31 fields, saw 40\\nSkipping line 7811: expected 31 fields, saw 47\\nSkipping line 7812: expected 31 fields, saw 34\\nSkipping line 7844: expected 31 fields, saw 39\\nSkipping line 7849: expected 31 fields, saw 97\\nSkipping line 7867: expected 31 fields, saw 39\\nSkipping line 7878: expected 31 fields, saw 131\\nSkipping line 7903: expected 31 fields, saw 71\\nSkipping line 8007: expected 31 fields, saw 46\\nSkipping line 8047: expected 31 fields, saw 59\\nSkipping line 8092: expected 31 fields, saw 37\\nSkipping line 8097: expected 31 fields, saw 50\\nSkipping line 8109: expected 31 fields, saw 59\\nSkipping line 8121: expected 31 fields, saw 106\\nSkipping line 8225: expected 31 fields, saw 288\\nSkipping line 8227: expected 31 fields, saw 89\\nSkipping line 8239: expected 31 fields, saw 67\\nSkipping line 8241: expected 31 fields, saw 35\\nSkipping line 8253: expected 31 fields, saw 47\\nSkipping line 8257: expected 31 fields, saw 221\\nSkipping line 8301: expected 31 fields, saw 214\\nSkipping line 8322: expected 31 fields, saw 35\\nSkipping line 8341: expected 31 fields, saw 59\\nSkipping line 8385: expected 31 fields, saw 69\\nSkipping line 8423: expected 31 fields, saw 34\\nSkipping line 8426: expected 31 fields, saw 34\\nSkipping line 8453: expected 31 fields, saw 173\\nSkipping line 8497: expected 31 fields, saw 97\\nSkipping line 8504: expected 31 fields, saw 36\\nSkipping line 8541: expected 31 fields, saw 391\\nSkipping line 8542: expected 31 fields, saw 50\\nSkipping line 8561: expected 31 fields, saw 43\\nSkipping line 8564: expected 31 fields, saw 585\\nSkipping line 8654: expected 31 fields, saw 83\\nSkipping line 8672: expected 31 fields, saw 109\\nSkipping line 8681: expected 31 fields, saw 71\\nSkipping line 8744: expected 31 fields, saw 106\\nSkipping line 8761: expected 31 fields, saw 62\\nSkipping line 8764: expected 31 fields, saw 59\\nSkipping line 8765: expected 31 fields, saw 40\\nSkipping line 8825: expected 31 fields, saw 218\\nSkipping line 8851: expected 31 fields, saw 46\\nSkipping line 8853: expected 31 fields, saw 45\\nSkipping line 8878: expected 31 fields, saw 119\\nSkipping line 8888: expected 31 fields, saw 59\\nSkipping line 8900: expected 31 fields, saw 149\\nSkipping line 8983: expected 31 fields, saw 71\\nSkipping line 9033: expected 31 fields, saw 41\\nSkipping line 9042: expected 31 fields, saw 565\\nSkipping line 9080: expected 31 fields, saw 36\\nSkipping line 9097: expected 31 fields, saw 71\\nSkipping line 9099: expected 31 fields, saw 83\\nSkipping line 9124: expected 31 fields, saw 111\\nSkipping line 9134: expected 31 fields, saw 59\\nSkipping line 9139: expected 31 fields, saw 635\\nSkipping line 9150: expected 31 fields, saw 226\\nSkipping line 9161: expected 31 fields, saw 41\\nSkipping line 9281: expected 31 fields, saw 42\\nSkipping line 9298: expected 31 fields, saw 34\\nSkipping line 9361: expected 31 fields, saw 71\\nSkipping line 9378: expected 31 fields, saw 232\\nSkipping line 9390: expected 31 fields, saw 59\\nSkipping line 9410: expected 31 fields, saw 198\\nSkipping line 9529: expected 31 fields, saw 408\\nSkipping line 9537: expected 31 fields, saw 95\\nSkipping line 9542: expected 31 fields, saw 45\\nSkipping line 9561: expected 31 fields, saw 48\\nSkipping line 9564: expected 31 fields, saw 71\\nSkipping line 9596: expected 31 fields, saw 51\\nSkipping line 9610: expected 31 fields, saw 79\\nSkipping line 9659: expected 31 fields, saw 87\\nSkipping line 9688: expected 31 fields, saw 36\\nSkipping line 9692: expected 31 fields, saw 108\\nSkipping line 9739: expected 31 fields, saw 41\\nSkipping line 9821: expected 31 fields, saw 51\\nSkipping line 9828: expected 31 fields, saw 241\\nSkipping line 9835: expected 31 fields, saw 87\\nSkipping line 9847: expected 31 fields, saw 35\\nSkipping line 9864: expected 31 fields, saw 71\\nSkipping line 9885: expected 31 fields, saw 41\\nSkipping line 9920: expected 31 fields, saw 149\\nSkipping line 9966: expected 31 fields, saw 87\\nSkipping line 9972: expected 31 fields, saw 526\\nSkipping line 10061: expected 31 fields, saw 185\\nSkipping line 10064: expected 31 fields, saw 39\\nSkipping line 10065: expected 31 fields, saw 41\\nSkipping line 10095: expected 31 fields, saw 71\\nSkipping line 10099: expected 31 fields, saw 36\\nSkipping line 10104: expected 31 fields, saw 36\\nSkipping line 10113: expected 31 fields, saw 229\\nSkipping line 10139: expected 31 fields, saw 35\\nSkipping line 10159: expected 31 fields, saw 39\\nSkipping line 10221: expected 31 fields, saw 131\\nSkipping line 10227: expected 31 fields, saw 133\\nSkipping line 10275: expected 31 fields, saw 187\\nSkipping line 10282: expected 31 fields, saw 41\\nSkipping line 10306: expected 31 fields, saw 110\\nSkipping line 10311: expected 31 fields, saw 119\\nSkipping line 10334: expected 31 fields, saw 483\\nSkipping line 10365: expected 31 fields, saw 337\\nSkipping line 10366: expected 31 fields, saw 34\\nSkipping line 10400: expected 31 fields, saw 242\\nSkipping line 10433: expected 31 fields, saw 89\\nSkipping line 10482: expected 31 fields, saw 59\\nSkipping line 10495: expected 31 fields, saw 71\\nSkipping line 10499: expected 31 fields, saw 91\\nSkipping line 10510: expected 31 fields, saw 241\\nSkipping line 10516: expected 31 fields, saw 229\\nSkipping line 10529: expected 31 fields, saw 49\\nSkipping line 10533: expected 31 fields, saw 83\\nSkipping line 10555: expected 31 fields, saw 55\\nSkipping line 10594: expected 31 fields, saw 87\\nSkipping line 10610: expected 31 fields, saw 36\\nSkipping line 10611: expected 31 fields, saw 39\\nSkipping line 10640: expected 31 fields, saw 41\\nSkipping line 10646: expected 31 fields, saw 69\\nSkipping line 10657: expected 31 fields, saw 32\\nSkipping line 10665: expected 31 fields, saw 35\\nSkipping line 10737: expected 31 fields, saw 111\\nSkipping line 10754: expected 31 fields, saw 41\\nSkipping line 10804: expected 31 fields, saw 34\\nSkipping line 10862: expected 31 fields, saw 64\\nSkipping line 10967: expected 31 fields, saw 79\\nSkipping line 10978: expected 31 fields, saw 93\\nSkipping line 10979: expected 31 fields, saw 314\\nSkipping line 11050: expected 31 fields, saw 46\\nSkipping line 11052: expected 31 fields, saw 145\\nSkipping line 11070: expected 31 fields, saw 70\\nSkipping line 11185: expected 31 fields, saw 59\\nSkipping line 11238: expected 31 fields, saw 58\\nSkipping line 11261: expected 31 fields, saw 131\\nSkipping line 11266: expected 31 fields, saw 34\\nSkipping line 11277: expected 31 fields, saw 81\\nSkipping line 11296: expected 31 fields, saw 253\\nSkipping line 11306: expected 31 fields, saw 218\\nSkipping line 11314: expected 31 fields, saw 108\\nSkipping line 11366: expected 31 fields, saw 46\\nSkipping line 11386: expected 31 fields, saw 36\\nSkipping line 11395: expected 31 fields, saw 148\\nSkipping line 11469: expected 31 fields, saw 41\\nSkipping line 11506: expected 31 fields, saw 46\\nSkipping line 11515: expected 31 fields, saw 39\\nSkipping line 11521: expected 31 fields, saw 74\\nSkipping line 11532: expected 31 fields, saw 36\\nSkipping line 11545: expected 31 fields, saw 72\\nSkipping line 11550: expected 31 fields, saw 36\\nSkipping line 11556: expected 31 fields, saw 130\\nSkipping line 11561: expected 31 fields, saw 34\\nSkipping line 11601: expected 31 fields, saw 97\\nSkipping line 11624: expected 31 fields, saw 71\\nSkipping line 11649: expected 31 fields, saw 64\\nSkipping line 11689: expected 31 fields, saw 46\\nSkipping line 11703: expected 31 fields, saw 121\\nSkipping line 11715: expected 31 fields, saw 255\\nSkipping line 11743: expected 31 fields, saw 59\\nSkipping line 11768: expected 31 fields, saw 116\\nSkipping line 11771: expected 31 fields, saw 80\\nSkipping line 11776: expected 31 fields, saw 95\\nSkipping line 11788: expected 31 fields, saw 73\\nSkipping line 11798: expected 31 fields, saw 212\\nSkipping line 11827: expected 31 fields, saw 802\\nSkipping line 11839: expected 31 fields, saw 475\\nSkipping line 11898: expected 31 fields, saw 59\\nSkipping line 11904: expected 31 fields, saw 36\\nSkipping line 11948: expected 31 fields, saw 87\\nSkipping line 11962: expected 31 fields, saw 34\\nSkipping line 11985: expected 31 fields, saw 111\\nSkipping line 11991: expected 31 fields, saw 97\\nSkipping line 11998: expected 31 fields, saw 115\\nSkipping line 12013: expected 31 fields, saw 43\\nSkipping line 12014: expected 31 fields, saw 81\\nSkipping line 12055: expected 31 fields, saw 107\\nSkipping line 12056: expected 31 fields, saw 83\\nSkipping line 12115: expected 31 fields, saw 156\\nSkipping line 12118: expected 31 fields, saw 1591\\nSkipping line 12185: expected 31 fields, saw 285\\nSkipping line 12227: expected 31 fields, saw 181\\nSkipping line 12228: expected 31 fields, saw 36\\nSkipping line 12295: expected 31 fields, saw 112\\nSkipping line 12319: expected 31 fields, saw 64\\nSkipping line 12425: expected 31 fields, saw 276\\nSkipping line 12446: expected 31 fields, saw 71\\nSkipping line 12448: expected 31 fields, saw 59\\nSkipping line 12455: expected 31 fields, saw 91\\nSkipping line 12515: expected 31 fields, saw 36\\nSkipping line 12522: expected 31 fields, saw 105\\nSkipping line 12557: expected 31 fields, saw 71\\nSkipping line 12563: expected 31 fields, saw 415\\nSkipping line 12573: expected 31 fields, saw 91\\nSkipping line 12687: expected 31 fields, saw 116\\nSkipping line 12690: expected 31 fields, saw 83\\nSkipping line 12708: expected 31 fields, saw 44\\nSkipping line 12756: expected 31 fields, saw 69\\nSkipping line 12760: expected 31 fields, saw 71\\nSkipping line 12767: expected 31 fields, saw 145\\nSkipping line 12770: expected 31 fields, saw 79\\nSkipping line 12782: expected 31 fields, saw 43\\nSkipping line 12792: expected 31 fields, saw 95\\nSkipping line 12815: expected 31 fields, saw 35\\nSkipping line 12848: expected 31 fields, saw 195\\nSkipping line 12851: expected 31 fields, saw 145\\nSkipping line 12888: expected 31 fields, saw 183\\nSkipping line 12991: expected 31 fields, saw 36\\nSkipping line 13020: expected 31 fields, saw 258\\nSkipping line 13055: expected 31 fields, saw 39\\nSkipping line 13095: expected 31 fields, saw 155\\nSkipping line 13153: expected 31 fields, saw 117\\nSkipping line 13170: expected 31 fields, saw 41\\nSkipping line 13238: expected 31 fields, saw 121\\nSkipping line 13240: expected 31 fields, saw 41\\nSkipping line 13242: expected 31 fields, saw 319\\nSkipping line 13248: expected 31 fields, saw 373\\nSkipping line 13277: expected 31 fields, saw 175\\nSkipping line 13296: expected 31 fields, saw 73\\nSkipping line 13315: expected 31 fields, saw 83\\nSkipping line 13365: expected 31 fields, saw 41\\nSkipping line 13407: expected 31 fields, saw 43\\nSkipping line 13409: expected 31 fields, saw 159\\nSkipping line 13424: expected 31 fields, saw 171\\nSkipping line 13440: expected 31 fields, saw 81\\nSkipping line 13471: expected 31 fields, saw 214\\nSkipping line 13475: expected 31 fields, saw 41\\nSkipping line 13511: expected 31 fields, saw 120\\nSkipping line 13529: expected 31 fields, saw 43\\nSkipping line 13534: expected 31 fields, saw 54\\nSkipping line 13541: expected 31 fields, saw 83\\nSkipping line 13548: expected 31 fields, saw 515\\nSkipping line 13563: expected 31 fields, saw 34\\nSkipping line 13611: expected 31 fields, saw 49\\nSkipping line 13704: expected 31 fields, saw 275\\nSkipping line 13712: expected 31 fields, saw 130\\nSkipping line 13713: expected 31 fields, saw 50\\nSkipping line 13736: expected 31 fields, saw 253\\nSkipping line 13762: expected 31 fields, saw 111\\nSkipping line 13801: expected 31 fields, saw 34\\nSkipping line 13805: expected 31 fields, saw 64\\nSkipping line 13833: expected 31 fields, saw 36\\nSkipping line 13875: expected 31 fields, saw 87\\nSkipping line 13883: expected 31 fields, saw 36\\nSkipping line 13899: expected 31 fields, saw 59\\nSkipping line 13942: expected 31 fields, saw 106\\nSkipping line 13944: expected 31 fields, saw 89\\nSkipping line 13996: expected 31 fields, saw 271\\nSkipping line 14005: expected 31 fields, saw 43\\nSkipping line 14019: expected 31 fields, saw 120\\nSkipping line 14071: expected 31 fields, saw 64\\nSkipping line 14088: expected 31 fields, saw 49\\nSkipping line 14099: expected 31 fields, saw 395\\nSkipping line 14171: expected 31 fields, saw 78\\nSkipping line 14172: expected 31 fields, saw 36\\nSkipping line 14212: expected 31 fields, saw 97\\nSkipping line 14218: expected 31 fields, saw 209\\nSkipping line 14220: expected 31 fields, saw 36\\nSkipping line 14242: expected 31 fields, saw 189\\nSkipping line 14269: expected 31 fields, saw 270\\nSkipping line 14287: expected 31 fields, saw 43\\nSkipping line 14336: expected 31 fields, saw 34\\nSkipping line 14363: expected 31 fields, saw 165\\nSkipping line 14378: expected 31 fields, saw 33\\nSkipping line 14469: expected 31 fields, saw 135\\nSkipping line 14471: expected 31 fields, saw 119\\nSkipping line 14478: expected 31 fields, saw 59\\nSkipping line 14487: expected 31 fields, saw 50\\nSkipping line 14515: expected 31 fields, saw 39\\nSkipping line 14532: expected 31 fields, saw 183\\nSkipping line 14564: expected 31 fields, saw 87\\nSkipping line 14566: expected 31 fields, saw 39\\nSkipping line 14632: expected 31 fields, saw 49\\nSkipping line 14645: expected 31 fields, saw 259\\nSkipping line 14687: expected 31 fields, saw 104\\nSkipping line 14697: expected 31 fields, saw 125\\nSkipping line 14717: expected 31 fields, saw 481\\nSkipping line 14730: expected 31 fields, saw 131\\nSkipping line 14749: expected 31 fields, saw 89\\nSkipping line 14773: expected 31 fields, saw 36\\nSkipping line 14839: expected 31 fields, saw 159\\nSkipping line 14853: expected 31 fields, saw 48\\nSkipping line 14861: expected 31 fields, saw 37\\nSkipping line 14896: expected 31 fields, saw 36\\nSkipping line 14909: expected 31 fields, saw 46\\nSkipping line 14911: expected 31 fields, saw 308\\nSkipping line 14925: expected 31 fields, saw 52\\nSkipping line 14991: expected 31 fields, saw 613\\nSkipping line 14998: expected 31 fields, saw 1566\\nSkipping line 15030: expected 31 fields, saw 35\\nSkipping line 15041: expected 31 fields, saw 106\\nSkipping line 15073: expected 31 fields, saw 84\\nSkipping line 15083: expected 31 fields, saw 208\\nSkipping line 15114: expected 31 fields, saw 87\\nSkipping line 15128: expected 31 fields, saw 51\\nSkipping line 15197: expected 31 fields, saw 145\\nSkipping line 15202: expected 31 fields, saw 68\\nSkipping line 15217: expected 31 fields, saw 346\\nSkipping line 15274: expected 31 fields, saw 39\\nSkipping line 15305: expected 31 fields, saw 61\\nSkipping line 15307: expected 31 fields, saw 137\\nSkipping line 15311: expected 31 fields, saw 34\\nSkipping line 15316: expected 31 fields, saw 152\\nSkipping line 15337: expected 31 fields, saw 39\\nSkipping line 15356: expected 31 fields, saw 111\\nSkipping line 15394: expected 31 fields, saw 151\\nSkipping line 15410: expected 31 fields, saw 277\\nSkipping line 15504: expected 31 fields, saw 451\\nSkipping line 15523: expected 31 fields, saw 155\\nSkipping line 15575: expected 31 fields, saw 117\\nSkipping line 15712: expected 31 fields, saw 36\\nSkipping line 15744: expected 31 fields, saw 55\\nSkipping line 15792: expected 31 fields, saw 47\\nSkipping line 15818: expected 31 fields, saw 41\\nSkipping line 15918: expected 31 fields, saw 95\\nSkipping line 15958: expected 31 fields, saw 48\\nSkipping line 15974: expected 31 fields, saw 102\\nSkipping line 15996: expected 31 fields, saw 78\\nSkipping line 16039: expected 31 fields, saw 91\\nSkipping line 16054: expected 31 fields, saw 331\\nSkipping line 16055: expected 31 fields, saw 35\\nSkipping line 16082: expected 31 fields, saw 35\\nSkipping line 16088: expected 31 fields, saw 55\\nSkipping line 16117: expected 31 fields, saw 39\\nSkipping line 16124: expected 31 fields, saw 46\\nSkipping line 16129: expected 31 fields, saw 35\\nSkipping line 16134: expected 31 fields, saw 39\\nSkipping line 16182: expected 31 fields, saw 41\\nSkipping line 16188: expected 31 fields, saw 36\\nSkipping line 16191: expected 31 fields, saw 34\\nSkipping line 16197: expected 31 fields, saw 54\\nSkipping line 16200: expected 31 fields, saw 163\\nSkipping line 16244: expected 31 fields, saw 531\\nSkipping line 16253: expected 31 fields, saw 56\\nSkipping line 16316: expected 31 fields, saw 218\\nSkipping line 16369: expected 31 fields, saw 195\\nSkipping line 16376: expected 31 fields, saw 64\\nSkipping line 16381: expected 31 fields, saw 64\\nSkipping line 16394: expected 31 fields, saw 86\\nSkipping line 16421: expected 31 fields, saw 91\\nSkipping line 16424: expected 31 fields, saw 241\\nSkipping line 16457: expected 31 fields, saw 46\\nSkipping line 16469: expected 31 fields, saw 183\\nSkipping line 16539: expected 31 fields, saw 561\\nSkipping line 16542: expected 31 fields, saw 51\\nSkipping line 16561: expected 31 fields, saw 71\\nSkipping line 16575: expected 31 fields, saw 154\\nSkipping line 16598: expected 31 fields, saw 41\\nSkipping line 16603: expected 31 fields, saw 108\\nSkipping line 16658: expected 31 fields, saw 181\\nSkipping line 16669: expected 31 fields, saw 113\\nSkipping line 16710: expected 31 fields, saw 119\\nSkipping line 16730: expected 31 fields, saw 50\\nSkipping line 16744: expected 31 fields, saw 241\\nSkipping line 16746: expected 31 fields, saw 47\\nSkipping line 16748: expected 31 fields, saw 36\\nSkipping line 16761: expected 31 fields, saw 35\\nSkipping line 16783: expected 31 fields, saw 163\\nSkipping line 16811: expected 31 fields, saw 39\\nSkipping line 16812: expected 31 fields, saw 60\\nSkipping line 16820: expected 31 fields, saw 112\\nSkipping line 16840: expected 31 fields, saw 175\\nSkipping line 16885: expected 31 fields, saw 47\\nSkipping line 16911: expected 31 fields, saw 220\\nSkipping line 16972: expected 31 fields, saw 34\\nSkipping line 16991: expected 31 fields, saw 34\\nSkipping line 17016: expected 31 fields, saw 227\\nSkipping line 17027: expected 31 fields, saw 32\\nSkipping line 17032: expected 31 fields, saw 140\\nSkipping line 17070: expected 31 fields, saw 192\\nSkipping line 17172: expected 31 fields, saw 79\\nSkipping line 17197: expected 31 fields, saw 125\\nSkipping line 17229: expected 31 fields, saw 41\\nSkipping line 17235: expected 31 fields, saw 291\\nSkipping line 17240: expected 31 fields, saw 41\\nSkipping line 17258: expected 31 fields, saw 251\\nSkipping line 17292: expected 31 fields, saw 163\\nSkipping line 17429: expected 31 fields, saw 1293\\nSkipping line 17430: expected 31 fields, saw 244\\nSkipping line 17452: expected 31 fields, saw 135\\nSkipping line 17495: expected 31 fields, saw 34\\nSkipping line 17516: expected 31 fields, saw 151\\nSkipping line 17538: expected 31 fields, saw 36\\nSkipping line 17561: expected 31 fields, saw 34\\nSkipping line 17565: expected 31 fields, saw 92\\nSkipping line 17575: expected 31 fields, saw 277\\nSkipping line 17604: expected 31 fields, saw 81\\nSkipping line 17642: expected 31 fields, saw 56\\nSkipping line 17690: expected 31 fields, saw 53\\nSkipping line 17695: expected 31 fields, saw 253\\nSkipping line 17764: expected 31 fields, saw 39\\nSkipping line 17809: expected 31 fields, saw 107\\nSkipping line 17811: expected 31 fields, saw 34\\nSkipping line 17845: expected 31 fields, saw 260\\nSkipping line 17889: expected 31 fields, saw 49\\nSkipping line 17910: expected 31 fields, saw 35\\nSkipping line 17913: expected 31 fields, saw 39\\nSkipping line 17923: expected 31 fields, saw 151\\nSkipping line 17932: expected 31 fields, saw 35\\nSkipping line 17933: expected 31 fields, saw 69\\nSkipping line 17938: expected 31 fields, saw 41\\nSkipping line 17955: expected 31 fields, saw 67\\nSkipping line 17956: expected 31 fields, saw 59\\nSkipping line 17985: expected 31 fields, saw 115\\nSkipping line 18053: expected 31 fields, saw 71\\nSkipping line 18098: expected 31 fields, saw 41\\nSkipping line 18104: expected 31 fields, saw 95\\nSkipping line 18133: expected 31 fields, saw 55\\nSkipping line 18137: expected 31 fields, saw 115\\nSkipping line 18241: expected 31 fields, saw 36\\nSkipping line 18266: expected 31 fields, saw 41\\nSkipping line 18304: expected 31 fields, saw 47\\nSkipping line 18327: expected 31 fields, saw 115\\nSkipping line 18411: expected 31 fields, saw 36\\nSkipping line 18417: expected 31 fields, saw 71\\nSkipping line 18425: expected 31 fields, saw 109\\nSkipping line 18461: expected 31 fields, saw 116\\nSkipping line 18486: expected 31 fields, saw 258\\nSkipping line 18526: expected 31 fields, saw 116\\nSkipping line 18585: expected 31 fields, saw 46\\nSkipping line 18641: expected 31 fields, saw 105\\nSkipping line 18682: expected 31 fields, saw 111\\nSkipping line 18694: expected 31 fields, saw 43\\nSkipping line 18695: expected 31 fields, saw 178\\nSkipping line 18728: expected 31 fields, saw 37\\nSkipping line 18732: expected 31 fields, saw 41\\nSkipping line 18747: expected 31 fields, saw 36\\nSkipping line 18757: expected 31 fields, saw 163\\nSkipping line 18772: expected 31 fields, saw 91\\nSkipping line 18811: expected 31 fields, saw 32\\nSkipping line 18820: expected 31 fields, saw 635\\nSkipping line 18831: expected 31 fields, saw 59\\nSkipping line 18861: expected 31 fields, saw 71\\nSkipping line 18862: expected 31 fields, saw 111\\nSkipping line 18898: expected 31 fields, saw 115\\nSkipping line 18930: expected 31 fields, saw 106\\nSkipping line 18937: expected 31 fields, saw 83\\nSkipping line 18966: expected 31 fields, saw 63\\nSkipping line 18968: expected 31 fields, saw 35\\nSkipping line 18981: expected 31 fields, saw 64\\nSkipping line 19033: expected 31 fields, saw 91\\nSkipping line 19089: expected 31 fields, saw 71\\nSkipping line 19093: expected 31 fields, saw 36\\nSkipping line 19164: expected 31 fields, saw 115\\nSkipping line 19169: expected 31 fields, saw 99\\nSkipping line 19199: expected 31 fields, saw 116\\nSkipping line 19220: expected 31 fields, saw 159\\nSkipping line 19256: expected 31 fields, saw 635\\nSkipping line 19259: expected 31 fields, saw 215\\nSkipping line 19262: expected 31 fields, saw 162\\nSkipping line 19284: expected 31 fields, saw 2838\\nSkipping line 19308: expected 31 fields, saw 52\\nSkipping line 19320: expected 31 fields, saw 34\\nSkipping line 19371: expected 31 fields, saw 41\\nSkipping line 19409: expected 31 fields, saw 187\\nSkipping line 19414: expected 31 fields, saw 88\\nSkipping line 19556: expected 31 fields, saw 241\\nSkipping line 19560: expected 31 fields, saw 588\\nSkipping line 19593: expected 31 fields, saw 291\\nSkipping line 19611: expected 31 fields, saw 59\\nSkipping line 19641: expected 31 fields, saw 133\\nSkipping line 19647: expected 31 fields, saw 401\\nSkipping line 19656: expected 31 fields, saw 50\\nSkipping line 19658: expected 31 fields, saw 118\\nSkipping line 19662: expected 31 fields, saw 59\\nSkipping line 19665: expected 31 fields, saw 41\\nSkipping line 19707: expected 31 fields, saw 232\\nSkipping line 19787: expected 31 fields, saw 68\\nSkipping line 19788: expected 31 fields, saw 35\\nSkipping line 19803: expected 31 fields, saw 77\\nSkipping line 19806: expected 31 fields, saw 475\\nSkipping line 19812: expected 31 fields, saw 32\\nSkipping line 19815: expected 31 fields, saw 34\\nSkipping line 19820: expected 31 fields, saw 99\\nSkipping line 19882: expected 31 fields, saw 299\\nSkipping line 19962: expected 31 fields, saw 46\\nSkipping line 19969: expected 31 fields, saw 78\\n'\n"
          ],
          "name": "stderr"
        },
        {
          "output_type": "execute_result",
          "data": {
            "text/plain": [
              "Index(['id', 'label', 'tag', 'iid', 'style', 'x', 'y', 'height', 'width',\n",
              "       'page_id', 'text', 'p_text', 'p_height', 'p_iid', 'p_style', 'p_tag',\n",
              "       'p_width', 'p_x', 'p_y', 'href', 'disable', 'pp_tag', 'pp_style', 'src',\n",
              "       'pp_height', 'pp_iid', 'pp_width', 'pp_x', 'pp_y', 'alt', 'pp_text'],\n",
              "      dtype='object')"
            ]
          },
          "metadata": {
            "tags": []
          },
          "execution_count": 6
        }
      ]
    },
    {
      "metadata": {
        "id": "dHGqZOooqWTj",
        "colab_type": "text"
      },
      "cell_type": "markdown",
      "source": [
        "## 分かち書きをしたりするテキストの前処理"
      ]
    },
    {
      "metadata": {
        "id": "Uyt9XQtsSndr",
        "colab_type": "code",
        "colab": {}
      },
      "cell_type": "code",
      "source": [
        "\n",
        "def to_df(token,se):\n",
        "  matrix = token.texts_to_matrix(se,mode='count')\n",
        "  temp_df = pd.DataFrame(matrix)\n",
        "  return temp_df\n",
        "\n",
        "def add_space_front_uppercase(text:str)->str:\n",
        "  return ''.join(' ' + char if char.isupper() else char.strip() for char in text).strip()\n",
        "\n",
        "def add_space_color_size(text:str)->str:\n",
        "  return text.replace(\"colour\",\"color\").replace(\"color\",\" color \").replace(\"size\",\" size \")\n",
        "\n",
        "def wakati(text)->str:\n",
        "  text = str(text)\n",
        "  if len(text)>3:\n",
        "    text = mecab.parse(text)\n",
        "  return replace_numbers_to_0(text)\n",
        "\n",
        "def replace_numbers_to_0(text:str)->str:\n",
        "  return re.sub(r'[0-9]+', \"0\",str(text))\n",
        "\n",
        "def pre_text(df):\n",
        "  wakachi_fileds = ['alt', 'href', 'iid','p_iid', 'p_style', 'p_tag', 'pp_iid', 'pp_style', 'pp_tag','src', 'style', 'tag', 'text','p_text']\n",
        "  df[wakachi_fileds] = df[wakachi_fileds].applymap(lambda x : wakati(x)).fillna(\"\")\n",
        "\n",
        "  add_space_fileds = [\"iid\",\"style\",\"p_iid\",\"p_style\",\"pp_iid\",\"pp_style\"]\n",
        "  df[add_space_fileds] = df[add_space_fileds].applymap(lambda x : add_space_front_uppercase(x))\n",
        "  df[add_space_fileds] = df[add_space_fileds].applymap(lambda x : add_space_color_size(x))\n",
        "  return df                \n"
      ],
      "execution_count": 0,
      "outputs": []
    },
    {
      "metadata": {
        "id": "S3c8ffaYr7ub",
        "colab_type": "text"
      },
      "cell_type": "markdown",
      "source": [
        "## 学習データ全体の前処理"
      ]
    },
    {
      "metadata": {
        "id": "eHXfd2SgDIJi",
        "colab_type": "code",
        "colab": {}
      },
      "cell_type": "code",
      "source": [
        "\n",
        "def prepare_data(data):\n",
        "  df = pd.DataFrame(data)\n",
        "  df = pre_text(df)\n",
        "\n",
        "  fields = ['height', 'width', 'x', 'y',  'p_x', 'p_y', 'p_width','p_height','pp_height', 'pp_width', 'pp_x', 'pp_y']\n",
        "  X = df[fields]\n",
        "\n",
        "  X = pd.concat([X, to_df(tag_token,df[\"tag\"])], axis=1)\n",
        "  X = pd.concat([X, to_df(tag_token,df[\"p_tag\"])], axis=1)\n",
        "  X = pd.concat([X, to_df(tag_token,df[\"pp_tag\"])], axis=1)\n",
        "  X = pd.concat([X, to_df(style_token,df[\"style\"])], axis=1)\n",
        "  X = pd.concat([X, to_df(style_token,df[\"p_style\"])], axis=1)\n",
        "  X = pd.concat([X, to_df(style_token,df[\"pp_style\"])], axis=1)\n",
        "  X = pd.concat([X, to_df(iid_token,df[\"iid\"])], axis=1)\n",
        "  X = pd.concat([X, to_df(iid_token,df[\"p_iid\"])], axis=1)\n",
        "  X = pd.concat([X, to_df(iid_token,df[\"pp_iid\"])], axis=1)\n",
        "  X = pd.concat([X, to_df(alt_token,df[\"alt\"])], axis=1)\n",
        "  X = pd.concat([X, to_df(src_token,df[\"src\"])], axis=1)\n",
        "  X = pd.concat([X, to_df(href_token,df[\"href\"])], axis=1)\n",
        "  X = pd.concat([X, to_df(text_token,df[\"text\"])], axis=1)\n",
        "  X = pd.concat([X, to_df(text_token,df[\"p_text\"])], axis=1)\n",
        "  X = X.fillna(0)\n",
        "  return X"
      ],
      "execution_count": 0,
      "outputs": []
    },
    {
      "metadata": {
        "id": "-GAHD2g45ge9",
        "colab_type": "code",
        "colab": {}
      },
      "cell_type": "code",
      "source": [
        "df = pre_text(df)"
      ],
      "execution_count": 0,
      "outputs": []
    },
    {
      "metadata": {
        "id": "X4d6XPR75_bT",
        "colab_type": "text"
      },
      "cell_type": "markdown",
      "source": [
        "## tokenの作成"
      ]
    },
    {
      "metadata": {
        "id": "erxChBQj302A",
        "colab_type": "code",
        "colab": {}
      },
      "cell_type": "code",
      "source": [
        "\n",
        "temp_df = df[\"tag\"].append(df[\"p_tag\"]).append(df[\"pp_tag\"])\n",
        "tag_token = Tokenizer(lower=True)\n",
        "tag_token.fit_on_texts(temp_df)\n",
        "\n",
        "temp_df = df[\"iid\"].append(df[\"p_iid\"]).append(df[\"pp_iid\"])\n",
        "iid_token = Tokenizer(100,lower=True)\n",
        "iid_token.fit_on_texts(temp_df)\n",
        "\n",
        "temp_df = df[\"style\"].append(df[\"p_style\"]).append(df[\"pp_style\"])\n",
        "style_token = Tokenizer(100,lower=True)\n",
        "style_token.fit_on_texts(temp_df)\n",
        "\n",
        "alt_token = Tokenizer(100,lower=True)\n",
        "alt_token.fit_on_texts(df[\"alt\"])\n",
        "src_token = Tokenizer(100,lower=True)\n",
        "src_token.fit_on_texts(df[\"src\"])\n",
        "href_token = Tokenizer(100,lower=True)\n",
        "href_token.fit_on_texts(df[\"href\"])\n",
        "\n",
        "temp_df = df[\"text\"].append(df[\"p_text\"])\n",
        "text_token = Tokenizer(500,lower=True)\n",
        "text_token.fit_on_texts(df[\"text\"])\n"
      ],
      "execution_count": 0,
      "outputs": []
    },
    {
      "metadata": {
        "id": "mKmpnu8L8Q32",
        "colab_type": "text"
      },
      "cell_type": "markdown",
      "source": [
        "##学習データを作成"
      ]
    },
    {
      "metadata": {
        "id": "ugzkP54t8lr5",
        "colab_type": "code",
        "colab": {
          "base_uri": "https://localhost:8080/",
          "height": 34
        },
        "outputId": "0eaf34b1-4ebb-4a21-bd86-11fec08f1c81"
      },
      "cell_type": "code",
      "source": [
        "X = prepare_data(df)\n",
        "print(X.shape)\n"
      ],
      "execution_count": 11,
      "outputs": [
        {
          "output_type": "stream",
          "text": [
            "(42888, 1665)\n"
          ],
          "name": "stdout"
        }
      ]
    },
    {
      "metadata": {
        "id": "G7TNtGUqsJy6",
        "colab_type": "text"
      },
      "cell_type": "markdown",
      "source": [
        "## ラベルを作成"
      ]
    },
    {
      "metadata": {
        "id": "jpH6sOY-zc7t",
        "colab_type": "code",
        "colab": {
          "base_uri": "https://localhost:8080/",
          "height": 34
        },
        "outputId": "aabb829c-6f0b-4d7b-fa57-e6ff01189741"
      },
      "cell_type": "code",
      "source": [
        "label_token = Tokenizer()\n",
        "label_token.fit_on_texts(df[\"label\"])\n",
        "save_text_tokenizer(label_token,base_dir+\"label_token\")\n",
        "y = label_token.texts_to_matrix(df[\"label\"])\n",
        "print(y.shape)"
      ],
      "execution_count": 12,
      "outputs": [
        {
          "output_type": "stream",
          "text": [
            "(42888, 6)\n"
          ],
          "name": "stdout"
        }
      ]
    },
    {
      "metadata": {
        "id": "93-RXzxesw40",
        "colab_type": "text"
      },
      "cell_type": "markdown",
      "source": [
        "## ラベルの変換用ディクショナリの作成"
      ]
    },
    {
      "metadata": {
        "id": "NBK6zPdziu6a",
        "colab_type": "code",
        "colab": {
          "base_uri": "https://localhost:8080/",
          "height": 34
        },
        "outputId": "fa781f8a-9a44-48d5-e6d1-d34bf04fee4c"
      },
      "cell_type": "code",
      "source": [
        "label_dic= {v: k for k, v in label_token.word_index.items()}\n",
        "print(label_dic)"
      ],
      "execution_count": 13,
      "outputs": [
        {
          "output_type": "stream",
          "text": [
            "{1: 'skip', 2: 'vari', 3: 'stock', 4: 'color', 5: 'outofstock'}\n"
          ],
          "name": "stdout"
        }
      ]
    },
    {
      "metadata": {
        "id": "kabh_T6dtFV8",
        "colab_type": "text"
      },
      "cell_type": "markdown",
      "source": [
        "## 学習データをシャッフル"
      ]
    },
    {
      "metadata": {
        "id": "9CzGifwVqJmQ",
        "colab_type": "code",
        "colab": {}
      },
      "cell_type": "code",
      "source": [
        "seed = 7\n",
        "np.random.seed(seed)\n",
        "X_train, X_test, y_train, y_test  = train_test_split(X, y, test_size=0.33, random_state=seed)"
      ],
      "execution_count": 0,
      "outputs": []
    },
    {
      "metadata": {
        "id": "FN-x547ntJVS",
        "colab_type": "text"
      },
      "cell_type": "markdown",
      "source": [
        "## 学習データをシャッフルしない"
      ]
    },
    {
      "metadata": {
        "id": "vbXtvEucx65E",
        "colab_type": "code",
        "colab": {}
      },
      "cell_type": "code",
      "source": [
        "def non_shuffling_train_test_split(X, y, test_size=0.33):\n",
        "    i = int((1 - test_size) * X.shape[0]) + 1\n",
        "    X_train, X_test = np.split(X, [i])\n",
        "    y_train, y_test = np.split(y, [i])\n",
        "    return X_train, X_test, y_train, y_test\n",
        "X_train, X_test, y_train, y_test  = non_shuffling_train_test_split(X, y, test_size=0.33)"
      ],
      "execution_count": 0,
      "outputs": []
    },
    {
      "metadata": {
        "id": "RYBAjvDN8nRa",
        "colab_type": "text"
      },
      "cell_type": "markdown",
      "source": [
        "## コールバックの設定"
      ]
    },
    {
      "metadata": {
        "id": "qfcultG18oTA",
        "colab_type": "code",
        "colab": {}
      },
      "cell_type": "code",
      "source": [
        "\n",
        "# stop when score is not improve\n",
        "early_stopping = EarlyStopping(monitor='val_loss', patience=3)\n",
        "\n",
        "# save best score\n",
        "filepath=\"weights.best.hdf5\"\n",
        "checkpoint = ModelCheckpoint(filepath, monitor='val_acc', verbose=1, save_best_only=True, mode='max')\n",
        "callbacks_list = [checkpoint]"
      ],
      "execution_count": 0,
      "outputs": []
    },
    {
      "metadata": {
        "id": "EGLTH5gYtRes",
        "colab_type": "text"
      },
      "cell_type": "markdown",
      "source": [
        "## 学習開始"
      ]
    },
    {
      "metadata": {
        "id": "s-_DaxTjGVmy",
        "colab_type": "code",
        "colab": {
          "base_uri": "https://localhost:8080/",
          "height": 3373
        },
        "outputId": "837cac08-3fee-4e09-9368-0da4202c2915"
      },
      "cell_type": "code",
      "source": [
        "EPOCHS = 50\n",
        "BATCH_SIZE = 275\n",
        "\n",
        "\n",
        "model = models.Sequential()\n",
        "model.add(layers.Dense(1024, activation='relu',\n",
        "                       input_shape=(X_train.shape[1],)))\n",
        "model.add(layers.Dropout(0.3))\n",
        "\n",
        "model.add(layers.Dense(160, activation='relu'))\n",
        "model.add(layers.Dropout(0.3))\n",
        "\n",
        "\n",
        "model.add(layers.Dense(1024, activation='relu'))\n",
        "model.add(layers.Dropout(0.3))\n",
        "\n",
        "model.add(layers.Dense(64, activation='relu'))\n",
        "model.add(layers.Dropout(0.3))\n",
        "\n",
        "\n",
        "model.add(layers.Dense(1024, activation='relu'))\n",
        "model.add(layers.Dropout(0.3))\n",
        "\n",
        "model.add(layers.Dense(100, activation='relu'))\n",
        "model.add(layers.Dropout(0.3))\n",
        "\n",
        "model.add(layers.Dense(y_train.shape[1],activation='softmax'))\n",
        "\n",
        "model.compile(loss='binary_crossentropy', optimizer='Adam', metrics=['categorical_accuracy'])\n",
        "\n",
        "\n",
        "\n",
        "history = model.fit(X_train, y_train,verbose=1, validation_data=(X_test,y_test), epochs=EPOCHS, batch_size=BATCH_SIZE,callbacks=callbacks_list)\n",
        "score = model.evaluate(X_test, y_test, verbose=0)\n",
        "print('Test loss:', score[0])\n",
        "print('Test accuracy:', score[1])\n",
        "\n",
        "\n",
        "import matplotlib.pyplot as plt\n",
        "\n",
        "print(history.history.keys())\n",
        "# summarize history for loss\n",
        "plt.plot(history.history['val_loss'])\n",
        "plt.plot(history.history['loss'])\n",
        "plt.title('model loss')\n",
        "plt.ylabel('loss')\n",
        "plt.xlabel('epoch')\n",
        "plt.legend(['val_loss', 'loss'], loc='upper left')\n",
        "plt.show()\n",
        "\n",
        "plt.plot(history.history['val_categorical_accuracy'])\n",
        "plt.plot(history.history['categorical_accuracy'])\n",
        "plt.title('model accuracy')\n",
        "plt.ylabel('accuracy')\n",
        "plt.xlabel('epoch')\n",
        "plt.legend(['val_acc', 'acc'], loc='upper left')\n",
        "plt.show()"
      ],
      "execution_count": 18,
      "outputs": [
        {
          "output_type": "stream",
          "text": [
            "Train on 28734 samples, validate on 14154 samples\n",
            "Epoch 1/50\n",
            "28600/28734 [============================>.] - ETA: 0s - loss: 0.2374 - categorical_accuracy: 0.7303WARNING:tensorflow:Can save best model only with val_acc available, skipping.\n",
            "28734/28734 [==============================] - 15s 524us/step - loss: 0.2372 - categorical_accuracy: 0.7304 - val_loss: 0.0909 - val_categorical_accuracy: 0.8873\n",
            "Epoch 2/50\n",
            "28600/28734 [============================>.] - ETA: 0s - loss: 0.0946 - categorical_accuracy: 0.8804WARNING:tensorflow:Can save best model only with val_acc available, skipping.\n",
            "28734/28734 [==============================] - 14s 491us/step - loss: 0.0946 - categorical_accuracy: 0.8805 - val_loss: 0.0660 - val_categorical_accuracy: 0.9068\n",
            "Epoch 3/50\n",
            "28600/28734 [============================>.] - ETA: 0s - loss: 0.0781 - categorical_accuracy: 0.8964WARNING:tensorflow:Can save best model only with val_acc available, skipping.\n",
            "28734/28734 [==============================] - 14s 492us/step - loss: 0.0782 - categorical_accuracy: 0.8963 - val_loss: 0.0590 - val_categorical_accuracy: 0.9293\n",
            "Epoch 4/50\n",
            "28600/28734 [============================>.] - ETA: 0s - loss: 0.0649 - categorical_accuracy: 0.9172WARNING:tensorflow:Can save best model only with val_acc available, skipping.\n",
            "28734/28734 [==============================] - 14s 490us/step - loss: 0.0650 - categorical_accuracy: 0.9172 - val_loss: 0.0430 - val_categorical_accuracy: 0.9488\n",
            "Epoch 5/50\n",
            "28600/28734 [============================>.] - ETA: 0s - loss: 0.0597 - categorical_accuracy: 0.9289WARNING:tensorflow:Can save best model only with val_acc available, skipping.\n",
            "28734/28734 [==============================] - 14s 493us/step - loss: 0.0597 - categorical_accuracy: 0.9288 - val_loss: 0.0507 - val_categorical_accuracy: 0.9353\n",
            "Epoch 6/50\n",
            "28600/28734 [============================>.] - ETA: 0s - loss: 0.0516 - categorical_accuracy: 0.9353WARNING:tensorflow:Can save best model only with val_acc available, skipping.\n",
            "28734/28734 [==============================] - 14s 482us/step - loss: 0.0516 - categorical_accuracy: 0.9353 - val_loss: 0.0348 - val_categorical_accuracy: 0.9568\n",
            "Epoch 7/50\n",
            "28600/28734 [============================>.] - ETA: 0s - loss: 0.0470 - categorical_accuracy: 0.9413WARNING:tensorflow:Can save best model only with val_acc available, skipping.\n",
            "28734/28734 [==============================] - 15s 532us/step - loss: 0.0469 - categorical_accuracy: 0.9414 - val_loss: 0.0330 - val_categorical_accuracy: 0.9546\n",
            "Epoch 8/50\n",
            "28600/28734 [============================>.] - ETA: 0s - loss: 0.0425 - categorical_accuracy: 0.9468WARNING:tensorflow:Can save best model only with val_acc available, skipping.\n",
            "28734/28734 [==============================] - 14s 475us/step - loss: 0.0426 - categorical_accuracy: 0.9468 - val_loss: 0.0281 - val_categorical_accuracy: 0.9653\n",
            "Epoch 9/50\n",
            "28600/28734 [============================>.] - ETA: 0s - loss: 0.0388 - categorical_accuracy: 0.9520WARNING:tensorflow:Can save best model only with val_acc available, skipping.\n",
            "28734/28734 [==============================] - 14s 496us/step - loss: 0.0388 - categorical_accuracy: 0.9519 - val_loss: 0.0263 - val_categorical_accuracy: 0.9666\n",
            "Epoch 10/50\n",
            "28600/28734 [============================>.] - ETA: 0s - loss: 0.0369 - categorical_accuracy: 0.9547WARNING:tensorflow:Can save best model only with val_acc available, skipping.\n",
            "28734/28734 [==============================] - 14s 473us/step - loss: 0.0371 - categorical_accuracy: 0.9547 - val_loss: 0.0184 - val_categorical_accuracy: 0.9767\n",
            "Epoch 11/50\n",
            "28600/28734 [============================>.] - ETA: 0s - loss: 0.0366 - categorical_accuracy: 0.9553WARNING:tensorflow:Can save best model only with val_acc available, skipping.\n",
            "28734/28734 [==============================] - 14s 491us/step - loss: 0.0365 - categorical_accuracy: 0.9555 - val_loss: 0.0209 - val_categorical_accuracy: 0.9797\n",
            "Epoch 12/50\n",
            "28600/28734 [============================>.] - ETA: 0s - loss: 0.0294 - categorical_accuracy: 0.9659WARNING:tensorflow:Can save best model only with val_acc available, skipping.\n",
            "28734/28734 [==============================] - 14s 475us/step - loss: 0.0294 - categorical_accuracy: 0.9658 - val_loss: 0.0182 - val_categorical_accuracy: 0.9816\n",
            "Epoch 13/50\n",
            "28600/28734 [============================>.] - ETA: 0s - loss: 0.0274 - categorical_accuracy: 0.9696WARNING:tensorflow:Can save best model only with val_acc available, skipping.\n",
            "28734/28734 [==============================] - 14s 500us/step - loss: 0.0275 - categorical_accuracy: 0.9696 - val_loss: 0.0163 - val_categorical_accuracy: 0.9838\n",
            "Epoch 14/50\n",
            "28600/28734 [============================>.] - ETA: 0s - loss: 0.0235 - categorical_accuracy: 0.9753WARNING:tensorflow:Can save best model only with val_acc available, skipping.\n",
            "28734/28734 [==============================] - 14s 472us/step - loss: 0.0235 - categorical_accuracy: 0.9753 - val_loss: 0.0137 - val_categorical_accuracy: 0.9800\n",
            "Epoch 15/50\n",
            "28600/28734 [============================>.] - ETA: 0s - loss: 0.0245 - categorical_accuracy: 0.9747WARNING:tensorflow:Can save best model only with val_acc available, skipping.\n",
            "28734/28734 [==============================] - 14s 482us/step - loss: 0.0245 - categorical_accuracy: 0.9746 - val_loss: 0.0113 - val_categorical_accuracy: 0.9878\n",
            "Epoch 16/50\n",
            "28600/28734 [============================>.] - ETA: 0s - loss: 0.0213 - categorical_accuracy: 0.9782WARNING:tensorflow:Can save best model only with val_acc available, skipping.\n",
            "28734/28734 [==============================] - 14s 477us/step - loss: 0.0213 - categorical_accuracy: 0.9781 - val_loss: 0.0101 - val_categorical_accuracy: 0.9908\n",
            "Epoch 17/50\n",
            "28600/28734 [============================>.] - ETA: 0s - loss: 0.0210 - categorical_accuracy: 0.9791WARNING:tensorflow:Can save best model only with val_acc available, skipping.\n",
            "28734/28734 [==============================] - 14s 487us/step - loss: 0.0210 - categorical_accuracy: 0.9791 - val_loss: 0.0112 - val_categorical_accuracy: 0.9904\n",
            "Epoch 18/50\n",
            "28600/28734 [============================>.] - ETA: 0s - loss: 0.0202 - categorical_accuracy: 0.9789WARNING:tensorflow:Can save best model only with val_acc available, skipping.\n",
            "28734/28734 [==============================] - 14s 481us/step - loss: 0.0202 - categorical_accuracy: 0.9789 - val_loss: 0.0124 - val_categorical_accuracy: 0.9891\n",
            "Epoch 19/50\n",
            "28600/28734 [============================>.] - ETA: 0s - loss: 0.0181 - categorical_accuracy: 0.9823WARNING:tensorflow:Can save best model only with val_acc available, skipping.\n",
            "28734/28734 [==============================] - 14s 483us/step - loss: 0.0182 - categorical_accuracy: 0.9823 - val_loss: 0.0119 - val_categorical_accuracy: 0.9859\n",
            "Epoch 20/50\n",
            "28600/28734 [============================>.] - ETA: 0s - loss: 0.0252 - categorical_accuracy: 0.9742WARNING:tensorflow:Can save best model only with val_acc available, skipping.\n",
            "28734/28734 [==============================] - 14s 484us/step - loss: 0.0252 - categorical_accuracy: 0.9743 - val_loss: 0.0094 - val_categorical_accuracy: 0.9921\n",
            "Epoch 21/50\n",
            "28600/28734 [============================>.] - ETA: 0s - loss: 0.0173 - categorical_accuracy: 0.9828WARNING:tensorflow:Can save best model only with val_acc available, skipping.\n",
            "28734/28734 [==============================] - 14s 481us/step - loss: 0.0173 - categorical_accuracy: 0.9828 - val_loss: 0.0128 - val_categorical_accuracy: 0.9906\n",
            "Epoch 22/50\n",
            "28600/28734 [============================>.] - ETA: 0s - loss: 0.0196 - categorical_accuracy: 0.9808WARNING:tensorflow:Can save best model only with val_acc available, skipping.\n",
            "28734/28734 [==============================] - 14s 494us/step - loss: 0.0196 - categorical_accuracy: 0.9808 - val_loss: 0.0093 - val_categorical_accuracy: 0.9909\n",
            "Epoch 23/50\n",
            "28600/28734 [============================>.] - ETA: 0s - loss: 0.0145 - categorical_accuracy: 0.9858WARNING:tensorflow:Can save best model only with val_acc available, skipping.\n",
            "28734/28734 [==============================] - 14s 476us/step - loss: 0.0145 - categorical_accuracy: 0.9858 - val_loss: 0.0076 - val_categorical_accuracy: 0.9903\n",
            "Epoch 24/50\n",
            "28600/28734 [============================>.] - ETA: 0s - loss: 0.0176 - categorical_accuracy: 0.9827WARNING:tensorflow:Can save best model only with val_acc available, skipping.\n",
            "28734/28734 [==============================] - 14s 495us/step - loss: 0.0177 - categorical_accuracy: 0.9826 - val_loss: 0.0140 - val_categorical_accuracy: 0.9902\n",
            "Epoch 25/50\n",
            "28600/28734 [============================>.] - ETA: 0s - loss: 0.0183 - categorical_accuracy: 0.9817WARNING:tensorflow:Can save best model only with val_acc available, skipping.\n",
            "28734/28734 [==============================] - 14s 479us/step - loss: 0.0182 - categorical_accuracy: 0.9818 - val_loss: 0.0093 - val_categorical_accuracy: 0.9910\n",
            "Epoch 26/50\n",
            "28600/28734 [============================>.] - ETA: 0s - loss: 0.0166 - categorical_accuracy: 0.9827WARNING:tensorflow:Can save best model only with val_acc available, skipping.\n",
            "28734/28734 [==============================] - 14s 489us/step - loss: 0.0166 - categorical_accuracy: 0.9827 - val_loss: 0.0094 - val_categorical_accuracy: 0.9903\n",
            "Epoch 27/50\n",
            "28600/28734 [============================>.] - ETA: 0s - loss: 0.0154 - categorical_accuracy: 0.9845WARNING:tensorflow:Can save best model only with val_acc available, skipping.\n",
            "28734/28734 [==============================] - 14s 482us/step - loss: 0.0155 - categorical_accuracy: 0.9845 - val_loss: 0.0096 - val_categorical_accuracy: 0.9910\n",
            "Epoch 28/50\n",
            "28600/28734 [============================>.] - ETA: 0s - loss: 0.0159 - categorical_accuracy: 0.9848WARNING:tensorflow:Can save best model only with val_acc available, skipping.\n",
            "28734/28734 [==============================] - 14s 497us/step - loss: 0.0158 - categorical_accuracy: 0.9848 - val_loss: 0.0071 - val_categorical_accuracy: 0.9929\n",
            "Epoch 29/50\n",
            "28600/28734 [============================>.] - ETA: 0s - loss: 0.0155 - categorical_accuracy: 0.9844WARNING:tensorflow:Can save best model only with val_acc available, skipping.\n",
            "28734/28734 [==============================] - 14s 505us/step - loss: 0.0154 - categorical_accuracy: 0.9844 - val_loss: 0.0069 - val_categorical_accuracy: 0.9930\n",
            "Epoch 30/50\n",
            "28600/28734 [============================>.] - ETA: 0s - loss: 0.0153 - categorical_accuracy: 0.9846WARNING:tensorflow:Can save best model only with val_acc available, skipping.\n",
            "28734/28734 [==============================] - 15s 507us/step - loss: 0.0153 - categorical_accuracy: 0.9846 - val_loss: 0.0077 - val_categorical_accuracy: 0.9929\n",
            "Epoch 31/50\n",
            "28600/28734 [============================>.] - ETA: 0s - loss: 0.0124 - categorical_accuracy: 0.9877WARNING:tensorflow:Can save best model only with val_acc available, skipping.\n",
            "28734/28734 [==============================] - 14s 480us/step - loss: 0.0124 - categorical_accuracy: 0.9877 - val_loss: 0.0066 - val_categorical_accuracy: 0.9929\n",
            "Epoch 32/50\n",
            "28600/28734 [============================>.] - ETA: 0s - loss: 0.0135 - categorical_accuracy: 0.9864WARNING:tensorflow:Can save best model only with val_acc available, skipping.\n",
            "28734/28734 [==============================] - 14s 495us/step - loss: 0.0135 - categorical_accuracy: 0.9865 - val_loss: 0.0064 - val_categorical_accuracy: 0.9928\n",
            "Epoch 33/50\n",
            "28600/28734 [============================>.] - ETA: 0s - loss: 0.0139 - categorical_accuracy: 0.9866WARNING:tensorflow:Can save best model only with val_acc available, skipping.\n",
            "28734/28734 [==============================] - 14s 488us/step - loss: 0.0138 - categorical_accuracy: 0.9866 - val_loss: 0.0082 - val_categorical_accuracy: 0.9915\n",
            "Epoch 34/50\n",
            "28600/28734 [============================>.] - ETA: 0s - loss: 0.0139 - categorical_accuracy: 0.9863WARNING:tensorflow:Can save best model only with val_acc available, skipping.\n",
            "28734/28734 [==============================] - 14s 488us/step - loss: 0.0139 - categorical_accuracy: 0.9862 - val_loss: 0.0085 - val_categorical_accuracy: 0.9919\n",
            "Epoch 35/50\n",
            "28600/28734 [============================>.] - ETA: 0s - loss: 0.0141 - categorical_accuracy: 0.9857WARNING:tensorflow:Can save best model only with val_acc available, skipping.\n",
            "28734/28734 [==============================] - 14s 488us/step - loss: 0.0140 - categorical_accuracy: 0.9858 - val_loss: 0.0120 - val_categorical_accuracy: 0.9922\n",
            "Epoch 36/50\n",
            "28600/28734 [============================>.] - ETA: 0s - loss: 0.0138 - categorical_accuracy: 0.9865WARNING:tensorflow:Can save best model only with val_acc available, skipping.\n",
            "28734/28734 [==============================] - 14s 489us/step - loss: 0.0137 - categorical_accuracy: 0.9866 - val_loss: 0.0071 - val_categorical_accuracy: 0.9910\n",
            "Epoch 37/50\n",
            "28600/28734 [============================>.] - ETA: 0s - loss: 0.0129 - categorical_accuracy: 0.9867WARNING:tensorflow:Can save best model only with val_acc available, skipping.\n",
            "28734/28734 [==============================] - 14s 494us/step - loss: 0.0129 - categorical_accuracy: 0.9867 - val_loss: 0.0101 - val_categorical_accuracy: 0.9923\n",
            "Epoch 38/50\n",
            "28600/28734 [============================>.] - ETA: 0s - loss: 0.0138 - categorical_accuracy: 0.9870WARNING:tensorflow:Can save best model only with val_acc available, skipping.\n",
            "28734/28734 [==============================] - 14s 482us/step - loss: 0.0138 - categorical_accuracy: 0.9870 - val_loss: 0.0102 - val_categorical_accuracy: 0.9941\n",
            "Epoch 39/50\n",
            "28600/28734 [============================>.] - ETA: 0s - loss: 0.0169 - categorical_accuracy: 0.9841WARNING:tensorflow:Can save best model only with val_acc available, skipping.\n",
            "28734/28734 [==============================] - 14s 497us/step - loss: 0.0168 - categorical_accuracy: 0.9842 - val_loss: 0.0064 - val_categorical_accuracy: 0.9931\n",
            "Epoch 40/50\n",
            "28600/28734 [============================>.] - ETA: 0s - loss: 0.0118 - categorical_accuracy: 0.9879WARNING:tensorflow:Can save best model only with val_acc available, skipping.\n",
            "28734/28734 [==============================] - 14s 481us/step - loss: 0.0118 - categorical_accuracy: 0.9880 - val_loss: 0.0068 - val_categorical_accuracy: 0.9912\n",
            "Epoch 41/50\n",
            "28600/28734 [============================>.] - ETA: 0s - loss: 0.0126 - categorical_accuracy: 0.9868WARNING:tensorflow:Can save best model only with val_acc available, skipping.\n",
            "28734/28734 [==============================] - 14s 496us/step - loss: 0.0126 - categorical_accuracy: 0.9868 - val_loss: 0.0071 - val_categorical_accuracy: 0.9926\n",
            "Epoch 42/50\n",
            "28600/28734 [============================>.] - ETA: 0s - loss: 0.0146 - categorical_accuracy: 0.9862WARNING:tensorflow:Can save best model only with val_acc available, skipping.\n",
            "28734/28734 [==============================] - 14s 474us/step - loss: 0.0146 - categorical_accuracy: 0.9861 - val_loss: 0.0072 - val_categorical_accuracy: 0.9929\n",
            "Epoch 43/50\n",
            "28600/28734 [============================>.] - ETA: 0s - loss: 0.0134 - categorical_accuracy: 0.9859WARNING:tensorflow:Can save best model only with val_acc available, skipping.\n",
            "28734/28734 [==============================] - 14s 492us/step - loss: 0.0133 - categorical_accuracy: 0.9860 - val_loss: 0.0083 - val_categorical_accuracy: 0.9915\n",
            "Epoch 44/50\n",
            "28600/28734 [============================>.] - ETA: 0s - loss: 0.0129 - categorical_accuracy: 0.9866WARNING:tensorflow:Can save best model only with val_acc available, skipping.\n",
            "28734/28734 [==============================] - 14s 476us/step - loss: 0.0129 - categorical_accuracy: 0.9867 - val_loss: 0.0075 - val_categorical_accuracy: 0.9921\n",
            "Epoch 45/50\n",
            "28600/28734 [============================>.] - ETA: 0s - loss: 0.0123 - categorical_accuracy: 0.9878WARNING:tensorflow:Can save best model only with val_acc available, skipping.\n",
            "28734/28734 [==============================] - 14s 488us/step - loss: 0.0124 - categorical_accuracy: 0.9876 - val_loss: 0.0066 - val_categorical_accuracy: 0.9934\n",
            "Epoch 46/50\n",
            "28600/28734 [============================>.] - ETA: 0s - loss: 0.0150 - categorical_accuracy: 0.9856WARNING:tensorflow:Can save best model only with val_acc available, skipping.\n",
            "28734/28734 [==============================] - 14s 486us/step - loss: 0.0150 - categorical_accuracy: 0.9856 - val_loss: 0.0074 - val_categorical_accuracy: 0.9911\n",
            "Epoch 47/50\n",
            "28600/28734 [============================>.] - ETA: 0s - loss: 0.0135 - categorical_accuracy: 0.9863WARNING:tensorflow:Can save best model only with val_acc available, skipping.\n",
            "28734/28734 [==============================] - 14s 493us/step - loss: 0.0135 - categorical_accuracy: 0.9863 - val_loss: 0.0062 - val_categorical_accuracy: 0.9938\n",
            "Epoch 48/50\n",
            "28600/28734 [============================>.] - ETA: 0s - loss: 0.0130 - categorical_accuracy: 0.9868WARNING:tensorflow:Can save best model only with val_acc available, skipping.\n",
            "28734/28734 [==============================] - 14s 488us/step - loss: 0.0131 - categorical_accuracy: 0.9867 - val_loss: 0.0087 - val_categorical_accuracy: 0.9888\n",
            "Epoch 49/50\n",
            "28600/28734 [============================>.] - ETA: 0s - loss: 0.0129 - categorical_accuracy: 0.9867WARNING:tensorflow:Can save best model only with val_acc available, skipping.\n",
            "28734/28734 [==============================] - 14s 482us/step - loss: 0.0130 - categorical_accuracy: 0.9867 - val_loss: 0.0078 - val_categorical_accuracy: 0.9923\n",
            "Epoch 50/50\n",
            "28600/28734 [============================>.] - ETA: 0s - loss: 0.0131 - categorical_accuracy: 0.9864WARNING:tensorflow:Can save best model only with val_acc available, skipping.\n",
            "28734/28734 [==============================] - 14s 497us/step - loss: 0.0132 - categorical_accuracy: 0.9864 - val_loss: 0.0072 - val_categorical_accuracy: 0.9927\n",
            "Test loss: 0.007157025025889432\n",
            "Test accuracy: 0.9926522537798502\n",
            "dict_keys(['val_loss', 'val_categorical_accuracy', 'loss', 'categorical_accuracy'])\n"
          ],
          "name": "stdout"
        },
        {
          "output_type": "display_data",
          "data": {
            "image/png": "[encoded data removed]",
            "text/plain": [
              "<matplotlib.figure.Figure at 0x7fc59cc61ac8>"
            ]
          },
          "metadata": {
            "tags": []
          }
        },
        {
          "output_type": "display_data",
          "data": {
            "image/png": "[encoded data removed]",
            "text/plain": [
              "<matplotlib.figure.Figure at 0x7fc59d01b198>"
            ]
          },
          "metadata": {
            "tags": []
          }
        }
      ]
    },
    {
      "metadata": {
        "id": "KqcbsqV4zbP3",
        "colab_type": "text"
      },
      "cell_type": "markdown",
      "source": [
        "\n",
        "\n",
        "\n",
        "```\n",
        "\n",
        "model = models.Sequential()\n",
        "model.add(layers.Dense(1024, activation='relu',\n",
        "                       input_shape=(X_train.shape[1],)))\n",
        "model.add(layers.Dropout(0.3))\n",
        "\n",
        "\n",
        "model.add(layers.Dense(160, activation='relu'))\n",
        "model.add(layers.Dropout(0.3))\n",
        "\n",
        "\n",
        "model.add(layers.Dense(1024, activation='relu'))\n",
        "model.add(layers.Dropout(0.3))\n",
        "\n",
        "model.add(layers.Dense(64, activation='relu'))\n",
        "model.add(layers.Dropout(0.3))\n",
        "\n",
        "\n",
        "model.add(layers.Dense(1024, activation='relu'))\n",
        "model.add(layers.Dropout(0.3))\n",
        "\n",
        "model.add(layers.Dense(100, activation='relu'))\n",
        "model.add(layers.Dropout(0.3))\n",
        "\n",
        "model.add(layers.Dense(y_train.shape[1],activation='softmax'))```\n",
        "\n",
        "\n",
        "\n",
        "Test accuracy: 0.9949977262391997\n"
      ]
    },
    {
      "metadata": {
        "id": "wo_ZPvqiraTF",
        "colab_type": "text"
      },
      "cell_type": "markdown",
      "source": [
        "## tokenの保存"
      ]
    },
    {
      "metadata": {
        "id": "f3m3ACO7quTX",
        "colab_type": "code",
        "colab": {}
      },
      "cell_type": "code",
      "source": [
        "save_text_tokenizer(tag_token,base_dir+\"tag_token\")\n",
        "save_text_tokenizer(iid_token,base_dir+\"iid_token\")\n",
        "save_text_tokenizer(style_token,base_dir+\"style_token\")\n",
        "save_text_tokenizer(href_token,base_dir+\"href_token\")\n",
        "save_text_tokenizer(src_token,base_dir+\"src_token\")\n",
        "save_text_tokenizer(alt_token,base_dir+\"alt_token\")\n",
        "save_text_tokenizer(text_token,base_dir+\"text_token\")"
      ],
      "execution_count": 0,
      "outputs": []
    },
    {
      "metadata": {
        "id": "7jZmfCpOp55w",
        "colab_type": "text"
      },
      "cell_type": "markdown",
      "source": [
        "## Tokenisor を読み込む"
      ]
    },
    {
      "metadata": {
        "id": "wvDYztzIQB4p",
        "colab_type": "code",
        "colab": {}
      },
      "cell_type": "code",
      "source": [
        "tag_token = load_text_tokenizer(base_dir+\"tag_token\")\n",
        "iid_token = load_text_tokenizer(base_dir+\"iid_token\")\n",
        "style_token = load_text_tokenizer(base_dir+\"style_token\")\n",
        "href_token = load_text_tokenizer(base_dir+\"href_token\")\n",
        "src_token = load_text_tokenizer(base_dir+\"src_token\")\n",
        "alt_token = load_text_tokenizer(base_dir+\"alt_token\")\n",
        "text_token = load_text_tokenizer(base_dir+\"text_token\")"
      ],
      "execution_count": 0,
      "outputs": []
    },
    {
      "metadata": {
        "id": "c54ev9lpv7d_",
        "colab_type": "text"
      },
      "cell_type": "markdown",
      "source": [
        "## モデルと重みを保存する"
      ]
    },
    {
      "metadata": {
        "id": "eAWThi4VQmag",
        "colab_type": "text"
      },
      "cell_type": "markdown",
      "source": [
        "###モデルを保存\n"
      ]
    },
    {
      "metadata": {
        "id": "0LMxMza9xnwS",
        "colab_type": "code",
        "colab": {}
      },
      "cell_type": "code",
      "source": [
        "model_json = model.to_json()\n",
        "with open(base_dir + \"model.json\", \"w\") as json_file:\n",
        "    json_file.write(model_json)\n",
        "    \n",
        "with open(base_dir + \"model.h5\",'w') as model_file: \n",
        "  model.save_weights(base_dir+\"model.h5\")"
      ],
      "execution_count": 0,
      "outputs": []
    },
    {
      "metadata": {
        "id": "RFIR9rNMqH1d",
        "colab_type": "text"
      },
      "cell_type": "markdown",
      "source": [
        "###モデルを読み込み"
      ]
    },
    {
      "metadata": {
        "id": "KbaD369ozNA-",
        "colab_type": "code",
        "colab": {
          "base_uri": "https://localhost:8080/",
          "height": 34
        },
        "outputId": "66b7bad3-20d0-4167-d193-f905a578ed2b"
      },
      "cell_type": "code",
      "source": [
        "# load\n",
        "with open(base_dir+'model.json', 'r') as json_file:\n",
        "  loaded_model_json = json_file.read()\n",
        "  loaded_model = model_from_json(loaded_model_json)\n",
        "\n",
        "with open(base_dir+\"model.h5\",'r') as model_file: \n",
        "  loaded_model.load_weights(base_dir+\"model.h5\")\n",
        "  print(\"Loaded model from disk\")\n",
        "\n",
        "# compile\n",
        "loaded_model.compile(loss='binary_crossentropy', optimizer='Adam', metrics=['categorical_accuracy'])\n"
      ],
      "execution_count": 0,
      "outputs": [
        {
          "output_type": "stream",
          "text": [
            "Loaded model from disk\n"
          ],
          "name": "stdout"
        }
      ]
    },
    {
      "metadata": {
        "id": "CWofndFMKU7B",
        "colab_type": "text"
      },
      "cell_type": "markdown",
      "source": [
        "###モデルの復元が正確かを確認"
      ]
    },
    {
      "metadata": {
        "id": "BVOlQsvhCa4m",
        "colab_type": "code",
        "colab": {
          "base_uri": "https://localhost:8080/",
          "height": 51
        },
        "outputId": "43c67c5d-f5e0-48dc-a2fc-4c043144f17d"
      },
      "cell_type": "code",
      "source": [
        "score = loaded_model.evaluate(X_test, y_test, verbose=0)\n",
        "print('Test loss:', score[0])\n",
        "print('Test accuracy:', score[1])"
      ],
      "execution_count": 0,
      "outputs": [
        {
          "output_type": "stream",
          "text": [
            "Test loss: 0.013336440061516349\n",
            "Test accuracy: 0.9910413824465666\n"
          ],
          "name": "stdout"
        }
      ]
    },
    {
      "metadata": {
        "id": "3vI-u1U_0r_w",
        "colab_type": "text"
      },
      "cell_type": "markdown",
      "source": [
        "## 実際のデータでテスト"
      ]
    },
    {
      "metadata": {
        "id": "kRayunPj0yAG",
        "colab_type": "code",
        "colab": {}
      },
      "cell_type": "code",
      "source": [
        ""
      ],
      "execution_count": 0,
      "outputs": []
    }
  ]
}